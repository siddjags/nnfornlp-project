{
 "cells": [
  {
   "cell_type": "code",
   "execution_count": 1,
   "metadata": {},
   "outputs": [
    {
     "name": "stderr",
     "output_type": "stream",
     "text": "Using United States server backend.\n"
    }
   ],
   "source": [
    "# Necessary imports\n",
    "import re\n",
    "import emoji\n",
    "import random\n",
    "import pandas as pd\n",
    "import numpy as np\n",
    "from multiprocessing import  Pool\n",
    "import time\n",
    "import translators as ts"
   ]
  },
  {
   "cell_type": "code",
   "execution_count": 2,
   "metadata": {},
   "outputs": [],
   "source": [
    "# Function to remove emojis in text, since these conflict during translation\n",
    "def remove_emoji(text):\n",
    "    return emoji.get_emoji_regexp().sub(u'', text)\n",
    "\n",
    "\n",
    "def approximate_emoji_insert(string, index,char):\n",
    "    if(index<(len(string)-1)):\n",
    "        \n",
    "        while(string[index]!=' ' ):\n",
    "            if(index+1==len(string)):\n",
    "                break\n",
    "            index=index+1\n",
    "        return string[:index] + ' '+char + ' ' + string[index:]\n",
    "    else:\n",
    "        return string + ' '+char + ' ' \n",
    "    \n",
    "\n",
    "\n",
    "def extract_emojis(str1):\n",
    "    try:\n",
    "        return [(c,i) for i,c in enumerate(str1) if c in emoji.UNICODE_EMOJI]\n",
    "    except AttributeError:\n",
    "        return []"
   ]
  },
  {
   "cell_type": "code",
   "execution_count": 3,
   "metadata": {},
   "outputs": [],
   "source": [
    "import os\n",
    "if not os.path.exists('translatedtrain'):\n",
    "    os.makedirs('translatedtrain')\n",
    "if not os.path.exists('translatedval'):\n",
    "    os.makedirs('translatedval')\n",
    "if not os.path.exists('translatedtest'):\n",
    "    os.makedirs('translatedtest')"
   ]
  },
  {
   "cell_type": "code",
   "execution_count": 4,
   "metadata": {},
   "outputs": [],
   "source": [
    "# Use multiprocessing framework for speeding up translation process\n",
    "def parallelize_dataframe(df, func, n_cores=1):\n",
    "    '''parallelize the dataframe'''\n",
    "    # df_split = np.array_split(df, n_cores)\n",
    "    pool = Pool(n_cores)\n",
    "    # df = pd.concat(pool.map(func, df))\n",
    "    # pool.close()\n",
    "    # pool.join()\n",
    "    # print(\"done parallelizing\")\n",
    "    return func(df)\n",
    "\n",
    "# Main function for translation\n",
    "def translate(x,lang):\n",
    "    '''provide the translation given text and the language'''\n",
    "    #x=preprocess_lib.preprocess_multi(x,lang,multiple_sentences=False,stop_word_remove=False, tokenize_word=False, tokenize_sentence=False)\n",
    "    # translator = Translator()\n",
    "    # translator = Translator(to_lang='en',from_lang='pt')\n",
    "    emoji_list=extract_emojis(x)\n",
    "    # print(\"try\")\n",
    "    # translated_text = translator.translate(x, src = 'pt', dest='en')\n",
    "    # translated_text = translated_text.text\n",
    "    try:\n",
    "        # print(\"try\")\n",
    "        # translated_text = translator.translate(x)\n",
    "        # translated_text=translate_text(x,'pt','en')\n",
    "        translated_text= ts.google(x, from_language='pt', to_language='en')\n",
    "        # print(\"translated successfully\")\n",
    "    except:\n",
    "        translated_text=x\n",
    "        print(\"not translated\")\n",
    "    for ele in emoji_list:\n",
    "        translated_text=approximate_emoji_insert(translated_text, ele[1],ele[0])\n",
    "    # print(\"done translating\")\n",
    "    return translated_text\n",
    "\n",
    "def add_features(df):\n",
    "    '''adding new features to the dataframe'''\n",
    "    translated_text=[]\n",
    "    for index,row in df.iterrows():\n",
    "        # if('pt' in ['en','unk']):\n",
    "        #     translated_text.append(row['text'])\n",
    "        # else:\n",
    "        translated_text.append(translate(row['text'], 'pt'))    \n",
    "    df[\"translated\"]=translated_text\n",
    "    return df"
   ]
  },
  {
   "cell_type": "code",
   "execution_count": 5,
   "metadata": {},
   "outputs": [],
   "source": [
    "import glob \n",
    "train_files = glob.glob('train/*.csv')\n",
    "test_files = glob.glob('test/*.csv')\n",
    "val_files = glob.glob('val/*.csv')\n",
    "files= train_files+test_files+val_files"
   ]
  },
  {
   "cell_type": "code",
   "execution_count": 6,
   "metadata": {},
   "outputs": [
    {
     "data": {
      "application/vnd.jupyter.widget-view+json": {
       "model_id": "fee0598ba4074dab94460bc2b80d0061",
       "version_major": 2,
       "version_minor": 0
      },
      "text/plain": "  0%|          | 0/397 [00:00<?, ?it/s]"
     },
     "metadata": {},
     "output_type": "display_data"
    },
    {
     "name": "stdout",
     "output_type": "stream",
     "text": ".........      1   \n192  O que essa mulher está falando ??? Eu tô esper...      0   \n193  Vale a pena ler esse texto. Ronaldo Laranjeira...      0   \n194  RT @Tweet25Hora: O teu Tweet em destaque na 2ª...      0   \n195  RT @ajulysantos: Cynara Menezes hoje vai sonha...      0   \n196  Parabéns pra sapatão mais piranha de santaa cr...      1   \n197  RT @2Souoquesou: A pessoa feia pode ficar boni...      1   \n198  ESTAR ACORDADO\\nSÁBADO DE MANHÃ\\nISSO QUE SEPA...      1   \n199  Tenho tanto medo de avião que quando ele passa...      0   \n\n                                            translated  \n190  After two days of very productive conversation...  \n191               I miss the dictatorship ............  \n192  What is this woman talking about ???I'm waitin...  \n193  It's worth reading this text.Ronaldo Laranjeir...  \n194  RT @ tweet25hora: your tweet highlighted in th...  \n195  RT @AJULYSANTOS: Cynara Menezes today will dre...  \n196  Congratulations to Sapatão more Piranha de San...  \n197  RT @ 2souoquender: The ugly person can look be...  \n198  Be awake\\nSATURDAY MORNING\\nThis separates us\\...  \n199  I am so afraid of plane that when he passes up...  ,                                                   text  label  \\\n200      @franmoraes2 Pois é.. hahaha.. vi teu forms..      0   \n201  Faz muito bem. Chega de #FakeNewsMedia !\\n#Tru...      0   \n202                   Pra mim BBB sempre foi uma merda      1   \n203  @AnaPaulaVolei Sorria, nossa querida musa da d...      0   \n204  Cuidado com a burra falando mal do feminismo '...      1   \n205  RT @TheMartorelli: O Lula ligou pra Élika.\\nE ...      0   \n206  RT @maathbz: Não há título melhor para uma bio...      0   \n207  Argumentos:\\n- cristãos são os maiores persegu...      1   \n208  RT @franciscopombo: Eu sou contra a Eutanásia ...      1   \n209  Feliz Dia Da Mulher só p/ as mulheres brancas,...      1   \n\n                                            translated  \n200  @ Franmoraes2 because it is .. hahaha .. I saw...  \n201  It does very well.Enough #Fakenewsmedia!\\n#Tru...  \n202                    For me BBB has always been shit  \n203  @Anapaulavolei Smile, our dear Muse from the r...  \n204  Beware of the dumb speaking of the feminism 'c...  \n205  RT @themartorelli: Lula called Élika.\\nAnd tha...  \n206  RT @maathbz: There is no better title for a Bo...  \n207  Arguments:\\n- Christians are the greatest pers...  \n208  RT @Franciscopombo: I am against euthanasia be...  \n209  Happy woman's day just for white women, becaus...  ,                                                   text  label  \\\n210              @ursinho_branco puta merda. Que sonho      0   \n211  Participe das palestras e dos seminários sobre...      0   \n212  RT @BrazucaCopa2014: Aí @JOAQUINVOLTOU mais um...      0   \n213  O que quer dizer exatamente? https://t.co/1GcT...      0   \n214  @CarlosBolsonaro qdo vcs era moleque, ele mand...      0   \n215  Adoro estes católicos que se lembram da bíblia...      1   \n216  E o sacrifício de tantas famílias, empresas, d...      0   \n217  @MarleneBicalho morava no Jabaquara, comprava ...      0   \n218          @pintomondim bardamerda para a Eurovisão!      1   \n219  Só o Nacionalismo é solução! por @viktortora \\...      0   \n\n                                            translated  \n210            @ursinho_branco bitch shit.What a dream  \n211  Participate in the lectures and seminars on ge...  \n212  RT @ BRAZUCACOPA2014: there @joquinvolted anot...  \n213         What exactly means?https://t.co/1gctutnh3y  \n214  @Carlosbolsonaro when you were a brat, he woul...  \n215  I love these Catholics that remember the Bible...  \n216  And the sacrifice of so many families, compani...  \n217  @Marlenebicalho lived in Jabaquara, bought in ...  \n218            @Pintomondim Bardamerda for Eurovision!  \n219  Only nationalism is a solution!by @ViktorTora\\...  ,                                                   text  label  \\\n220  '''''nao é que eu sou racista mas ele é  negro...      1   \n221  Meigo! \\nNada como um bom e forte capitalismo ...      0   \n222  Ela é primeira dama e tem  direito de orar o q...      0   \n223  RT @davidsonbruno27: @Bolsonaopressor\\nA famíl...      1   \n224          oficialmente a mulher mais burra do mundo      1   \n225  RT @brina_gugli: Apenas dois tipos d pessoas n...      1   \n226        que Gorda feia e falsa vai tomar no cu mane      1   \n227  Esse nome quase não é esquerdopata!!!!  hahaha...      1   \n228  @amandassini opinião tb dá cadeia cuidado aí f...      0   \n229  @Chiiaritta mas não quer dizer que quando não ...      0   \n\n                                            translated  \n220  '' '' '' is not that I'm racist but he's black...  \n221  Hey!\\nNothing like a good and strong state cap...  \n222  She is the first lady and has the right to pra...  \n223  RT @ DavidsonBruno27: @BolsonaOpressor\\nThe tr...  \n224           officially the stupid woman in the world  \n225  Rt @brina_gugli: only two types of people do n...  \n226   that fat ugly and false will take in the cu mane  \n227  This name is almost no leftopath !!!!hahahahah...  \n228  @amandassini opinion tb gives chain care there...  \n229  @Chiiaritta but does not mean that when you di...  ,                                                   text  label  \\\n230  BELO LEGADO PETISTA! #sqn https://t.co/D3Ji6o3T2E      0   \n231  @paper_tomaz Nossa, tme gente que não faz tatt...      0   \n232  EDITORA CENTRAL GOSPEL : Famílias em Perigo – ...      0   \n233  Isso é democracia pro Reinaldão... Cada dia ma...      0   \n234  E pensar que defendi essa moça.Coitado do cerr...      0   \n235      nojo desses omi, ainda bem que eu sou sapatão      1   \n236  RT @OdeCarvalho: Derrubar o Estatuto do Desarm...      0   \n237  Eu não sei dizer o quanto eu queria trabalhar ...      0   \n238  Acredite se quiser: Existe agora 'agefluid' - ...      0   \n239  RT @insoniascarvao: Usei o hi5 durante um dia,...      0   \n\n                                            translated  \n230  Beautiful legacy petista!#sqn https://t.co/d3j...  \n231  @paper_tomaz, there are people who do not do t...  \n232  Central Gospel publisher: families in danger -...  \n233  This is democracy for reininaldão ... every mo...  \n234  And to think that I defended this girl.cito of...  \n235        disgust of these omi, good thing I'm a shoe  \n236  RT @Decarvalho: Tipping the status of disarmam...  \n237  I do not know how much I wanted to work as a v...  \n238  Believe if you want: There is now 'AgeFluid' -...  \n239  RT @insoniascarvao: I used hi5 for a day, mayb...  ,                                                   text  label  \\\n240  'A maior ambição da mulher é despertar o amor....      0   \n241  RT @CarlosBolsonaro: Homem é esfaqueado e mort...      0   \n242  Estará a acabar o 'estado de graça' do preside...      0   \n243  É lamentável que o Standvirtual queira passar ...      1   \n244  RT @bonisss: A cada dia que passa cresce ainda...      0   \n245   Odeio sapatão por isso\\nNão desapega de ex nunka      1   \n246  “Nós não podemos viver num mundo tão conflituo...      0   \n247  Vai facilitar muito a identificação, né? Pq nã...      0   \n248  RT @radiojovempan: A jornalista Rachel Shehera...      0   \n249  Feia ou bonita, gorda ou magra, seja como for,...      0   \n\n                                            translated  \n240  'The biggest ambition of the woman is to awake...  \n241  RT @carlosbolsonaro: Man is stabbed and killed...  \n242  Are you finishing the 'state of grace' of the ...  \n243  It is unfortunate that the standvirtual wants ...  \n244  RT @BONISSS: With each passing day, the fans i...  \n245   I hate shoe for this\\nNot detached from ex Nunka  \n246  \"We can not live in a world so conflicted and ...  \n247  It will make it easy for identification, right...  \n248  RT @radiojovempan: Journalist Rachel Sheheraza...  \n249  Ugly or beautiful, fat or lean, whether it is,...  ,                                                   text  label  \\\n250  só falta o roberto carlos morrer agora e não t...      0   \n251  @SadBoyKevyn \\nEntre os jovens opositores há q...      0   \n252  mas puta que pariu que ódio de mulher machista...      1   \n253  Mais pura verdade. A grande imprensa não aceit...      0   \n254                            Sexta à noite = puteiro      0   \n255  já aviso que não abro mão de um comitê que abo...      0   \n256          me chamou pra jantar fora\\nlogo eu\\ntemer      0   \n257  Precisamente! Com coragem, sem papas na língua...      0   \n258  @CLasarin @Estadao O Obama grampeou até a dilm...      0   \n259  eis aqui a pessoa mais FEIA do facebook PQP ht...      1   \n\n                                            translated  \n250  Just need Roberto Carlos die now and can not e...  \n251  @Sadboykevyn\\nAmong the young opponents there ...  \n252  But bitch who gave birth to hatred of macho an...  \n253  Pure truth.The great press does not accept you...  \n254                              Friday night = Putier  \n255  Already notice that I do not give up a committ...  \n256       called me to dinner outside\\nsoon I\\nto fear  \n257  Precisely!With courage, no potatoes on the ton...  \n258  @Clasarin @estadao Obama stapled up to Dilma a...  \n259  Here's the uglier facebook PQP http://t.co/uja...  ,                                                   text  label  \\\n260  RT @JoaquimTexera: MEU NETO PEDIU PRA SER 'TRA...      1   \n261  RT @editorahumanas: Se eu sou o Moro peço o de...      0   \n262  @BiaArantes_real juro que eu ia comer achando ...      0   \n263  A Comissão Europeia afirmou que não hesitará e...      0   \n264  Yuri k como sempre um grande homem. Burra é a ...      0   \n265  O fascismo da esquerda em dois prints @leandra...      0   \n266  Parabéns Beyoncé!\\nEstamos em Fevereiro e já g...      1   \n267  Minha migas do curso de dizem heteras,são casa...      1   \n268  macho escroto quando quer ser escroto não prec...      0   \n269         eu devo ser mt feia, pq gorda eu já sou...      0   \n\n                                            translated  \n260  RT @joaquimetexera: My grandson asked to be 't...  \n261  RT @Editorahumanas: If I am moro I ask the tes...  \n262  @Biaarants_real I swear I was going to eat thi...  \n263  The European Commission stated that they will ...  \n264  Yuri K as always a great man.Burra is the woma...  \n265  The fascism on the left in two prints @leandra...  \n266  Congratulations Beyoncé!\\nWe are in February a...  \n267  My course of the course of Heteros, are houses...  \n268  Male scrotum when you want to be scrotum you d...  \n269       I must be very ugly, and fat I'm already ...  ,                                                   text  label  \\\n270  @vanzkafka eu entendi que o cara é obrigado a ...      0   \n271  Vá lá, hoje o programa 'Prós e Contras' da @rt...      0   \n272  Desculpa gente, mas quando vejo mulher falando...      0   \n273  O canalha e ditador @NicolasMaduro conseguiu d...      1   \n274  @lipesff @Johnnschubert VERDADE! Ele sempre fo...      0   \n275       na moral mulher guando e burra não tem jeito      1   \n276  O #ColégioDomPedroII chegou ao fim do poço.Vej...      0   \n277  Aparentemente, as 592 páginas do livro de Cava...      1   \n278        Um objetivo na vida https://t.co/WxN5kuNysu      0   \n279  @mafiasumers mano, esse vídeo certeza que foi ...      0   \n\n                                            translated  \n270  @vanzkafka I understood that the guy is forced...  \n271  Go there, today the program 'pros and cons' of...  \n272  Sorry people, but when I see a woman speaking ...  \n273  The bastard and dictator @Nicolasmaduro manage...  \n274  @lipesff @johnschubert Truth!He was always kit...  \n275  in the moral woman when and dumb does not have...  \n276  # Colégiodompedroii has reached the end of the...  \n277  Apparently, the 592 pages of Cavaco Silva's bo...  \n278             A goal in life https://t.co/wxn5kunysu  \n279  @mafiasumers mano, this certainty that was bas...  ,                                                   text  label  \\\n280  Parece que o Papa vai estar menos tempo em Por...      1   \n281  #Encontro a feminista se droga, bebê até cair ...      1   \n282  @kaikedolin @rudyreis vai levar processo http:...      0   \n283                         a sapa dessa cidade sou eu      1   \n284  Uma #MulherDeVerdade não é adepta a joguinhos ...      0   \n285  @Curate_Angola imenso. Fantasias e todo resto....      0   \n286           jogaram liquid paper no meu cabelooooooo      0   \n287  @JOAQUINVOLTOU verdade..dia das mulheres !!! h...      0   \n288  RT @brasil_fotos: Gostaria que a OAB-SP respon...      0   \n289  Um negro e um branco fazendo duelo de piada de...      1   \n\n                                            translated  \n280  It seems that the Pope will be less time in Po...  \n281  # Feminist Feminist if drugs, baby until falli...  \n282  @kaikedolin @rudyreis will take process http:/...  \n283                          Sapa from this city is me  \n284  A #Mulherdevety is not adept at children's gam...  \n285  @Curate_Angola immensely.Fantasies and all res...  \n286               played liquid paper in my hairoooooo  \n287  @JoaQuinvoltacto truth..day of women !!!https:...  \n288  RT @Brasil_Photos: I would like the OAB-SP res...  \n289   A black and white making a black humor joke duel  ,                                                   text  label  \\\n290  Calma sportinguistas, já podem respirar de alí...      0   \n291  Fizeste-me sentir especial...fizeste-me pensar...      0   \n292  Aumento nos combustíveis: 3 passos à frente, 1...      0   \n293  RT @OMundrongo: 'Silêncio que envergonha', diz...      0   \n294  Boicote mediático ao PNR: crime no jornalismo ...      0   \n295              Então é Natal https://t.co/yuoIhHn8Fz      0   \n296  @dassblog @xismaisxis no Islão as leis dos paí...      1   \n297  Cinema itinerante em Rio Branco - Departamento...      0   \n298  'Erro de percepção mútuo', ou mentira constant...      0   \n299  Imaginem a cotovelite com que o Soares deve es...      0   \n\n                                            translated  \n290  Calm Sportinguistas, can already breathe with ...  \n291  You made me feel special ... You made me think...  \n292  Increase in fuels: 3 steps ahead, 1 step back,...  \n293  RT @omundongrong: 'Silence that embarrassed', ...  \n294  Media boycott to PNR: Crime in journalism\\nhtt...  \n295          So it's Christmas https://t.co/Yuoihhn8fz  \n296  @dassblog @XismaisXis in Islam Countries laws ...  \n297  Itinerant Cinema in Rio Branco - Department of...  \n298  'Error of mutual perception', or constant lie?...  \n299  Imagine the alumnate with which Soares must be...  ,                                                   text  label  \\\n300  @Ricardohdc po ai mulher burra msm... mas se t...      1   \n301  #GPnocinema é levar a @BrendaPaesGp pra assist...      0   \n302  Top 3 Filmes superestimados:\\nLaranja Mecânica...      0   \n303  RT @Leandroow3: só pode comemorar quem viu o p...      0   \n304  Guarani consegue reverter uma derrota de 4x0 e...      0   \n305  Boa noite, Lindinhas da noite rs. @digna_amada...      0   \n306          o pior cego é aquele que não pode escutar      0   \n307  É de se esperar que um povo q não aceita um cã...      0   \n308  RT @leandrolechuga: @RachelSherazade A esquerd...      0   \n309  Que bonito!... os democratas a mostrarem (de c...      0   \n\n                                            translated  \n300  @Ricardohdc po ai woman dumb msm ... but if it...  \n301  #Gpnocinema is to take @Brendapaesgp to watch ...  \n302  Top 3 overestimated movies:\\nMechanical orange...  \n303  RT @ LEANDROOW3: You can only celebrate who sa...  \n304  Guarani can reverse a 4x0 defeat and you can n...  \n305  Good evening, beautiful night rs.@dign_amada @...  \n306          the worst blind is one who can not listen  \n307  It is to be expected that a people who do not ...  \n308  RT @leandrolechuga: @rachelsherazade left pyra...  \n309  How beautiful! ... The Democrats to show (face...  ,                                                   text  label  \\\n310  @taiornn @JOAQUINVOLTOU ESSA MERRDA DE POLITIC...      1   \n311  @fvicentedasilva os avençados tinham agenda ou...      0   \n312  RT @obonholmer: Fazer pesquisa de intenção de ...      1   \n313  Dia 10 de Junho é dia de festa e de luta: por ...      0   \n314  Não somente hoje, mas todos os dias, que você ...      0   \n315  @macedowesleey @Felipebastos022 só não pode se...      1   \n316  Confesso a minha cotovelite. Não que não fosse...      0   \n317  PNR de novo em Sintra\\nhttps://t.co/8r7oAcofTw...      0   \n318  RT @BolsonaroSP: DEPUTADAS DA BANCADA 'FEMINIS...      0   \n319  Boa tarde você que acha que vai nos atingir ou...      0   \n\n                                            translated  \n310  @taiornn @JoaQuinVolto this merry of political...  \n311  @fvicentedasilva The graveners had schedule or...  \n312  RT@obonholmer:Doresearchintention tovoteproBol...  \n313  June 10 is party and fighting day: By Portugal...  \n314  Not only today, but every day, that you are re...  \n315  @macedowesleey @ felipebastos022 can not be fa...  \n316  I confess my alumnate.Not that I was not able ...  \n317  PNR again in Sintra\\nhttps://t.co/8r7oacoftw#s...  \n318  RT @Bolsonarosp: Members of the 'feminist' ben...  \n319  Good afternoon you think you will reach or reg...  ,                                                   text  label  \\\n320  Apesar de não gostar de fazer malas fazer a ma...      0   \n321  “Rapefugees”: já começa em Portugal _\\nhttps:/...      0   \n322  Oieeee, amoresss! Tô mtooo emocionadaaaa! MINH...      0   \n323  Macumba contra filhos de Deus,NÃO PEGA.Nos som...      0   \n324  Oscares, Prémios Nobel e afins: só politiquice...      0   \n325  Hoje é noite de novidades por aqui.\\nMuitas no...      0   \n326  Barcelona teve virada histórica.... Galo teve ...      0   \n327  Burra é a mulher que depois de ser prioridade,...      1   \n328  'Eu sou aquela mulher que fez a escalada da mo...      0   \n329  Defender os interesses dos AMERICANOS em prime...      0   \n\n                                            translated  \n320  Although I do not like to do the suitcase to m...  \n321  \"Rapefugees\": Begins in Portugal _\\nhttps://t....  \n322  Oieeee, Amoresss!I'm mtooo emotionadaaaaa!My n...  \n323  Macumba against children of God, do not catch....  \n324  Oscars, Nobel and related prizes: Only Politiq...  \n325  Today is news night around here.\\nMany news.\\n...  \n326  Barcelona had historical face .... Rooster had...  \n327  Burra is the woman who after being a priority,...  \n328  'I am that woman who made the mountain climb o...  \n329  Defending the interests of Americans first now...  ,                                                   text  label  \\\n330  Mais um episódio na novela das viagens, agora ...      0   \n331  Claro que sim, é só vc não ser um babaca nerds...      1   \n332  @LuisFernOli Sim, com certeza. De fato, me 'ap...      0   \n333  RT @zfbla: o dia da mulher foi top pois passei...      0   \n334  'Para o Dia Internacional da Mulher, a P3K pre...      0   \n335  1 em cada 3 mulheres no mundo sofreu violência...      0   \n336  Juande volta para a tua terra!\\nBoloni volta p...      1   \n337  Por conta do veto ter sido interrompido por um...      0   \n338  Crítica de livros: Islão e Fundamentalismo Isl...      0   \n339  RT @Silvio_MKT: Ninguém cruza com esses LIXOS ...      1   \n\n                                            translated  \n330  Another episode in the travels soap opera, now...  \n331  Of course, yes, it's just you not to be a nerd...  \n332  @Luisfernoli yes, for sure.In fact, I 'rushed'...  \n333  RT @zfbla: the woman's day was top because I p...  \n334  'For International Women's Day, P3K prepared a...  \n335  1 In every 3 women in the world suffered physi...  \n336  Juande returns to your land!\\nBoloni back to y...  \n337  Because the veto has been interrupted by a jud...  \n338  Criticism of books: Islam and Islamic fundamen...  \n339  Rt @silvio_mkt: Nobody crosses with these tank...  ]\n340 _iteration\n"
    }
   ],
   "source": [
    "from tqdm import tqdm_notebook\n",
    "size=10\n",
    "\n",
    "for file in files:\n",
    "    wp_data=pd.read_csv(file)\n",
    "    end= len(wp_data.index)\n",
    "    list_df=[]\n",
    "    for i in tqdm_notebook(range(0,end,size)):\n",
    "                print(i,\"_iteration\")\n",
    "                df_new=parallelize_dataframe(wp_data[i:i+size],add_features,n_cores=1)\n",
    "                list_df.append(df_new)\n",
    "    df_translated=pd.concat(list_df,ignore_index=True)\n",
    "    file_name='translated'+file\n",
    "    df_translated.to_csv(file_name,index=False)"
   ]
  },
  {
   "cell_type": "code",
   "execution_count": 85,
   "metadata": {},
   "outputs": [
    {
     "name": "stderr",
     "output_type": "stream",
     "text": "Using United States server backend.\n"
    }
   ],
   "source": [
    "import translators as ts"
   ]
  },
  {
   "cell_type": "code",
   "execution_count": 98,
   "metadata": {},
   "outputs": [
    {
     "data": {
      "text/plain": "'I lived in Maranho 8 to'"
     },
     "execution_count": 98,
     "metadata": {},
     "output_type": "execute_result"
    }
   ],
   "source": [
    "ts.google(word, from_language='pt')"
   ]
  },
  {
   "cell_type": "code",
   "execution_count": null,
   "metadata": {},
   "outputs": [],
   "source": []
  }
 ],
 "metadata": {
  "kernelspec": {
   "display_name": "Python 3.7.7 64-bit",
   "language": "python",
   "name": "python37764bit5622efc65b1a4b4e90c4e22ed94659a6"
  },
  "language_info": {
   "codemirror_mode": {
    "name": "ipython",
    "version": 3
   },
   "file_extension": ".py",
   "mimetype": "text/x-python",
   "name": "python",
   "nbconvert_exporter": "python",
   "pygments_lexer": "ipython3",
   "version": "3.7.7-final"
  }
 },
 "nbformat": 4,
 "nbformat_minor": 2
}