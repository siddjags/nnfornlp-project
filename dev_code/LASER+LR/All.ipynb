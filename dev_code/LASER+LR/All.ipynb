{
 "cells": [
  {
   "cell_type": "code",
   "execution_count": 1,
   "metadata": {},
   "outputs": [],
   "source": [
    "# Necessary imports\n",
    "import pandas as pd\n",
    "import numpy as np\n",
    "from sklearn.linear_model import LogisticRegression\n",
    "from sklearn.ensemble import RandomForestClassifier\n",
    "from sklearn.metrics import accuracy_score, f1_score,confusion_matrix\n",
    "from sklearn.model_selection import StratifiedShuffleSplit, train_test_split\n",
    "import os\n",
    "import neptune"
   ]
  },
  {
   "cell_type": "code",
   "execution_count": 2,
   "metadata": {},
   "outputs": [],
   "source": [
    "# Variables needed for neptune\n",
    "proxies = {\n",
    " \"http\": \"http://172.16.2.30:8080\",\n",
    " \"https\": \"http://172.16.2.30:8080\",\n",
    "}\n",
    "\n",
    "project_name='Hatespeech-CNERG/MH-Bert'\n",
    "api_token='Api token hidden for security purposes'\n"
   ]
  },
  {
   "cell_type": "code",
   "execution_count": 3,
   "metadata": {},
   "outputs": [
    {
     "name": "stderr",
     "output_type": "stream",
     "text": [
      "WARNING: It is not secure to place API token in your source code. You should treat it as a password to your account. It is strongly recommended to use NEPTUNE_API_TOKEN environment variable instead. Remember not to upload source file with API token to any public repository.\n"
     ]
    },
    {
     "data": {
      "text/plain": [
       "Project(Hatespeech-CNERG/MH-Bert)"
      ]
     },
     "execution_count": 3,
     "metadata": {},
     "output_type": "execute_result"
    }
   ],
   "source": [
    "# Initialise neptune for logging the experiment results\n",
    "neptune.init(project_name,api_token=api_token,proxies=proxies)\n",
    "neptune.set_project(project_name)"
   ]
  },
  {
   "cell_type": "code",
   "execution_count": 4,
   "metadata": {},
   "outputs": [],
   "source": [
    "# LASER embeddings for each data point are 1024 dimensional, with the ith value stored as ith column in the \n",
    "# csv file\n",
    "cols = [str(i) for i in range(1024)]"
   ]
  },
  {
   "cell_type": "code",
   "execution_count": 5,
   "metadata": {},
   "outputs": [],
   "source": [
    "# The languages on which we are running the baseline experiment.\n",
    "langs = ['Arabic','English','German','Indonesian','Italian','Polish','Portugese','Spanish','French']"
   ]
  },
  {
   "cell_type": "code",
   "execution_count": 6,
   "metadata": {},
   "outputs": [],
   "source": [
    "# Function to train and test the Logistic regression model on the entire training data.\n",
    "# Parameters:\n",
    "#    lang - target language on which we test the model\n",
    "#   c - a hyperparameter for the logistic regression model. \n",
    "#       Refer to sklearn logistic regression docs (https://scikit-learn.org/stable/modules/generated/sklearn.linear_model.LogisticRegression.html)\n",
    "#       for explanation of this value\n",
    "#   seed_val - for setting the random seed value for reproducibility.\n",
    "def train_and_test_all(lang,c,seed_val):\n",
    "    # Define the parameters of the experiment and create a neptune experiment with these parameters\n",
    "    params = {}\n",
    "    params['how_train'] = 'all'\n",
    "    params['random_seed'] = seed_val\n",
    "    params['lang'] = lang\n",
    "    params['C'] = c\n",
    "    name_one = lang+'_'+'all'+'_'+str(seed_val)\n",
    "    neptune.create_experiment(name_one,params=params,send_hardware_metrics=False,run_monitoring_thread=False)\n",
    "    neptune.append_tag('LR all')\n",
    "    neptune.append_tag(lang)\n",
    "    neptune.append_tag('only_hate')\n",
    "    # Load the training dataset. All the language datasets are loaded in this case.\n",
    "    train = pd.DataFrame()\n",
    "    columns = cols+['label']\n",
    "    for l in langs:\n",
    "        df = pd.read_csv(os.path.join('../Dataset/embedded/train',l+'.csv'))\n",
    "        df = df[columns]\n",
    "        train = pd.concat([train,df],axis=0)\n",
    "    # Shuffle the datasets\n",
    "    train = train.sample(frac=1,random_state=seed_val).reset_index(drop=True)\n",
    "    train_x = train[cols]\n",
    "    train_y = train['label']\n",
    "    # Initialise a logistic regression model. The class weights are taken as balanced to account for data imbalance\n",
    "    model = LogisticRegression(C=c,solver='lbfgs',class_weight='balanced',random_state=seed_val)\n",
    "    # Train the model\n",
    "    model.fit(train_x,train_y)\n",
    "    # Read the validation and test sets\n",
    "    val = pd.read_csv(os.path.join('../Dataset/embedded/val',lang+'.csv'))\n",
    "    test = pd.read_csv(os.path.join('../Dataset/embedded/test',lang+'.csv'))\n",
    "    test_x = test[cols]\n",
    "    test_y = test['label']\n",
    "    val_x = val[cols]\n",
    "    val_y = val['label']\n",
    "    print(lang,c,seed_val)\n",
    "    print('Training complete!')\n",
    "    # Get the predictions on the validation and test sets\n",
    "    pred = model.predict(test_x)\n",
    "    fscore = f1_score(test_y,pred,average='macro')\n",
    "    accuracy = accuracy_score(test_y,pred)\n",
    "    pred_val = model.predict(val_x)\n",
    "    val_fscore = f1_score(val_y,pred_val,average='macro')\n",
    "    val_accuracy = accuracy_score(val_y,pred_val)\n",
    "    print(\"Macro F1: \",'{0:.6f}'.format(f1_score(test_y,pred,average='macro')))\n",
    "    print('')\n",
    "    # Log the results to neptune\n",
    "    neptune.log_metric('val_fscore',val_fscore)\n",
    "    neptune.log_metric('val_acc',val_accuracy)\n",
    "    neptune.log_metric('test_fscore',fscore)\n",
    "    neptune.log_metric('test_accuracy',accuracy)\n",
    "    neptune.stop()\n",
    "    return fscore"
   ]
  },
  {
   "cell_type": "code",
   "execution_count": 7,
   "metadata": {
    "collapsed": true
   },
   "outputs": [
    {
     "name": "stdout",
     "output_type": "stream",
     "text": [
      "https://ui.neptune.ai/Hatespeech-CNERG/MH-Bert/e/SAN-6768\n",
      "Arabic 0.01 2018\n",
      "Training complete!\n",
      "Macro F1:  0.380052\n",
      "\n",
      "https://ui.neptune.ai/Hatespeech-CNERG/MH-Bert/e/SAN-6771\n",
      "Arabic 0.01 2019\n",
      "Training complete!\n",
      "Macro F1:  0.380052\n",
      "\n",
      "https://ui.neptune.ai/Hatespeech-CNERG/MH-Bert/e/SAN-6774\n",
      "Arabic 0.01 2020\n",
      "Training complete!\n",
      "Macro F1:  0.380052\n",
      "\n",
      "https://ui.neptune.ai/Hatespeech-CNERG/MH-Bert/e/SAN-6775\n",
      "Arabic 0.01 2021\n",
      "Training complete!\n",
      "Macro F1:  0.380052\n",
      "\n",
      "https://ui.neptune.ai/Hatespeech-CNERG/MH-Bert/e/SAN-6778\n",
      "Arabic 0.01 2022\n",
      "Training complete!\n",
      "Macro F1:  0.380052\n",
      "\n",
      "https://ui.neptune.ai/Hatespeech-CNERG/MH-Bert/e/SAN-6779\n",
      "Arabic 0.1 2018\n",
      "Training complete!\n",
      "Macro F1:  0.563219\n",
      "\n",
      "https://ui.neptune.ai/Hatespeech-CNERG/MH-Bert/e/SAN-6782\n",
      "Arabic 0.1 2019\n",
      "Training complete!\n",
      "Macro F1:  0.563219\n",
      "\n",
      "https://ui.neptune.ai/Hatespeech-CNERG/MH-Bert/e/SAN-6784\n",
      "Arabic 0.1 2020\n",
      "Training complete!\n",
      "Macro F1:  0.563219\n",
      "\n",
      "https://ui.neptune.ai/Hatespeech-CNERG/MH-Bert/e/SAN-6786\n",
      "Arabic 0.1 2021\n",
      "Training complete!\n",
      "Macro F1:  0.563219\n",
      "\n",
      "https://ui.neptune.ai/Hatespeech-CNERG/MH-Bert/e/SAN-6788\n",
      "Arabic 0.1 2022\n",
      "Training complete!\n",
      "Macro F1:  0.563219\n",
      "\n",
      "https://ui.neptune.ai/Hatespeech-CNERG/MH-Bert/e/SAN-6791\n"
     ]
    },
    {
     "name": "stderr",
     "output_type": "stream",
     "text": [
      "/home/saketh/anaconda3/lib/python3.7/site-packages/sklearn/linear_model/logistic.py:947: ConvergenceWarning: lbfgs failed to converge. Increase the number of iterations.\n",
      "  \"of iterations.\", ConvergenceWarning)\n"
     ]
    },
    {
     "name": "stdout",
     "output_type": "stream",
     "text": [
      "Arabic 1 2018\n",
      "Training complete!\n",
      "Macro F1:  0.650261\n",
      "\n",
      "https://ui.neptune.ai/Hatespeech-CNERG/MH-Bert/e/SAN-6794\n"
     ]
    },
    {
     "name": "stderr",
     "output_type": "stream",
     "text": [
      "/home/saketh/anaconda3/lib/python3.7/site-packages/sklearn/linear_model/logistic.py:947: ConvergenceWarning: lbfgs failed to converge. Increase the number of iterations.\n",
      "  \"of iterations.\", ConvergenceWarning)\n"
     ]
    },
    {
     "name": "stdout",
     "output_type": "stream",
     "text": [
      "Arabic 1 2019\n",
      "Training complete!\n",
      "Macro F1:  0.650261\n",
      "\n",
      "https://ui.neptune.ai/Hatespeech-CNERG/MH-Bert/e/SAN-6796\n"
     ]
    },
    {
     "name": "stderr",
     "output_type": "stream",
     "text": [
      "/home/saketh/anaconda3/lib/python3.7/site-packages/sklearn/linear_model/logistic.py:947: ConvergenceWarning: lbfgs failed to converge. Increase the number of iterations.\n",
      "  \"of iterations.\", ConvergenceWarning)\n"
     ]
    },
    {
     "name": "stdout",
     "output_type": "stream",
     "text": [
      "Arabic 1 2020\n",
      "Training complete!\n",
      "Macro F1:  0.650261\n",
      "\n",
      "https://ui.neptune.ai/Hatespeech-CNERG/MH-Bert/e/SAN-6797\n"
     ]
    },
    {
     "name": "stderr",
     "output_type": "stream",
     "text": [
      "/home/saketh/anaconda3/lib/python3.7/site-packages/sklearn/linear_model/logistic.py:947: ConvergenceWarning: lbfgs failed to converge. Increase the number of iterations.\n",
      "  \"of iterations.\", ConvergenceWarning)\n"
     ]
    },
    {
     "name": "stdout",
     "output_type": "stream",
     "text": [
      "Arabic 1 2021\n",
      "Training complete!\n",
      "Macro F1:  0.650261\n",
      "\n",
      "https://ui.neptune.ai/Hatespeech-CNERG/MH-Bert/e/SAN-6800\n"
     ]
    },
    {
     "name": "stderr",
     "output_type": "stream",
     "text": [
      "/home/saketh/anaconda3/lib/python3.7/site-packages/sklearn/linear_model/logistic.py:947: ConvergenceWarning: lbfgs failed to converge. Increase the number of iterations.\n",
      "  \"of iterations.\", ConvergenceWarning)\n"
     ]
    },
    {
     "name": "stdout",
     "output_type": "stream",
     "text": [
      "Arabic 1 2022\n",
      "Training complete!\n",
      "Macro F1:  0.651011\n",
      "\n",
      "https://ui.neptune.ai/Hatespeech-CNERG/MH-Bert/e/SAN-6802\n"
     ]
    },
    {
     "name": "stderr",
     "output_type": "stream",
     "text": [
      "/home/saketh/anaconda3/lib/python3.7/site-packages/sklearn/linear_model/logistic.py:947: ConvergenceWarning: lbfgs failed to converge. Increase the number of iterations.\n",
      "  \"of iterations.\", ConvergenceWarning)\n"
     ]
    },
    {
     "name": "stdout",
     "output_type": "stream",
     "text": [
      "Arabic 10 2018\n",
      "Training complete!\n",
      "Macro F1:  0.665803\n",
      "\n",
      "https://ui.neptune.ai/Hatespeech-CNERG/MH-Bert/e/SAN-6805\n"
     ]
    },
    {
     "name": "stderr",
     "output_type": "stream",
     "text": [
      "/home/saketh/anaconda3/lib/python3.7/site-packages/sklearn/linear_model/logistic.py:947: ConvergenceWarning: lbfgs failed to converge. Increase the number of iterations.\n",
      "  \"of iterations.\", ConvergenceWarning)\n"
     ]
    },
    {
     "name": "stdout",
     "output_type": "stream",
     "text": [
      "Arabic 10 2019\n",
      "Training complete!\n",
      "Macro F1:  0.665803\n",
      "\n",
      "https://ui.neptune.ai/Hatespeech-CNERG/MH-Bert/e/SAN-6807\n"
     ]
    },
    {
     "name": "stderr",
     "output_type": "stream",
     "text": [
      "/home/saketh/anaconda3/lib/python3.7/site-packages/sklearn/linear_model/logistic.py:947: ConvergenceWarning: lbfgs failed to converge. Increase the number of iterations.\n",
      "  \"of iterations.\", ConvergenceWarning)\n"
     ]
    },
    {
     "name": "stdout",
     "output_type": "stream",
     "text": [
      "Arabic 10 2020\n",
      "Training complete!\n",
      "Macro F1:  0.665803\n",
      "\n",
      "https://ui.neptune.ai/Hatespeech-CNERG/MH-Bert/e/SAN-6810\n"
     ]
    },
    {
     "name": "stderr",
     "output_type": "stream",
     "text": [
      "/home/saketh/anaconda3/lib/python3.7/site-packages/sklearn/linear_model/logistic.py:947: ConvergenceWarning: lbfgs failed to converge. Increase the number of iterations.\n",
      "  \"of iterations.\", ConvergenceWarning)\n"
     ]
    },
    {
     "name": "stdout",
     "output_type": "stream",
     "text": [
      "Arabic 10 2021\n",
      "Training complete!\n",
      "Macro F1:  0.665803\n",
      "\n",
      "https://ui.neptune.ai/Hatespeech-CNERG/MH-Bert/e/SAN-6812\n"
     ]
    },
    {
     "name": "stderr",
     "output_type": "stream",
     "text": [
      "/home/saketh/anaconda3/lib/python3.7/site-packages/sklearn/linear_model/logistic.py:947: ConvergenceWarning: lbfgs failed to converge. Increase the number of iterations.\n",
      "  \"of iterations.\", ConvergenceWarning)\n"
     ]
    },
    {
     "name": "stdout",
     "output_type": "stream",
     "text": [
      "Arabic 10 2022\n",
      "Training complete!\n",
      "Macro F1:  0.665803\n",
      "\n",
      "https://ui.neptune.ai/Hatespeech-CNERG/MH-Bert/e/SAN-6813\n",
      "English 0.01 2018\n",
      "Training complete!\n",
      "Macro F1:  0.636141\n",
      "\n",
      "https://ui.neptune.ai/Hatespeech-CNERG/MH-Bert/e/SAN-6816\n",
      "English 0.01 2019\n",
      "Training complete!\n",
      "Macro F1:  0.636141\n",
      "\n",
      "https://ui.neptune.ai/Hatespeech-CNERG/MH-Bert/e/SAN-6818\n",
      "English 0.01 2020\n",
      "Training complete!\n",
      "Macro F1:  0.636141\n",
      "\n",
      "https://ui.neptune.ai/Hatespeech-CNERG/MH-Bert/e/SAN-6821\n",
      "English 0.01 2021\n",
      "Training complete!\n",
      "Macro F1:  0.636141\n",
      "\n",
      "https://ui.neptune.ai/Hatespeech-CNERG/MH-Bert/e/SAN-6823\n",
      "English 0.01 2022\n",
      "Training complete!\n",
      "Macro F1:  0.636141\n",
      "\n",
      "https://ui.neptune.ai/Hatespeech-CNERG/MH-Bert/e/SAN-6826\n",
      "English 0.1 2018\n",
      "Training complete!\n",
      "Macro F1:  0.663731\n",
      "\n",
      "https://ui.neptune.ai/Hatespeech-CNERG/MH-Bert/e/SAN-6827\n",
      "English 0.1 2019\n",
      "Training complete!\n",
      "Macro F1:  0.663682\n",
      "\n",
      "https://ui.neptune.ai/Hatespeech-CNERG/MH-Bert/e/SAN-6829\n",
      "English 0.1 2020\n",
      "Training complete!\n",
      "Macro F1:  0.663682\n",
      "\n",
      "https://ui.neptune.ai/Hatespeech-CNERG/MH-Bert/e/SAN-6832\n",
      "English 0.1 2021\n",
      "Training complete!\n",
      "Macro F1:  0.663731\n",
      "\n",
      "https://ui.neptune.ai/Hatespeech-CNERG/MH-Bert/e/SAN-6834\n",
      "English 0.1 2022\n",
      "Training complete!\n",
      "Macro F1:  0.663682\n",
      "\n",
      "https://ui.neptune.ai/Hatespeech-CNERG/MH-Bert/e/SAN-6837\n"
     ]
    },
    {
     "name": "stderr",
     "output_type": "stream",
     "text": [
      "/home/saketh/anaconda3/lib/python3.7/site-packages/sklearn/linear_model/logistic.py:947: ConvergenceWarning: lbfgs failed to converge. Increase the number of iterations.\n",
      "  \"of iterations.\", ConvergenceWarning)\n"
     ]
    },
    {
     "name": "stdout",
     "output_type": "stream",
     "text": [
      "English 1 2018\n",
      "Training complete!\n",
      "Macro F1:  0.673547\n",
      "\n",
      "https://ui.neptune.ai/Hatespeech-CNERG/MH-Bert/e/SAN-6839\n"
     ]
    },
    {
     "name": "stderr",
     "output_type": "stream",
     "text": [
      "/home/saketh/anaconda3/lib/python3.7/site-packages/sklearn/linear_model/logistic.py:947: ConvergenceWarning: lbfgs failed to converge. Increase the number of iterations.\n",
      "  \"of iterations.\", ConvergenceWarning)\n"
     ]
    },
    {
     "name": "stdout",
     "output_type": "stream",
     "text": [
      "English 1 2019\n",
      "Training complete!\n",
      "Macro F1:  0.673547\n",
      "\n",
      "https://ui.neptune.ai/Hatespeech-CNERG/MH-Bert/e/SAN-6841\n"
     ]
    },
    {
     "name": "stderr",
     "output_type": "stream",
     "text": [
      "/home/saketh/anaconda3/lib/python3.7/site-packages/sklearn/linear_model/logistic.py:947: ConvergenceWarning: lbfgs failed to converge. Increase the number of iterations.\n",
      "  \"of iterations.\", ConvergenceWarning)\n"
     ]
    },
    {
     "name": "stdout",
     "output_type": "stream",
     "text": [
      "English 1 2020\n",
      "Training complete!\n",
      "Macro F1:  0.673547\n",
      "\n",
      "https://ui.neptune.ai/Hatespeech-CNERG/MH-Bert/e/SAN-6843\n"
     ]
    },
    {
     "name": "stderr",
     "output_type": "stream",
     "text": [
      "/home/saketh/anaconda3/lib/python3.7/site-packages/sklearn/linear_model/logistic.py:947: ConvergenceWarning: lbfgs failed to converge. Increase the number of iterations.\n",
      "  \"of iterations.\", ConvergenceWarning)\n"
     ]
    },
    {
     "name": "stdout",
     "output_type": "stream",
     "text": [
      "English 1 2021\n",
      "Training complete!\n",
      "Macro F1:  0.673547\n",
      "\n",
      "https://ui.neptune.ai/Hatespeech-CNERG/MH-Bert/e/SAN-6845\n"
     ]
    },
    {
     "name": "stderr",
     "output_type": "stream",
     "text": [
      "/home/saketh/anaconda3/lib/python3.7/site-packages/sklearn/linear_model/logistic.py:947: ConvergenceWarning: lbfgs failed to converge. Increase the number of iterations.\n",
      "  \"of iterations.\", ConvergenceWarning)\n"
     ]
    },
    {
     "name": "stdout",
     "output_type": "stream",
     "text": [
      "English 1 2022\n",
      "Training complete!\n",
      "Macro F1:  0.673483\n",
      "\n",
      "https://ui.neptune.ai/Hatespeech-CNERG/MH-Bert/e/SAN-6849\n"
     ]
    },
    {
     "name": "stderr",
     "output_type": "stream",
     "text": [
      "/home/saketh/anaconda3/lib/python3.7/site-packages/sklearn/linear_model/logistic.py:947: ConvergenceWarning: lbfgs failed to converge. Increase the number of iterations.\n",
      "  \"of iterations.\", ConvergenceWarning)\n"
     ]
    },
    {
     "name": "stdout",
     "output_type": "stream",
     "text": [
      "English 10 2018\n",
      "Training complete!\n",
      "Macro F1:  0.671354\n",
      "\n",
      "https://ui.neptune.ai/Hatespeech-CNERG/MH-Bert/e/SAN-6851\n"
     ]
    },
    {
     "name": "stderr",
     "output_type": "stream",
     "text": [
      "/home/saketh/anaconda3/lib/python3.7/site-packages/sklearn/linear_model/logistic.py:947: ConvergenceWarning: lbfgs failed to converge. Increase the number of iterations.\n",
      "  \"of iterations.\", ConvergenceWarning)\n"
     ]
    },
    {
     "name": "stdout",
     "output_type": "stream",
     "text": [
      "English 10 2019\n",
      "Training complete!\n",
      "Macro F1:  0.671403\n",
      "\n",
      "https://ui.neptune.ai/Hatespeech-CNERG/MH-Bert/e/SAN-6853\n"
     ]
    },
    {
     "name": "stderr",
     "output_type": "stream",
     "text": [
      "/home/saketh/anaconda3/lib/python3.7/site-packages/sklearn/linear_model/logistic.py:947: ConvergenceWarning: lbfgs failed to converge. Increase the number of iterations.\n",
      "  \"of iterations.\", ConvergenceWarning)\n"
     ]
    },
    {
     "name": "stdout",
     "output_type": "stream",
     "text": [
      "English 10 2020\n",
      "Training complete!\n",
      "Macro F1:  0.671403\n",
      "\n",
      "https://ui.neptune.ai/Hatespeech-CNERG/MH-Bert/e/SAN-6855\n"
     ]
    },
    {
     "name": "stderr",
     "output_type": "stream",
     "text": [
      "/home/saketh/anaconda3/lib/python3.7/site-packages/sklearn/linear_model/logistic.py:947: ConvergenceWarning: lbfgs failed to converge. Increase the number of iterations.\n",
      "  \"of iterations.\", ConvergenceWarning)\n"
     ]
    },
    {
     "name": "stdout",
     "output_type": "stream",
     "text": [
      "English 10 2021\n",
      "Training complete!\n",
      "Macro F1:  0.671403\n",
      "\n",
      "https://ui.neptune.ai/Hatespeech-CNERG/MH-Bert/e/SAN-6857\n"
     ]
    },
    {
     "name": "stderr",
     "output_type": "stream",
     "text": [
      "/home/saketh/anaconda3/lib/python3.7/site-packages/sklearn/linear_model/logistic.py:947: ConvergenceWarning: lbfgs failed to converge. Increase the number of iterations.\n",
      "  \"of iterations.\", ConvergenceWarning)\n"
     ]
    },
    {
     "name": "stdout",
     "output_type": "stream",
     "text": [
      "English 10 2022\n",
      "Training complete!\n",
      "Macro F1:  0.671403\n",
      "\n",
      "https://ui.neptune.ai/Hatespeech-CNERG/MH-Bert/e/SAN-6859\n",
      "German 0.01 2018\n",
      "Training complete!\n",
      "Macro F1:  0.414821\n",
      "\n",
      "https://ui.neptune.ai/Hatespeech-CNERG/MH-Bert/e/SAN-6862\n",
      "German 0.01 2019\n",
      "Training complete!\n",
      "Macro F1:  0.414821\n",
      "\n",
      "https://ui.neptune.ai/Hatespeech-CNERG/MH-Bert/e/SAN-6864\n",
      "German 0.01 2020\n",
      "Training complete!\n",
      "Macro F1:  0.414821\n",
      "\n",
      "https://ui.neptune.ai/Hatespeech-CNERG/MH-Bert/e/SAN-6866\n",
      "German 0.01 2021\n",
      "Training complete!\n",
      "Macro F1:  0.414821\n",
      "\n",
      "https://ui.neptune.ai/Hatespeech-CNERG/MH-Bert/e/SAN-6868\n",
      "German 0.01 2022\n",
      "Training complete!\n",
      "Macro F1:  0.414821\n",
      "\n",
      "https://ui.neptune.ai/Hatespeech-CNERG/MH-Bert/e/SAN-6869\n",
      "German 0.1 2018\n",
      "Training complete!\n",
      "Macro F1:  0.504411\n",
      "\n",
      "https://ui.neptune.ai/Hatespeech-CNERG/MH-Bert/e/SAN-6871\n",
      "German 0.1 2019\n",
      "Training complete!\n",
      "Macro F1:  0.504411\n",
      "\n",
      "https://ui.neptune.ai/Hatespeech-CNERG/MH-Bert/e/SAN-6873\n",
      "German 0.1 2020\n",
      "Training complete!\n",
      "Macro F1:  0.504411\n",
      "\n",
      "https://ui.neptune.ai/Hatespeech-CNERG/MH-Bert/e/SAN-6876\n",
      "German 0.1 2021\n",
      "Training complete!\n",
      "Macro F1:  0.504411\n",
      "\n",
      "https://ui.neptune.ai/Hatespeech-CNERG/MH-Bert/e/SAN-6878\n",
      "German 0.1 2022\n",
      "Training complete!\n",
      "Macro F1:  0.504411\n",
      "\n",
      "https://ui.neptune.ai/Hatespeech-CNERG/MH-Bert/e/SAN-6880\n"
     ]
    },
    {
     "name": "stderr",
     "output_type": "stream",
     "text": [
      "/home/saketh/anaconda3/lib/python3.7/site-packages/sklearn/linear_model/logistic.py:947: ConvergenceWarning: lbfgs failed to converge. Increase the number of iterations.\n",
      "  \"of iterations.\", ConvergenceWarning)\n"
     ]
    },
    {
     "name": "stdout",
     "output_type": "stream",
     "text": [
      "German 1 2018\n",
      "Training complete!\n",
      "Macro F1:  0.550119\n",
      "\n",
      "https://ui.neptune.ai/Hatespeech-CNERG/MH-Bert/e/SAN-6882\n"
     ]
    },
    {
     "name": "stderr",
     "output_type": "stream",
     "text": [
      "/home/saketh/anaconda3/lib/python3.7/site-packages/sklearn/linear_model/logistic.py:947: ConvergenceWarning: lbfgs failed to converge. Increase the number of iterations.\n",
      "  \"of iterations.\", ConvergenceWarning)\n"
     ]
    },
    {
     "name": "stdout",
     "output_type": "stream",
     "text": [
      "German 1 2019\n",
      "Training complete!\n",
      "Macro F1:  0.549520\n",
      "\n",
      "https://ui.neptune.ai/Hatespeech-CNERG/MH-Bert/e/SAN-6884\n"
     ]
    },
    {
     "name": "stderr",
     "output_type": "stream",
     "text": [
      "/home/saketh/anaconda3/lib/python3.7/site-packages/sklearn/linear_model/logistic.py:947: ConvergenceWarning: lbfgs failed to converge. Increase the number of iterations.\n",
      "  \"of iterations.\", ConvergenceWarning)\n"
     ]
    },
    {
     "name": "stdout",
     "output_type": "stream",
     "text": [
      "German 1 2020\n",
      "Training complete!\n",
      "Macro F1:  0.549520\n",
      "\n",
      "https://ui.neptune.ai/Hatespeech-CNERG/MH-Bert/e/SAN-6885\n"
     ]
    },
    {
     "name": "stderr",
     "output_type": "stream",
     "text": [
      "/home/saketh/anaconda3/lib/python3.7/site-packages/sklearn/linear_model/logistic.py:947: ConvergenceWarning: lbfgs failed to converge. Increase the number of iterations.\n",
      "  \"of iterations.\", ConvergenceWarning)\n"
     ]
    },
    {
     "name": "stdout",
     "output_type": "stream",
     "text": [
      "German 1 2021\n",
      "Training complete!\n",
      "Macro F1:  0.549520\n",
      "\n",
      "https://ui.neptune.ai/Hatespeech-CNERG/MH-Bert/e/SAN-6887\n"
     ]
    },
    {
     "name": "stderr",
     "output_type": "stream",
     "text": [
      "/home/saketh/anaconda3/lib/python3.7/site-packages/sklearn/linear_model/logistic.py:947: ConvergenceWarning: lbfgs failed to converge. Increase the number of iterations.\n",
      "  \"of iterations.\", ConvergenceWarning)\n"
     ]
    },
    {
     "name": "stdout",
     "output_type": "stream",
     "text": [
      "German 1 2022\n",
      "Training complete!\n",
      "Macro F1:  0.550719\n",
      "\n",
      "https://ui.neptune.ai/Hatespeech-CNERG/MH-Bert/e/SAN-6890\n"
     ]
    },
    {
     "name": "stderr",
     "output_type": "stream",
     "text": [
      "/home/saketh/anaconda3/lib/python3.7/site-packages/sklearn/linear_model/logistic.py:947: ConvergenceWarning: lbfgs failed to converge. Increase the number of iterations.\n",
      "  \"of iterations.\", ConvergenceWarning)\n"
     ]
    },
    {
     "name": "stdout",
     "output_type": "stream",
     "text": [
      "German 10 2018\n",
      "Training complete!\n",
      "Macro F1:  0.567385\n",
      "\n",
      "https://ui.neptune.ai/Hatespeech-CNERG/MH-Bert/e/SAN-6893\n"
     ]
    },
    {
     "name": "stderr",
     "output_type": "stream",
     "text": [
      "/home/saketh/anaconda3/lib/python3.7/site-packages/sklearn/linear_model/logistic.py:947: ConvergenceWarning: lbfgs failed to converge. Increase the number of iterations.\n",
      "  \"of iterations.\", ConvergenceWarning)\n"
     ]
    },
    {
     "name": "stdout",
     "output_type": "stream",
     "text": [
      "German 10 2019\n",
      "Training complete!\n",
      "Macro F1:  0.567385\n",
      "\n",
      "https://ui.neptune.ai/Hatespeech-CNERG/MH-Bert/e/SAN-6895\n"
     ]
    },
    {
     "name": "stderr",
     "output_type": "stream",
     "text": [
      "/home/saketh/anaconda3/lib/python3.7/site-packages/sklearn/linear_model/logistic.py:947: ConvergenceWarning: lbfgs failed to converge. Increase the number of iterations.\n",
      "  \"of iterations.\", ConvergenceWarning)\n"
     ]
    },
    {
     "name": "stdout",
     "output_type": "stream",
     "text": [
      "German 10 2020\n",
      "Training complete!\n",
      "Macro F1:  0.567385\n",
      "\n",
      "https://ui.neptune.ai/Hatespeech-CNERG/MH-Bert/e/SAN-6897\n"
     ]
    },
    {
     "name": "stderr",
     "output_type": "stream",
     "text": [
      "/home/saketh/anaconda3/lib/python3.7/site-packages/sklearn/linear_model/logistic.py:947: ConvergenceWarning: lbfgs failed to converge. Increase the number of iterations.\n",
      "  \"of iterations.\", ConvergenceWarning)\n"
     ]
    },
    {
     "name": "stdout",
     "output_type": "stream",
     "text": [
      "German 10 2021\n",
      "Training complete!\n",
      "Macro F1:  0.567385\n",
      "\n",
      "https://ui.neptune.ai/Hatespeech-CNERG/MH-Bert/e/SAN-6899\n"
     ]
    },
    {
     "name": "stderr",
     "output_type": "stream",
     "text": [
      "/home/saketh/anaconda3/lib/python3.7/site-packages/sklearn/linear_model/logistic.py:947: ConvergenceWarning: lbfgs failed to converge. Increase the number of iterations.\n",
      "  \"of iterations.\", ConvergenceWarning)\n"
     ]
    },
    {
     "name": "stdout",
     "output_type": "stream",
     "text": [
      "German 10 2022\n",
      "Training complete!\n",
      "Macro F1:  0.567385\n",
      "\n",
      "https://ui.neptune.ai/Hatespeech-CNERG/MH-Bert/e/SAN-6901\n",
      "Indonesian 0.01 2018\n",
      "Training complete!\n",
      "Macro F1:  0.441529\n",
      "\n",
      "https://ui.neptune.ai/Hatespeech-CNERG/MH-Bert/e/SAN-6903\n",
      "Indonesian 0.01 2019\n",
      "Training complete!\n",
      "Macro F1:  0.441529\n",
      "\n",
      "https://ui.neptune.ai/Hatespeech-CNERG/MH-Bert/e/SAN-6905\n",
      "Indonesian 0.01 2020\n",
      "Training complete!\n",
      "Macro F1:  0.441529\n",
      "\n",
      "https://ui.neptune.ai/Hatespeech-CNERG/MH-Bert/e/SAN-6908\n",
      "Indonesian 0.01 2021\n",
      "Training complete!\n",
      "Macro F1:  0.441529\n",
      "\n",
      "https://ui.neptune.ai/Hatespeech-CNERG/MH-Bert/e/SAN-6910\n",
      "Indonesian 0.01 2022\n",
      "Training complete!\n",
      "Macro F1:  0.441529\n",
      "\n",
      "https://ui.neptune.ai/Hatespeech-CNERG/MH-Bert/e/SAN-6912\n",
      "Indonesian 0.1 2018\n",
      "Training complete!\n",
      "Macro F1:  0.537659\n",
      "\n",
      "https://ui.neptune.ai/Hatespeech-CNERG/MH-Bert/e/SAN-6914\n",
      "Indonesian 0.1 2019\n",
      "Training complete!\n",
      "Macro F1:  0.537659\n",
      "\n",
      "https://ui.neptune.ai/Hatespeech-CNERG/MH-Bert/e/SAN-6916\n",
      "Indonesian 0.1 2020\n",
      "Training complete!\n",
      "Macro F1:  0.537659\n",
      "\n",
      "https://ui.neptune.ai/Hatespeech-CNERG/MH-Bert/e/SAN-6918\n",
      "Indonesian 0.1 2021\n",
      "Training complete!\n",
      "Macro F1:  0.537659\n",
      "\n",
      "https://ui.neptune.ai/Hatespeech-CNERG/MH-Bert/e/SAN-6920\n",
      "Indonesian 0.1 2022\n",
      "Training complete!\n",
      "Macro F1:  0.537659\n",
      "\n",
      "https://ui.neptune.ai/Hatespeech-CNERG/MH-Bert/e/SAN-6922\n"
     ]
    },
    {
     "name": "stderr",
     "output_type": "stream",
     "text": [
      "/home/saketh/anaconda3/lib/python3.7/site-packages/sklearn/linear_model/logistic.py:947: ConvergenceWarning: lbfgs failed to converge. Increase the number of iterations.\n",
      "  \"of iterations.\", ConvergenceWarning)\n"
     ]
    },
    {
     "name": "stdout",
     "output_type": "stream",
     "text": [
      "Indonesian 1 2018\n",
      "Training complete!\n",
      "Macro F1:  0.581934\n",
      "\n",
      "https://ui.neptune.ai/Hatespeech-CNERG/MH-Bert/e/SAN-6925\n"
     ]
    },
    {
     "name": "stderr",
     "output_type": "stream",
     "text": [
      "/home/saketh/anaconda3/lib/python3.7/site-packages/sklearn/linear_model/logistic.py:947: ConvergenceWarning: lbfgs failed to converge. Increase the number of iterations.\n",
      "  \"of iterations.\", ConvergenceWarning)\n"
     ]
    },
    {
     "name": "stdout",
     "output_type": "stream",
     "text": [
      "Indonesian 1 2019\n",
      "Training complete!\n",
      "Macro F1:  0.581934\n",
      "\n",
      "https://ui.neptune.ai/Hatespeech-CNERG/MH-Bert/e/SAN-6927\n"
     ]
    },
    {
     "name": "stderr",
     "output_type": "stream",
     "text": [
      "/home/saketh/anaconda3/lib/python3.7/site-packages/sklearn/linear_model/logistic.py:947: ConvergenceWarning: lbfgs failed to converge. Increase the number of iterations.\n",
      "  \"of iterations.\", ConvergenceWarning)\n"
     ]
    },
    {
     "name": "stdout",
     "output_type": "stream",
     "text": [
      "Indonesian 1 2020\n",
      "Training complete!\n",
      "Macro F1:  0.581934\n",
      "\n",
      "https://ui.neptune.ai/Hatespeech-CNERG/MH-Bert/e/SAN-6929\n"
     ]
    },
    {
     "name": "stderr",
     "output_type": "stream",
     "text": [
      "/home/saketh/anaconda3/lib/python3.7/site-packages/sklearn/linear_model/logistic.py:947: ConvergenceWarning: lbfgs failed to converge. Increase the number of iterations.\n",
      "  \"of iterations.\", ConvergenceWarning)\n"
     ]
    },
    {
     "name": "stdout",
     "output_type": "stream",
     "text": [
      "Indonesian 1 2021\n",
      "Training complete!\n",
      "Macro F1:  0.581067\n",
      "\n",
      "https://ui.neptune.ai/Hatespeech-CNERG/MH-Bert/e/SAN-6931\n"
     ]
    },
    {
     "name": "stderr",
     "output_type": "stream",
     "text": [
      "/home/saketh/anaconda3/lib/python3.7/site-packages/sklearn/linear_model/logistic.py:947: ConvergenceWarning: lbfgs failed to converge. Increase the number of iterations.\n",
      "  \"of iterations.\", ConvergenceWarning)\n"
     ]
    },
    {
     "name": "stdout",
     "output_type": "stream",
     "text": [
      "Indonesian 1 2022\n",
      "Training complete!\n",
      "Macro F1:  0.581934\n",
      "\n",
      "https://ui.neptune.ai/Hatespeech-CNERG/MH-Bert/e/SAN-6933\n"
     ]
    },
    {
     "name": "stderr",
     "output_type": "stream",
     "text": [
      "/home/saketh/anaconda3/lib/python3.7/site-packages/sklearn/linear_model/logistic.py:947: ConvergenceWarning: lbfgs failed to converge. Increase the number of iterations.\n",
      "  \"of iterations.\", ConvergenceWarning)\n"
     ]
    },
    {
     "name": "stdout",
     "output_type": "stream",
     "text": [
      "Indonesian 10 2018\n",
      "Training complete!\n",
      "Macro F1:  0.592594\n",
      "\n",
      "https://ui.neptune.ai/Hatespeech-CNERG/MH-Bert/e/SAN-6935\n"
     ]
    },
    {
     "name": "stderr",
     "output_type": "stream",
     "text": [
      "/home/saketh/anaconda3/lib/python3.7/site-packages/sklearn/linear_model/logistic.py:947: ConvergenceWarning: lbfgs failed to converge. Increase the number of iterations.\n",
      "  \"of iterations.\", ConvergenceWarning)\n"
     ]
    },
    {
     "name": "stdout",
     "output_type": "stream",
     "text": [
      "Indonesian 10 2019\n",
      "Training complete!\n",
      "Macro F1:  0.592594\n",
      "\n",
      "https://ui.neptune.ai/Hatespeech-CNERG/MH-Bert/e/SAN-6938\n"
     ]
    },
    {
     "name": "stderr",
     "output_type": "stream",
     "text": [
      "/home/saketh/anaconda3/lib/python3.7/site-packages/sklearn/linear_model/logistic.py:947: ConvergenceWarning: lbfgs failed to converge. Increase the number of iterations.\n",
      "  \"of iterations.\", ConvergenceWarning)\n"
     ]
    },
    {
     "name": "stdout",
     "output_type": "stream",
     "text": [
      "Indonesian 10 2020\n",
      "Training complete!\n",
      "Macro F1:  0.592594\n",
      "\n",
      "https://ui.neptune.ai/Hatespeech-CNERG/MH-Bert/e/SAN-6940\n"
     ]
    },
    {
     "name": "stderr",
     "output_type": "stream",
     "text": [
      "/home/saketh/anaconda3/lib/python3.7/site-packages/sklearn/linear_model/logistic.py:947: ConvergenceWarning: lbfgs failed to converge. Increase the number of iterations.\n",
      "  \"of iterations.\", ConvergenceWarning)\n"
     ]
    },
    {
     "name": "stdout",
     "output_type": "stream",
     "text": [
      "Indonesian 10 2021\n",
      "Training complete!\n",
      "Macro F1:  0.592594\n",
      "\n",
      "https://ui.neptune.ai/Hatespeech-CNERG/MH-Bert/e/SAN-6942\n"
     ]
    },
    {
     "name": "stderr",
     "output_type": "stream",
     "text": [
      "/home/saketh/anaconda3/lib/python3.7/site-packages/sklearn/linear_model/logistic.py:947: ConvergenceWarning: lbfgs failed to converge. Increase the number of iterations.\n",
      "  \"of iterations.\", ConvergenceWarning)\n"
     ]
    },
    {
     "name": "stdout",
     "output_type": "stream",
     "text": [
      "Indonesian 10 2022\n",
      "Training complete!\n",
      "Macro F1:  0.592594\n",
      "\n",
      "https://ui.neptune.ai/Hatespeech-CNERG/MH-Bert/e/SAN-6945\n",
      "Italian 0.01 2018\n",
      "Training complete!\n",
      "Macro F1:  0.706549\n",
      "\n",
      "https://ui.neptune.ai/Hatespeech-CNERG/MH-Bert/e/SAN-6947\n",
      "Italian 0.01 2019\n",
      "Training complete!\n",
      "Macro F1:  0.706549\n",
      "\n",
      "https://ui.neptune.ai/Hatespeech-CNERG/MH-Bert/e/SAN-6948\n",
      "Italian 0.01 2020\n",
      "Training complete!\n",
      "Macro F1:  0.706549\n",
      "\n",
      "https://ui.neptune.ai/Hatespeech-CNERG/MH-Bert/e/SAN-6950\n",
      "Italian 0.01 2021\n",
      "Training complete!\n",
      "Macro F1:  0.706549\n",
      "\n",
      "https://ui.neptune.ai/Hatespeech-CNERG/MH-Bert/e/SAN-6952\n",
      "Italian 0.01 2022\n",
      "Training complete!\n",
      "Macro F1:  0.706549\n",
      "\n",
      "https://ui.neptune.ai/Hatespeech-CNERG/MH-Bert/e/SAN-6955\n",
      "Italian 0.1 2018\n",
      "Training complete!\n",
      "Macro F1:  0.716749\n",
      "\n",
      "https://ui.neptune.ai/Hatespeech-CNERG/MH-Bert/e/SAN-6957\n",
      "Italian 0.1 2019\n",
      "Training complete!\n",
      "Macro F1:  0.716749\n",
      "\n",
      "https://ui.neptune.ai/Hatespeech-CNERG/MH-Bert/e/SAN-6959\n",
      "Italian 0.1 2020\n",
      "Training complete!\n",
      "Macro F1:  0.716749\n",
      "\n",
      "https://ui.neptune.ai/Hatespeech-CNERG/MH-Bert/e/SAN-6961\n",
      "Italian 0.1 2021\n",
      "Training complete!\n",
      "Macro F1:  0.716749\n",
      "\n",
      "https://ui.neptune.ai/Hatespeech-CNERG/MH-Bert/e/SAN-6963\n",
      "Italian 0.1 2022\n",
      "Training complete!\n",
      "Macro F1:  0.716749\n",
      "\n",
      "https://ui.neptune.ai/Hatespeech-CNERG/MH-Bert/e/SAN-6965\n"
     ]
    },
    {
     "name": "stderr",
     "output_type": "stream",
     "text": [
      "/home/saketh/anaconda3/lib/python3.7/site-packages/sklearn/linear_model/logistic.py:947: ConvergenceWarning: lbfgs failed to converge. Increase the number of iterations.\n",
      "  \"of iterations.\", ConvergenceWarning)\n"
     ]
    },
    {
     "name": "stdout",
     "output_type": "stream",
     "text": [
      "Italian 1 2018\n",
      "Training complete!\n",
      "Macro F1:  0.723529\n",
      "\n",
      "https://ui.neptune.ai/Hatespeech-CNERG/MH-Bert/e/SAN-6967\n"
     ]
    },
    {
     "name": "stderr",
     "output_type": "stream",
     "text": [
      "/home/saketh/anaconda3/lib/python3.7/site-packages/sklearn/linear_model/logistic.py:947: ConvergenceWarning: lbfgs failed to converge. Increase the number of iterations.\n",
      "  \"of iterations.\", ConvergenceWarning)\n"
     ]
    },
    {
     "name": "stdout",
     "output_type": "stream",
     "text": [
      "Italian 1 2019\n",
      "Training complete!\n",
      "Macro F1:  0.724088\n",
      "\n",
      "https://ui.neptune.ai/Hatespeech-CNERG/MH-Bert/e/SAN-6969\n"
     ]
    },
    {
     "name": "stderr",
     "output_type": "stream",
     "text": [
      "/home/saketh/anaconda3/lib/python3.7/site-packages/sklearn/linear_model/logistic.py:947: ConvergenceWarning: lbfgs failed to converge. Increase the number of iterations.\n",
      "  \"of iterations.\", ConvergenceWarning)\n"
     ]
    },
    {
     "name": "stdout",
     "output_type": "stream",
     "text": [
      "Italian 1 2020\n",
      "Training complete!\n",
      "Macro F1:  0.724088\n",
      "\n",
      "https://ui.neptune.ai/Hatespeech-CNERG/MH-Bert/e/SAN-6972\n"
     ]
    },
    {
     "name": "stderr",
     "output_type": "stream",
     "text": [
      "/home/saketh/anaconda3/lib/python3.7/site-packages/sklearn/linear_model/logistic.py:947: ConvergenceWarning: lbfgs failed to converge. Increase the number of iterations.\n",
      "  \"of iterations.\", ConvergenceWarning)\n"
     ]
    },
    {
     "name": "stdout",
     "output_type": "stream",
     "text": [
      "Italian 1 2021\n",
      "Training complete!\n",
      "Macro F1:  0.724088\n",
      "\n",
      "https://ui.neptune.ai/Hatespeech-CNERG/MH-Bert/e/SAN-6974\n"
     ]
    },
    {
     "name": "stderr",
     "output_type": "stream",
     "text": [
      "/home/saketh/anaconda3/lib/python3.7/site-packages/sklearn/linear_model/logistic.py:947: ConvergenceWarning: lbfgs failed to converge. Increase the number of iterations.\n",
      "  \"of iterations.\", ConvergenceWarning)\n"
     ]
    },
    {
     "name": "stdout",
     "output_type": "stream",
     "text": [
      "Italian 1 2022\n",
      "Training complete!\n",
      "Macro F1:  0.724646\n",
      "\n",
      "https://ui.neptune.ai/Hatespeech-CNERG/MH-Bert/e/SAN-6976\n"
     ]
    },
    {
     "name": "stderr",
     "output_type": "stream",
     "text": [
      "/home/saketh/anaconda3/lib/python3.7/site-packages/sklearn/linear_model/logistic.py:947: ConvergenceWarning: lbfgs failed to converge. Increase the number of iterations.\n",
      "  \"of iterations.\", ConvergenceWarning)\n"
     ]
    },
    {
     "name": "stdout",
     "output_type": "stream",
     "text": [
      "Italian 10 2018\n",
      "Training complete!\n",
      "Macro F1:  0.720097\n",
      "\n",
      "https://ui.neptune.ai/Hatespeech-CNERG/MH-Bert/e/SAN-6978\n"
     ]
    },
    {
     "name": "stderr",
     "output_type": "stream",
     "text": [
      "/home/saketh/anaconda3/lib/python3.7/site-packages/sklearn/linear_model/logistic.py:947: ConvergenceWarning: lbfgs failed to converge. Increase the number of iterations.\n",
      "  \"of iterations.\", ConvergenceWarning)\n"
     ]
    },
    {
     "name": "stdout",
     "output_type": "stream",
     "text": [
      "Italian 10 2019\n",
      "Training complete!\n",
      "Macro F1:  0.720097\n",
      "\n",
      "https://ui.neptune.ai/Hatespeech-CNERG/MH-Bert/e/SAN-6980\n"
     ]
    },
    {
     "name": "stderr",
     "output_type": "stream",
     "text": [
      "/home/saketh/anaconda3/lib/python3.7/site-packages/sklearn/linear_model/logistic.py:947: ConvergenceWarning: lbfgs failed to converge. Increase the number of iterations.\n",
      "  \"of iterations.\", ConvergenceWarning)\n"
     ]
    },
    {
     "name": "stdout",
     "output_type": "stream",
     "text": [
      "Italian 10 2020\n",
      "Training complete!\n",
      "Macro F1:  0.720097\n",
      "\n",
      "https://ui.neptune.ai/Hatespeech-CNERG/MH-Bert/e/SAN-6982\n"
     ]
    },
    {
     "name": "stderr",
     "output_type": "stream",
     "text": [
      "/home/saketh/anaconda3/lib/python3.7/site-packages/sklearn/linear_model/logistic.py:947: ConvergenceWarning: lbfgs failed to converge. Increase the number of iterations.\n",
      "  \"of iterations.\", ConvergenceWarning)\n"
     ]
    },
    {
     "name": "stdout",
     "output_type": "stream",
     "text": [
      "Italian 10 2021\n",
      "Training complete!\n",
      "Macro F1:  0.720097\n",
      "\n",
      "https://ui.neptune.ai/Hatespeech-CNERG/MH-Bert/e/SAN-6985\n"
     ]
    },
    {
     "name": "stderr",
     "output_type": "stream",
     "text": [
      "/home/saketh/anaconda3/lib/python3.7/site-packages/sklearn/linear_model/logistic.py:947: ConvergenceWarning: lbfgs failed to converge. Increase the number of iterations.\n",
      "  \"of iterations.\", ConvergenceWarning)\n"
     ]
    },
    {
     "name": "stdout",
     "output_type": "stream",
     "text": [
      "Italian 10 2022\n",
      "Training complete!\n",
      "Macro F1:  0.720097\n",
      "\n",
      "https://ui.neptune.ai/Hatespeech-CNERG/MH-Bert/e/SAN-6988\n",
      "Polish 0.01 2018\n",
      "Training complete!\n",
      "Macro F1:  0.541082\n",
      "\n",
      "https://ui.neptune.ai/Hatespeech-CNERG/MH-Bert/e/SAN-6989\n",
      "Polish 0.01 2019\n",
      "Training complete!\n",
      "Macro F1:  0.541082\n",
      "\n",
      "https://ui.neptune.ai/Hatespeech-CNERG/MH-Bert/e/SAN-6991\n",
      "Polish 0.01 2020\n",
      "Training complete!\n",
      "Macro F1:  0.541082\n",
      "\n",
      "https://ui.neptune.ai/Hatespeech-CNERG/MH-Bert/e/SAN-6993\n",
      "Polish 0.01 2021\n",
      "Training complete!\n",
      "Macro F1:  0.541082\n",
      "\n",
      "https://ui.neptune.ai/Hatespeech-CNERG/MH-Bert/e/SAN-6995\n",
      "Polish 0.01 2022\n",
      "Training complete!\n",
      "Macro F1:  0.541082\n",
      "\n",
      "https://ui.neptune.ai/Hatespeech-CNERG/MH-Bert/e/SAN-6997\n",
      "Polish 0.1 2018\n",
      "Training complete!\n",
      "Macro F1:  0.563407\n",
      "\n",
      "https://ui.neptune.ai/Hatespeech-CNERG/MH-Bert/e/SAN-6999\n",
      "Polish 0.1 2019\n",
      "Training complete!\n",
      "Macro F1:  0.563407\n",
      "\n",
      "https://ui.neptune.ai/Hatespeech-CNERG/MH-Bert/e/SAN-7001\n",
      "Polish 0.1 2020\n",
      "Training complete!\n",
      "Macro F1:  0.563407\n",
      "\n",
      "https://ui.neptune.ai/Hatespeech-CNERG/MH-Bert/e/SAN-7004\n",
      "Polish 0.1 2021\n",
      "Training complete!\n",
      "Macro F1:  0.563407\n",
      "\n",
      "https://ui.neptune.ai/Hatespeech-CNERG/MH-Bert/e/SAN-7005\n",
      "Polish 0.1 2022\n",
      "Training complete!\n",
      "Macro F1:  0.563407\n",
      "\n",
      "https://ui.neptune.ai/Hatespeech-CNERG/MH-Bert/e/SAN-7007\n"
     ]
    },
    {
     "name": "stderr",
     "output_type": "stream",
     "text": [
      "/home/saketh/anaconda3/lib/python3.7/site-packages/sklearn/linear_model/logistic.py:947: ConvergenceWarning: lbfgs failed to converge. Increase the number of iterations.\n",
      "  \"of iterations.\", ConvergenceWarning)\n"
     ]
    },
    {
     "name": "stdout",
     "output_type": "stream",
     "text": [
      "Polish 1 2018\n",
      "Training complete!\n",
      "Macro F1:  0.582372\n",
      "\n",
      "https://ui.neptune.ai/Hatespeech-CNERG/MH-Bert/e/SAN-7009\n"
     ]
    },
    {
     "name": "stderr",
     "output_type": "stream",
     "text": [
      "/home/saketh/anaconda3/lib/python3.7/site-packages/sklearn/linear_model/logistic.py:947: ConvergenceWarning: lbfgs failed to converge. Increase the number of iterations.\n",
      "  \"of iterations.\", ConvergenceWarning)\n"
     ]
    },
    {
     "name": "stdout",
     "output_type": "stream",
     "text": [
      "Polish 1 2019\n",
      "Training complete!\n",
      "Macro F1:  0.582372\n",
      "\n",
      "https://ui.neptune.ai/Hatespeech-CNERG/MH-Bert/e/SAN-7011\n"
     ]
    },
    {
     "name": "stderr",
     "output_type": "stream",
     "text": [
      "/home/saketh/anaconda3/lib/python3.7/site-packages/sklearn/linear_model/logistic.py:947: ConvergenceWarning: lbfgs failed to converge. Increase the number of iterations.\n",
      "  \"of iterations.\", ConvergenceWarning)\n"
     ]
    },
    {
     "name": "stdout",
     "output_type": "stream",
     "text": [
      "Polish 1 2020\n",
      "Training complete!\n",
      "Macro F1:  0.582372\n",
      "\n",
      "https://ui.neptune.ai/Hatespeech-CNERG/MH-Bert/e/SAN-7013\n"
     ]
    },
    {
     "name": "stderr",
     "output_type": "stream",
     "text": [
      "/home/saketh/anaconda3/lib/python3.7/site-packages/sklearn/linear_model/logistic.py:947: ConvergenceWarning: lbfgs failed to converge. Increase the number of iterations.\n",
      "  \"of iterations.\", ConvergenceWarning)\n"
     ]
    },
    {
     "name": "stdout",
     "output_type": "stream",
     "text": [
      "Polish 1 2021\n",
      "Training complete!\n",
      "Macro F1:  0.582372\n",
      "\n",
      "https://ui.neptune.ai/Hatespeech-CNERG/MH-Bert/e/SAN-7015\n"
     ]
    },
    {
     "name": "stderr",
     "output_type": "stream",
     "text": [
      "/home/saketh/anaconda3/lib/python3.7/site-packages/sklearn/linear_model/logistic.py:947: ConvergenceWarning: lbfgs failed to converge. Increase the number of iterations.\n",
      "  \"of iterations.\", ConvergenceWarning)\n"
     ]
    },
    {
     "name": "stdout",
     "output_type": "stream",
     "text": [
      "Polish 1 2022\n",
      "Training complete!\n",
      "Macro F1:  0.581824\n",
      "\n",
      "https://ui.neptune.ai/Hatespeech-CNERG/MH-Bert/e/SAN-7018\n"
     ]
    },
    {
     "name": "stderr",
     "output_type": "stream",
     "text": [
      "/home/saketh/anaconda3/lib/python3.7/site-packages/sklearn/linear_model/logistic.py:947: ConvergenceWarning: lbfgs failed to converge. Increase the number of iterations.\n",
      "  \"of iterations.\", ConvergenceWarning)\n"
     ]
    },
    {
     "name": "stdout",
     "output_type": "stream",
     "text": [
      "Polish 10 2018\n",
      "Training complete!\n",
      "Macro F1:  0.573254\n",
      "\n",
      "https://ui.neptune.ai/Hatespeech-CNERG/MH-Bert/e/SAN-7020\n"
     ]
    },
    {
     "name": "stderr",
     "output_type": "stream",
     "text": [
      "/home/saketh/anaconda3/lib/python3.7/site-packages/sklearn/linear_model/logistic.py:947: ConvergenceWarning: lbfgs failed to converge. Increase the number of iterations.\n",
      "  \"of iterations.\", ConvergenceWarning)\n"
     ]
    },
    {
     "name": "stdout",
     "output_type": "stream",
     "text": [
      "Polish 10 2019\n",
      "Training complete!\n",
      "Macro F1:  0.573254\n",
      "\n",
      "https://ui.neptune.ai/Hatespeech-CNERG/MH-Bert/e/SAN-7022\n"
     ]
    },
    {
     "name": "stderr",
     "output_type": "stream",
     "text": [
      "/home/saketh/anaconda3/lib/python3.7/site-packages/sklearn/linear_model/logistic.py:947: ConvergenceWarning: lbfgs failed to converge. Increase the number of iterations.\n",
      "  \"of iterations.\", ConvergenceWarning)\n"
     ]
    },
    {
     "name": "stdout",
     "output_type": "stream",
     "text": [
      "Polish 10 2020\n",
      "Training complete!\n",
      "Macro F1:  0.573254\n",
      "\n",
      "https://ui.neptune.ai/Hatespeech-CNERG/MH-Bert/e/SAN-7024\n"
     ]
    },
    {
     "name": "stderr",
     "output_type": "stream",
     "text": [
      "/home/saketh/anaconda3/lib/python3.7/site-packages/sklearn/linear_model/logistic.py:947: ConvergenceWarning: lbfgs failed to converge. Increase the number of iterations.\n",
      "  \"of iterations.\", ConvergenceWarning)\n"
     ]
    },
    {
     "name": "stdout",
     "output_type": "stream",
     "text": [
      "Polish 10 2021\n",
      "Training complete!\n",
      "Macro F1:  0.573254\n",
      "\n",
      "https://ui.neptune.ai/Hatespeech-CNERG/MH-Bert/e/SAN-7026\n"
     ]
    },
    {
     "name": "stderr",
     "output_type": "stream",
     "text": [
      "/home/saketh/anaconda3/lib/python3.7/site-packages/sklearn/linear_model/logistic.py:947: ConvergenceWarning: lbfgs failed to converge. Increase the number of iterations.\n",
      "  \"of iterations.\", ConvergenceWarning)\n"
     ]
    },
    {
     "name": "stdout",
     "output_type": "stream",
     "text": [
      "Polish 10 2022\n",
      "Training complete!\n",
      "Macro F1:  0.573254\n",
      "\n",
      "https://ui.neptune.ai/Hatespeech-CNERG/MH-Bert/e/SAN-7028\n",
      "Portugese 0.01 2018\n",
      "Training complete!\n",
      "Macro F1:  0.657389\n",
      "\n",
      "https://ui.neptune.ai/Hatespeech-CNERG/MH-Bert/e/SAN-7030\n",
      "Portugese 0.01 2019\n",
      "Training complete!\n",
      "Macro F1:  0.657389\n",
      "\n",
      "https://ui.neptune.ai/Hatespeech-CNERG/MH-Bert/e/SAN-7032\n",
      "Portugese 0.01 2020\n",
      "Training complete!\n",
      "Macro F1:  0.657389\n",
      "\n",
      "https://ui.neptune.ai/Hatespeech-CNERG/MH-Bert/e/SAN-7035\n",
      "Portugese 0.01 2021\n",
      "Training complete!\n",
      "Macro F1:  0.657389\n",
      "\n",
      "https://ui.neptune.ai/Hatespeech-CNERG/MH-Bert/e/SAN-7036\n",
      "Portugese 0.01 2022\n",
      "Training complete!\n",
      "Macro F1:  0.657389\n",
      "\n",
      "https://ui.neptune.ai/Hatespeech-CNERG/MH-Bert/e/SAN-7038\n",
      "Portugese 0.1 2018\n",
      "Training complete!\n",
      "Macro F1:  0.663588\n",
      "\n",
      "https://ui.neptune.ai/Hatespeech-CNERG/MH-Bert/e/SAN-7040\n",
      "Portugese 0.1 2019\n",
      "Training complete!\n",
      "Macro F1:  0.663588\n",
      "\n",
      "https://ui.neptune.ai/Hatespeech-CNERG/MH-Bert/e/SAN-7042\n",
      "Portugese 0.1 2020\n",
      "Training complete!\n",
      "Macro F1:  0.663588\n",
      "\n",
      "https://ui.neptune.ai/Hatespeech-CNERG/MH-Bert/e/SAN-7044\n",
      "Portugese 0.1 2021\n",
      "Training complete!\n",
      "Macro F1:  0.663588\n",
      "\n",
      "https://ui.neptune.ai/Hatespeech-CNERG/MH-Bert/e/SAN-7045\n",
      "Portugese 0.1 2022\n",
      "Training complete!\n",
      "Macro F1:  0.663588\n",
      "\n",
      "https://ui.neptune.ai/Hatespeech-CNERG/MH-Bert/e/SAN-7048\n"
     ]
    },
    {
     "name": "stderr",
     "output_type": "stream",
     "text": [
      "/home/saketh/anaconda3/lib/python3.7/site-packages/sklearn/linear_model/logistic.py:947: ConvergenceWarning: lbfgs failed to converge. Increase the number of iterations.\n",
      "  \"of iterations.\", ConvergenceWarning)\n"
     ]
    },
    {
     "name": "stdout",
     "output_type": "stream",
     "text": [
      "Portugese 1 2018\n",
      "Training complete!\n",
      "Macro F1:  0.650772\n",
      "\n",
      "https://ui.neptune.ai/Hatespeech-CNERG/MH-Bert/e/SAN-7049\n"
     ]
    },
    {
     "name": "stderr",
     "output_type": "stream",
     "text": [
      "/home/saketh/anaconda3/lib/python3.7/site-packages/sklearn/linear_model/logistic.py:947: ConvergenceWarning: lbfgs failed to converge. Increase the number of iterations.\n",
      "  \"of iterations.\", ConvergenceWarning)\n"
     ]
    },
    {
     "name": "stdout",
     "output_type": "stream",
     "text": [
      "Portugese 1 2019\n",
      "Training complete!\n",
      "Macro F1:  0.650772\n",
      "\n",
      "https://ui.neptune.ai/Hatespeech-CNERG/MH-Bert/e/SAN-7050\n"
     ]
    },
    {
     "name": "stderr",
     "output_type": "stream",
     "text": [
      "/home/saketh/anaconda3/lib/python3.7/site-packages/sklearn/linear_model/logistic.py:947: ConvergenceWarning: lbfgs failed to converge. Increase the number of iterations.\n",
      "  \"of iterations.\", ConvergenceWarning)\n"
     ]
    },
    {
     "name": "stdout",
     "output_type": "stream",
     "text": [
      "Portugese 1 2020\n",
      "Training complete!\n",
      "Macro F1:  0.650772\n",
      "\n",
      "https://ui.neptune.ai/Hatespeech-CNERG/MH-Bert/e/SAN-7051\n"
     ]
    },
    {
     "name": "stderr",
     "output_type": "stream",
     "text": [
      "/home/saketh/anaconda3/lib/python3.7/site-packages/sklearn/linear_model/logistic.py:947: ConvergenceWarning: lbfgs failed to converge. Increase the number of iterations.\n",
      "  \"of iterations.\", ConvergenceWarning)\n"
     ]
    },
    {
     "name": "stdout",
     "output_type": "stream",
     "text": [
      "Portugese 1 2021\n",
      "Training complete!\n",
      "Macro F1:  0.650772\n",
      "\n",
      "https://ui.neptune.ai/Hatespeech-CNERG/MH-Bert/e/SAN-7052\n"
     ]
    },
    {
     "name": "stderr",
     "output_type": "stream",
     "text": [
      "/home/saketh/anaconda3/lib/python3.7/site-packages/sklearn/linear_model/logistic.py:947: ConvergenceWarning: lbfgs failed to converge. Increase the number of iterations.\n",
      "  \"of iterations.\", ConvergenceWarning)\n"
     ]
    },
    {
     "name": "stdout",
     "output_type": "stream",
     "text": [
      "Portugese 1 2022\n",
      "Training complete!\n",
      "Macro F1:  0.650772\n",
      "\n",
      "https://ui.neptune.ai/Hatespeech-CNERG/MH-Bert/e/SAN-7053\n"
     ]
    },
    {
     "name": "stderr",
     "output_type": "stream",
     "text": [
      "/home/saketh/anaconda3/lib/python3.7/site-packages/sklearn/linear_model/logistic.py:947: ConvergenceWarning: lbfgs failed to converge. Increase the number of iterations.\n",
      "  \"of iterations.\", ConvergenceWarning)\n"
     ]
    },
    {
     "name": "stdout",
     "output_type": "stream",
     "text": [
      "Portugese 10 2018\n",
      "Training complete!\n",
      "Macro F1:  0.654767\n",
      "\n",
      "https://ui.neptune.ai/Hatespeech-CNERG/MH-Bert/e/SAN-7054\n"
     ]
    },
    {
     "name": "stderr",
     "output_type": "stream",
     "text": [
      "/home/saketh/anaconda3/lib/python3.7/site-packages/sklearn/linear_model/logistic.py:947: ConvergenceWarning: lbfgs failed to converge. Increase the number of iterations.\n",
      "  \"of iterations.\", ConvergenceWarning)\n"
     ]
    },
    {
     "name": "stdout",
     "output_type": "stream",
     "text": [
      "Portugese 10 2019\n",
      "Training complete!\n",
      "Macro F1:  0.654767\n",
      "\n",
      "https://ui.neptune.ai/Hatespeech-CNERG/MH-Bert/e/SAN-7056\n"
     ]
    },
    {
     "name": "stderr",
     "output_type": "stream",
     "text": [
      "/home/saketh/anaconda3/lib/python3.7/site-packages/sklearn/linear_model/logistic.py:947: ConvergenceWarning: lbfgs failed to converge. Increase the number of iterations.\n",
      "  \"of iterations.\", ConvergenceWarning)\n"
     ]
    },
    {
     "name": "stdout",
     "output_type": "stream",
     "text": [
      "Portugese 10 2020\n",
      "Training complete!\n",
      "Macro F1:  0.654767\n",
      "\n",
      "https://ui.neptune.ai/Hatespeech-CNERG/MH-Bert/e/SAN-7057\n"
     ]
    },
    {
     "name": "stderr",
     "output_type": "stream",
     "text": [
      "/home/saketh/anaconda3/lib/python3.7/site-packages/sklearn/linear_model/logistic.py:947: ConvergenceWarning: lbfgs failed to converge. Increase the number of iterations.\n",
      "  \"of iterations.\", ConvergenceWarning)\n"
     ]
    },
    {
     "name": "stdout",
     "output_type": "stream",
     "text": [
      "Portugese 10 2021\n",
      "Training complete!\n",
      "Macro F1:  0.654767\n",
      "\n",
      "https://ui.neptune.ai/Hatespeech-CNERG/MH-Bert/e/SAN-7058\n"
     ]
    },
    {
     "name": "stderr",
     "output_type": "stream",
     "text": [
      "/home/saketh/anaconda3/lib/python3.7/site-packages/sklearn/linear_model/logistic.py:947: ConvergenceWarning: lbfgs failed to converge. Increase the number of iterations.\n",
      "  \"of iterations.\", ConvergenceWarning)\n"
     ]
    },
    {
     "name": "stdout",
     "output_type": "stream",
     "text": [
      "Portugese 10 2022\n",
      "Training complete!\n",
      "Macro F1:  0.654767\n",
      "\n",
      "https://ui.neptune.ai/Hatespeech-CNERG/MH-Bert/e/SAN-7059\n",
      "Spanish 0.01 2018\n",
      "Training complete!\n",
      "Macro F1:  0.526491\n",
      "\n",
      "https://ui.neptune.ai/Hatespeech-CNERG/MH-Bert/e/SAN-7060\n",
      "Spanish 0.01 2019\n",
      "Training complete!\n",
      "Macro F1:  0.526491\n",
      "\n",
      "https://ui.neptune.ai/Hatespeech-CNERG/MH-Bert/e/SAN-7061\n",
      "Spanish 0.01 2020\n",
      "Training complete!\n",
      "Macro F1:  0.526491\n",
      "\n",
      "https://ui.neptune.ai/Hatespeech-CNERG/MH-Bert/e/SAN-7062\n",
      "Spanish 0.01 2021\n",
      "Training complete!\n",
      "Macro F1:  0.526491\n",
      "\n",
      "https://ui.neptune.ai/Hatespeech-CNERG/MH-Bert/e/SAN-7063\n",
      "Spanish 0.01 2022\n",
      "Training complete!\n",
      "Macro F1:  0.526491\n",
      "\n",
      "https://ui.neptune.ai/Hatespeech-CNERG/MH-Bert/e/SAN-7065\n",
      "Spanish 0.1 2018\n",
      "Training complete!\n",
      "Macro F1:  0.556924\n",
      "\n",
      "https://ui.neptune.ai/Hatespeech-CNERG/MH-Bert/e/SAN-7066\n",
      "Spanish 0.1 2019\n",
      "Training complete!\n",
      "Macro F1:  0.556924\n",
      "\n",
      "https://ui.neptune.ai/Hatespeech-CNERG/MH-Bert/e/SAN-7067\n",
      "Spanish 0.1 2020\n",
      "Training complete!\n",
      "Macro F1:  0.556924\n",
      "\n",
      "https://ui.neptune.ai/Hatespeech-CNERG/MH-Bert/e/SAN-7068\n",
      "Spanish 0.1 2021\n",
      "Training complete!\n",
      "Macro F1:  0.556924\n",
      "\n",
      "https://ui.neptune.ai/Hatespeech-CNERG/MH-Bert/e/SAN-7069\n",
      "Spanish 0.1 2022\n",
      "Training complete!\n",
      "Macro F1:  0.556924\n",
      "\n",
      "https://ui.neptune.ai/Hatespeech-CNERG/MH-Bert/e/SAN-7070\n"
     ]
    },
    {
     "name": "stderr",
     "output_type": "stream",
     "text": [
      "/home/saketh/anaconda3/lib/python3.7/site-packages/sklearn/linear_model/logistic.py:947: ConvergenceWarning: lbfgs failed to converge. Increase the number of iterations.\n",
      "  \"of iterations.\", ConvergenceWarning)\n"
     ]
    },
    {
     "name": "stdout",
     "output_type": "stream",
     "text": [
      "Spanish 1 2018\n",
      "Training complete!\n",
      "Macro F1:  0.567520\n",
      "\n",
      "https://ui.neptune.ai/Hatespeech-CNERG/MH-Bert/e/SAN-7071\n"
     ]
    },
    {
     "name": "stderr",
     "output_type": "stream",
     "text": [
      "/home/saketh/anaconda3/lib/python3.7/site-packages/sklearn/linear_model/logistic.py:947: ConvergenceWarning: lbfgs failed to converge. Increase the number of iterations.\n",
      "  \"of iterations.\", ConvergenceWarning)\n"
     ]
    },
    {
     "name": "stdout",
     "output_type": "stream",
     "text": [
      "Spanish 1 2019\n",
      "Training complete!\n",
      "Macro F1:  0.567520\n",
      "\n",
      "https://ui.neptune.ai/Hatespeech-CNERG/MH-Bert/e/SAN-7073\n"
     ]
    },
    {
     "name": "stderr",
     "output_type": "stream",
     "text": [
      "/home/saketh/anaconda3/lib/python3.7/site-packages/sklearn/linear_model/logistic.py:947: ConvergenceWarning: lbfgs failed to converge. Increase the number of iterations.\n",
      "  \"of iterations.\", ConvergenceWarning)\n"
     ]
    },
    {
     "name": "stdout",
     "output_type": "stream",
     "text": [
      "Spanish 1 2020\n",
      "Training complete!\n",
      "Macro F1:  0.567520\n",
      "\n",
      "https://ui.neptune.ai/Hatespeech-CNERG/MH-Bert/e/SAN-7074\n"
     ]
    },
    {
     "name": "stderr",
     "output_type": "stream",
     "text": [
      "/home/saketh/anaconda3/lib/python3.7/site-packages/sklearn/linear_model/logistic.py:947: ConvergenceWarning: lbfgs failed to converge. Increase the number of iterations.\n",
      "  \"of iterations.\", ConvergenceWarning)\n"
     ]
    },
    {
     "name": "stdout",
     "output_type": "stream",
     "text": [
      "Spanish 1 2021\n",
      "Training complete!\n",
      "Macro F1:  0.567520\n",
      "\n",
      "https://ui.neptune.ai/Hatespeech-CNERG/MH-Bert/e/SAN-7075\n"
     ]
    },
    {
     "name": "stderr",
     "output_type": "stream",
     "text": [
      "/home/saketh/anaconda3/lib/python3.7/site-packages/sklearn/linear_model/logistic.py:947: ConvergenceWarning: lbfgs failed to converge. Increase the number of iterations.\n",
      "  \"of iterations.\", ConvergenceWarning)\n"
     ]
    },
    {
     "name": "stdout",
     "output_type": "stream",
     "text": [
      "Spanish 1 2022\n",
      "Training complete!\n",
      "Macro F1:  0.567078\n",
      "\n",
      "https://ui.neptune.ai/Hatespeech-CNERG/MH-Bert/e/SAN-7076\n"
     ]
    },
    {
     "name": "stderr",
     "output_type": "stream",
     "text": [
      "/home/saketh/anaconda3/lib/python3.7/site-packages/sklearn/linear_model/logistic.py:947: ConvergenceWarning: lbfgs failed to converge. Increase the number of iterations.\n",
      "  \"of iterations.\", ConvergenceWarning)\n"
     ]
    },
    {
     "name": "stdout",
     "output_type": "stream",
     "text": [
      "Spanish 10 2018\n",
      "Training complete!\n",
      "Macro F1:  0.574107\n",
      "\n",
      "https://ui.neptune.ai/Hatespeech-CNERG/MH-Bert/e/SAN-7077\n"
     ]
    },
    {
     "name": "stderr",
     "output_type": "stream",
     "text": [
      "/home/saketh/anaconda3/lib/python3.7/site-packages/sklearn/linear_model/logistic.py:947: ConvergenceWarning: lbfgs failed to converge. Increase the number of iterations.\n",
      "  \"of iterations.\", ConvergenceWarning)\n"
     ]
    },
    {
     "name": "stdout",
     "output_type": "stream",
     "text": [
      "Spanish 10 2019\n",
      "Training complete!\n",
      "Macro F1:  0.574107\n",
      "\n",
      "https://ui.neptune.ai/Hatespeech-CNERG/MH-Bert/e/SAN-7078\n"
     ]
    },
    {
     "name": "stderr",
     "output_type": "stream",
     "text": [
      "/home/saketh/anaconda3/lib/python3.7/site-packages/sklearn/linear_model/logistic.py:947: ConvergenceWarning: lbfgs failed to converge. Increase the number of iterations.\n",
      "  \"of iterations.\", ConvergenceWarning)\n"
     ]
    },
    {
     "name": "stdout",
     "output_type": "stream",
     "text": [
      "Spanish 10 2020\n",
      "Training complete!\n",
      "Macro F1:  0.574107\n",
      "\n",
      "https://ui.neptune.ai/Hatespeech-CNERG/MH-Bert/e/SAN-7079\n"
     ]
    },
    {
     "name": "stderr",
     "output_type": "stream",
     "text": [
      "/home/saketh/anaconda3/lib/python3.7/site-packages/sklearn/linear_model/logistic.py:947: ConvergenceWarning: lbfgs failed to converge. Increase the number of iterations.\n",
      "  \"of iterations.\", ConvergenceWarning)\n"
     ]
    },
    {
     "name": "stdout",
     "output_type": "stream",
     "text": [
      "Spanish 10 2021\n",
      "Training complete!\n",
      "Macro F1:  0.574107\n",
      "\n",
      "https://ui.neptune.ai/Hatespeech-CNERG/MH-Bert/e/SAN-7081\n"
     ]
    },
    {
     "name": "stderr",
     "output_type": "stream",
     "text": [
      "/home/saketh/anaconda3/lib/python3.7/site-packages/sklearn/linear_model/logistic.py:947: ConvergenceWarning: lbfgs failed to converge. Increase the number of iterations.\n",
      "  \"of iterations.\", ConvergenceWarning)\n"
     ]
    },
    {
     "name": "stdout",
     "output_type": "stream",
     "text": [
      "Spanish 10 2022\n",
      "Training complete!\n",
      "Macro F1:  0.574107\n",
      "\n",
      "https://ui.neptune.ai/Hatespeech-CNERG/MH-Bert/e/SAN-7082\n",
      "French 0.01 2018\n",
      "Training complete!\n",
      "Macro F1:  0.419714\n",
      "\n",
      "https://ui.neptune.ai/Hatespeech-CNERG/MH-Bert/e/SAN-7083\n",
      "French 0.01 2019\n",
      "Training complete!\n",
      "Macro F1:  0.419714\n",
      "\n",
      "https://ui.neptune.ai/Hatespeech-CNERG/MH-Bert/e/SAN-7084\n",
      "French 0.01 2020\n",
      "Training complete!\n",
      "Macro F1:  0.419714\n",
      "\n",
      "https://ui.neptune.ai/Hatespeech-CNERG/MH-Bert/e/SAN-7085\n",
      "French 0.01 2021\n",
      "Training complete!\n",
      "Macro F1:  0.419714\n",
      "\n",
      "https://ui.neptune.ai/Hatespeech-CNERG/MH-Bert/e/SAN-7086\n",
      "French 0.01 2022\n",
      "Training complete!\n",
      "Macro F1:  0.419714\n",
      "\n",
      "https://ui.neptune.ai/Hatespeech-CNERG/MH-Bert/e/SAN-7087\n",
      "French 0.1 2018\n",
      "Training complete!\n",
      "Macro F1:  0.434068\n",
      "\n",
      "https://ui.neptune.ai/Hatespeech-CNERG/MH-Bert/e/SAN-7088\n",
      "French 0.1 2019\n",
      "Training complete!\n",
      "Macro F1:  0.434068\n",
      "\n",
      "https://ui.neptune.ai/Hatespeech-CNERG/MH-Bert/e/SAN-7090\n",
      "French 0.1 2020\n",
      "Training complete!\n",
      "Macro F1:  0.434068\n",
      "\n",
      "https://ui.neptune.ai/Hatespeech-CNERG/MH-Bert/e/SAN-7091\n",
      "French 0.1 2021\n",
      "Training complete!\n",
      "Macro F1:  0.434068\n",
      "\n",
      "https://ui.neptune.ai/Hatespeech-CNERG/MH-Bert/e/SAN-7092\n",
      "French 0.1 2022\n",
      "Training complete!\n",
      "Macro F1:  0.434068\n",
      "\n",
      "https://ui.neptune.ai/Hatespeech-CNERG/MH-Bert/e/SAN-7093\n"
     ]
    },
    {
     "name": "stderr",
     "output_type": "stream",
     "text": [
      "/home/saketh/anaconda3/lib/python3.7/site-packages/sklearn/linear_model/logistic.py:947: ConvergenceWarning: lbfgs failed to converge. Increase the number of iterations.\n",
      "  \"of iterations.\", ConvergenceWarning)\n"
     ]
    },
    {
     "name": "stdout",
     "output_type": "stream",
     "text": [
      "French 1 2018\n",
      "Training complete!\n",
      "Macro F1:  0.435185\n",
      "\n",
      "https://ui.neptune.ai/Hatespeech-CNERG/MH-Bert/e/SAN-7094\n"
     ]
    },
    {
     "name": "stderr",
     "output_type": "stream",
     "text": [
      "/home/saketh/anaconda3/lib/python3.7/site-packages/sklearn/linear_model/logistic.py:947: ConvergenceWarning: lbfgs failed to converge. Increase the number of iterations.\n",
      "  \"of iterations.\", ConvergenceWarning)\n"
     ]
    },
    {
     "name": "stdout",
     "output_type": "stream",
     "text": [
      "French 1 2019\n",
      "Training complete!\n",
      "Macro F1:  0.435185\n",
      "\n",
      "https://ui.neptune.ai/Hatespeech-CNERG/MH-Bert/e/SAN-7095\n"
     ]
    },
    {
     "name": "stderr",
     "output_type": "stream",
     "text": [
      "/home/saketh/anaconda3/lib/python3.7/site-packages/sklearn/linear_model/logistic.py:947: ConvergenceWarning: lbfgs failed to converge. Increase the number of iterations.\n",
      "  \"of iterations.\", ConvergenceWarning)\n"
     ]
    },
    {
     "name": "stdout",
     "output_type": "stream",
     "text": [
      "French 1 2020\n",
      "Training complete!\n",
      "Macro F1:  0.435185\n",
      "\n",
      "https://ui.neptune.ai/Hatespeech-CNERG/MH-Bert/e/SAN-7096\n"
     ]
    },
    {
     "name": "stderr",
     "output_type": "stream",
     "text": [
      "/home/saketh/anaconda3/lib/python3.7/site-packages/sklearn/linear_model/logistic.py:947: ConvergenceWarning: lbfgs failed to converge. Increase the number of iterations.\n",
      "  \"of iterations.\", ConvergenceWarning)\n"
     ]
    },
    {
     "name": "stdout",
     "output_type": "stream",
     "text": [
      "French 1 2021\n",
      "Training complete!\n",
      "Macro F1:  0.435185\n",
      "\n",
      "https://ui.neptune.ai/Hatespeech-CNERG/MH-Bert/e/SAN-7097\n"
     ]
    },
    {
     "name": "stderr",
     "output_type": "stream",
     "text": [
      "/home/saketh/anaconda3/lib/python3.7/site-packages/sklearn/linear_model/logistic.py:947: ConvergenceWarning: lbfgs failed to converge. Increase the number of iterations.\n",
      "  \"of iterations.\", ConvergenceWarning)\n"
     ]
    },
    {
     "name": "stdout",
     "output_type": "stream",
     "text": [
      "French 1 2022\n",
      "Training complete!\n",
      "Macro F1:  0.435185\n",
      "\n",
      "https://ui.neptune.ai/Hatespeech-CNERG/MH-Bert/e/SAN-7099\n"
     ]
    },
    {
     "name": "stderr",
     "output_type": "stream",
     "text": [
      "/home/saketh/anaconda3/lib/python3.7/site-packages/sklearn/linear_model/logistic.py:947: ConvergenceWarning: lbfgs failed to converge. Increase the number of iterations.\n",
      "  \"of iterations.\", ConvergenceWarning)\n"
     ]
    },
    {
     "name": "stdout",
     "output_type": "stream",
     "text": [
      "French 10 2018\n",
      "Training complete!\n",
      "Macro F1:  0.445455\n",
      "\n",
      "https://ui.neptune.ai/Hatespeech-CNERG/MH-Bert/e/SAN-7100\n"
     ]
    },
    {
     "name": "stderr",
     "output_type": "stream",
     "text": [
      "/home/saketh/anaconda3/lib/python3.7/site-packages/sklearn/linear_model/logistic.py:947: ConvergenceWarning: lbfgs failed to converge. Increase the number of iterations.\n",
      "  \"of iterations.\", ConvergenceWarning)\n"
     ]
    },
    {
     "name": "stdout",
     "output_type": "stream",
     "text": [
      "French 10 2019\n",
      "Training complete!\n",
      "Macro F1:  0.445455\n",
      "\n",
      "https://ui.neptune.ai/Hatespeech-CNERG/MH-Bert/e/SAN-7101\n"
     ]
    },
    {
     "name": "stderr",
     "output_type": "stream",
     "text": [
      "/home/saketh/anaconda3/lib/python3.7/site-packages/sklearn/linear_model/logistic.py:947: ConvergenceWarning: lbfgs failed to converge. Increase the number of iterations.\n",
      "  \"of iterations.\", ConvergenceWarning)\n"
     ]
    },
    {
     "name": "stdout",
     "output_type": "stream",
     "text": [
      "French 10 2020\n",
      "Training complete!\n",
      "Macro F1:  0.445455\n",
      "\n",
      "https://ui.neptune.ai/Hatespeech-CNERG/MH-Bert/e/SAN-7102\n"
     ]
    },
    {
     "name": "stderr",
     "output_type": "stream",
     "text": [
      "/home/saketh/anaconda3/lib/python3.7/site-packages/sklearn/linear_model/logistic.py:947: ConvergenceWarning: lbfgs failed to converge. Increase the number of iterations.\n",
      "  \"of iterations.\", ConvergenceWarning)\n"
     ]
    },
    {
     "name": "stdout",
     "output_type": "stream",
     "text": [
      "French 10 2021\n",
      "Training complete!\n",
      "Macro F1:  0.445455\n",
      "\n",
      "https://ui.neptune.ai/Hatespeech-CNERG/MH-Bert/e/SAN-7103\n"
     ]
    },
    {
     "name": "stderr",
     "output_type": "stream",
     "text": [
      "/home/saketh/anaconda3/lib/python3.7/site-packages/sklearn/linear_model/logistic.py:947: ConvergenceWarning: lbfgs failed to converge. Increase the number of iterations.\n",
      "  \"of iterations.\", ConvergenceWarning)\n"
     ]
    },
    {
     "name": "stdout",
     "output_type": "stream",
     "text": [
      "French 10 2022\n",
      "Training complete!\n",
      "Macro F1:  0.445455\n",
      "\n"
     ]
    }
   ],
   "source": [
    "# Run the above function for all languages, and 4 chosen c values, for 5 seed values each.\n",
    "for lang in langs:\n",
    "    for c in [0.01,0.1,1,10]:\n",
    "        for seed in [2018,2019,2020,2021,2022]:\n",
    "            np.random.seed(seed)\n",
    "            train_and_test_all(lang,c,seed)"
   ]
  }
 ],
 "metadata": {
  "kernelspec": {
   "display_name": "Python 3",
   "language": "python",
   "name": "python3"
  },
  "language_info": {
   "codemirror_mode": {
    "name": "ipython",
    "version": 3
   },
   "file_extension": ".py",
   "mimetype": "text/x-python",
   "name": "python",
   "nbconvert_exporter": "python",
   "pygments_lexer": "ipython3",
   "version": "3.7.3"
  }
 },
 "nbformat": 4,
 "nbformat_minor": 2
}
