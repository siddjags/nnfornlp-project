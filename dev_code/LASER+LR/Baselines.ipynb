{
 "cells": [
  {
   "cell_type": "code",
   "execution_count": 8,
   "metadata": {},
   "outputs": [],
   "source": [
    "# Necessary imports\n",
    "import pandas as pd\n",
    "import numpy as np\n",
    "from sklearn.linear_model import LogisticRegression\n",
    "from sklearn.ensemble import RandomForestClassifier\n",
    "from sklearn.metrics import accuracy_score, f1_score,confusion_matrix\n",
    "from sklearn.model_selection import StratifiedShuffleSplit, train_test_split\n",
    "import os\n",
    "import neptune"
   ]
  },
  {
   "cell_type": "code",
   "execution_count": 9,
   "metadata": {},
   "outputs": [],
   "source": [
    "# Variables needed for neptune.\n",
    "proxies = {\n",
    " \"http\": \"http://172.16.2.30:8080\",\n",
    " \"https\": \"http://172.16.2.30:8080\",\n",
    "}\n",
    "\n",
    "project_name='Hatespeech-CNERG/MH-Bert'\n",
    "api_token = 'Api token hidden for security purposes'\n"
   ]
  },
  {
   "cell_type": "code",
   "execution_count": 10,
   "metadata": {},
   "outputs": [
    {
     "name": "stderr",
     "output_type": "stream",
     "text": [
      "WARNING: It is not secure to place API token in your source code. You should treat it as a password to your account. It is strongly recommended to use NEPTUNE_API_TOKEN environment variable instead. Remember not to upload source file with API token to any public repository.\n"
     ]
    },
    {
     "data": {
      "text/plain": [
       "Project(Hatespeech-CNERG/MH-Bert)"
      ]
     },
     "execution_count": 10,
     "metadata": {},
     "output_type": "execute_result"
    }
   ],
   "source": [
    "# Initialize neptune for logging metrics\n",
    "neptune.init(project_name,api_token=api_token,proxies=proxies)\n",
    "neptune.set_project(project_name)"
   ]
  },
  {
   "cell_type": "code",
   "execution_count": 11,
   "metadata": {},
   "outputs": [],
   "source": [
    "# LASER embeddings for each data point are 1024 dimensional, with the ith value stored as ith column in the \n",
    "# csv file\n",
    "cols = [str(i) for i in range(1024)]"
   ]
  },
  {
   "cell_type": "code",
   "execution_count": 12,
   "metadata": {},
   "outputs": [],
   "source": [
    "# The languages on which we are running the baseline experiment.\n",
    "langs = ['Arabic','English','German','Indonesian','Italian','Polish','Portugese','Spanish','French']"
   ]
  },
  {
   "cell_type": "code",
   "execution_count": 13,
   "metadata": {},
   "outputs": [],
   "source": [
    "#Function to run baseline on sampled dataset\n",
    "# Parameters: \n",
    "#   lang - language to train and test on\n",
    "#   sample - sample_ratio\n",
    "#   c - a hyperparameter for the logistic regression model. \n",
    "#       Refer to sklearn logistic regression docs (https://scikit-learn.org/stable/modules/generated/sklearn.linear_model.LogisticRegression.html)\n",
    "#       for explanation of this value\n",
    "#   samp_type - the way in which data points are sampled from the training data - stratified in our case\n",
    "#   seed_val - for setting the random seed value for reproducibility.\n",
    "\n",
    "def train_and_test_baseline(lang,sample,c=1,samp_type='stratified',seed_val=2018):\n",
    "    # Define the parameters of the experiment and create a neptune experiment with these parameters\n",
    "    params = {}\n",
    "    params['how_train'] = 'baseline'\n",
    "    params['random_seed'] = seed_val\n",
    "    params['sample_ratio'] = sample\n",
    "    params['lang'] = lang\n",
    "    params['samp_strategy'] = samp_type\n",
    "    params['C'] = c\n",
    "    name_one = lang+'_'+str(sample)+'_'+samp_type+'_'+str(seed_val)\n",
    "    neptune.create_experiment(name_one,params=params,send_hardware_metrics=False,run_monitoring_thread=False)\n",
    "    neptune.append_tag('LR one vs one baseline')\n",
    "    neptune.append_tag(lang)\n",
    "    neptune.append_tag('only_hate')\n",
    "    neptune.append_tag(samp_type)\n",
    "    # Load training dataset and split the embeddings and labels\n",
    "    train=pd.read_csv(os.path.join('../Dataset/embedded/train',lang+'.csv'))\n",
    "    train_x = train[cols]\n",
    "    train_y = train['label']\n",
    "    # If sample is needed, take the sample based on the strategy used.\n",
    "    if samp_type=='equal':\n",
    "        if sample==0.5:\n",
    "            sample = int(len(train)/2)\n",
    "        train_ = train.groupby('label',group_keys=False).apply(lambda x: x.sample(int(sample/2),random_state=seed_val).sample(frac=1,random_state=seed_val).reset_index(drop=True))\n",
    "        train_x = train_[cols]\n",
    "        train_y = train_['label']\n",
    "    elif samp_type=='stratified':\n",
    "        sss = StratifiedShuffleSplit(n_splits=1,test_size=sample,random_state=seed_val)\n",
    "        a = list(sss.split(train_x,train_y))\n",
    "        train_x = train_x.iloc[a[0][1],:]\n",
    "        train_y = pd.DataFrame(train_y).iloc[a[0][1],:]\n",
    "    # Read the test and validation data\n",
    "    test = pd.read_csv(os.path.join('../Dataset/embedded/test',lang+'.csv'))\n",
    "    test_x = test[cols]\n",
    "    test_y = test['label']\n",
    "    val = pd.read_csv(os.path.join('../Dataset/embedded/val',lang+'.csv'))\n",
    "    val_x = val[cols]\n",
    "    val_y = val['label']\n",
    "    print(lang,c,sample,samp_type)\n",
    "    # Initialize a logistic regression model. The class weights are taken as balanced to account for data imbalance\n",
    "    model = LogisticRegression(C=c,solver='lbfgs',class_weight='balanced',random_state=seed_val)\n",
    "    # Train the model on the dataset\n",
    "    model.fit(train_x,train_y)\n",
    "    print('Training complete!')\n",
    "    # Get the predictions for the val and test sets\n",
    "    pred = model.predict(test_x)\n",
    "    fscore = f1_score(test_y,pred,average='macro')\n",
    "    accuracy = accuracy_score(test_y,pred)\n",
    "    pred_val = model.predict(val_x)\n",
    "    val_fscore = f1_score(val_y,pred_val,average='macro')\n",
    "    val_accuracy = accuracy_score(val_y,pred_val)\n",
    "    print(\"Macro F1: \",'{0:.6f}'.format(f1_score(test_y,pred,average='macro')))\n",
    "    print('')\n",
    "    # Log the metrics accuracy and macro f1 score in neptune.\n",
    "    neptune.log_metric('val_fscore',val_fscore)\n",
    "    neptune.log_metric('val_acc',val_accuracy)\n",
    "    neptune.log_metric('test_fscore',fscore)\n",
    "    neptune.log_metric('test_accuracy',accuracy)\n",
    "    neptune.stop()\n",
    "    return fscore\n",
    "        "
   ]
  },
  {
   "cell_type": "code",
   "execution_count": 14,
   "metadata": {
    "collapsed": true
   },
   "outputs": [
    {
     "name": "stdout",
     "output_type": "stream",
     "text": [
      "https://ui.neptune.ai/Hatespeech-CNERG/MH-Bert/e/SAN-8012\n",
      "French 10 16 stratified\n"
     ]
    },
    {
     "name": "stderr",
     "output_type": "stream",
     "text": [
      "/home/saketh/anaconda3/lib/python3.7/site-packages/sklearn/utils/validation.py:724: DataConversionWarning: A column-vector y was passed when a 1d array was expected. Please change the shape of y to (n_samples, ), for example using ravel().\n",
      "  y = column_or_1d(y, warn=True)\n"
     ]
    },
    {
     "name": "stdout",
     "output_type": "stream",
     "text": [
      "Training complete!\n",
      "Macro F1:  0.504216\n",
      "\n",
      "https://ui.neptune.ai/Hatespeech-CNERG/MH-Bert/e/SAN-8014\n",
      "French 10 16 stratified\n",
      "Training complete!\n",
      "Macro F1:  0.533393\n",
      "\n"
     ]
    },
    {
     "name": "stderr",
     "output_type": "stream",
     "text": [
      "/home/saketh/anaconda3/lib/python3.7/site-packages/sklearn/utils/validation.py:724: DataConversionWarning: A column-vector y was passed when a 1d array was expected. Please change the shape of y to (n_samples, ), for example using ravel().\n",
      "  y = column_or_1d(y, warn=True)\n"
     ]
    },
    {
     "name": "stdout",
     "output_type": "stream",
     "text": [
      "https://ui.neptune.ai/Hatespeech-CNERG/MH-Bert/e/SAN-8015\n",
      "French 10 16 stratified\n",
      "Training complete!\n",
      "Macro F1:  0.522182\n",
      "\n"
     ]
    },
    {
     "name": "stderr",
     "output_type": "stream",
     "text": [
      "/home/saketh/anaconda3/lib/python3.7/site-packages/sklearn/utils/validation.py:724: DataConversionWarning: A column-vector y was passed when a 1d array was expected. Please change the shape of y to (n_samples, ), for example using ravel().\n",
      "  y = column_or_1d(y, warn=True)\n"
     ]
    },
    {
     "name": "stdout",
     "output_type": "stream",
     "text": [
      "https://ui.neptune.ai/Hatespeech-CNERG/MH-Bert/e/SAN-8016\n",
      "French 10 16 stratified\n",
      "Training complete!\n",
      "Macro F1:  0.535655\n",
      "\n"
     ]
    },
    {
     "name": "stderr",
     "output_type": "stream",
     "text": [
      "/home/saketh/anaconda3/lib/python3.7/site-packages/sklearn/utils/validation.py:724: DataConversionWarning: A column-vector y was passed when a 1d array was expected. Please change the shape of y to (n_samples, ), for example using ravel().\n",
      "  y = column_or_1d(y, warn=True)\n"
     ]
    },
    {
     "name": "stdout",
     "output_type": "stream",
     "text": [
      "https://ui.neptune.ai/Hatespeech-CNERG/MH-Bert/e/SAN-8018\n",
      "French 10 16 stratified\n",
      "Training complete!\n",
      "Macro F1:  0.493741\n",
      "\n"
     ]
    },
    {
     "name": "stderr",
     "output_type": "stream",
     "text": [
      "/home/saketh/anaconda3/lib/python3.7/site-packages/sklearn/utils/validation.py:724: DataConversionWarning: A column-vector y was passed when a 1d array was expected. Please change the shape of y to (n_samples, ), for example using ravel().\n",
      "  y = column_or_1d(y, warn=True)\n"
     ]
    }
   ],
   "source": [
    "# Run the above function for all languages, and 4 chosen c values, for 5 seed values each.\n",
    "for lang in ['Arabic','German','Indonesian','Italian','Polish','Portugese','Spanish','French']:\n",
    "    for c in [0.01,0.1,1,10]:\n",
    "        for samp in [16,32,64,128,256]:\n",
    "            for ty in ['stratified']:\n",
    "                for seeds in [2018,2019,2020,2021,2022]:\n",
    "                    seed_val = seeds\n",
    "                    np.random.seed(seed_val)\n",
    "                    train_and_test_baseline(lang,samp,c,ty,seed_val)"
   ]
  },
  {
   "cell_type": "code",
   "execution_count": 6,
   "metadata": {},
   "outputs": [],
   "source": [
    "# Function to run baseline on 100% training dataset. \n",
    "def train_test_full(lang,c,seed_val):\n",
    "    # Define the parameters of the experiment and create a neptune experiment with these parameters\n",
    "    params = {}\n",
    "    params['how_train'] = 'baseline'\n",
    "    params['lang'] = lang\n",
    "    params['sample_ratio'] = 100\n",
    "    params['random_seed'] = seed_val\n",
    "    params['C'] = c\n",
    "    name_one= lang+'_'+'baseline'+'_100_'+str(seed_val)\n",
    "    neptune.create_experiment(name_one,params=params,send_hardware_metrics=False,run_monitoring_thread=False)\n",
    "    neptune.append_tag('LR one vs one baseline')\n",
    "    neptune.append_tag(lang)\n",
    "    neptune.append_tag('only_hate')\n",
    "    # Load training dataset and split the embeddings and labels\n",
    "    train = pd.read_csv(os.path.join('../Dataset/embedded/train',lang+'.csv'))\n",
    "    train = train.sample(frac=1,random_state=seed_val).reset_index(drop=True)\n",
    "    train_x = train[cols]\n",
    "    train_y = train['label']\n",
    "    # Initialize a logistic regression model. The class weights are taken as balanced to account for data imbalance\n",
    "    model = LogisticRegression(C=c,solver='lbfgs',class_weight='balanced',random_state=seed_val)\n",
    "    # Train the model on the dataset\n",
    "    model.fit(train_x,train_y)\n",
    "    # Read the test and validation datasets\n",
    "    val = pd.read_csv(os.path.join('../Dataset/embedded/val',lang+'.csv'))\n",
    "    val_x = val[cols]\n",
    "    val_y = val['label']\n",
    "    test = pd.read_csv(os.path.join('../Dataset/embedded/test',lang+'.csv'))\n",
    "    test_x = test[cols]\n",
    "    test_y = test['label']\n",
    "    print(lang,c,seed_val)\n",
    "    print('Training complete!')\n",
    "    # Get the predictions for the val and test sets\n",
    "    pred = model.predict(test_x)\n",
    "    fscore = f1_score(test_y,pred,average='macro')\n",
    "    accuracy = accuracy_score(test_y,pred)\n",
    "    pred_val = model.predict(val_x)\n",
    "    val_fscore = f1_score(val_y,pred_val,average='macro')\n",
    "    val_accuracy = accuracy_score(val_y,pred_val)\n",
    "    print(\"Macro F1: \",'{0:.6f}'.format(f1_score(test_y,pred,average='macro')))\n",
    "    print('')\n",
    "    # Log the metrics accuracy and macro f1 score in neptune.\n",
    "    neptune.log_metric('val_fscore',val_fscore)\n",
    "    neptune.log_metric('val_acc',val_accuracy)\n",
    "    neptune.log_metric('test_fscore',fscore)\n",
    "    neptune.log_metric('test_accuracy',accuracy)\n",
    "    neptune.stop()\n",
    "    return fscore"
   ]
  },
  {
   "cell_type": "code",
   "execution_count": 7,
   "metadata": {
    "collapsed": true
   },
   "outputs": [
    {
     "name": "stdout",
     "output_type": "stream",
     "text": [
      "https://ui.neptune.ai/Hatespeech-CNERG/MH-Bert/e/SAN-6522\n",
      "Arabic 0.01 2018\n",
      "Training complete!\n",
      "Macro F1:  0.698254\n",
      "\n",
      "https://ui.neptune.ai/Hatespeech-CNERG/MH-Bert/e/SAN-6523\n",
      "Arabic 0.01 2019\n",
      "Training complete!\n",
      "Macro F1:  0.698254\n",
      "\n",
      "https://ui.neptune.ai/Hatespeech-CNERG/MH-Bert/e/SAN-6524\n",
      "Arabic 0.01 2020\n",
      "Training complete!\n",
      "Macro F1:  0.698254\n",
      "\n",
      "https://ui.neptune.ai/Hatespeech-CNERG/MH-Bert/e/SAN-6526\n",
      "Arabic 0.01 2021\n",
      "Training complete!\n",
      "Macro F1:  0.698254\n",
      "\n",
      "https://ui.neptune.ai/Hatespeech-CNERG/MH-Bert/e/SAN-6527\n",
      "Arabic 0.01 2022\n",
      "Training complete!\n",
      "Macro F1:  0.698254\n",
      "\n",
      "https://ui.neptune.ai/Hatespeech-CNERG/MH-Bert/e/SAN-6528\n",
      "Arabic 0.1 2018\n",
      "Training complete!\n",
      "Macro F1:  0.753611\n",
      "\n",
      "https://ui.neptune.ai/Hatespeech-CNERG/MH-Bert/e/SAN-6530\n",
      "Arabic 0.1 2019\n",
      "Training complete!\n",
      "Macro F1:  0.753611\n",
      "\n",
      "https://ui.neptune.ai/Hatespeech-CNERG/MH-Bert/e/SAN-6531\n",
      "Arabic 0.1 2020\n",
      "Training complete!\n",
      "Macro F1:  0.753611\n",
      "\n",
      "https://ui.neptune.ai/Hatespeech-CNERG/MH-Bert/e/SAN-6532\n",
      "Arabic 0.1 2021\n",
      "Training complete!\n",
      "Macro F1:  0.753611\n",
      "\n",
      "https://ui.neptune.ai/Hatespeech-CNERG/MH-Bert/e/SAN-6533\n",
      "Arabic 0.1 2022\n",
      "Training complete!\n",
      "Macro F1:  0.753611\n",
      "\n",
      "https://ui.neptune.ai/Hatespeech-CNERG/MH-Bert/e/SAN-6534\n",
      "Arabic 1 2018\n",
      "Training complete!\n",
      "Macro F1:  0.787785\n",
      "\n",
      "https://ui.neptune.ai/Hatespeech-CNERG/MH-Bert/e/SAN-6535\n",
      "Arabic 1 2019\n",
      "Training complete!\n",
      "Macro F1:  0.787785\n",
      "\n",
      "https://ui.neptune.ai/Hatespeech-CNERG/MH-Bert/e/SAN-6536\n",
      "Arabic 1 2020\n",
      "Training complete!\n",
      "Macro F1:  0.787785\n",
      "\n",
      "https://ui.neptune.ai/Hatespeech-CNERG/MH-Bert/e/SAN-6537\n",
      "Arabic 1 2021\n",
      "Training complete!\n",
      "Macro F1:  0.787785\n",
      "\n",
      "https://ui.neptune.ai/Hatespeech-CNERG/MH-Bert/e/SAN-6538\n",
      "Arabic 1 2022\n",
      "Training complete!\n",
      "Macro F1:  0.787785\n",
      "\n",
      "https://ui.neptune.ai/Hatespeech-CNERG/MH-Bert/e/SAN-6539\n"
     ]
    },
    {
     "name": "stderr",
     "output_type": "stream",
     "text": [
      "/home/saketh/anaconda3/lib/python3.7/site-packages/sklearn/linear_model/logistic.py:947: ConvergenceWarning: lbfgs failed to converge. Increase the number of iterations.\n",
      "  \"of iterations.\", ConvergenceWarning)\n"
     ]
    },
    {
     "name": "stdout",
     "output_type": "stream",
     "text": [
      "Arabic 10 2018\n",
      "Training complete!\n",
      "Macro F1:  0.792033\n",
      "\n",
      "https://ui.neptune.ai/Hatespeech-CNERG/MH-Bert/e/SAN-6540\n"
     ]
    },
    {
     "name": "stderr",
     "output_type": "stream",
     "text": [
      "/home/saketh/anaconda3/lib/python3.7/site-packages/sklearn/linear_model/logistic.py:947: ConvergenceWarning: lbfgs failed to converge. Increase the number of iterations.\n",
      "  \"of iterations.\", ConvergenceWarning)\n"
     ]
    },
    {
     "name": "stdout",
     "output_type": "stream",
     "text": [
      "Arabic 10 2019\n",
      "Training complete!\n",
      "Macro F1:  0.792033\n",
      "\n",
      "https://ui.neptune.ai/Hatespeech-CNERG/MH-Bert/e/SAN-6541\n"
     ]
    },
    {
     "name": "stderr",
     "output_type": "stream",
     "text": [
      "/home/saketh/anaconda3/lib/python3.7/site-packages/sklearn/linear_model/logistic.py:947: ConvergenceWarning: lbfgs failed to converge. Increase the number of iterations.\n",
      "  \"of iterations.\", ConvergenceWarning)\n"
     ]
    },
    {
     "name": "stdout",
     "output_type": "stream",
     "text": [
      "Arabic 10 2020\n",
      "Training complete!\n",
      "Macro F1:  0.792033\n",
      "\n",
      "https://ui.neptune.ai/Hatespeech-CNERG/MH-Bert/e/SAN-6542\n"
     ]
    },
    {
     "name": "stderr",
     "output_type": "stream",
     "text": [
      "/home/saketh/anaconda3/lib/python3.7/site-packages/sklearn/linear_model/logistic.py:947: ConvergenceWarning: lbfgs failed to converge. Increase the number of iterations.\n",
      "  \"of iterations.\", ConvergenceWarning)\n"
     ]
    },
    {
     "name": "stdout",
     "output_type": "stream",
     "text": [
      "Arabic 10 2021\n",
      "Training complete!\n",
      "Macro F1:  0.792033\n",
      "\n",
      "https://ui.neptune.ai/Hatespeech-CNERG/MH-Bert/e/SAN-6544\n"
     ]
    },
    {
     "name": "stderr",
     "output_type": "stream",
     "text": [
      "/home/saketh/anaconda3/lib/python3.7/site-packages/sklearn/linear_model/logistic.py:947: ConvergenceWarning: lbfgs failed to converge. Increase the number of iterations.\n",
      "  \"of iterations.\", ConvergenceWarning)\n"
     ]
    },
    {
     "name": "stdout",
     "output_type": "stream",
     "text": [
      "Arabic 10 2022\n",
      "Training complete!\n",
      "Macro F1:  0.792033\n",
      "\n",
      "https://ui.neptune.ai/Hatespeech-CNERG/MH-Bert/e/SAN-6545\n",
      "English 0.01 2018\n",
      "Training complete!\n",
      "Macro F1:  0.597643\n",
      "\n",
      "https://ui.neptune.ai/Hatespeech-CNERG/MH-Bert/e/SAN-6547\n",
      "English 0.01 2019\n",
      "Training complete!\n",
      "Macro F1:  0.597643\n",
      "\n",
      "https://ui.neptune.ai/Hatespeech-CNERG/MH-Bert/e/SAN-6549\n",
      "English 0.01 2020\n",
      "Training complete!\n",
      "Macro F1:  0.597643\n",
      "\n",
      "https://ui.neptune.ai/Hatespeech-CNERG/MH-Bert/e/SAN-6551\n",
      "English 0.01 2021\n",
      "Training complete!\n",
      "Macro F1:  0.597643\n",
      "\n",
      "https://ui.neptune.ai/Hatespeech-CNERG/MH-Bert/e/SAN-6553\n",
      "English 0.01 2022\n",
      "Training complete!\n",
      "Macro F1:  0.597643\n",
      "\n",
      "https://ui.neptune.ai/Hatespeech-CNERG/MH-Bert/e/SAN-6554\n",
      "English 0.1 2018\n",
      "Training complete!\n",
      "Macro F1:  0.640557\n",
      "\n",
      "https://ui.neptune.ai/Hatespeech-CNERG/MH-Bert/e/SAN-6556\n",
      "English 0.1 2019\n",
      "Training complete!\n",
      "Macro F1:  0.640557\n",
      "\n",
      "https://ui.neptune.ai/Hatespeech-CNERG/MH-Bert/e/SAN-6558\n",
      "English 0.1 2020\n",
      "Training complete!\n",
      "Macro F1:  0.640557\n",
      "\n",
      "https://ui.neptune.ai/Hatespeech-CNERG/MH-Bert/e/SAN-6559\n",
      "English 0.1 2021\n",
      "Training complete!\n",
      "Macro F1:  0.640557\n",
      "\n",
      "https://ui.neptune.ai/Hatespeech-CNERG/MH-Bert/e/SAN-6561\n",
      "English 0.1 2022\n",
      "Training complete!\n",
      "Macro F1:  0.640557\n",
      "\n",
      "https://ui.neptune.ai/Hatespeech-CNERG/MH-Bert/e/SAN-6562\n"
     ]
    },
    {
     "name": "stderr",
     "output_type": "stream",
     "text": [
      "/home/saketh/anaconda3/lib/python3.7/site-packages/sklearn/linear_model/logistic.py:947: ConvergenceWarning: lbfgs failed to converge. Increase the number of iterations.\n",
      "  \"of iterations.\", ConvergenceWarning)\n"
     ]
    },
    {
     "name": "stdout",
     "output_type": "stream",
     "text": [
      "English 1 2018\n",
      "Training complete!\n",
      "Macro F1:  0.652295\n",
      "\n",
      "https://ui.neptune.ai/Hatespeech-CNERG/MH-Bert/e/SAN-6565\n"
     ]
    },
    {
     "name": "stderr",
     "output_type": "stream",
     "text": [
      "/home/saketh/anaconda3/lib/python3.7/site-packages/sklearn/linear_model/logistic.py:947: ConvergenceWarning: lbfgs failed to converge. Increase the number of iterations.\n",
      "  \"of iterations.\", ConvergenceWarning)\n"
     ]
    },
    {
     "name": "stdout",
     "output_type": "stream",
     "text": [
      "English 1 2019\n",
      "Training complete!\n",
      "Macro F1:  0.652773\n",
      "\n",
      "https://ui.neptune.ai/Hatespeech-CNERG/MH-Bert/e/SAN-6568\n"
     ]
    },
    {
     "name": "stderr",
     "output_type": "stream",
     "text": [
      "/home/saketh/anaconda3/lib/python3.7/site-packages/sklearn/linear_model/logistic.py:947: ConvergenceWarning: lbfgs failed to converge. Increase the number of iterations.\n",
      "  \"of iterations.\", ConvergenceWarning)\n"
     ]
    },
    {
     "name": "stdout",
     "output_type": "stream",
     "text": [
      "English 1 2020\n",
      "Training complete!\n",
      "Macro F1:  0.652626\n",
      "\n",
      "https://ui.neptune.ai/Hatespeech-CNERG/MH-Bert/e/SAN-6569\n"
     ]
    },
    {
     "name": "stderr",
     "output_type": "stream",
     "text": [
      "/home/saketh/anaconda3/lib/python3.7/site-packages/sklearn/linear_model/logistic.py:947: ConvergenceWarning: lbfgs failed to converge. Increase the number of iterations.\n",
      "  \"of iterations.\", ConvergenceWarning)\n"
     ]
    },
    {
     "name": "stdout",
     "output_type": "stream",
     "text": [
      "English 1 2021\n",
      "Training complete!\n",
      "Macro F1:  0.652911\n",
      "\n",
      "https://ui.neptune.ai/Hatespeech-CNERG/MH-Bert/e/SAN-6571\n"
     ]
    },
    {
     "name": "stderr",
     "output_type": "stream",
     "text": [
      "/home/saketh/anaconda3/lib/python3.7/site-packages/sklearn/linear_model/logistic.py:947: ConvergenceWarning: lbfgs failed to converge. Increase the number of iterations.\n",
      "  \"of iterations.\", ConvergenceWarning)\n"
     ]
    },
    {
     "name": "stdout",
     "output_type": "stream",
     "text": [
      "English 1 2022\n",
      "Training complete!\n",
      "Macro F1:  0.652616\n",
      "\n",
      "https://ui.neptune.ai/Hatespeech-CNERG/MH-Bert/e/SAN-6573\n"
     ]
    },
    {
     "name": "stderr",
     "output_type": "stream",
     "text": [
      "/home/saketh/anaconda3/lib/python3.7/site-packages/sklearn/linear_model/logistic.py:947: ConvergenceWarning: lbfgs failed to converge. Increase the number of iterations.\n",
      "  \"of iterations.\", ConvergenceWarning)\n"
     ]
    },
    {
     "name": "stdout",
     "output_type": "stream",
     "text": [
      "English 10 2018\n",
      "Training complete!\n",
      "Macro F1:  0.650345\n",
      "\n",
      "https://ui.neptune.ai/Hatespeech-CNERG/MH-Bert/e/SAN-6575\n"
     ]
    },
    {
     "name": "stderr",
     "output_type": "stream",
     "text": [
      "/home/saketh/anaconda3/lib/python3.7/site-packages/sklearn/linear_model/logistic.py:947: ConvergenceWarning: lbfgs failed to converge. Increase the number of iterations.\n",
      "  \"of iterations.\", ConvergenceWarning)\n"
     ]
    },
    {
     "name": "stdout",
     "output_type": "stream",
     "text": [
      "English 10 2019\n",
      "Training complete!\n",
      "Macro F1:  0.650345\n",
      "\n",
      "https://ui.neptune.ai/Hatespeech-CNERG/MH-Bert/e/SAN-6576\n"
     ]
    },
    {
     "name": "stderr",
     "output_type": "stream",
     "text": [
      "/home/saketh/anaconda3/lib/python3.7/site-packages/sklearn/linear_model/logistic.py:947: ConvergenceWarning: lbfgs failed to converge. Increase the number of iterations.\n",
      "  \"of iterations.\", ConvergenceWarning)\n"
     ]
    },
    {
     "name": "stdout",
     "output_type": "stream",
     "text": [
      "English 10 2020\n",
      "Training complete!\n",
      "Macro F1:  0.650345\n",
      "\n",
      "https://ui.neptune.ai/Hatespeech-CNERG/MH-Bert/e/SAN-6579\n"
     ]
    },
    {
     "name": "stderr",
     "output_type": "stream",
     "text": [
      "/home/saketh/anaconda3/lib/python3.7/site-packages/sklearn/linear_model/logistic.py:947: ConvergenceWarning: lbfgs failed to converge. Increase the number of iterations.\n",
      "  \"of iterations.\", ConvergenceWarning)\n"
     ]
    },
    {
     "name": "stdout",
     "output_type": "stream",
     "text": [
      "English 10 2021\n",
      "Training complete!\n",
      "Macro F1:  0.650299\n",
      "\n",
      "https://ui.neptune.ai/Hatespeech-CNERG/MH-Bert/e/SAN-6581\n"
     ]
    },
    {
     "name": "stderr",
     "output_type": "stream",
     "text": [
      "/home/saketh/anaconda3/lib/python3.7/site-packages/sklearn/linear_model/logistic.py:947: ConvergenceWarning: lbfgs failed to converge. Increase the number of iterations.\n",
      "  \"of iterations.\", ConvergenceWarning)\n"
     ]
    },
    {
     "name": "stdout",
     "output_type": "stream",
     "text": [
      "English 10 2022\n",
      "Training complete!\n",
      "Macro F1:  0.650345\n",
      "\n",
      "https://ui.neptune.ai/Hatespeech-CNERG/MH-Bert/e/SAN-6582\n",
      "German 0.01 2018\n",
      "Training complete!\n",
      "Macro F1:  0.510425\n",
      "\n",
      "https://ui.neptune.ai/Hatespeech-CNERG/MH-Bert/e/SAN-6584\n",
      "German 0.01 2019\n",
      "Training complete!\n",
      "Macro F1:  0.510425\n",
      "\n",
      "https://ui.neptune.ai/Hatespeech-CNERG/MH-Bert/e/SAN-6586\n",
      "German 0.01 2020\n",
      "Training complete!\n",
      "Macro F1:  0.510425\n",
      "\n",
      "https://ui.neptune.ai/Hatespeech-CNERG/MH-Bert/e/SAN-6588\n",
      "German 0.01 2021\n",
      "Training complete!\n",
      "Macro F1:  0.510425\n",
      "\n",
      "https://ui.neptune.ai/Hatespeech-CNERG/MH-Bert/e/SAN-6589\n",
      "German 0.01 2022\n",
      "Training complete!\n",
      "Macro F1:  0.510425\n",
      "\n",
      "https://ui.neptune.ai/Hatespeech-CNERG/MH-Bert/e/SAN-6590\n",
      "German 0.1 2018\n",
      "Training complete!\n",
      "Macro F1:  0.614878\n",
      "\n",
      "https://ui.neptune.ai/Hatespeech-CNERG/MH-Bert/e/SAN-6591\n",
      "German 0.1 2019\n",
      "Training complete!\n",
      "Macro F1:  0.614878\n",
      "\n",
      "https://ui.neptune.ai/Hatespeech-CNERG/MH-Bert/e/SAN-6592\n",
      "German 0.1 2020\n",
      "Training complete!\n",
      "Macro F1:  0.614878\n",
      "\n",
      "https://ui.neptune.ai/Hatespeech-CNERG/MH-Bert/e/SAN-6593\n",
      "German 0.1 2021\n",
      "Training complete!\n",
      "Macro F1:  0.614878\n",
      "\n",
      "https://ui.neptune.ai/Hatespeech-CNERG/MH-Bert/e/SAN-6594\n",
      "German 0.1 2022\n",
      "Training complete!\n",
      "Macro F1:  0.614878\n",
      "\n",
      "https://ui.neptune.ai/Hatespeech-CNERG/MH-Bert/e/SAN-6595\n",
      "German 1 2018\n",
      "Training complete!\n",
      "Macro F1:  0.665538\n",
      "\n",
      "https://ui.neptune.ai/Hatespeech-CNERG/MH-Bert/e/SAN-6596\n",
      "German 1 2019\n",
      "Training complete!\n",
      "Macro F1:  0.665538\n",
      "\n",
      "https://ui.neptune.ai/Hatespeech-CNERG/MH-Bert/e/SAN-6597\n",
      "German 1 2020\n",
      "Training complete!\n",
      "Macro F1:  0.665538\n",
      "\n",
      "https://ui.neptune.ai/Hatespeech-CNERG/MH-Bert/e/SAN-6598\n",
      "German 1 2021\n",
      "Training complete!\n",
      "Macro F1:  0.665538\n",
      "\n",
      "https://ui.neptune.ai/Hatespeech-CNERG/MH-Bert/e/SAN-6599\n",
      "German 1 2022\n",
      "Training complete!\n",
      "Macro F1:  0.665538\n",
      "\n",
      "https://ui.neptune.ai/Hatespeech-CNERG/MH-Bert/e/SAN-6601\n"
     ]
    },
    {
     "name": "stderr",
     "output_type": "stream",
     "text": [
      "/home/saketh/anaconda3/lib/python3.7/site-packages/sklearn/linear_model/logistic.py:947: ConvergenceWarning: lbfgs failed to converge. Increase the number of iterations.\n",
      "  \"of iterations.\", ConvergenceWarning)\n"
     ]
    },
    {
     "name": "stdout",
     "output_type": "stream",
     "text": [
      "German 10 2018\n",
      "Training complete!\n",
      "Macro F1:  0.687784\n",
      "\n",
      "https://ui.neptune.ai/Hatespeech-CNERG/MH-Bert/e/SAN-6602\n"
     ]
    },
    {
     "name": "stderr",
     "output_type": "stream",
     "text": [
      "/home/saketh/anaconda3/lib/python3.7/site-packages/sklearn/linear_model/logistic.py:947: ConvergenceWarning: lbfgs failed to converge. Increase the number of iterations.\n",
      "  \"of iterations.\", ConvergenceWarning)\n"
     ]
    },
    {
     "name": "stdout",
     "output_type": "stream",
     "text": [
      "German 10 2019\n",
      "Training complete!\n",
      "Macro F1:  0.687784\n",
      "\n",
      "https://ui.neptune.ai/Hatespeech-CNERG/MH-Bert/e/SAN-6603\n"
     ]
    },
    {
     "name": "stderr",
     "output_type": "stream",
     "text": [
      "/home/saketh/anaconda3/lib/python3.7/site-packages/sklearn/linear_model/logistic.py:947: ConvergenceWarning: lbfgs failed to converge. Increase the number of iterations.\n",
      "  \"of iterations.\", ConvergenceWarning)\n"
     ]
    },
    {
     "name": "stdout",
     "output_type": "stream",
     "text": [
      "German 10 2020\n",
      "Training complete!\n",
      "Macro F1:  0.686931\n",
      "\n",
      "https://ui.neptune.ai/Hatespeech-CNERG/MH-Bert/e/SAN-6604\n"
     ]
    },
    {
     "name": "stderr",
     "output_type": "stream",
     "text": [
      "/home/saketh/anaconda3/lib/python3.7/site-packages/sklearn/linear_model/logistic.py:947: ConvergenceWarning: lbfgs failed to converge. Increase the number of iterations.\n",
      "  \"of iterations.\", ConvergenceWarning)\n"
     ]
    },
    {
     "name": "stdout",
     "output_type": "stream",
     "text": [
      "German 10 2021\n",
      "Training complete!\n",
      "Macro F1:  0.686931\n",
      "\n",
      "https://ui.neptune.ai/Hatespeech-CNERG/MH-Bert/e/SAN-6605\n"
     ]
    },
    {
     "name": "stderr",
     "output_type": "stream",
     "text": [
      "/home/saketh/anaconda3/lib/python3.7/site-packages/sklearn/linear_model/logistic.py:947: ConvergenceWarning: lbfgs failed to converge. Increase the number of iterations.\n",
      "  \"of iterations.\", ConvergenceWarning)\n"
     ]
    },
    {
     "name": "stdout",
     "output_type": "stream",
     "text": [
      "German 10 2022\n",
      "Training complete!\n",
      "Macro F1:  0.686931\n",
      "\n",
      "https://ui.neptune.ai/Hatespeech-CNERG/MH-Bert/e/SAN-6607\n",
      "Indonesian 0.01 2018\n",
      "Training complete!\n",
      "Macro F1:  0.662245\n",
      "\n",
      "https://ui.neptune.ai/Hatespeech-CNERG/MH-Bert/e/SAN-6608\n",
      "Indonesian 0.01 2019\n",
      "Training complete!\n",
      "Macro F1:  0.662245\n",
      "\n",
      "https://ui.neptune.ai/Hatespeech-CNERG/MH-Bert/e/SAN-6609\n",
      "Indonesian 0.01 2020\n",
      "Training complete!\n",
      "Macro F1:  0.662245\n",
      "\n",
      "https://ui.neptune.ai/Hatespeech-CNERG/MH-Bert/e/SAN-6611\n",
      "Indonesian 0.01 2021\n",
      "Training complete!\n",
      "Macro F1:  0.662245\n",
      "\n",
      "https://ui.neptune.ai/Hatespeech-CNERG/MH-Bert/e/SAN-6612\n",
      "Indonesian 0.01 2022\n",
      "Training complete!\n",
      "Macro F1:  0.662245\n",
      "\n",
      "https://ui.neptune.ai/Hatespeech-CNERG/MH-Bert/e/SAN-6613\n",
      "Indonesian 0.1 2018\n",
      "Training complete!\n",
      "Macro F1:  0.730080\n",
      "\n",
      "https://ui.neptune.ai/Hatespeech-CNERG/MH-Bert/e/SAN-6614\n",
      "Indonesian 0.1 2019\n",
      "Training complete!\n",
      "Macro F1:  0.730080\n",
      "\n",
      "https://ui.neptune.ai/Hatespeech-CNERG/MH-Bert/e/SAN-6615\n",
      "Indonesian 0.1 2020\n",
      "Training complete!\n",
      "Macro F1:  0.730080\n",
      "\n",
      "https://ui.neptune.ai/Hatespeech-CNERG/MH-Bert/e/SAN-6616\n",
      "Indonesian 0.1 2021\n",
      "Training complete!\n",
      "Macro F1:  0.730080\n",
      "\n",
      "https://ui.neptune.ai/Hatespeech-CNERG/MH-Bert/e/SAN-6617\n",
      "Indonesian 0.1 2022\n",
      "Training complete!\n",
      "Macro F1:  0.730080\n",
      "\n",
      "https://ui.neptune.ai/Hatespeech-CNERG/MH-Bert/e/SAN-6618\n",
      "Indonesian 1 2018\n",
      "Training complete!\n",
      "Macro F1:  0.775849\n",
      "\n",
      "https://ui.neptune.ai/Hatespeech-CNERG/MH-Bert/e/SAN-6620\n",
      "Indonesian 1 2019\n",
      "Training complete!\n",
      "Macro F1:  0.775849\n",
      "\n",
      "https://ui.neptune.ai/Hatespeech-CNERG/MH-Bert/e/SAN-6622\n",
      "Indonesian 1 2020\n",
      "Training complete!\n",
      "Macro F1:  0.775849\n",
      "\n",
      "https://ui.neptune.ai/Hatespeech-CNERG/MH-Bert/e/SAN-6623\n",
      "Indonesian 1 2021\n",
      "Training complete!\n",
      "Macro F1:  0.775849\n",
      "\n",
      "https://ui.neptune.ai/Hatespeech-CNERG/MH-Bert/e/SAN-6624\n",
      "Indonesian 1 2022\n",
      "Training complete!\n",
      "Macro F1:  0.775849\n",
      "\n",
      "https://ui.neptune.ai/Hatespeech-CNERG/MH-Bert/e/SAN-6625\n"
     ]
    },
    {
     "name": "stderr",
     "output_type": "stream",
     "text": [
      "/home/saketh/anaconda3/lib/python3.7/site-packages/sklearn/linear_model/logistic.py:947: ConvergenceWarning: lbfgs failed to converge. Increase the number of iterations.\n",
      "  \"of iterations.\", ConvergenceWarning)\n"
     ]
    },
    {
     "name": "stdout",
     "output_type": "stream",
     "text": [
      "Indonesian 10 2018\n",
      "Training complete!\n",
      "Macro F1:  0.787220\n",
      "\n",
      "https://ui.neptune.ai/Hatespeech-CNERG/MH-Bert/e/SAN-6626\n"
     ]
    },
    {
     "name": "stderr",
     "output_type": "stream",
     "text": [
      "/home/saketh/anaconda3/lib/python3.7/site-packages/sklearn/linear_model/logistic.py:947: ConvergenceWarning: lbfgs failed to converge. Increase the number of iterations.\n",
      "  \"of iterations.\", ConvergenceWarning)\n"
     ]
    },
    {
     "name": "stdout",
     "output_type": "stream",
     "text": [
      "Indonesian 10 2019\n",
      "Training complete!\n",
      "Macro F1:  0.787220\n",
      "\n",
      "https://ui.neptune.ai/Hatespeech-CNERG/MH-Bert/e/SAN-6627\n"
     ]
    },
    {
     "name": "stderr",
     "output_type": "stream",
     "text": [
      "/home/saketh/anaconda3/lib/python3.7/site-packages/sklearn/linear_model/logistic.py:947: ConvergenceWarning: lbfgs failed to converge. Increase the number of iterations.\n",
      "  \"of iterations.\", ConvergenceWarning)\n"
     ]
    },
    {
     "name": "stdout",
     "output_type": "stream",
     "text": [
      "Indonesian 10 2020\n",
      "Training complete!\n",
      "Macro F1:  0.787220\n",
      "\n",
      "https://ui.neptune.ai/Hatespeech-CNERG/MH-Bert/e/SAN-6629\n"
     ]
    },
    {
     "name": "stderr",
     "output_type": "stream",
     "text": [
      "/home/saketh/anaconda3/lib/python3.7/site-packages/sklearn/linear_model/logistic.py:947: ConvergenceWarning: lbfgs failed to converge. Increase the number of iterations.\n",
      "  \"of iterations.\", ConvergenceWarning)\n"
     ]
    },
    {
     "name": "stdout",
     "output_type": "stream",
     "text": [
      "Indonesian 10 2021\n",
      "Training complete!\n",
      "Macro F1:  0.787220\n",
      "\n",
      "https://ui.neptune.ai/Hatespeech-CNERG/MH-Bert/e/SAN-6630\n"
     ]
    },
    {
     "name": "stderr",
     "output_type": "stream",
     "text": [
      "/home/saketh/anaconda3/lib/python3.7/site-packages/sklearn/linear_model/logistic.py:947: ConvergenceWarning: lbfgs failed to converge. Increase the number of iterations.\n",
      "  \"of iterations.\", ConvergenceWarning)\n"
     ]
    },
    {
     "name": "stdout",
     "output_type": "stream",
     "text": [
      "Indonesian 10 2022\n",
      "Training complete!\n",
      "Macro F1:  0.787220\n",
      "\n",
      "https://ui.neptune.ai/Hatespeech-CNERG/MH-Bert/e/SAN-6631\n",
      "Italian 0.01 2018\n",
      "Training complete!\n",
      "Macro F1:  0.655240\n",
      "\n",
      "https://ui.neptune.ai/Hatespeech-CNERG/MH-Bert/e/SAN-6632\n",
      "Italian 0.01 2019\n",
      "Training complete!\n",
      "Macro F1:  0.655240\n",
      "\n",
      "https://ui.neptune.ai/Hatespeech-CNERG/MH-Bert/e/SAN-6633\n",
      "Italian 0.01 2020\n",
      "Training complete!\n",
      "Macro F1:  0.655240\n",
      "\n",
      "https://ui.neptune.ai/Hatespeech-CNERG/MH-Bert/e/SAN-6634\n",
      "Italian 0.01 2021\n",
      "Training complete!\n",
      "Macro F1:  0.655240\n",
      "\n",
      "https://ui.neptune.ai/Hatespeech-CNERG/MH-Bert/e/SAN-6635\n",
      "Italian 0.01 2022\n",
      "Training complete!\n",
      "Macro F1:  0.655240\n",
      "\n",
      "https://ui.neptune.ai/Hatespeech-CNERG/MH-Bert/e/SAN-6636\n",
      "Italian 0.1 2018\n",
      "Training complete!\n",
      "Macro F1:  0.717068\n",
      "\n",
      "https://ui.neptune.ai/Hatespeech-CNERG/MH-Bert/e/SAN-6639\n",
      "Italian 0.1 2019\n",
      "Training complete!\n",
      "Macro F1:  0.717068\n",
      "\n",
      "https://ui.neptune.ai/Hatespeech-CNERG/MH-Bert/e/SAN-6640\n",
      "Italian 0.1 2020\n",
      "Training complete!\n",
      "Macro F1:  0.717068\n",
      "\n",
      "https://ui.neptune.ai/Hatespeech-CNERG/MH-Bert/e/SAN-6642\n",
      "Italian 0.1 2021\n",
      "Training complete!\n",
      "Macro F1:  0.717068\n",
      "\n",
      "https://ui.neptune.ai/Hatespeech-CNERG/MH-Bert/e/SAN-6643\n",
      "Italian 0.1 2022\n",
      "Training complete!\n",
      "Macro F1:  0.717068\n",
      "\n",
      "https://ui.neptune.ai/Hatespeech-CNERG/MH-Bert/e/SAN-6644\n",
      "Italian 1 2018\n",
      "Training complete!\n",
      "Macro F1:  0.782711\n",
      "\n",
      "https://ui.neptune.ai/Hatespeech-CNERG/MH-Bert/e/SAN-6645\n",
      "Italian 1 2019\n",
      "Training complete!\n",
      "Macro F1:  0.782711\n",
      "\n",
      "https://ui.neptune.ai/Hatespeech-CNERG/MH-Bert/e/SAN-6646\n",
      "Italian 1 2020\n",
      "Training complete!\n",
      "Macro F1:  0.782711\n",
      "\n",
      "https://ui.neptune.ai/Hatespeech-CNERG/MH-Bert/e/SAN-6647\n",
      "Italian 1 2021\n",
      "Training complete!\n",
      "Macro F1:  0.782711\n",
      "\n",
      "https://ui.neptune.ai/Hatespeech-CNERG/MH-Bert/e/SAN-6648\n",
      "Italian 1 2022\n",
      "Training complete!\n",
      "Macro F1:  0.782711\n",
      "\n",
      "https://ui.neptune.ai/Hatespeech-CNERG/MH-Bert/e/SAN-6649\n"
     ]
    },
    {
     "name": "stderr",
     "output_type": "stream",
     "text": [
      "/home/saketh/anaconda3/lib/python3.7/site-packages/sklearn/linear_model/logistic.py:947: ConvergenceWarning: lbfgs failed to converge. Increase the number of iterations.\n",
      "  \"of iterations.\", ConvergenceWarning)\n"
     ]
    },
    {
     "name": "stdout",
     "output_type": "stream",
     "text": [
      "Italian 10 2018\n",
      "Training complete!\n",
      "Macro F1:  0.799632\n",
      "\n",
      "https://ui.neptune.ai/Hatespeech-CNERG/MH-Bert/e/SAN-6651\n"
     ]
    },
    {
     "name": "stderr",
     "output_type": "stream",
     "text": [
      "/home/saketh/anaconda3/lib/python3.7/site-packages/sklearn/linear_model/logistic.py:947: ConvergenceWarning: lbfgs failed to converge. Increase the number of iterations.\n",
      "  \"of iterations.\", ConvergenceWarning)\n"
     ]
    },
    {
     "name": "stdout",
     "output_type": "stream",
     "text": [
      "Italian 10 2019\n",
      "Training complete!\n",
      "Macro F1:  0.799632\n",
      "\n",
      "https://ui.neptune.ai/Hatespeech-CNERG/MH-Bert/e/SAN-6652\n"
     ]
    },
    {
     "name": "stderr",
     "output_type": "stream",
     "text": [
      "/home/saketh/anaconda3/lib/python3.7/site-packages/sklearn/linear_model/logistic.py:947: ConvergenceWarning: lbfgs failed to converge. Increase the number of iterations.\n",
      "  \"of iterations.\", ConvergenceWarning)\n"
     ]
    },
    {
     "name": "stdout",
     "output_type": "stream",
     "text": [
      "Italian 10 2020\n",
      "Training complete!\n",
      "Macro F1:  0.799632\n",
      "\n",
      "https://ui.neptune.ai/Hatespeech-CNERG/MH-Bert/e/SAN-6653\n"
     ]
    },
    {
     "name": "stderr",
     "output_type": "stream",
     "text": [
      "/home/saketh/anaconda3/lib/python3.7/site-packages/sklearn/linear_model/logistic.py:947: ConvergenceWarning: lbfgs failed to converge. Increase the number of iterations.\n",
      "  \"of iterations.\", ConvergenceWarning)\n"
     ]
    },
    {
     "name": "stdout",
     "output_type": "stream",
     "text": [
      "Italian 10 2021\n",
      "Training complete!\n",
      "Macro F1:  0.799632\n",
      "\n",
      "https://ui.neptune.ai/Hatespeech-CNERG/MH-Bert/e/SAN-6654\n"
     ]
    },
    {
     "name": "stderr",
     "output_type": "stream",
     "text": [
      "/home/saketh/anaconda3/lib/python3.7/site-packages/sklearn/linear_model/logistic.py:947: ConvergenceWarning: lbfgs failed to converge. Increase the number of iterations.\n",
      "  \"of iterations.\", ConvergenceWarning)\n"
     ]
    },
    {
     "name": "stdout",
     "output_type": "stream",
     "text": [
      "Italian 10 2022\n",
      "Training complete!\n",
      "Macro F1:  0.799632\n",
      "\n",
      "https://ui.neptune.ai/Hatespeech-CNERG/MH-Bert/e/SAN-6655\n",
      "Polish 0.01 2018\n",
      "Training complete!\n",
      "Macro F1:  0.540590\n",
      "\n",
      "https://ui.neptune.ai/Hatespeech-CNERG/MH-Bert/e/SAN-6657\n",
      "Polish 0.01 2019\n",
      "Training complete!\n",
      "Macro F1:  0.540590\n",
      "\n",
      "https://ui.neptune.ai/Hatespeech-CNERG/MH-Bert/e/SAN-6658\n",
      "Polish 0.01 2020\n",
      "Training complete!\n",
      "Macro F1:  0.540590\n",
      "\n",
      "https://ui.neptune.ai/Hatespeech-CNERG/MH-Bert/e/SAN-6659\n",
      "Polish 0.01 2021\n",
      "Training complete!\n",
      "Macro F1:  0.540590\n",
      "\n",
      "https://ui.neptune.ai/Hatespeech-CNERG/MH-Bert/e/SAN-6661\n",
      "Polish 0.01 2022\n",
      "Training complete!\n",
      "Macro F1:  0.540590\n",
      "\n",
      "https://ui.neptune.ai/Hatespeech-CNERG/MH-Bert/e/SAN-6662\n",
      "Polish 0.1 2018\n",
      "Training complete!\n",
      "Macro F1:  0.580876\n",
      "\n",
      "https://ui.neptune.ai/Hatespeech-CNERG/MH-Bert/e/SAN-6663\n",
      "Polish 0.1 2019\n",
      "Training complete!\n",
      "Macro F1:  0.580876\n",
      "\n",
      "https://ui.neptune.ai/Hatespeech-CNERG/MH-Bert/e/SAN-6664\n",
      "Polish 0.1 2020\n",
      "Training complete!\n",
      "Macro F1:  0.580876\n",
      "\n",
      "https://ui.neptune.ai/Hatespeech-CNERG/MH-Bert/e/SAN-6665\n",
      "Polish 0.1 2021\n",
      "Training complete!\n",
      "Macro F1:  0.580876\n",
      "\n",
      "https://ui.neptune.ai/Hatespeech-CNERG/MH-Bert/e/SAN-6666\n",
      "Polish 0.1 2022\n",
      "Training complete!\n",
      "Macro F1:  0.580876\n",
      "\n",
      "https://ui.neptune.ai/Hatespeech-CNERG/MH-Bert/e/SAN-6667\n",
      "Polish 1 2018\n",
      "Training complete!\n",
      "Macro F1:  0.615021\n",
      "\n",
      "https://ui.neptune.ai/Hatespeech-CNERG/MH-Bert/e/SAN-6668\n",
      "Polish 1 2019\n",
      "Training complete!\n",
      "Macro F1:  0.615021\n",
      "\n",
      "https://ui.neptune.ai/Hatespeech-CNERG/MH-Bert/e/SAN-6669\n",
      "Polish 1 2020\n",
      "Training complete!\n",
      "Macro F1:  0.615021\n",
      "\n",
      "https://ui.neptune.ai/Hatespeech-CNERG/MH-Bert/e/SAN-6671\n",
      "Polish 1 2021\n",
      "Training complete!\n",
      "Macro F1:  0.615021\n",
      "\n",
      "https://ui.neptune.ai/Hatespeech-CNERG/MH-Bert/e/SAN-6672\n",
      "Polish 1 2022\n",
      "Training complete!\n",
      "Macro F1:  0.615021\n",
      "\n",
      "https://ui.neptune.ai/Hatespeech-CNERG/MH-Bert/e/SAN-6674\n"
     ]
    },
    {
     "name": "stderr",
     "output_type": "stream",
     "text": [
      "/home/saketh/anaconda3/lib/python3.7/site-packages/sklearn/linear_model/logistic.py:947: ConvergenceWarning: lbfgs failed to converge. Increase the number of iterations.\n",
      "  \"of iterations.\", ConvergenceWarning)\n"
     ]
    },
    {
     "name": "stdout",
     "output_type": "stream",
     "text": [
      "Polish 10 2018\n",
      "Training complete!\n",
      "Macro F1:  0.644376\n",
      "\n",
      "https://ui.neptune.ai/Hatespeech-CNERG/MH-Bert/e/SAN-6675\n"
     ]
    },
    {
     "name": "stderr",
     "output_type": "stream",
     "text": [
      "/home/saketh/anaconda3/lib/python3.7/site-packages/sklearn/linear_model/logistic.py:947: ConvergenceWarning: lbfgs failed to converge. Increase the number of iterations.\n",
      "  \"of iterations.\", ConvergenceWarning)\n"
     ]
    },
    {
     "name": "stdout",
     "output_type": "stream",
     "text": [
      "Polish 10 2019\n",
      "Training complete!\n",
      "Macro F1:  0.643608\n",
      "\n",
      "https://ui.neptune.ai/Hatespeech-CNERG/MH-Bert/e/SAN-6676\n"
     ]
    },
    {
     "name": "stderr",
     "output_type": "stream",
     "text": [
      "/home/saketh/anaconda3/lib/python3.7/site-packages/sklearn/linear_model/logistic.py:947: ConvergenceWarning: lbfgs failed to converge. Increase the number of iterations.\n",
      "  \"of iterations.\", ConvergenceWarning)\n"
     ]
    },
    {
     "name": "stdout",
     "output_type": "stream",
     "text": [
      "Polish 10 2020\n",
      "Training complete!\n",
      "Macro F1:  0.644167\n",
      "\n",
      "https://ui.neptune.ai/Hatespeech-CNERG/MH-Bert/e/SAN-6677\n"
     ]
    },
    {
     "name": "stderr",
     "output_type": "stream",
     "text": [
      "/home/saketh/anaconda3/lib/python3.7/site-packages/sklearn/linear_model/logistic.py:947: ConvergenceWarning: lbfgs failed to converge. Increase the number of iterations.\n",
      "  \"of iterations.\", ConvergenceWarning)\n"
     ]
    },
    {
     "name": "stdout",
     "output_type": "stream",
     "text": [
      "Polish 10 2021\n",
      "Training complete!\n",
      "Macro F1:  0.643608\n",
      "\n",
      "https://ui.neptune.ai/Hatespeech-CNERG/MH-Bert/e/SAN-6678\n"
     ]
    },
    {
     "name": "stderr",
     "output_type": "stream",
     "text": [
      "/home/saketh/anaconda3/lib/python3.7/site-packages/sklearn/linear_model/logistic.py:947: ConvergenceWarning: lbfgs failed to converge. Increase the number of iterations.\n",
      "  \"of iterations.\", ConvergenceWarning)\n"
     ]
    },
    {
     "name": "stdout",
     "output_type": "stream",
     "text": [
      "Polish 10 2022\n",
      "Training complete!\n",
      "Macro F1:  0.643608\n",
      "\n",
      "https://ui.neptune.ai/Hatespeech-CNERG/MH-Bert/e/SAN-6679\n",
      "Portugese 0.01 2018\n",
      "Training complete!\n",
      "Macro F1:  0.590465\n",
      "\n",
      "https://ui.neptune.ai/Hatespeech-CNERG/MH-Bert/e/SAN-6681\n",
      "Portugese 0.01 2019\n",
      "Training complete!\n",
      "Macro F1:  0.590465\n",
      "\n",
      "https://ui.neptune.ai/Hatespeech-CNERG/MH-Bert/e/SAN-6682\n",
      "Portugese 0.01 2020\n",
      "Training complete!\n",
      "Macro F1:  0.590465\n",
      "\n",
      "https://ui.neptune.ai/Hatespeech-CNERG/MH-Bert/e/SAN-6683\n",
      "Portugese 0.01 2021\n",
      "Training complete!\n",
      "Macro F1:  0.590465\n",
      "\n",
      "https://ui.neptune.ai/Hatespeech-CNERG/MH-Bert/e/SAN-6684\n",
      "Portugese 0.01 2022\n",
      "Training complete!\n",
      "Macro F1:  0.590465\n",
      "\n",
      "https://ui.neptune.ai/Hatespeech-CNERG/MH-Bert/e/SAN-6685\n",
      "Portugese 0.1 2018\n",
      "Training complete!\n",
      "Macro F1:  0.627269\n",
      "\n",
      "https://ui.neptune.ai/Hatespeech-CNERG/MH-Bert/e/SAN-6686\n",
      "Portugese 0.1 2019\n",
      "Training complete!\n",
      "Macro F1:  0.627269\n",
      "\n",
      "https://ui.neptune.ai/Hatespeech-CNERG/MH-Bert/e/SAN-6687\n",
      "Portugese 0.1 2020\n",
      "Training complete!\n",
      "Macro F1:  0.627269\n",
      "\n",
      "https://ui.neptune.ai/Hatespeech-CNERG/MH-Bert/e/SAN-6688\n",
      "Portugese 0.1 2021\n",
      "Training complete!\n",
      "Macro F1:  0.627269\n",
      "\n",
      "https://ui.neptune.ai/Hatespeech-CNERG/MH-Bert/e/SAN-6689\n",
      "Portugese 0.1 2022\n",
      "Training complete!\n",
      "Macro F1:  0.627269\n",
      "\n",
      "https://ui.neptune.ai/Hatespeech-CNERG/MH-Bert/e/SAN-6690\n",
      "Portugese 1 2018\n",
      "Training complete!\n",
      "Macro F1:  0.684495\n",
      "\n",
      "https://ui.neptune.ai/Hatespeech-CNERG/MH-Bert/e/SAN-6691\n",
      "Portugese 1 2019\n",
      "Training complete!\n",
      "Macro F1:  0.684495\n",
      "\n",
      "https://ui.neptune.ai/Hatespeech-CNERG/MH-Bert/e/SAN-6693\n",
      "Portugese 1 2020\n",
      "Training complete!\n",
      "Macro F1:  0.684495\n",
      "\n",
      "https://ui.neptune.ai/Hatespeech-CNERG/MH-Bert/e/SAN-6695\n",
      "Portugese 1 2021\n",
      "Training complete!\n",
      "Macro F1:  0.684495\n",
      "\n",
      "https://ui.neptune.ai/Hatespeech-CNERG/MH-Bert/e/SAN-6696\n",
      "Portugese 1 2022\n",
      "Training complete!\n",
      "Macro F1:  0.684495\n",
      "\n",
      "https://ui.neptune.ai/Hatespeech-CNERG/MH-Bert/e/SAN-6697\n",
      "Portugese 10 2018\n",
      "Training complete!\n",
      "Macro F1:  0.694079\n",
      "\n",
      "https://ui.neptune.ai/Hatespeech-CNERG/MH-Bert/e/SAN-6698\n",
      "Portugese 10 2019\n",
      "Training complete!\n",
      "Macro F1:  0.694079\n",
      "\n",
      "https://ui.neptune.ai/Hatespeech-CNERG/MH-Bert/e/SAN-6700\n",
      "Portugese 10 2020\n",
      "Training complete!\n",
      "Macro F1:  0.694079\n",
      "\n",
      "https://ui.neptune.ai/Hatespeech-CNERG/MH-Bert/e/SAN-6701\n",
      "Portugese 10 2021\n",
      "Training complete!\n",
      "Macro F1:  0.694079\n",
      "\n",
      "https://ui.neptune.ai/Hatespeech-CNERG/MH-Bert/e/SAN-6702\n",
      "Portugese 10 2022\n",
      "Training complete!\n",
      "Macro F1:  0.694079\n",
      "\n",
      "https://ui.neptune.ai/Hatespeech-CNERG/MH-Bert/e/SAN-6703\n",
      "Spanish 0.01 2018\n",
      "Training complete!\n",
      "Macro F1:  0.598789\n",
      "\n",
      "https://ui.neptune.ai/Hatespeech-CNERG/MH-Bert/e/SAN-6704\n",
      "Spanish 0.01 2019\n",
      "Training complete!\n",
      "Macro F1:  0.598789\n",
      "\n",
      "https://ui.neptune.ai/Hatespeech-CNERG/MH-Bert/e/SAN-6705\n",
      "Spanish 0.01 2020\n",
      "Training complete!\n",
      "Macro F1:  0.598789\n",
      "\n",
      "https://ui.neptune.ai/Hatespeech-CNERG/MH-Bert/e/SAN-6707\n",
      "Spanish 0.01 2021\n",
      "Training complete!\n",
      "Macro F1:  0.598789\n",
      "\n",
      "https://ui.neptune.ai/Hatespeech-CNERG/MH-Bert/e/SAN-6708\n",
      "Spanish 0.01 2022\n",
      "Training complete!\n",
      "Macro F1:  0.598789\n",
      "\n",
      "https://ui.neptune.ai/Hatespeech-CNERG/MH-Bert/e/SAN-6709\n",
      "Spanish 0.1 2018\n",
      "Training complete!\n",
      "Macro F1:  0.642734\n",
      "\n",
      "https://ui.neptune.ai/Hatespeech-CNERG/MH-Bert/e/SAN-6710\n",
      "Spanish 0.1 2019\n",
      "Training complete!\n",
      "Macro F1:  0.642734\n",
      "\n",
      "https://ui.neptune.ai/Hatespeech-CNERG/MH-Bert/e/SAN-6711\n",
      "Spanish 0.1 2020\n",
      "Training complete!\n",
      "Macro F1:  0.642734\n",
      "\n",
      "https://ui.neptune.ai/Hatespeech-CNERG/MH-Bert/e/SAN-6713\n",
      "Spanish 0.1 2021\n",
      "Training complete!\n",
      "Macro F1:  0.642734\n",
      "\n",
      "https://ui.neptune.ai/Hatespeech-CNERG/MH-Bert/e/SAN-6714\n",
      "Spanish 0.1 2022\n",
      "Training complete!\n",
      "Macro F1:  0.642734\n",
      "\n",
      "https://ui.neptune.ai/Hatespeech-CNERG/MH-Bert/e/SAN-6715\n",
      "Spanish 1 2018\n",
      "Training complete!\n",
      "Macro F1:  0.683778\n",
      "\n",
      "https://ui.neptune.ai/Hatespeech-CNERG/MH-Bert/e/SAN-6717\n",
      "Spanish 1 2019\n",
      "Training complete!\n",
      "Macro F1:  0.683778\n",
      "\n",
      "https://ui.neptune.ai/Hatespeech-CNERG/MH-Bert/e/SAN-6718\n",
      "Spanish 1 2020\n",
      "Training complete!\n",
      "Macro F1:  0.683778\n",
      "\n",
      "https://ui.neptune.ai/Hatespeech-CNERG/MH-Bert/e/SAN-6719\n",
      "Spanish 1 2021\n",
      "Training complete!\n",
      "Macro F1:  0.683778\n",
      "\n",
      "https://ui.neptune.ai/Hatespeech-CNERG/MH-Bert/e/SAN-6720\n",
      "Spanish 1 2022\n",
      "Training complete!\n",
      "Macro F1:  0.683778\n",
      "\n",
      "https://ui.neptune.ai/Hatespeech-CNERG/MH-Bert/e/SAN-6721\n"
     ]
    },
    {
     "name": "stderr",
     "output_type": "stream",
     "text": [
      "/home/saketh/anaconda3/lib/python3.7/site-packages/sklearn/linear_model/logistic.py:947: ConvergenceWarning: lbfgs failed to converge. Increase the number of iterations.\n",
      "  \"of iterations.\", ConvergenceWarning)\n"
     ]
    },
    {
     "name": "stdout",
     "output_type": "stream",
     "text": [
      "Spanish 10 2018\n",
      "Training complete!\n",
      "Macro F1:  0.699502\n",
      "\n",
      "https://ui.neptune.ai/Hatespeech-CNERG/MH-Bert/e/SAN-6722\n"
     ]
    },
    {
     "name": "stderr",
     "output_type": "stream",
     "text": [
      "/home/saketh/anaconda3/lib/python3.7/site-packages/sklearn/linear_model/logistic.py:947: ConvergenceWarning: lbfgs failed to converge. Increase the number of iterations.\n",
      "  \"of iterations.\", ConvergenceWarning)\n"
     ]
    },
    {
     "name": "stdout",
     "output_type": "stream",
     "text": [
      "Spanish 10 2019\n",
      "Training complete!\n",
      "Macro F1:  0.699502\n",
      "\n",
      "https://ui.neptune.ai/Hatespeech-CNERG/MH-Bert/e/SAN-6723\n"
     ]
    },
    {
     "name": "stderr",
     "output_type": "stream",
     "text": [
      "/home/saketh/anaconda3/lib/python3.7/site-packages/sklearn/linear_model/logistic.py:947: ConvergenceWarning: lbfgs failed to converge. Increase the number of iterations.\n",
      "  \"of iterations.\", ConvergenceWarning)\n"
     ]
    },
    {
     "name": "stdout",
     "output_type": "stream",
     "text": [
      "Spanish 10 2020\n",
      "Training complete!\n",
      "Macro F1:  0.699502\n",
      "\n",
      "https://ui.neptune.ai/Hatespeech-CNERG/MH-Bert/e/SAN-6724\n"
     ]
    },
    {
     "name": "stderr",
     "output_type": "stream",
     "text": [
      "/home/saketh/anaconda3/lib/python3.7/site-packages/sklearn/linear_model/logistic.py:947: ConvergenceWarning: lbfgs failed to converge. Increase the number of iterations.\n",
      "  \"of iterations.\", ConvergenceWarning)\n"
     ]
    },
    {
     "name": "stdout",
     "output_type": "stream",
     "text": [
      "Spanish 10 2021\n",
      "Training complete!\n",
      "Macro F1:  0.700298\n",
      "\n",
      "https://ui.neptune.ai/Hatespeech-CNERG/MH-Bert/e/SAN-6725\n"
     ]
    },
    {
     "name": "stderr",
     "output_type": "stream",
     "text": [
      "/home/saketh/anaconda3/lib/python3.7/site-packages/sklearn/linear_model/logistic.py:947: ConvergenceWarning: lbfgs failed to converge. Increase the number of iterations.\n",
      "  \"of iterations.\", ConvergenceWarning)\n"
     ]
    },
    {
     "name": "stdout",
     "output_type": "stream",
     "text": [
      "Spanish 10 2022\n",
      "Training complete!\n",
      "Macro F1:  0.699502\n",
      "\n",
      "https://ui.neptune.ai/Hatespeech-CNERG/MH-Bert/e/SAN-6727\n",
      "French 0.01 2018\n",
      "Training complete!\n",
      "Macro F1:  0.620770\n",
      "\n",
      "https://ui.neptune.ai/Hatespeech-CNERG/MH-Bert/e/SAN-6728\n",
      "French 0.01 2019\n",
      "Training complete!\n",
      "Macro F1:  0.620770\n",
      "\n",
      "https://ui.neptune.ai/Hatespeech-CNERG/MH-Bert/e/SAN-6730\n",
      "French 0.01 2020\n",
      "Training complete!\n",
      "Macro F1:  0.620770\n",
      "\n",
      "https://ui.neptune.ai/Hatespeech-CNERG/MH-Bert/e/SAN-6731\n",
      "French 0.01 2021\n",
      "Training complete!\n",
      "Macro F1:  0.620770\n",
      "\n",
      "https://ui.neptune.ai/Hatespeech-CNERG/MH-Bert/e/SAN-6732\n",
      "French 0.01 2022\n",
      "Training complete!\n",
      "Macro F1:  0.620770\n",
      "\n",
      "https://ui.neptune.ai/Hatespeech-CNERG/MH-Bert/e/SAN-6733\n",
      "French 0.1 2018\n",
      "Training complete!\n",
      "Macro F1:  0.617184\n",
      "\n",
      "https://ui.neptune.ai/Hatespeech-CNERG/MH-Bert/e/SAN-6734\n",
      "French 0.1 2019\n",
      "Training complete!\n",
      "Macro F1:  0.617184\n",
      "\n",
      "https://ui.neptune.ai/Hatespeech-CNERG/MH-Bert/e/SAN-6735\n",
      "French 0.1 2020\n",
      "Training complete!\n",
      "Macro F1:  0.617184\n",
      "\n",
      "https://ui.neptune.ai/Hatespeech-CNERG/MH-Bert/e/SAN-6736\n",
      "French 0.1 2021\n",
      "Training complete!\n",
      "Macro F1:  0.617184\n",
      "\n",
      "https://ui.neptune.ai/Hatespeech-CNERG/MH-Bert/e/SAN-6737\n",
      "French 0.1 2022\n",
      "Training complete!\n",
      "Macro F1:  0.617184\n",
      "\n",
      "https://ui.neptune.ai/Hatespeech-CNERG/MH-Bert/e/SAN-6738\n",
      "French 1 2018\n",
      "Training complete!\n",
      "Macro F1:  0.676169\n",
      "\n",
      "https://ui.neptune.ai/Hatespeech-CNERG/MH-Bert/e/SAN-6739\n",
      "French 1 2019\n",
      "Training complete!\n",
      "Macro F1:  0.676169\n",
      "\n",
      "https://ui.neptune.ai/Hatespeech-CNERG/MH-Bert/e/SAN-6741\n",
      "French 1 2020\n",
      "Training complete!\n",
      "Macro F1:  0.676169\n",
      "\n",
      "https://ui.neptune.ai/Hatespeech-CNERG/MH-Bert/e/SAN-6742\n",
      "French 1 2021\n",
      "Training complete!\n",
      "Macro F1:  0.676169\n",
      "\n",
      "https://ui.neptune.ai/Hatespeech-CNERG/MH-Bert/e/SAN-6743\n",
      "French 1 2022\n",
      "Training complete!\n",
      "Macro F1:  0.676169\n",
      "\n",
      "https://ui.neptune.ai/Hatespeech-CNERG/MH-Bert/e/SAN-6744\n",
      "French 10 2018\n",
      "Training complete!\n",
      "Macro F1:  0.647908\n",
      "\n",
      "https://ui.neptune.ai/Hatespeech-CNERG/MH-Bert/e/SAN-6745\n",
      "French 10 2019\n",
      "Training complete!\n",
      "Macro F1:  0.647908\n",
      "\n",
      "https://ui.neptune.ai/Hatespeech-CNERG/MH-Bert/e/SAN-6746\n",
      "French 10 2020\n",
      "Training complete!\n",
      "Macro F1:  0.647908\n",
      "\n",
      "https://ui.neptune.ai/Hatespeech-CNERG/MH-Bert/e/SAN-6747\n",
      "French 10 2021\n",
      "Training complete!\n",
      "Macro F1:  0.647908\n",
      "\n",
      "https://ui.neptune.ai/Hatespeech-CNERG/MH-Bert/e/SAN-6748\n",
      "French 10 2022\n",
      "Training complete!\n",
      "Macro F1:  0.647908\n",
      "\n"
     ]
    }
   ],
   "source": [
    "# Same setup as above, run the LR model for all languages and c values, for 5 different seed values\n",
    "for lang in langs:\n",
    "    for c in [0.01,0.1,1,10]:\n",
    "        for seed_val in [2018,2019,2020,2021,2022]:\n",
    "            np.random.seed(seed_val)\n",
    "            train_test_full(lang,c,seed_val)"
   ]
  }
 ],
 "metadata": {
  "kernelspec": {
   "display_name": "Python 3",
   "language": "python",
   "name": "python3"
  },
  "language_info": {
   "codemirror_mode": {
    "name": "ipython",
    "version": 3
   },
   "file_extension": ".py",
   "mimetype": "text/x-python",
   "name": "python",
   "nbconvert_exporter": "python",
   "pygments_lexer": "ipython3",
   "version": "3.7.3"
  }
 },
 "nbformat": 4,
 "nbformat_minor": 2
}
