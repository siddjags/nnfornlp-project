{
 "cells": [
  {
   "cell_type": "code",
   "execution_count": 8,
   "metadata": {},
   "outputs": [],
   "source": [
    "# Necessary imports\n",
    "import pandas as pd\n",
    "import numpy as np\n",
    "from sklearn.linear_model import LogisticRegression\n",
    "from sklearn.ensemble import RandomForestClassifier\n",
    "from sklearn.metrics import accuracy_score, f1_score,confusion_matrix\n",
    "from sklearn.model_selection import StratifiedShuffleSplit, train_test_split\n",
    "import os\n",
    "import neptune"
   ]
  },
  {
   "cell_type": "code",
   "execution_count": 9,
   "metadata": {},
   "outputs": [],
   "source": [
    "# Variables needed for neptune.\n",
    "proxies = {\n",
    " \"http\": \"http://172.16.2.30:8080\",\n",
    " \"https\": \"http://172.16.2.30:8080\",\n",
    "}\n",
    "\n",
    "project_name='Hatespeech-CNERG/MH-Bert'\n",
    "api_token='Api token hidden for security purposes'\n"
   ]
  },
  {
   "cell_type": "code",
   "execution_count": 10,
   "metadata": {},
   "outputs": [
    {
     "name": "stderr",
     "output_type": "stream",
     "text": [
      "WARNING: It is not secure to place API token in your source code. You should treat it as a password to your account. It is strongly recommended to use NEPTUNE_API_TOKEN environment variable instead. Remember not to upload source file with API token to any public repository.\n"
     ]
    },
    {
     "data": {
      "text/plain": [
       "Project(Hatespeech-CNERG/MH-Bert)"
      ]
     },
     "execution_count": 10,
     "metadata": {},
     "output_type": "execute_result"
    }
   ],
   "source": [
    "# Initialize neptune for logging metrics\n",
    "neptune.init(project_name,api_token=api_token,proxies=proxies)\n",
    "neptune.set_project(project_name)"
   ]
  },
  {
   "cell_type": "code",
   "execution_count": 11,
   "metadata": {},
   "outputs": [],
   "source": [
    "# LASER embeddings for each data point are 1024 dimensional, with the ith value stored as ith column in the \n",
    "# csv file\n",
    "cols = [str(i) for i in range(1024)]"
   ]
  },
  {
   "cell_type": "code",
   "execution_count": 12,
   "metadata": {},
   "outputs": [],
   "source": [
    "# The languages on which we are running the baseline experiment.\n",
    "langs = ['Arabic','English','German','Indonesian','Italian','Polish','Portugese','Spanish','French']"
   ]
  },
  {
   "cell_type": "code",
   "execution_count": 13,
   "metadata": {},
   "outputs": [],
   "source": [
    "#Function to run baseline on sampled dataset\n",
    "# Parameters: \n",
    "#   lang - target language to test on. Training data will include points from other languages as well.\n",
    "#   sample - sample_ratio\n",
    "#   c - a hyperparameter for the logistic regression model. \n",
    "#       Refer to sklearn logistic regression docs (https://scikit-learn.org/stable/modules/generated/sklearn.linear_model.LogisticRegression.html)\n",
    "#       for explanation of this value\n",
    "#   samp_type - the way in which data points are sampled from the training data - stratified in our case\n",
    "#   seed_val - for setting the random seed value for reproducibility.\n",
    "def train_and_test_allbutone(lang,c,sample,samp_type,seed_val):\n",
    "    # Define the parameters of the experiment and create a neptune experiment with these parameters\n",
    "    params = {}\n",
    "    params['how_train'] = 'all_but_one'\n",
    "    params['random_seed'] = seed_val\n",
    "    params['sample_ratio'] = sample\n",
    "    params['lang'] = lang\n",
    "    params['samp_strategy'] = samp_type\n",
    "    params['C'] = c\n",
    "    name_one = lang+'_'+'all_but_one'+'_'+str(sample)+'_'+samp_type+'_'+str(seed_val)\n",
    "    neptune.create_experiment(name_one,params=params,send_hardware_metrics=False,run_monitoring_thread=False)\n",
    "    neptune.append_tag('LR all_but_one')\n",
    "    neptune.append_tag(lang)\n",
    "    neptune.append_tag('only_hate')\n",
    "    neptune.append_tag(samp_type)\n",
    "    columns = cols+['label']\n",
    "    # Load training dataset and split the embeddings and labels\n",
    "    train = pd.DataFrame(columns=columns)\n",
    "    for l in langs:\n",
    "        # For other languages, load full dataset\n",
    "        if l!=lang:\n",
    "            df = pd.read_csv(os.path.join('../Dataset/embedded/train',l+'.csv'))\n",
    "            df = df[columns]\n",
    "            train = pd.concat([train,df],axis=0)\n",
    "        # For target language, load a sample of the dataset\n",
    "        elif l==lang:\n",
    "            df = pd.read_csv(os.path.join('../Dataset/embedded/train',l+'.csv'))\n",
    "            df = df[columns]\n",
    "            df_x = df[cols]\n",
    "            df_y = df['label']\n",
    "            if samp_type=='equal':\n",
    "                df_ = train.groupby('label',group_keys=False).apply(lambda x: x.sample(int(sample/2),random_state=seed_val).sample(frac=1,random_state=seed_val).reset_index(drop=True))\n",
    "                train = pd.concat([train,df_],axis=0)\n",
    "            elif samp_type=='stratified':\n",
    "                sss = StratifiedShuffleSplit(n_splits=1,test_size=sample,random_state=seed_val)\n",
    "                a = list(sss.split(df_x,df_y))\n",
    "                df_ = df.iloc[a[0][1],:]\n",
    "                train = pd.concat([train,df_],axis=0)\n",
    "    # Shuffle the dataset to mix all the language points\n",
    "    train = train.sample(frac=1,random_state=seed_val).reset_index(drop=True)\n",
    "    train_x = train[cols]\n",
    "    train_y = train['label']\n",
    "    # Initialize a logistic regression model. The class weights are taken as balanced to account for data imbalance\n",
    "    model = LogisticRegression(C=c,solver='lbfgs',class_weight='balanced',random_state=seed_val)\n",
    "    # Train the LR model\n",
    "    model.fit(train_x,train_y)\n",
    "    # Read the test and validation datasets\n",
    "    val = pd.read_csv(os.path.join('../Dataset/embedded/val',lang+'.csv'))\n",
    "    test = pd.read_csv(os.path.join('../Dataset/embedded/test',lang+'.csv'))\n",
    "    test_x = test[cols]\n",
    "    test_y = test['label']\n",
    "    val_x = val[cols]\n",
    "    val_y = val['label']\n",
    "    print(lang,c,sample,samp_type,seed_val)\n",
    "    print('Training complete!')\n",
    "    # Get the predictions on the validation and test sets\n",
    "    pred = model.predict(test_x)\n",
    "    fscore = f1_score(test_y,pred,average='macro')\n",
    "    accuracy = accuracy_score(test_y,pred)\n",
    "    pred_val = model.predict(val_x)\n",
    "    val_fscore = f1_score(val_y,pred_val,average='macro')\n",
    "    val_accuracy = accuracy_score(val_y,pred_val)\n",
    "    print(\"Macro F1: \",'{0:.6f}'.format(f1_score(test_y,pred,average='macro')))\n",
    "    print('')\n",
    "    # Log the accuracy and macro f1 score values to neptune\n",
    "    neptune.log_metric('val_fscore',val_fscore)\n",
    "    neptune.log_metric('val_acc',val_accuracy)\n",
    "    neptune.log_metric('test_fscore',fscore)\n",
    "    neptune.log_metric('test_accuracy',accuracy)\n",
    "    neptune.stop()\n",
    "    return fscore"
   ]
  },
  {
   "cell_type": "code",
   "execution_count": 14,
   "metadata": {
    "collapsed": true
   },
   "outputs": [
    {
     "name": "stdout",
     "output_type": "stream",
     "text": [
      "https://ui.neptune.ai/Hatespeech-CNERG/MH-Bert/e/SAN-8029\n",
      "Arabic 0.01 16 stratified 2018\n",
      "Training complete!\n",
      "Macro F1:  0.296838\n",
      "\n",
      "https://ui.neptune.ai/Hatespeech-CNERG/MH-Bert/e/SAN-8033\n",
      "Arabic 0.01 16 stratified 2019\n",
      "Training complete!\n",
      "Macro F1:  0.298860\n",
      "\n",
      "https://ui.neptune.ai/Hatespeech-CNERG/MH-Bert/e/SAN-8037\n",
      "Arabic 0.01 16 stratified 2020\n",
      "Training complete!\n",
      "Macro F1:  0.297850\n",
      "\n",
      "https://ui.neptune.ai/Hatespeech-CNERG/MH-Bert/e/SAN-8041\n",
      "Arabic 0.01 16 stratified 2021\n",
      "Training complete!\n",
      "Macro F1:  0.298860\n",
      "\n",
      "https://ui.neptune.ai/Hatespeech-CNERG/MH-Bert/e/SAN-8043\n",
      "Arabic 0.01 16 stratified 2022\n",
      "Training complete!\n",
      "Macro F1:  0.297850\n",
      "\n",
      "https://ui.neptune.ai/Hatespeech-CNERG/MH-Bert/e/SAN-8045\n",
      "Arabic 0.01 32 stratified 2018\n",
      "Training complete!\n",
      "Macro F1:  0.298860\n",
      "\n",
      "https://ui.neptune.ai/Hatespeech-CNERG/MH-Bert/e/SAN-8048\n",
      "Arabic 0.01 32 stratified 2019\n",
      "Training complete!\n",
      "Macro F1:  0.298860\n",
      "\n",
      "https://ui.neptune.ai/Hatespeech-CNERG/MH-Bert/e/SAN-8050\n",
      "Arabic 0.01 32 stratified 2020\n",
      "Training complete!\n",
      "Macro F1:  0.298860\n",
      "\n",
      "https://ui.neptune.ai/Hatespeech-CNERG/MH-Bert/e/SAN-8052\n",
      "Arabic 0.01 32 stratified 2021\n",
      "Training complete!\n",
      "Macro F1:  0.298860\n",
      "\n",
      "https://ui.neptune.ai/Hatespeech-CNERG/MH-Bert/e/SAN-8054\n",
      "Arabic 0.01 32 stratified 2022\n",
      "Training complete!\n",
      "Macro F1:  0.298860\n",
      "\n",
      "https://ui.neptune.ai/Hatespeech-CNERG/MH-Bert/e/SAN-8056\n",
      "Arabic 0.01 64 stratified 2018\n",
      "Training complete!\n",
      "Macro F1:  0.298860\n",
      "\n",
      "https://ui.neptune.ai/Hatespeech-CNERG/MH-Bert/e/SAN-8059\n",
      "Arabic 0.01 64 stratified 2019\n",
      "Training complete!\n",
      "Macro F1:  0.298860\n",
      "\n",
      "https://ui.neptune.ai/Hatespeech-CNERG/MH-Bert/e/SAN-8061\n",
      "Arabic 0.01 64 stratified 2020\n",
      "Training complete!\n",
      "Macro F1:  0.298860\n",
      "\n",
      "https://ui.neptune.ai/Hatespeech-CNERG/MH-Bert/e/SAN-8064\n",
      "Arabic 0.01 64 stratified 2021\n",
      "Training complete!\n",
      "Macro F1:  0.298860\n",
      "\n",
      "https://ui.neptune.ai/Hatespeech-CNERG/MH-Bert/e/SAN-8067\n",
      "Arabic 0.01 64 stratified 2022\n",
      "Training complete!\n",
      "Macro F1:  0.298860\n",
      "\n",
      "https://ui.neptune.ai/Hatespeech-CNERG/MH-Bert/e/SAN-8070\n",
      "Arabic 0.01 128 stratified 2018\n",
      "Training complete!\n",
      "Macro F1:  0.298860\n",
      "\n",
      "https://ui.neptune.ai/Hatespeech-CNERG/MH-Bert/e/SAN-8073\n",
      "Arabic 0.01 128 stratified 2019\n",
      "Training complete!\n",
      "Macro F1:  0.298860\n",
      "\n",
      "https://ui.neptune.ai/Hatespeech-CNERG/MH-Bert/e/SAN-8076\n",
      "Arabic 0.01 128 stratified 2020\n",
      "Training complete!\n",
      "Macro F1:  0.298860\n",
      "\n",
      "https://ui.neptune.ai/Hatespeech-CNERG/MH-Bert/e/SAN-8078\n",
      "Arabic 0.01 128 stratified 2021\n",
      "Training complete!\n",
      "Macro F1:  0.298860\n",
      "\n",
      "https://ui.neptune.ai/Hatespeech-CNERG/MH-Bert/e/SAN-8082\n",
      "Arabic 0.01 128 stratified 2022\n",
      "Training complete!\n",
      "Macro F1:  0.298860\n",
      "\n",
      "https://ui.neptune.ai/Hatespeech-CNERG/MH-Bert/e/SAN-8083\n",
      "Arabic 0.01 256 stratified 2018\n",
      "Training complete!\n",
      "Macro F1:  0.301883\n",
      "\n",
      "https://ui.neptune.ai/Hatespeech-CNERG/MH-Bert/e/SAN-8088\n",
      "Arabic 0.01 256 stratified 2019\n",
      "Training complete!\n",
      "Macro F1:  0.299869\n",
      "\n",
      "https://ui.neptune.ai/Hatespeech-CNERG/MH-Bert/e/SAN-8090\n",
      "Arabic 0.01 256 stratified 2020\n",
      "Training complete!\n",
      "Macro F1:  0.301883\n",
      "\n",
      "https://ui.neptune.ai/Hatespeech-CNERG/MH-Bert/e/SAN-8094\n",
      "Arabic 0.01 256 stratified 2021\n",
      "Training complete!\n",
      "Macro F1:  0.299869\n",
      "\n",
      "https://ui.neptune.ai/Hatespeech-CNERG/MH-Bert/e/SAN-8096\n",
      "Arabic 0.01 256 stratified 2022\n",
      "Training complete!\n",
      "Macro F1:  0.302887\n",
      "\n",
      "https://ui.neptune.ai/Hatespeech-CNERG/MH-Bert/e/SAN-8098\n",
      "Arabic 0.1 16 stratified 2018\n",
      "Training complete!\n",
      "Macro F1:  0.414508\n",
      "\n",
      "https://ui.neptune.ai/Hatespeech-CNERG/MH-Bert/e/SAN-8101\n",
      "Arabic 0.1 16 stratified 2019\n",
      "Training complete!\n",
      "Macro F1:  0.414508\n",
      "\n",
      "https://ui.neptune.ai/Hatespeech-CNERG/MH-Bert/e/SAN-8104\n",
      "Arabic 0.1 16 stratified 2020\n",
      "Training complete!\n",
      "Macro F1:  0.415371\n",
      "\n",
      "https://ui.neptune.ai/Hatespeech-CNERG/MH-Bert/e/SAN-8108\n",
      "Arabic 0.1 16 stratified 2021\n",
      "Training complete!\n",
      "Macro F1:  0.415371\n",
      "\n",
      "https://ui.neptune.ai/Hatespeech-CNERG/MH-Bert/e/SAN-8111\n",
      "Arabic 0.1 16 stratified 2022\n",
      "Training complete!\n",
      "Macro F1:  0.415371\n",
      "\n",
      "https://ui.neptune.ai/Hatespeech-CNERG/MH-Bert/e/SAN-8115\n",
      "Arabic 0.1 32 stratified 2018\n",
      "Training complete!\n",
      "Macro F1:  0.415371\n",
      "\n",
      "https://ui.neptune.ai/Hatespeech-CNERG/MH-Bert/e/SAN-8117\n",
      "Arabic 0.1 32 stratified 2019\n",
      "Training complete!\n",
      "Macro F1:  0.415371\n",
      "\n",
      "https://ui.neptune.ai/Hatespeech-CNERG/MH-Bert/e/SAN-8120\n",
      "Arabic 0.1 32 stratified 2020\n",
      "Training complete!\n",
      "Macro F1:  0.416233\n",
      "\n",
      "https://ui.neptune.ai/Hatespeech-CNERG/MH-Bert/e/SAN-8123\n",
      "Arabic 0.1 32 stratified 2021\n",
      "Training complete!\n",
      "Macro F1:  0.416233\n",
      "\n",
      "https://ui.neptune.ai/Hatespeech-CNERG/MH-Bert/e/SAN-8126\n",
      "Arabic 0.1 32 stratified 2022\n",
      "Training complete!\n",
      "Macro F1:  0.416233\n",
      "\n",
      "https://ui.neptune.ai/Hatespeech-CNERG/MH-Bert/e/SAN-8129\n",
      "Arabic 0.1 64 stratified 2018\n",
      "Training complete!\n",
      "Macro F1:  0.416233\n",
      "\n",
      "https://ui.neptune.ai/Hatespeech-CNERG/MH-Bert/e/SAN-8133\n",
      "Arabic 0.1 64 stratified 2019\n",
      "Training complete!\n",
      "Macro F1:  0.417955\n",
      "\n",
      "https://ui.neptune.ai/Hatespeech-CNERG/MH-Bert/e/SAN-8134\n",
      "Arabic 0.1 64 stratified 2020\n",
      "Training complete!\n",
      "Macro F1:  0.417095\n",
      "\n",
      "https://ui.neptune.ai/Hatespeech-CNERG/MH-Bert/e/SAN-8139\n",
      "Arabic 0.1 64 stratified 2021\n",
      "Training complete!\n",
      "Macro F1:  0.417095\n",
      "\n",
      "https://ui.neptune.ai/Hatespeech-CNERG/MH-Bert/e/SAN-8141\n",
      "Arabic 0.1 64 stratified 2022\n",
      "Training complete!\n",
      "Macro F1:  0.417095\n",
      "\n",
      "https://ui.neptune.ai/Hatespeech-CNERG/MH-Bert/e/SAN-8145\n",
      "Arabic 0.1 128 stratified 2018\n",
      "Training complete!\n",
      "Macro F1:  0.418815\n",
      "\n",
      "https://ui.neptune.ai/Hatespeech-CNERG/MH-Bert/e/SAN-8147\n",
      "Arabic 0.1 128 stratified 2019\n",
      "Training complete!\n",
      "Macro F1:  0.418815\n",
      "\n",
      "https://ui.neptune.ai/Hatespeech-CNERG/MH-Bert/e/SAN-8151\n",
      "Arabic 0.1 128 stratified 2020\n",
      "Training complete!\n",
      "Macro F1:  0.418815\n",
      "\n",
      "https://ui.neptune.ai/Hatespeech-CNERG/MH-Bert/e/SAN-8153\n",
      "Arabic 0.1 128 stratified 2021\n",
      "Training complete!\n",
      "Macro F1:  0.419674\n",
      "\n",
      "https://ui.neptune.ai/Hatespeech-CNERG/MH-Bert/e/SAN-8157\n",
      "Arabic 0.1 128 stratified 2022\n",
      "Training complete!\n",
      "Macro F1:  0.418815\n",
      "\n",
      "https://ui.neptune.ai/Hatespeech-CNERG/MH-Bert/e/SAN-8159\n",
      "Arabic 0.1 256 stratified 2018\n",
      "Training complete!\n",
      "Macro F1:  0.423934\n",
      "\n",
      "https://ui.neptune.ai/Hatespeech-CNERG/MH-Bert/e/SAN-8163\n",
      "Arabic 0.1 256 stratified 2019\n",
      "Training complete!\n",
      "Macro F1:  0.423934\n",
      "\n",
      "https://ui.neptune.ai/Hatespeech-CNERG/MH-Bert/e/SAN-8167\n",
      "Arabic 0.1 256 stratified 2020\n",
      "Training complete!\n",
      "Macro F1:  0.424786\n",
      "\n",
      "https://ui.neptune.ai/Hatespeech-CNERG/MH-Bert/e/SAN-8169\n",
      "Arabic 0.1 256 stratified 2021\n",
      "Training complete!\n",
      "Macro F1:  0.423081\n",
      "\n",
      "https://ui.neptune.ai/Hatespeech-CNERG/MH-Bert/e/SAN-8172\n",
      "Arabic 0.1 256 stratified 2022\n",
      "Training complete!\n",
      "Macro F1:  0.424786\n",
      "\n",
      "https://ui.neptune.ai/Hatespeech-CNERG/MH-Bert/e/SAN-8174\n"
     ]
    },
    {
     "name": "stderr",
     "output_type": "stream",
     "text": [
      "/home/saketh/anaconda3/lib/python3.7/site-packages/sklearn/linear_model/logistic.py:947: ConvergenceWarning: lbfgs failed to converge. Increase the number of iterations.\n",
      "  \"of iterations.\", ConvergenceWarning)\n"
     ]
    },
    {
     "name": "stdout",
     "output_type": "stream",
     "text": [
      "Arabic 1 16 stratified 2018\n",
      "Training complete!\n",
      "Macro F1:  0.451482\n",
      "\n",
      "https://ui.neptune.ai/Hatespeech-CNERG/MH-Bert/e/SAN-8178\n"
     ]
    },
    {
     "name": "stderr",
     "output_type": "stream",
     "text": [
      "/home/saketh/anaconda3/lib/python3.7/site-packages/sklearn/linear_model/logistic.py:947: ConvergenceWarning: lbfgs failed to converge. Increase the number of iterations.\n",
      "  \"of iterations.\", ConvergenceWarning)\n"
     ]
    },
    {
     "name": "stdout",
     "output_type": "stream",
     "text": [
      "Arabic 1 16 stratified 2019\n",
      "Training complete!\n",
      "Macro F1:  0.449832\n",
      "\n",
      "https://ui.neptune.ai/Hatespeech-CNERG/MH-Bert/e/SAN-8181\n"
     ]
    },
    {
     "name": "stderr",
     "output_type": "stream",
     "text": [
      "/home/saketh/anaconda3/lib/python3.7/site-packages/sklearn/linear_model/logistic.py:947: ConvergenceWarning: lbfgs failed to converge. Increase the number of iterations.\n",
      "  \"of iterations.\", ConvergenceWarning)\n"
     ]
    },
    {
     "name": "stdout",
     "output_type": "stream",
     "text": [
      "Arabic 1 16 stratified 2020\n",
      "Training complete!\n",
      "Macro F1:  0.453129\n",
      "\n",
      "https://ui.neptune.ai/Hatespeech-CNERG/MH-Bert/e/SAN-8185\n"
     ]
    },
    {
     "name": "stderr",
     "output_type": "stream",
     "text": [
      "/home/saketh/anaconda3/lib/python3.7/site-packages/sklearn/linear_model/logistic.py:947: ConvergenceWarning: lbfgs failed to converge. Increase the number of iterations.\n",
      "  \"of iterations.\", ConvergenceWarning)\n"
     ]
    },
    {
     "name": "stdout",
     "output_type": "stream",
     "text": [
      "Arabic 1 16 stratified 2021\n",
      "Training complete!\n",
      "Macro F1:  0.453129\n",
      "\n",
      "https://ui.neptune.ai/Hatespeech-CNERG/MH-Bert/e/SAN-8188\n"
     ]
    },
    {
     "name": "stderr",
     "output_type": "stream",
     "text": [
      "/home/saketh/anaconda3/lib/python3.7/site-packages/sklearn/linear_model/logistic.py:947: ConvergenceWarning: lbfgs failed to converge. Increase the number of iterations.\n",
      "  \"of iterations.\", ConvergenceWarning)\n"
     ]
    },
    {
     "name": "stdout",
     "output_type": "stream",
     "text": [
      "Arabic 1 16 stratified 2022\n",
      "Training complete!\n",
      "Macro F1:  0.454773\n",
      "\n",
      "https://ui.neptune.ai/Hatespeech-CNERG/MH-Bert/e/SAN-8190\n"
     ]
    },
    {
     "name": "stderr",
     "output_type": "stream",
     "text": [
      "/home/saketh/anaconda3/lib/python3.7/site-packages/sklearn/linear_model/logistic.py:947: ConvergenceWarning: lbfgs failed to converge. Increase the number of iterations.\n",
      "  \"of iterations.\", ConvergenceWarning)\n"
     ]
    },
    {
     "name": "stdout",
     "output_type": "stream",
     "text": [
      "Arabic 1 32 stratified 2018\n",
      "Training complete!\n",
      "Macro F1:  0.454773\n",
      "\n",
      "https://ui.neptune.ai/Hatespeech-CNERG/MH-Bert/e/SAN-8193\n"
     ]
    },
    {
     "name": "stderr",
     "output_type": "stream",
     "text": [
      "/home/saketh/anaconda3/lib/python3.7/site-packages/sklearn/linear_model/logistic.py:947: ConvergenceWarning: lbfgs failed to converge. Increase the number of iterations.\n",
      "  \"of iterations.\", ConvergenceWarning)\n"
     ]
    },
    {
     "name": "stdout",
     "output_type": "stream",
     "text": [
      "Arabic 1 32 stratified 2019\n",
      "Training complete!\n",
      "Macro F1:  0.454773\n",
      "\n",
      "https://ui.neptune.ai/Hatespeech-CNERG/MH-Bert/e/SAN-8196\n"
     ]
    },
    {
     "name": "stderr",
     "output_type": "stream",
     "text": [
      "/home/saketh/anaconda3/lib/python3.7/site-packages/sklearn/linear_model/logistic.py:947: ConvergenceWarning: lbfgs failed to converge. Increase the number of iterations.\n",
      "  \"of iterations.\", ConvergenceWarning)\n"
     ]
    },
    {
     "name": "stdout",
     "output_type": "stream",
     "text": [
      "Arabic 1 32 stratified 2020\n",
      "Training complete!\n",
      "Macro F1:  0.454773\n",
      "\n",
      "https://ui.neptune.ai/Hatespeech-CNERG/MH-Bert/e/SAN-8197\n"
     ]
    },
    {
     "name": "stderr",
     "output_type": "stream",
     "text": [
      "/home/saketh/anaconda3/lib/python3.7/site-packages/sklearn/linear_model/logistic.py:947: ConvergenceWarning: lbfgs failed to converge. Increase the number of iterations.\n",
      "  \"of iterations.\", ConvergenceWarning)\n"
     ]
    },
    {
     "name": "stdout",
     "output_type": "stream",
     "text": [
      "Arabic 1 32 stratified 2021\n",
      "Training complete!\n",
      "Macro F1:  0.454773\n",
      "\n",
      "https://ui.neptune.ai/Hatespeech-CNERG/MH-Bert/e/SAN-8200\n"
     ]
    },
    {
     "name": "stderr",
     "output_type": "stream",
     "text": [
      "/home/saketh/anaconda3/lib/python3.7/site-packages/sklearn/linear_model/logistic.py:947: ConvergenceWarning: lbfgs failed to converge. Increase the number of iterations.\n",
      "  \"of iterations.\", ConvergenceWarning)\n"
     ]
    },
    {
     "name": "stdout",
     "output_type": "stream",
     "text": [
      "Arabic 1 32 stratified 2022\n",
      "Training complete!\n",
      "Macro F1:  0.454773\n",
      "\n",
      "https://ui.neptune.ai/Hatespeech-CNERG/MH-Bert/e/SAN-8202\n"
     ]
    },
    {
     "name": "stderr",
     "output_type": "stream",
     "text": [
      "/home/saketh/anaconda3/lib/python3.7/site-packages/sklearn/linear_model/logistic.py:947: ConvergenceWarning: lbfgs failed to converge. Increase the number of iterations.\n",
      "  \"of iterations.\", ConvergenceWarning)\n"
     ]
    },
    {
     "name": "stdout",
     "output_type": "stream",
     "text": [
      "Arabic 1 64 stratified 2018\n",
      "Training complete!\n",
      "Macro F1:  0.457234\n",
      "\n",
      "https://ui.neptune.ai/Hatespeech-CNERG/MH-Bert/e/SAN-8207\n"
     ]
    },
    {
     "name": "stderr",
     "output_type": "stream",
     "text": [
      "/home/saketh/anaconda3/lib/python3.7/site-packages/sklearn/linear_model/logistic.py:947: ConvergenceWarning: lbfgs failed to converge. Increase the number of iterations.\n",
      "  \"of iterations.\", ConvergenceWarning)\n"
     ]
    },
    {
     "name": "stdout",
     "output_type": "stream",
     "text": [
      "Arabic 1 64 stratified 2019\n",
      "Training complete!\n",
      "Macro F1:  0.458053\n",
      "\n",
      "https://ui.neptune.ai/Hatespeech-CNERG/MH-Bert/e/SAN-8210\n"
     ]
    },
    {
     "name": "stderr",
     "output_type": "stream",
     "text": [
      "/home/saketh/anaconda3/lib/python3.7/site-packages/sklearn/linear_model/logistic.py:947: ConvergenceWarning: lbfgs failed to converge. Increase the number of iterations.\n",
      "  \"of iterations.\", ConvergenceWarning)\n"
     ]
    },
    {
     "name": "stdout",
     "output_type": "stream",
     "text": [
      "Arabic 1 64 stratified 2020\n",
      "Training complete!\n",
      "Macro F1:  0.458053\n",
      "\n",
      "https://ui.neptune.ai/Hatespeech-CNERG/MH-Bert/e/SAN-8212\n"
     ]
    },
    {
     "name": "stderr",
     "output_type": "stream",
     "text": [
      "/home/saketh/anaconda3/lib/python3.7/site-packages/sklearn/linear_model/logistic.py:947: ConvergenceWarning: lbfgs failed to converge. Increase the number of iterations.\n",
      "  \"of iterations.\", ConvergenceWarning)\n"
     ]
    },
    {
     "name": "stdout",
     "output_type": "stream",
     "text": [
      "Arabic 1 64 stratified 2021\n",
      "Training complete!\n",
      "Macro F1:  0.458053\n",
      "\n",
      "https://ui.neptune.ai/Hatespeech-CNERG/MH-Bert/e/SAN-8215\n"
     ]
    },
    {
     "name": "stderr",
     "output_type": "stream",
     "text": [
      "/home/saketh/anaconda3/lib/python3.7/site-packages/sklearn/linear_model/logistic.py:947: ConvergenceWarning: lbfgs failed to converge. Increase the number of iterations.\n",
      "  \"of iterations.\", ConvergenceWarning)\n"
     ]
    },
    {
     "name": "stdout",
     "output_type": "stream",
     "text": [
      "Arabic 1 64 stratified 2022\n",
      "Training complete!\n",
      "Macro F1:  0.458053\n",
      "\n",
      "https://ui.neptune.ai/Hatespeech-CNERG/MH-Bert/e/SAN-8217\n"
     ]
    },
    {
     "name": "stderr",
     "output_type": "stream",
     "text": [
      "/home/saketh/anaconda3/lib/python3.7/site-packages/sklearn/linear_model/logistic.py:947: ConvergenceWarning: lbfgs failed to converge. Increase the number of iterations.\n",
      "  \"of iterations.\", ConvergenceWarning)\n"
     ]
    },
    {
     "name": "stdout",
     "output_type": "stream",
     "text": [
      "Arabic 1 128 stratified 2018\n",
      "Training complete!\n",
      "Macro F1:  0.462036\n",
      "\n",
      "https://ui.neptune.ai/Hatespeech-CNERG/MH-Bert/e/SAN-8221\n"
     ]
    },
    {
     "name": "stderr",
     "output_type": "stream",
     "text": [
      "/home/saketh/anaconda3/lib/python3.7/site-packages/sklearn/linear_model/logistic.py:947: ConvergenceWarning: lbfgs failed to converge. Increase the number of iterations.\n",
      "  \"of iterations.\", ConvergenceWarning)\n"
     ]
    },
    {
     "name": "stdout",
     "output_type": "stream",
     "text": [
      "Arabic 1 128 stratified 2019\n",
      "Training complete!\n",
      "Macro F1:  0.463768\n",
      "\n",
      "https://ui.neptune.ai/Hatespeech-CNERG/MH-Bert/e/SAN-8224\n"
     ]
    },
    {
     "name": "stderr",
     "output_type": "stream",
     "text": [
      "/home/saketh/anaconda3/lib/python3.7/site-packages/sklearn/linear_model/logistic.py:947: ConvergenceWarning: lbfgs failed to converge. Increase the number of iterations.\n",
      "  \"of iterations.\", ConvergenceWarning)\n"
     ]
    },
    {
     "name": "stdout",
     "output_type": "stream",
     "text": [
      "Arabic 1 128 stratified 2020\n",
      "Training complete!\n",
      "Macro F1:  0.465395\n",
      "\n",
      "https://ui.neptune.ai/Hatespeech-CNERG/MH-Bert/e/SAN-8226\n"
     ]
    },
    {
     "name": "stderr",
     "output_type": "stream",
     "text": [
      "/home/saketh/anaconda3/lib/python3.7/site-packages/sklearn/linear_model/logistic.py:947: ConvergenceWarning: lbfgs failed to converge. Increase the number of iterations.\n",
      "  \"of iterations.\", ConvergenceWarning)\n"
     ]
    },
    {
     "name": "stdout",
     "output_type": "stream",
     "text": [
      "Arabic 1 128 stratified 2021\n",
      "Training complete!\n",
      "Macro F1:  0.463662\n",
      "\n",
      "https://ui.neptune.ai/Hatespeech-CNERG/MH-Bert/e/SAN-8230\n"
     ]
    },
    {
     "name": "stderr",
     "output_type": "stream",
     "text": [
      "/home/saketh/anaconda3/lib/python3.7/site-packages/sklearn/linear_model/logistic.py:947: ConvergenceWarning: lbfgs failed to converge. Increase the number of iterations.\n",
      "  \"of iterations.\", ConvergenceWarning)\n"
     ]
    },
    {
     "name": "stdout",
     "output_type": "stream",
     "text": [
      "Arabic 1 128 stratified 2022\n",
      "Training complete!\n",
      "Macro F1:  0.463662\n",
      "\n",
      "https://ui.neptune.ai/Hatespeech-CNERG/MH-Bert/e/SAN-8232\n"
     ]
    },
    {
     "name": "stderr",
     "output_type": "stream",
     "text": [
      "/home/saketh/anaconda3/lib/python3.7/site-packages/sklearn/linear_model/logistic.py:947: ConvergenceWarning: lbfgs failed to converge. Increase the number of iterations.\n",
      "  \"of iterations.\", ConvergenceWarning)\n"
     ]
    },
    {
     "name": "stdout",
     "output_type": "stream",
     "text": [
      "Arabic 1 256 stratified 2018\n",
      "Training complete!\n",
      "Macro F1:  0.477119\n",
      "\n",
      "https://ui.neptune.ai/Hatespeech-CNERG/MH-Bert/e/SAN-8235\n"
     ]
    },
    {
     "name": "stderr",
     "output_type": "stream",
     "text": [
      "/home/saketh/anaconda3/lib/python3.7/site-packages/sklearn/linear_model/logistic.py:947: ConvergenceWarning: lbfgs failed to converge. Increase the number of iterations.\n",
      "  \"of iterations.\", ConvergenceWarning)\n"
     ]
    },
    {
     "name": "stdout",
     "output_type": "stream",
     "text": [
      "Arabic 1 256 stratified 2019\n",
      "Training complete!\n",
      "Macro F1:  0.475518\n",
      "\n",
      "https://ui.neptune.ai/Hatespeech-CNERG/MH-Bert/e/SAN-8238\n"
     ]
    },
    {
     "name": "stderr",
     "output_type": "stream",
     "text": [
      "/home/saketh/anaconda3/lib/python3.7/site-packages/sklearn/linear_model/logistic.py:947: ConvergenceWarning: lbfgs failed to converge. Increase the number of iterations.\n",
      "  \"of iterations.\", ConvergenceWarning)\n"
     ]
    },
    {
     "name": "stdout",
     "output_type": "stream",
     "text": [
      "Arabic 1 256 stratified 2020\n",
      "Training complete!\n",
      "Macro F1:  0.476180\n",
      "\n",
      "https://ui.neptune.ai/Hatespeech-CNERG/MH-Bert/e/SAN-8240\n"
     ]
    },
    {
     "name": "stderr",
     "output_type": "stream",
     "text": [
      "/home/saketh/anaconda3/lib/python3.7/site-packages/sklearn/linear_model/logistic.py:947: ConvergenceWarning: lbfgs failed to converge. Increase the number of iterations.\n",
      "  \"of iterations.\", ConvergenceWarning)\n"
     ]
    },
    {
     "name": "stdout",
     "output_type": "stream",
     "text": [
      "Arabic 1 256 stratified 2021\n",
      "Training complete!\n",
      "Macro F1:  0.473916\n",
      "\n",
      "https://ui.neptune.ai/Hatespeech-CNERG/MH-Bert/e/SAN-8243\n"
     ]
    },
    {
     "name": "stderr",
     "output_type": "stream",
     "text": [
      "/home/saketh/anaconda3/lib/python3.7/site-packages/sklearn/linear_model/logistic.py:947: ConvergenceWarning: lbfgs failed to converge. Increase the number of iterations.\n",
      "  \"of iterations.\", ConvergenceWarning)\n"
     ]
    },
    {
     "name": "stdout",
     "output_type": "stream",
     "text": [
      "Arabic 1 256 stratified 2022\n",
      "Training complete!\n",
      "Macro F1:  0.476180\n",
      "\n",
      "https://ui.neptune.ai/Hatespeech-CNERG/MH-Bert/e/SAN-8247\n"
     ]
    },
    {
     "name": "stderr",
     "output_type": "stream",
     "text": [
      "/home/saketh/anaconda3/lib/python3.7/site-packages/sklearn/linear_model/logistic.py:947: ConvergenceWarning: lbfgs failed to converge. Increase the number of iterations.\n",
      "  \"of iterations.\", ConvergenceWarning)\n"
     ]
    },
    {
     "name": "stdout",
     "output_type": "stream",
     "text": [
      "Arabic 10 16 stratified 2018\n",
      "Training complete!\n",
      "Macro F1:  0.464475\n",
      "\n",
      "https://ui.neptune.ai/Hatespeech-CNERG/MH-Bert/e/SAN-8250\n"
     ]
    },
    {
     "name": "stderr",
     "output_type": "stream",
     "text": [
      "/home/saketh/anaconda3/lib/python3.7/site-packages/sklearn/linear_model/logistic.py:947: ConvergenceWarning: lbfgs failed to converge. Increase the number of iterations.\n",
      "  \"of iterations.\", ConvergenceWarning)\n"
     ]
    },
    {
     "name": "stdout",
     "output_type": "stream",
     "text": [
      "Arabic 10 16 stratified 2019\n",
      "Training complete!\n",
      "Macro F1:  0.463662\n",
      "\n",
      "https://ui.neptune.ai/Hatespeech-CNERG/MH-Bert/e/SAN-8253\n"
     ]
    },
    {
     "name": "stderr",
     "output_type": "stream",
     "text": [
      "/home/saketh/anaconda3/lib/python3.7/site-packages/sklearn/linear_model/logistic.py:947: ConvergenceWarning: lbfgs failed to converge. Increase the number of iterations.\n",
      "  \"of iterations.\", ConvergenceWarning)\n"
     ]
    },
    {
     "name": "stdout",
     "output_type": "stream",
     "text": [
      "Arabic 10 16 stratified 2020\n",
      "Training complete!\n",
      "Macro F1:  0.464475\n",
      "\n",
      "https://ui.neptune.ai/Hatespeech-CNERG/MH-Bert/e/SAN-8255\n"
     ]
    },
    {
     "name": "stderr",
     "output_type": "stream",
     "text": [
      "/home/saketh/anaconda3/lib/python3.7/site-packages/sklearn/linear_model/logistic.py:947: ConvergenceWarning: lbfgs failed to converge. Increase the number of iterations.\n",
      "  \"of iterations.\", ConvergenceWarning)\n"
     ]
    },
    {
     "name": "stdout",
     "output_type": "stream",
     "text": [
      "Arabic 10 16 stratified 2021\n",
      "Training complete!\n",
      "Macro F1:  0.466908\n",
      "\n",
      "https://ui.neptune.ai/Hatespeech-CNERG/MH-Bert/e/SAN-8257\n"
     ]
    },
    {
     "name": "stderr",
     "output_type": "stream",
     "text": [
      "/home/saketh/anaconda3/lib/python3.7/site-packages/sklearn/linear_model/logistic.py:947: ConvergenceWarning: lbfgs failed to converge. Increase the number of iterations.\n",
      "  \"of iterations.\", ConvergenceWarning)\n"
     ]
    },
    {
     "name": "stdout",
     "output_type": "stream",
     "text": [
      "Arabic 10 16 stratified 2022\n",
      "Training complete!\n",
      "Macro F1:  0.466097\n",
      "\n",
      "https://ui.neptune.ai/Hatespeech-CNERG/MH-Bert/e/SAN-8260\n"
     ]
    },
    {
     "name": "stderr",
     "output_type": "stream",
     "text": [
      "/home/saketh/anaconda3/lib/python3.7/site-packages/sklearn/linear_model/logistic.py:947: ConvergenceWarning: lbfgs failed to converge. Increase the number of iterations.\n",
      "  \"of iterations.\", ConvergenceWarning)\n"
     ]
    },
    {
     "name": "stdout",
     "output_type": "stream",
     "text": [
      "Arabic 10 32 stratified 2018\n",
      "Training complete!\n",
      "Macro F1:  0.466908\n",
      "\n",
      "https://ui.neptune.ai/Hatespeech-CNERG/MH-Bert/e/SAN-8263\n"
     ]
    },
    {
     "name": "stderr",
     "output_type": "stream",
     "text": [
      "/home/saketh/anaconda3/lib/python3.7/site-packages/sklearn/linear_model/logistic.py:947: ConvergenceWarning: lbfgs failed to converge. Increase the number of iterations.\n",
      "  \"of iterations.\", ConvergenceWarning)\n"
     ]
    },
    {
     "name": "stdout",
     "output_type": "stream",
     "text": [
      "Arabic 10 32 stratified 2019\n",
      "Training complete!\n",
      "Macro F1:  0.466908\n",
      "\n",
      "https://ui.neptune.ai/Hatespeech-CNERG/MH-Bert/e/SAN-8266\n"
     ]
    },
    {
     "name": "stderr",
     "output_type": "stream",
     "text": [
      "/home/saketh/anaconda3/lib/python3.7/site-packages/sklearn/linear_model/logistic.py:947: ConvergenceWarning: lbfgs failed to converge. Increase the number of iterations.\n",
      "  \"of iterations.\", ConvergenceWarning)\n"
     ]
    },
    {
     "name": "stdout",
     "output_type": "stream",
     "text": [
      "Arabic 10 32 stratified 2020\n",
      "Training complete!\n",
      "Macro F1:  0.465286\n",
      "\n",
      "https://ui.neptune.ai/Hatespeech-CNERG/MH-Bert/e/SAN-8269\n"
     ]
    },
    {
     "name": "stderr",
     "output_type": "stream",
     "text": [
      "/home/saketh/anaconda3/lib/python3.7/site-packages/sklearn/linear_model/logistic.py:947: ConvergenceWarning: lbfgs failed to converge. Increase the number of iterations.\n",
      "  \"of iterations.\", ConvergenceWarning)\n"
     ]
    },
    {
     "name": "stdout",
     "output_type": "stream",
     "text": [
      "Arabic 10 32 stratified 2021\n",
      "Training complete!\n",
      "Macro F1:  0.466793\n",
      "\n",
      "https://ui.neptune.ai/Hatespeech-CNERG/MH-Bert/e/SAN-8273\n"
     ]
    },
    {
     "name": "stderr",
     "output_type": "stream",
     "text": [
      "/home/saketh/anaconda3/lib/python3.7/site-packages/sklearn/linear_model/logistic.py:947: ConvergenceWarning: lbfgs failed to converge. Increase the number of iterations.\n",
      "  \"of iterations.\", ConvergenceWarning)\n"
     ]
    },
    {
     "name": "stdout",
     "output_type": "stream",
     "text": [
      "Arabic 10 32 stratified 2022\n",
      "Training complete!\n",
      "Macro F1:  0.465984\n",
      "\n",
      "https://ui.neptune.ai/Hatespeech-CNERG/MH-Bert/e/SAN-8276\n"
     ]
    },
    {
     "name": "stderr",
     "output_type": "stream",
     "text": [
      "/home/saketh/anaconda3/lib/python3.7/site-packages/sklearn/linear_model/logistic.py:947: ConvergenceWarning: lbfgs failed to converge. Increase the number of iterations.\n",
      "  \"of iterations.\", ConvergenceWarning)\n"
     ]
    },
    {
     "name": "stdout",
     "output_type": "stream",
     "text": [
      "Arabic 10 64 stratified 2018\n",
      "Training complete!\n",
      "Macro F1:  0.472564\n",
      "\n",
      "https://ui.neptune.ai/Hatespeech-CNERG/MH-Bert/e/SAN-8277\n"
     ]
    },
    {
     "name": "stderr",
     "output_type": "stream",
     "text": [
      "/home/saketh/anaconda3/lib/python3.7/site-packages/sklearn/linear_model/logistic.py:947: ConvergenceWarning: lbfgs failed to converge. Increase the number of iterations.\n",
      "  \"of iterations.\", ConvergenceWarning)\n"
     ]
    },
    {
     "name": "stdout",
     "output_type": "stream",
     "text": [
      "Arabic 10 64 stratified 2019\n",
      "Training complete!\n",
      "Macro F1:  0.470144\n",
      "\n",
      "https://ui.neptune.ai/Hatespeech-CNERG/MH-Bert/e/SAN-8280\n"
     ]
    },
    {
     "name": "stderr",
     "output_type": "stream",
     "text": [
      "/home/saketh/anaconda3/lib/python3.7/site-packages/sklearn/linear_model/logistic.py:947: ConvergenceWarning: lbfgs failed to converge. Increase the number of iterations.\n",
      "  \"of iterations.\", ConvergenceWarning)\n"
     ]
    },
    {
     "name": "stdout",
     "output_type": "stream",
     "text": [
      "Arabic 10 64 stratified 2020\n",
      "Training complete!\n",
      "Macro F1:  0.469336\n",
      "\n",
      "https://ui.neptune.ai/Hatespeech-CNERG/MH-Bert/e/SAN-8282\n"
     ]
    },
    {
     "name": "stderr",
     "output_type": "stream",
     "text": [
      "/home/saketh/anaconda3/lib/python3.7/site-packages/sklearn/linear_model/logistic.py:947: ConvergenceWarning: lbfgs failed to converge. Increase the number of iterations.\n",
      "  \"of iterations.\", ConvergenceWarning)\n"
     ]
    },
    {
     "name": "stdout",
     "output_type": "stream",
     "text": [
      "Arabic 10 64 stratified 2021\n",
      "Training complete!\n",
      "Macro F1:  0.471758\n",
      "\n",
      "https://ui.neptune.ai/Hatespeech-CNERG/MH-Bert/e/SAN-8286\n"
     ]
    },
    {
     "name": "stderr",
     "output_type": "stream",
     "text": [
      "/home/saketh/anaconda3/lib/python3.7/site-packages/sklearn/linear_model/logistic.py:947: ConvergenceWarning: lbfgs failed to converge. Increase the number of iterations.\n",
      "  \"of iterations.\", ConvergenceWarning)\n"
     ]
    },
    {
     "name": "stdout",
     "output_type": "stream",
     "text": [
      "Arabic 10 64 stratified 2022\n",
      "Training complete!\n",
      "Macro F1:  0.468409\n",
      "\n",
      "https://ui.neptune.ai/Hatespeech-CNERG/MH-Bert/e/SAN-8288\n"
     ]
    },
    {
     "name": "stderr",
     "output_type": "stream",
     "text": [
      "/home/saketh/anaconda3/lib/python3.7/site-packages/sklearn/linear_model/logistic.py:947: ConvergenceWarning: lbfgs failed to converge. Increase the number of iterations.\n",
      "  \"of iterations.\", ConvergenceWarning)\n"
     ]
    },
    {
     "name": "stdout",
     "output_type": "stream",
     "text": [
      "Arabic 10 128 stratified 2018\n",
      "Training complete!\n",
      "Macro F1:  0.474850\n",
      "\n",
      "https://ui.neptune.ai/Hatespeech-CNERG/MH-Bert/e/SAN-8291\n"
     ]
    },
    {
     "name": "stderr",
     "output_type": "stream",
     "text": [
      "/home/saketh/anaconda3/lib/python3.7/site-packages/sklearn/linear_model/logistic.py:947: ConvergenceWarning: lbfgs failed to converge. Increase the number of iterations.\n",
      "  \"of iterations.\", ConvergenceWarning)\n"
     ]
    },
    {
     "name": "stdout",
     "output_type": "stream",
     "text": [
      "Arabic 10 128 stratified 2019\n",
      "Training complete!\n",
      "Macro F1:  0.479655\n",
      "\n",
      "https://ui.neptune.ai/Hatespeech-CNERG/MH-Bert/e/SAN-8294\n"
     ]
    },
    {
     "name": "stderr",
     "output_type": "stream",
     "text": [
      "/home/saketh/anaconda3/lib/python3.7/site-packages/sklearn/linear_model/logistic.py:947: ConvergenceWarning: lbfgs failed to converge. Increase the number of iterations.\n",
      "  \"of iterations.\", ConvergenceWarning)\n"
     ]
    },
    {
     "name": "stdout",
     "output_type": "stream",
     "text": [
      "Arabic 10 128 stratified 2020\n",
      "Training complete!\n",
      "Macro F1:  0.478056\n",
      "\n",
      "https://ui.neptune.ai/Hatespeech-CNERG/MH-Bert/e/SAN-8296\n"
     ]
    },
    {
     "name": "stderr",
     "output_type": "stream",
     "text": [
      "/home/saketh/anaconda3/lib/python3.7/site-packages/sklearn/linear_model/logistic.py:947: ConvergenceWarning: lbfgs failed to converge. Increase the number of iterations.\n",
      "  \"of iterations.\", ConvergenceWarning)\n"
     ]
    },
    {
     "name": "stdout",
     "output_type": "stream",
     "text": [
      "Arabic 10 128 stratified 2021\n",
      "Training complete!\n",
      "Macro F1:  0.480454\n",
      "\n",
      "https://ui.neptune.ai/Hatespeech-CNERG/MH-Bert/e/SAN-8299\n"
     ]
    },
    {
     "name": "stderr",
     "output_type": "stream",
     "text": [
      "/home/saketh/anaconda3/lib/python3.7/site-packages/sklearn/linear_model/logistic.py:947: ConvergenceWarning: lbfgs failed to converge. Increase the number of iterations.\n",
      "  \"of iterations.\", ConvergenceWarning)\n"
     ]
    },
    {
     "name": "stdout",
     "output_type": "stream",
     "text": [
      "Arabic 10 128 stratified 2022\n",
      "Training complete!\n",
      "Macro F1:  0.478856\n",
      "\n",
      "https://ui.neptune.ai/Hatespeech-CNERG/MH-Bert/e/SAN-8300\n"
     ]
    },
    {
     "name": "stderr",
     "output_type": "stream",
     "text": [
      "/home/saketh/anaconda3/lib/python3.7/site-packages/sklearn/linear_model/logistic.py:947: ConvergenceWarning: lbfgs failed to converge. Increase the number of iterations.\n",
      "  \"of iterations.\", ConvergenceWarning)\n"
     ]
    },
    {
     "name": "stdout",
     "output_type": "stream",
     "text": [
      "Arabic 10 256 stratified 2018\n",
      "Training complete!\n",
      "Macro F1:  0.489840\n",
      "\n",
      "https://ui.neptune.ai/Hatespeech-CNERG/MH-Bert/e/SAN-8304\n"
     ]
    },
    {
     "name": "stderr",
     "output_type": "stream",
     "text": [
      "/home/saketh/anaconda3/lib/python3.7/site-packages/sklearn/linear_model/logistic.py:947: ConvergenceWarning: lbfgs failed to converge. Increase the number of iterations.\n",
      "  \"of iterations.\", ConvergenceWarning)\n"
     ]
    },
    {
     "name": "stdout",
     "output_type": "stream",
     "text": [
      "Arabic 10 256 stratified 2019\n",
      "Training complete!\n",
      "Macro F1:  0.495530\n",
      "\n",
      "https://ui.neptune.ai/Hatespeech-CNERG/MH-Bert/e/SAN-8306\n"
     ]
    },
    {
     "name": "stderr",
     "output_type": "stream",
     "text": [
      "/home/saketh/anaconda3/lib/python3.7/site-packages/sklearn/linear_model/logistic.py:947: ConvergenceWarning: lbfgs failed to converge. Increase the number of iterations.\n",
      "  \"of iterations.\", ConvergenceWarning)\n"
     ]
    },
    {
     "name": "stdout",
     "output_type": "stream",
     "text": [
      "Arabic 10 256 stratified 2020\n",
      "Training complete!\n",
      "Macro F1:  0.495363\n",
      "\n",
      "https://ui.neptune.ai/Hatespeech-CNERG/MH-Bert/e/SAN-8309\n"
     ]
    },
    {
     "name": "stderr",
     "output_type": "stream",
     "text": [
      "/home/saketh/anaconda3/lib/python3.7/site-packages/sklearn/linear_model/logistic.py:947: ConvergenceWarning: lbfgs failed to converge. Increase the number of iterations.\n",
      "  \"of iterations.\", ConvergenceWarning)\n"
     ]
    },
    {
     "name": "stdout",
     "output_type": "stream",
     "text": [
      "Arabic 10 256 stratified 2021\n",
      "Training complete!\n",
      "Macro F1:  0.490631\n",
      "\n",
      "https://ui.neptune.ai/Hatespeech-CNERG/MH-Bert/e/SAN-8311\n"
     ]
    },
    {
     "name": "stderr",
     "output_type": "stream",
     "text": [
      "/home/saketh/anaconda3/lib/python3.7/site-packages/sklearn/linear_model/logistic.py:947: ConvergenceWarning: lbfgs failed to converge. Increase the number of iterations.\n",
      "  \"of iterations.\", ConvergenceWarning)\n"
     ]
    },
    {
     "name": "stdout",
     "output_type": "stream",
     "text": [
      "Arabic 10 256 stratified 2022\n",
      "Training complete!\n",
      "Macro F1:  0.493788\n",
      "\n",
      "https://ui.neptune.ai/Hatespeech-CNERG/MH-Bert/e/SAN-8314\n",
      "English 0.01 16 stratified 2018\n",
      "Training complete!\n",
      "Macro F1:  0.605195\n",
      "\n",
      "https://ui.neptune.ai/Hatespeech-CNERG/MH-Bert/e/SAN-8316\n",
      "English 0.01 16 stratified 2019\n",
      "Training complete!\n",
      "Macro F1:  0.605138\n",
      "\n",
      "https://ui.neptune.ai/Hatespeech-CNERG/MH-Bert/e/SAN-8318\n",
      "English 0.01 16 stratified 2020\n",
      "Training complete!\n",
      "Macro F1:  0.605025\n",
      "\n",
      "https://ui.neptune.ai/Hatespeech-CNERG/MH-Bert/e/SAN-8320\n",
      "English 0.01 16 stratified 2021\n",
      "Training complete!\n",
      "Macro F1:  0.604856\n",
      "\n",
      "https://ui.neptune.ai/Hatespeech-CNERG/MH-Bert/e/SAN-8324\n",
      "English 0.01 16 stratified 2022\n",
      "Training complete!\n",
      "Macro F1:  0.605308\n",
      "\n",
      "https://ui.neptune.ai/Hatespeech-CNERG/MH-Bert/e/SAN-8326\n",
      "English 0.01 32 stratified 2018\n",
      "Training complete!\n",
      "Macro F1:  0.605350\n",
      "\n",
      "https://ui.neptune.ai/Hatespeech-CNERG/MH-Bert/e/SAN-8329\n",
      "English 0.01 32 stratified 2019\n",
      "Training complete!\n",
      "Macro F1:  0.605237\n",
      "\n",
      "https://ui.neptune.ai/Hatespeech-CNERG/MH-Bert/e/SAN-8331\n",
      "English 0.01 32 stratified 2020\n",
      "Training complete!\n",
      "Macro F1:  0.605110\n",
      "\n",
      "https://ui.neptune.ai/Hatespeech-CNERG/MH-Bert/e/SAN-8334\n",
      "English 0.01 32 stratified 2021\n",
      "Training complete!\n",
      "Macro F1:  0.605053\n",
      "\n",
      "https://ui.neptune.ai/Hatespeech-CNERG/MH-Bert/e/SAN-8336\n",
      "English 0.01 32 stratified 2022\n",
      "Training complete!\n",
      "Macro F1:  0.605110\n",
      "\n",
      "https://ui.neptune.ai/Hatespeech-CNERG/MH-Bert/e/SAN-8337\n",
      "English 0.01 64 stratified 2018\n",
      "Training complete!\n",
      "Macro F1:  0.605251\n",
      "\n",
      "https://ui.neptune.ai/Hatespeech-CNERG/MH-Bert/e/SAN-8340\n",
      "English 0.01 64 stratified 2019\n",
      "Training complete!\n",
      "Macro F1:  0.605561\n",
      "\n",
      "https://ui.neptune.ai/Hatespeech-CNERG/MH-Bert/e/SAN-8341\n",
      "English 0.01 64 stratified 2020\n",
      "Training complete!\n",
      "Macro F1:  0.605378\n",
      "\n",
      "https://ui.neptune.ai/Hatespeech-CNERG/MH-Bert/e/SAN-8345\n",
      "English 0.01 64 stratified 2021\n",
      "Training complete!\n",
      "Macro F1:  0.605251\n",
      "\n",
      "https://ui.neptune.ai/Hatespeech-CNERG/MH-Bert/e/SAN-8347\n",
      "English 0.01 64 stratified 2022\n",
      "Training complete!\n",
      "Macro F1:  0.605039\n",
      "\n",
      "https://ui.neptune.ai/Hatespeech-CNERG/MH-Bert/e/SAN-8349\n",
      "English 0.01 128 stratified 2018\n",
      "Training complete!\n",
      "Macro F1:  0.605263\n",
      "\n",
      "https://ui.neptune.ai/Hatespeech-CNERG/MH-Bert/e/SAN-8350\n",
      "English 0.01 128 stratified 2019\n",
      "Training complete!\n",
      "Macro F1:  0.605501\n",
      "\n",
      "https://ui.neptune.ai/Hatespeech-CNERG/MH-Bert/e/SAN-8353\n",
      "English 0.01 128 stratified 2020\n",
      "Training complete!\n",
      "Macro F1:  0.605304\n",
      "\n",
      "https://ui.neptune.ai/Hatespeech-CNERG/MH-Bert/e/SAN-8355\n",
      "English 0.01 128 stratified 2021\n",
      "Training complete!\n",
      "Macro F1:  0.605273\n",
      "\n",
      "https://ui.neptune.ai/Hatespeech-CNERG/MH-Bert/e/SAN-8357\n",
      "English 0.01 128 stratified 2022\n",
      "Training complete!\n",
      "Macro F1:  0.605844\n",
      "\n",
      "https://ui.neptune.ai/Hatespeech-CNERG/MH-Bert/e/SAN-8359\n",
      "English 0.01 256 stratified 2018\n",
      "Training complete!\n",
      "Macro F1:  0.606350\n",
      "\n",
      "https://ui.neptune.ai/Hatespeech-CNERG/MH-Bert/e/SAN-8361\n",
      "English 0.01 256 stratified 2019\n",
      "Training complete!\n",
      "Macro F1:  0.606305\n",
      "\n",
      "https://ui.neptune.ai/Hatespeech-CNERG/MH-Bert/e/SAN-8363\n",
      "English 0.01 256 stratified 2020\n",
      "Training complete!\n",
      "Macro F1:  0.605724\n",
      "\n",
      "https://ui.neptune.ai/Hatespeech-CNERG/MH-Bert/e/SAN-8365\n",
      "English 0.01 256 stratified 2021\n",
      "Training complete!\n",
      "Macro F1:  0.605692\n",
      "\n",
      "https://ui.neptune.ai/Hatespeech-CNERG/MH-Bert/e/SAN-8367\n",
      "English 0.01 256 stratified 2022\n",
      "Training complete!\n",
      "Macro F1:  0.605840\n",
      "\n",
      "https://ui.neptune.ai/Hatespeech-CNERG/MH-Bert/e/SAN-8368\n",
      "English 0.1 16 stratified 2018\n",
      "Training complete!\n",
      "Macro F1:  0.590623\n",
      "\n",
      "https://ui.neptune.ai/Hatespeech-CNERG/MH-Bert/e/SAN-8371\n",
      "English 0.1 16 stratified 2019\n",
      "Training complete!\n",
      "Macro F1:  0.590828\n",
      "\n",
      "https://ui.neptune.ai/Hatespeech-CNERG/MH-Bert/e/SAN-8373\n",
      "English 0.1 16 stratified 2020\n",
      "Training complete!\n",
      "Macro F1:  0.590707\n",
      "\n",
      "https://ui.neptune.ai/Hatespeech-CNERG/MH-Bert/e/SAN-8377\n",
      "English 0.1 16 stratified 2021\n",
      "Training complete!\n",
      "Macro F1:  0.591054\n",
      "\n",
      "https://ui.neptune.ai/Hatespeech-CNERG/MH-Bert/e/SAN-8378\n",
      "English 0.1 16 stratified 2022\n",
      "Training complete!\n",
      "Macro F1:  0.590807\n",
      "\n",
      "https://ui.neptune.ai/Hatespeech-CNERG/MH-Bert/e/SAN-8379\n",
      "English 0.1 32 stratified 2018\n",
      "Training complete!\n",
      "Macro F1:  0.590499\n",
      "\n",
      "https://ui.neptune.ai/Hatespeech-CNERG/MH-Bert/e/SAN-8383\n",
      "English 0.1 32 stratified 2019\n",
      "Training complete!\n",
      "Macro F1:  0.591175\n",
      "\n",
      "https://ui.neptune.ai/Hatespeech-CNERG/MH-Bert/e/SAN-8384\n",
      "English 0.1 32 stratified 2020\n",
      "Training complete!\n",
      "Macro F1:  0.590705\n",
      "\n",
      "https://ui.neptune.ai/Hatespeech-CNERG/MH-Bert/e/SAN-8386\n",
      "English 0.1 32 stratified 2021\n",
      "Training complete!\n",
      "Macro F1:  0.590562\n",
      "\n",
      "https://ui.neptune.ai/Hatespeech-CNERG/MH-Bert/e/SAN-8388\n",
      "English 0.1 32 stratified 2022\n",
      "Training complete!\n",
      "Macro F1:  0.591196\n",
      "\n",
      "https://ui.neptune.ai/Hatespeech-CNERG/MH-Bert/e/SAN-8391\n",
      "English 0.1 64 stratified 2018\n",
      "Training complete!\n",
      "Macro F1:  0.591092\n",
      "\n",
      "https://ui.neptune.ai/Hatespeech-CNERG/MH-Bert/e/SAN-8393\n",
      "English 0.1 64 stratified 2019\n",
      "Training complete!\n",
      "Macro F1:  0.592240\n",
      "\n",
      "https://ui.neptune.ai/Hatespeech-CNERG/MH-Bert/e/SAN-8394\n",
      "English 0.1 64 stratified 2020\n",
      "Training complete!\n",
      "Macro F1:  0.591480\n",
      "\n",
      "https://ui.neptune.ai/Hatespeech-CNERG/MH-Bert/e/SAN-8396\n",
      "English 0.1 64 stratified 2021\n",
      "Training complete!\n",
      "Macro F1:  0.591134\n",
      "\n",
      "https://ui.neptune.ai/Hatespeech-CNERG/MH-Bert/e/SAN-8399\n",
      "English 0.1 64 stratified 2022\n",
      "Training complete!\n",
      "Macro F1:  0.591338\n",
      "\n",
      "https://ui.neptune.ai/Hatespeech-CNERG/MH-Bert/e/SAN-8401\n",
      "English 0.1 128 stratified 2018\n",
      "Training complete!\n",
      "Macro F1:  0.591664\n",
      "\n",
      "https://ui.neptune.ai/Hatespeech-CNERG/MH-Bert/e/SAN-8402\n",
      "English 0.1 128 stratified 2019\n",
      "Training complete!\n",
      "Macro F1:  0.592971\n",
      "\n",
      "https://ui.neptune.ai/Hatespeech-CNERG/MH-Bert/e/SAN-8405\n",
      "English 0.1 128 stratified 2020\n",
      "Training complete!\n",
      "Macro F1:  0.592277\n",
      "\n",
      "https://ui.neptune.ai/Hatespeech-CNERG/MH-Bert/e/SAN-8406\n",
      "English 0.1 128 stratified 2021\n",
      "Training complete!\n",
      "Macro F1:  0.592769\n",
      "\n",
      "https://ui.neptune.ai/Hatespeech-CNERG/MH-Bert/e/SAN-8408\n",
      "English 0.1 128 stratified 2022\n",
      "Training complete!\n",
      "Macro F1:  0.592629\n",
      "\n",
      "https://ui.neptune.ai/Hatespeech-CNERG/MH-Bert/e/SAN-8412\n",
      "English 0.1 256 stratified 2018\n",
      "Training complete!\n",
      "Macro F1:  0.593274\n",
      "\n",
      "https://ui.neptune.ai/Hatespeech-CNERG/MH-Bert/e/SAN-8413\n",
      "English 0.1 256 stratified 2019\n",
      "Training complete!\n",
      "Macro F1:  0.594282\n",
      "\n",
      "https://ui.neptune.ai/Hatespeech-CNERG/MH-Bert/e/SAN-8416\n",
      "English 0.1 256 stratified 2020\n",
      "Training complete!\n",
      "Macro F1:  0.593960\n",
      "\n",
      "https://ui.neptune.ai/Hatespeech-CNERG/MH-Bert/e/SAN-8418\n",
      "English 0.1 256 stratified 2021\n",
      "Training complete!\n",
      "Macro F1:  0.593477\n",
      "\n",
      "https://ui.neptune.ai/Hatespeech-CNERG/MH-Bert/e/SAN-8419\n",
      "English 0.1 256 stratified 2022\n",
      "Training complete!\n",
      "Macro F1:  0.593157\n",
      "\n",
      "https://ui.neptune.ai/Hatespeech-CNERG/MH-Bert/e/SAN-8422\n",
      "English 1 16 stratified 2018\n",
      "Training complete!\n",
      "Macro F1:  0.589020\n",
      "\n",
      "https://ui.neptune.ai/Hatespeech-CNERG/MH-Bert/e/SAN-8424\n"
     ]
    },
    {
     "name": "stderr",
     "output_type": "stream",
     "text": [
      "/home/saketh/anaconda3/lib/python3.7/site-packages/sklearn/linear_model/logistic.py:947: ConvergenceWarning: lbfgs failed to converge. Increase the number of iterations.\n",
      "  \"of iterations.\", ConvergenceWarning)\n"
     ]
    },
    {
     "name": "stdout",
     "output_type": "stream",
     "text": [
      "English 1 16 stratified 2019\n",
      "Training complete!\n",
      "Macro F1:  0.588799\n",
      "\n",
      "https://ui.neptune.ai/Hatespeech-CNERG/MH-Bert/e/SAN-8427\n",
      "English 1 16 stratified 2020\n",
      "Training complete!\n",
      "Macro F1:  0.589238\n",
      "\n"
     ]
    },
    {
     "name": "stderr",
     "output_type": "stream",
     "text": [
      "Experiencing connection interruptions. Reestablishing communication with Neptune.\n",
      "Experiencing connection interruptions. Reestablishing communication with Neptune.\n",
      "Experiencing connection interruptions. Reestablishing communication with Neptune.\n"
     ]
    },
    {
     "name": "stdout",
     "output_type": "stream",
     "text": [
      "https://ui.neptune.ai/Hatespeech-CNERG/MH-Bert/e/SAN-8432\n",
      "English 1 16 stratified 2021\n",
      "Training complete!\n",
      "Macro F1:  0.588962\n",
      "\n",
      "https://ui.neptune.ai/Hatespeech-CNERG/MH-Bert/e/SAN-8434\n",
      "English 1 16 stratified 2022\n",
      "Training complete!\n",
      "Macro F1:  0.589125\n",
      "\n",
      "https://ui.neptune.ai/Hatespeech-CNERG/MH-Bert/e/SAN-8435\n"
     ]
    },
    {
     "name": "stderr",
     "output_type": "stream",
     "text": [
      "/home/saketh/anaconda3/lib/python3.7/site-packages/sklearn/linear_model/logistic.py:947: ConvergenceWarning: lbfgs failed to converge. Increase the number of iterations.\n",
      "  \"of iterations.\", ConvergenceWarning)\n"
     ]
    },
    {
     "name": "stdout",
     "output_type": "stream",
     "text": [
      "English 1 32 stratified 2018\n",
      "Training complete!\n",
      "Macro F1:  0.589061\n",
      "\n",
      "https://ui.neptune.ai/Hatespeech-CNERG/MH-Bert/e/SAN-8437\n"
     ]
    },
    {
     "name": "stderr",
     "output_type": "stream",
     "text": [
      "/home/saketh/anaconda3/lib/python3.7/site-packages/sklearn/linear_model/logistic.py:947: ConvergenceWarning: lbfgs failed to converge. Increase the number of iterations.\n",
      "  \"of iterations.\", ConvergenceWarning)\n"
     ]
    },
    {
     "name": "stdout",
     "output_type": "stream",
     "text": [
      "English 1 32 stratified 2019\n",
      "Training complete!\n",
      "Macro F1:  0.589476\n",
      "\n",
      "https://ui.neptune.ai/Hatespeech-CNERG/MH-Bert/e/SAN-8438\n",
      "English 1 32 stratified 2020\n",
      "Training complete!\n",
      "Macro F1:  0.589542\n",
      "\n",
      "https://ui.neptune.ai/Hatespeech-CNERG/MH-Bert/e/SAN-8440\n",
      "English 1 32 stratified 2021\n",
      "Training complete!\n",
      "Macro F1:  0.589333\n",
      "\n",
      "https://ui.neptune.ai/Hatespeech-CNERG/MH-Bert/e/SAN-8443\n"
     ]
    },
    {
     "name": "stderr",
     "output_type": "stream",
     "text": [
      "/home/saketh/anaconda3/lib/python3.7/site-packages/sklearn/linear_model/logistic.py:947: ConvergenceWarning: lbfgs failed to converge. Increase the number of iterations.\n",
      "  \"of iterations.\", ConvergenceWarning)\n"
     ]
    },
    {
     "name": "stdout",
     "output_type": "stream",
     "text": [
      "English 1 32 stratified 2022\n",
      "Training complete!\n",
      "Macro F1:  0.589487\n",
      "\n",
      "https://ui.neptune.ai/Hatespeech-CNERG/MH-Bert/e/SAN-8445\n"
     ]
    },
    {
     "name": "stderr",
     "output_type": "stream",
     "text": [
      "/home/saketh/anaconda3/lib/python3.7/site-packages/sklearn/linear_model/logistic.py:947: ConvergenceWarning: lbfgs failed to converge. Increase the number of iterations.\n",
      "  \"of iterations.\", ConvergenceWarning)\n"
     ]
    },
    {
     "name": "stdout",
     "output_type": "stream",
     "text": [
      "English 1 64 stratified 2018\n",
      "Training complete!\n",
      "Macro F1:  0.589505\n",
      "\n",
      "https://ui.neptune.ai/Hatespeech-CNERG/MH-Bert/e/SAN-8448\n"
     ]
    },
    {
     "name": "stderr",
     "output_type": "stream",
     "text": [
      "/home/saketh/anaconda3/lib/python3.7/site-packages/sklearn/linear_model/logistic.py:947: ConvergenceWarning: lbfgs failed to converge. Increase the number of iterations.\n",
      "  \"of iterations.\", ConvergenceWarning)\n"
     ]
    },
    {
     "name": "stdout",
     "output_type": "stream",
     "text": [
      "English 1 64 stratified 2019\n",
      "Training complete!\n",
      "Macro F1:  0.589576\n",
      "\n",
      "https://ui.neptune.ai/Hatespeech-CNERG/MH-Bert/e/SAN-8450\n"
     ]
    },
    {
     "name": "stderr",
     "output_type": "stream",
     "text": [
      "/home/saketh/anaconda3/lib/python3.7/site-packages/sklearn/linear_model/logistic.py:947: ConvergenceWarning: lbfgs failed to converge. Increase the number of iterations.\n",
      "  \"of iterations.\", ConvergenceWarning)\n"
     ]
    },
    {
     "name": "stdout",
     "output_type": "stream",
     "text": [
      "English 1 64 stratified 2020\n",
      "Training complete!\n",
      "Macro F1:  0.589790\n",
      "\n",
      "https://ui.neptune.ai/Hatespeech-CNERG/MH-Bert/e/SAN-8451\n"
     ]
    },
    {
     "name": "stderr",
     "output_type": "stream",
     "text": [
      "/home/saketh/anaconda3/lib/python3.7/site-packages/sklearn/linear_model/logistic.py:947: ConvergenceWarning: lbfgs failed to converge. Increase the number of iterations.\n",
      "  \"of iterations.\", ConvergenceWarning)\n"
     ]
    },
    {
     "name": "stdout",
     "output_type": "stream",
     "text": [
      "English 1 64 stratified 2021\n",
      "Training complete!\n",
      "Macro F1:  0.589976\n",
      "\n",
      "https://ui.neptune.ai/Hatespeech-CNERG/MH-Bert/e/SAN-8453\n"
     ]
    },
    {
     "name": "stderr",
     "output_type": "stream",
     "text": [
      "/home/saketh/anaconda3/lib/python3.7/site-packages/sklearn/linear_model/logistic.py:947: ConvergenceWarning: lbfgs failed to converge. Increase the number of iterations.\n",
      "  \"of iterations.\", ConvergenceWarning)\n"
     ]
    },
    {
     "name": "stdout",
     "output_type": "stream",
     "text": [
      "English 1 64 stratified 2022\n",
      "Training complete!\n",
      "Macro F1:  0.590117\n",
      "\n",
      "https://ui.neptune.ai/Hatespeech-CNERG/MH-Bert/e/SAN-8454\n",
      "English 1 128 stratified 2018\n",
      "Training complete!\n",
      "Macro F1:  0.590461\n",
      "\n",
      "https://ui.neptune.ai/Hatespeech-CNERG/MH-Bert/e/SAN-8456\n",
      "English 1 128 stratified 2019\n",
      "Training complete!\n",
      "Macro F1:  0.591230\n",
      "\n",
      "https://ui.neptune.ai/Hatespeech-CNERG/MH-Bert/e/SAN-8458\n"
     ]
    },
    {
     "name": "stderr",
     "output_type": "stream",
     "text": [
      "/home/saketh/anaconda3/lib/python3.7/site-packages/sklearn/linear_model/logistic.py:947: ConvergenceWarning: lbfgs failed to converge. Increase the number of iterations.\n",
      "  \"of iterations.\", ConvergenceWarning)\n"
     ]
    },
    {
     "name": "stdout",
     "output_type": "stream",
     "text": [
      "English 1 128 stratified 2020\n",
      "Training complete!\n",
      "Macro F1:  0.591251\n",
      "\n",
      "https://ui.neptune.ai/Hatespeech-CNERG/MH-Bert/e/SAN-8460\n"
     ]
    },
    {
     "name": "stderr",
     "output_type": "stream",
     "text": [
      "/home/saketh/anaconda3/lib/python3.7/site-packages/sklearn/linear_model/logistic.py:947: ConvergenceWarning: lbfgs failed to converge. Increase the number of iterations.\n",
      "  \"of iterations.\", ConvergenceWarning)\n"
     ]
    },
    {
     "name": "stdout",
     "output_type": "stream",
     "text": [
      "English 1 128 stratified 2021\n",
      "Training complete!\n",
      "Macro F1:  0.591240\n",
      "\n",
      "https://ui.neptune.ai/Hatespeech-CNERG/MH-Bert/e/SAN-8463\n"
     ]
    },
    {
     "name": "stderr",
     "output_type": "stream",
     "text": [
      "/home/saketh/anaconda3/lib/python3.7/site-packages/sklearn/linear_model/logistic.py:947: ConvergenceWarning: lbfgs failed to converge. Increase the number of iterations.\n",
      "  \"of iterations.\", ConvergenceWarning)\n"
     ]
    },
    {
     "name": "stdout",
     "output_type": "stream",
     "text": [
      "English 1 128 stratified 2022\n",
      "Training complete!\n",
      "Macro F1:  0.591061\n",
      "\n",
      "https://ui.neptune.ai/Hatespeech-CNERG/MH-Bert/e/SAN-8467\n"
     ]
    },
    {
     "name": "stderr",
     "output_type": "stream",
     "text": [
      "/home/saketh/anaconda3/lib/python3.7/site-packages/sklearn/linear_model/logistic.py:947: ConvergenceWarning: lbfgs failed to converge. Increase the number of iterations.\n",
      "  \"of iterations.\", ConvergenceWarning)\n"
     ]
    },
    {
     "name": "stdout",
     "output_type": "stream",
     "text": [
      "English 1 256 stratified 2018\n",
      "Training complete!\n",
      "Macro F1:  0.592193\n",
      "\n",
      "https://ui.neptune.ai/Hatespeech-CNERG/MH-Bert/e/SAN-8468\n",
      "English 1 256 stratified 2019\n",
      "Training complete!\n",
      "Macro F1:  0.593209\n",
      "\n",
      "https://ui.neptune.ai/Hatespeech-CNERG/MH-Bert/e/SAN-8470\n",
      "English 1 256 stratified 2020\n",
      "Training complete!\n",
      "Macro F1:  0.593225\n",
      "\n",
      "https://ui.neptune.ai/Hatespeech-CNERG/MH-Bert/e/SAN-8472\n"
     ]
    },
    {
     "name": "stderr",
     "output_type": "stream",
     "text": [
      "/home/saketh/anaconda3/lib/python3.7/site-packages/sklearn/linear_model/logistic.py:947: ConvergenceWarning: lbfgs failed to converge. Increase the number of iterations.\n",
      "  \"of iterations.\", ConvergenceWarning)\n"
     ]
    },
    {
     "name": "stdout",
     "output_type": "stream",
     "text": [
      "English 1 256 stratified 2021\n",
      "Training complete!\n",
      "Macro F1:  0.593166\n",
      "\n",
      "https://ui.neptune.ai/Hatespeech-CNERG/MH-Bert/e/SAN-8473\n"
     ]
    },
    {
     "name": "stderr",
     "output_type": "stream",
     "text": [
      "/home/saketh/anaconda3/lib/python3.7/site-packages/sklearn/linear_model/logistic.py:947: ConvergenceWarning: lbfgs failed to converge. Increase the number of iterations.\n",
      "  \"of iterations.\", ConvergenceWarning)\n"
     ]
    },
    {
     "name": "stdout",
     "output_type": "stream",
     "text": [
      "English 1 256 stratified 2022\n",
      "Training complete!\n",
      "Macro F1:  0.593213\n",
      "\n",
      "https://ui.neptune.ai/Hatespeech-CNERG/MH-Bert/e/SAN-8476\n"
     ]
    },
    {
     "name": "stderr",
     "output_type": "stream",
     "text": [
      "/home/saketh/anaconda3/lib/python3.7/site-packages/sklearn/linear_model/logistic.py:947: ConvergenceWarning: lbfgs failed to converge. Increase the number of iterations.\n",
      "  \"of iterations.\", ConvergenceWarning)\n"
     ]
    },
    {
     "name": "stdout",
     "output_type": "stream",
     "text": [
      "English 10 16 stratified 2018\n",
      "Training complete!\n",
      "Macro F1:  0.586508\n",
      "\n",
      "https://ui.neptune.ai/Hatespeech-CNERG/MH-Bert/e/SAN-8478\n"
     ]
    },
    {
     "name": "stderr",
     "output_type": "stream",
     "text": [
      "/home/saketh/anaconda3/lib/python3.7/site-packages/sklearn/linear_model/logistic.py:947: ConvergenceWarning: lbfgs failed to converge. Increase the number of iterations.\n",
      "  \"of iterations.\", ConvergenceWarning)\n"
     ]
    },
    {
     "name": "stdout",
     "output_type": "stream",
     "text": [
      "English 10 16 stratified 2019\n",
      "Training complete!\n",
      "Macro F1:  0.585998\n",
      "\n",
      "https://ui.neptune.ai/Hatespeech-CNERG/MH-Bert/e/SAN-8481\n"
     ]
    },
    {
     "name": "stderr",
     "output_type": "stream",
     "text": [
      "/home/saketh/anaconda3/lib/python3.7/site-packages/sklearn/linear_model/logistic.py:947: ConvergenceWarning: lbfgs failed to converge. Increase the number of iterations.\n",
      "  \"of iterations.\", ConvergenceWarning)\n"
     ]
    },
    {
     "name": "stdout",
     "output_type": "stream",
     "text": [
      "English 10 16 stratified 2020\n",
      "Training complete!\n",
      "Macro F1:  0.586174\n",
      "\n",
      "https://ui.neptune.ai/Hatespeech-CNERG/MH-Bert/e/SAN-8482\n"
     ]
    },
    {
     "name": "stderr",
     "output_type": "stream",
     "text": [
      "/home/saketh/anaconda3/lib/python3.7/site-packages/sklearn/linear_model/logistic.py:947: ConvergenceWarning: lbfgs failed to converge. Increase the number of iterations.\n",
      "  \"of iterations.\", ConvergenceWarning)\n"
     ]
    },
    {
     "name": "stdout",
     "output_type": "stream",
     "text": [
      "English 10 16 stratified 2021\n",
      "Training complete!\n",
      "Macro F1:  0.586954\n",
      "\n",
      "https://ui.neptune.ai/Hatespeech-CNERG/MH-Bert/e/SAN-8484\n"
     ]
    },
    {
     "name": "stderr",
     "output_type": "stream",
     "text": [
      "/home/saketh/anaconda3/lib/python3.7/site-packages/sklearn/linear_model/logistic.py:947: ConvergenceWarning: lbfgs failed to converge. Increase the number of iterations.\n",
      "  \"of iterations.\", ConvergenceWarning)\n"
     ]
    },
    {
     "name": "stdout",
     "output_type": "stream",
     "text": [
      "English 10 16 stratified 2022\n",
      "Training complete!\n",
      "Macro F1:  0.587288\n",
      "\n",
      "https://ui.neptune.ai/Hatespeech-CNERG/MH-Bert/e/SAN-8486\n"
     ]
    },
    {
     "name": "stderr",
     "output_type": "stream",
     "text": [
      "/home/saketh/anaconda3/lib/python3.7/site-packages/sklearn/linear_model/logistic.py:947: ConvergenceWarning: lbfgs failed to converge. Increase the number of iterations.\n",
      "  \"of iterations.\", ConvergenceWarning)\n"
     ]
    },
    {
     "name": "stdout",
     "output_type": "stream",
     "text": [
      "English 10 32 stratified 2018\n",
      "Training complete!\n",
      "Macro F1:  0.586799\n",
      "\n",
      "https://ui.neptune.ai/Hatespeech-CNERG/MH-Bert/e/SAN-8489\n"
     ]
    },
    {
     "name": "stderr",
     "output_type": "stream",
     "text": [
      "/home/saketh/anaconda3/lib/python3.7/site-packages/sklearn/linear_model/logistic.py:947: ConvergenceWarning: lbfgs failed to converge. Increase the number of iterations.\n",
      "  \"of iterations.\", ConvergenceWarning)\n"
     ]
    },
    {
     "name": "stdout",
     "output_type": "stream",
     "text": [
      "English 10 32 stratified 2019\n",
      "Training complete!\n",
      "Macro F1:  0.587262\n",
      "\n",
      "https://ui.neptune.ai/Hatespeech-CNERG/MH-Bert/e/SAN-8491\n"
     ]
    },
    {
     "name": "stderr",
     "output_type": "stream",
     "text": [
      "/home/saketh/anaconda3/lib/python3.7/site-packages/sklearn/linear_model/logistic.py:947: ConvergenceWarning: lbfgs failed to converge. Increase the number of iterations.\n",
      "  \"of iterations.\", ConvergenceWarning)\n"
     ]
    },
    {
     "name": "stdout",
     "output_type": "stream",
     "text": [
      "English 10 32 stratified 2020\n",
      "Training complete!\n",
      "Macro F1:  0.586083\n",
      "\n",
      "https://ui.neptune.ai/Hatespeech-CNERG/MH-Bert/e/SAN-8494\n"
     ]
    },
    {
     "name": "stderr",
     "output_type": "stream",
     "text": [
      "/home/saketh/anaconda3/lib/python3.7/site-packages/sklearn/linear_model/logistic.py:947: ConvergenceWarning: lbfgs failed to converge. Increase the number of iterations.\n",
      "  \"of iterations.\", ConvergenceWarning)\n"
     ]
    },
    {
     "name": "stdout",
     "output_type": "stream",
     "text": [
      "English 10 32 stratified 2021\n",
      "Training complete!\n",
      "Macro F1:  0.586870\n",
      "\n",
      "https://ui.neptune.ai/Hatespeech-CNERG/MH-Bert/e/SAN-8496\n"
     ]
    },
    {
     "name": "stderr",
     "output_type": "stream",
     "text": [
      "/home/saketh/anaconda3/lib/python3.7/site-packages/sklearn/linear_model/logistic.py:947: ConvergenceWarning: lbfgs failed to converge. Increase the number of iterations.\n",
      "  \"of iterations.\", ConvergenceWarning)\n"
     ]
    },
    {
     "name": "stdout",
     "output_type": "stream",
     "text": [
      "English 10 32 stratified 2022\n",
      "Training complete!\n",
      "Macro F1:  0.588134\n",
      "\n",
      "https://ui.neptune.ai/Hatespeech-CNERG/MH-Bert/e/SAN-8498\n"
     ]
    },
    {
     "name": "stderr",
     "output_type": "stream",
     "text": [
      "/home/saketh/anaconda3/lib/python3.7/site-packages/sklearn/linear_model/logistic.py:947: ConvergenceWarning: lbfgs failed to converge. Increase the number of iterations.\n",
      "  \"of iterations.\", ConvergenceWarning)\n"
     ]
    },
    {
     "name": "stdout",
     "output_type": "stream",
     "text": [
      "English 10 64 stratified 2018\n",
      "Training complete!\n",
      "Macro F1:  0.586314\n",
      "\n",
      "https://ui.neptune.ai/Hatespeech-CNERG/MH-Bert/e/SAN-8500\n"
     ]
    },
    {
     "name": "stderr",
     "output_type": "stream",
     "text": [
      "/home/saketh/anaconda3/lib/python3.7/site-packages/sklearn/linear_model/logistic.py:947: ConvergenceWarning: lbfgs failed to converge. Increase the number of iterations.\n",
      "  \"of iterations.\", ConvergenceWarning)\n"
     ]
    },
    {
     "name": "stdout",
     "output_type": "stream",
     "text": [
      "English 10 64 stratified 2019\n",
      "Training complete!\n",
      "Macro F1:  0.587890\n",
      "\n",
      "https://ui.neptune.ai/Hatespeech-CNERG/MH-Bert/e/SAN-8502\n"
     ]
    },
    {
     "name": "stderr",
     "output_type": "stream",
     "text": [
      "/home/saketh/anaconda3/lib/python3.7/site-packages/sklearn/linear_model/logistic.py:947: ConvergenceWarning: lbfgs failed to converge. Increase the number of iterations.\n",
      "  \"of iterations.\", ConvergenceWarning)\n"
     ]
    },
    {
     "name": "stdout",
     "output_type": "stream",
     "text": [
      "English 10 64 stratified 2020\n",
      "Training complete!\n",
      "Macro F1:  0.587240\n",
      "\n",
      "https://ui.neptune.ai/Hatespeech-CNERG/MH-Bert/e/SAN-8503\n"
     ]
    },
    {
     "name": "stderr",
     "output_type": "stream",
     "text": [
      "/home/saketh/anaconda3/lib/python3.7/site-packages/sklearn/linear_model/logistic.py:947: ConvergenceWarning: lbfgs failed to converge. Increase the number of iterations.\n",
      "  \"of iterations.\", ConvergenceWarning)\n"
     ]
    },
    {
     "name": "stdout",
     "output_type": "stream",
     "text": [
      "English 10 64 stratified 2021\n",
      "Training complete!\n",
      "Macro F1:  0.587621\n",
      "\n",
      "https://ui.neptune.ai/Hatespeech-CNERG/MH-Bert/e/SAN-8506\n"
     ]
    },
    {
     "name": "stderr",
     "output_type": "stream",
     "text": [
      "/home/saketh/anaconda3/lib/python3.7/site-packages/sklearn/linear_model/logistic.py:947: ConvergenceWarning: lbfgs failed to converge. Increase the number of iterations.\n",
      "  \"of iterations.\", ConvergenceWarning)\n"
     ]
    },
    {
     "name": "stdout",
     "output_type": "stream",
     "text": [
      "English 10 64 stratified 2022\n",
      "Training complete!\n",
      "Macro F1:  0.588273\n",
      "\n",
      "https://ui.neptune.ai/Hatespeech-CNERG/MH-Bert/e/SAN-8509\n"
     ]
    },
    {
     "name": "stderr",
     "output_type": "stream",
     "text": [
      "/home/saketh/anaconda3/lib/python3.7/site-packages/sklearn/linear_model/logistic.py:947: ConvergenceWarning: lbfgs failed to converge. Increase the number of iterations.\n",
      "  \"of iterations.\", ConvergenceWarning)\n"
     ]
    },
    {
     "name": "stdout",
     "output_type": "stream",
     "text": [
      "English 10 128 stratified 2018\n",
      "Training complete!\n",
      "Macro F1:  0.588174\n",
      "\n",
      "https://ui.neptune.ai/Hatespeech-CNERG/MH-Bert/e/SAN-8512\n"
     ]
    },
    {
     "name": "stderr",
     "output_type": "stream",
     "text": [
      "/home/saketh/anaconda3/lib/python3.7/site-packages/sklearn/linear_model/logistic.py:947: ConvergenceWarning: lbfgs failed to converge. Increase the number of iterations.\n",
      "  \"of iterations.\", ConvergenceWarning)\n"
     ]
    },
    {
     "name": "stdout",
     "output_type": "stream",
     "text": [
      "English 10 128 stratified 2019\n",
      "Training complete!\n",
      "Macro F1:  0.591033\n",
      "\n",
      "https://ui.neptune.ai/Hatespeech-CNERG/MH-Bert/e/SAN-8513\n"
     ]
    },
    {
     "name": "stderr",
     "output_type": "stream",
     "text": [
      "/home/saketh/anaconda3/lib/python3.7/site-packages/sklearn/linear_model/logistic.py:947: ConvergenceWarning: lbfgs failed to converge. Increase the number of iterations.\n",
      "  \"of iterations.\", ConvergenceWarning)\n"
     ]
    },
    {
     "name": "stdout",
     "output_type": "stream",
     "text": [
      "English 10 128 stratified 2020\n",
      "Training complete!\n",
      "Macro F1:  0.588346\n",
      "\n",
      "https://ui.neptune.ai/Hatespeech-CNERG/MH-Bert/e/SAN-8516\n"
     ]
    },
    {
     "name": "stderr",
     "output_type": "stream",
     "text": [
      "/home/saketh/anaconda3/lib/python3.7/site-packages/sklearn/linear_model/logistic.py:947: ConvergenceWarning: lbfgs failed to converge. Increase the number of iterations.\n",
      "  \"of iterations.\", ConvergenceWarning)\n"
     ]
    },
    {
     "name": "stdout",
     "output_type": "stream",
     "text": [
      "English 10 128 stratified 2021\n",
      "Training complete!\n",
      "Macro F1:  0.590523\n",
      "\n",
      "https://ui.neptune.ai/Hatespeech-CNERG/MH-Bert/e/SAN-8517\n"
     ]
    },
    {
     "name": "stderr",
     "output_type": "stream",
     "text": [
      "/home/saketh/anaconda3/lib/python3.7/site-packages/sklearn/linear_model/logistic.py:947: ConvergenceWarning: lbfgs failed to converge. Increase the number of iterations.\n",
      "  \"of iterations.\", ConvergenceWarning)\n"
     ]
    },
    {
     "name": "stdout",
     "output_type": "stream",
     "text": [
      "English 10 128 stratified 2022\n",
      "Training complete!\n",
      "Macro F1:  0.587013\n",
      "\n",
      "https://ui.neptune.ai/Hatespeech-CNERG/MH-Bert/e/SAN-8520\n"
     ]
    },
    {
     "name": "stderr",
     "output_type": "stream",
     "text": [
      "/home/saketh/anaconda3/lib/python3.7/site-packages/sklearn/linear_model/logistic.py:947: ConvergenceWarning: lbfgs failed to converge. Increase the number of iterations.\n",
      "  \"of iterations.\", ConvergenceWarning)\n"
     ]
    },
    {
     "name": "stdout",
     "output_type": "stream",
     "text": [
      "English 10 256 stratified 2018\n",
      "Training complete!\n",
      "Macro F1:  0.590483\n",
      "\n",
      "https://ui.neptune.ai/Hatespeech-CNERG/MH-Bert/e/SAN-8521\n"
     ]
    },
    {
     "name": "stderr",
     "output_type": "stream",
     "text": [
      "/home/saketh/anaconda3/lib/python3.7/site-packages/sklearn/linear_model/logistic.py:947: ConvergenceWarning: lbfgs failed to converge. Increase the number of iterations.\n",
      "  \"of iterations.\", ConvergenceWarning)\n"
     ]
    },
    {
     "name": "stdout",
     "output_type": "stream",
     "text": [
      "English 10 256 stratified 2019\n",
      "Training complete!\n",
      "Macro F1:  0.593362\n",
      "\n",
      "https://ui.neptune.ai/Hatespeech-CNERG/MH-Bert/e/SAN-8523\n"
     ]
    },
    {
     "name": "stderr",
     "output_type": "stream",
     "text": [
      "/home/saketh/anaconda3/lib/python3.7/site-packages/sklearn/linear_model/logistic.py:947: ConvergenceWarning: lbfgs failed to converge. Increase the number of iterations.\n",
      "  \"of iterations.\", ConvergenceWarning)\n"
     ]
    },
    {
     "name": "stdout",
     "output_type": "stream",
     "text": [
      "English 10 256 stratified 2020\n",
      "Training complete!\n",
      "Macro F1:  0.592660\n",
      "\n",
      "https://ui.neptune.ai/Hatespeech-CNERG/MH-Bert/e/SAN-8527\n"
     ]
    },
    {
     "name": "stderr",
     "output_type": "stream",
     "text": [
      "/home/saketh/anaconda3/lib/python3.7/site-packages/sklearn/linear_model/logistic.py:947: ConvergenceWarning: lbfgs failed to converge. Increase the number of iterations.\n",
      "  \"of iterations.\", ConvergenceWarning)\n"
     ]
    },
    {
     "name": "stdout",
     "output_type": "stream",
     "text": [
      "English 10 256 stratified 2021\n",
      "Training complete!\n",
      "Macro F1:  0.592224\n",
      "\n",
      "https://ui.neptune.ai/Hatespeech-CNERG/MH-Bert/e/SAN-8530\n"
     ]
    },
    {
     "name": "stderr",
     "output_type": "stream",
     "text": [
      "/home/saketh/anaconda3/lib/python3.7/site-packages/sklearn/linear_model/logistic.py:947: ConvergenceWarning: lbfgs failed to converge. Increase the number of iterations.\n",
      "  \"of iterations.\", ConvergenceWarning)\n"
     ]
    },
    {
     "name": "stdout",
     "output_type": "stream",
     "text": [
      "English 10 256 stratified 2022\n",
      "Training complete!\n",
      "Macro F1:  0.589533\n",
      "\n",
      "https://ui.neptune.ai/Hatespeech-CNERG/MH-Bert/e/SAN-8532\n",
      "German 0.01 16 stratified 2018\n",
      "Training complete!\n",
      "Macro F1:  0.363639\n",
      "\n",
      "https://ui.neptune.ai/Hatespeech-CNERG/MH-Bert/e/SAN-8533\n",
      "German 0.01 16 stratified 2019\n",
      "Training complete!\n",
      "Macro F1:  0.363639\n",
      "\n",
      "https://ui.neptune.ai/Hatespeech-CNERG/MH-Bert/e/SAN-8536\n",
      "German 0.01 16 stratified 2020\n",
      "Training complete!\n",
      "Macro F1:  0.363639\n",
      "\n",
      "https://ui.neptune.ai/Hatespeech-CNERG/MH-Bert/e/SAN-8537\n",
      "German 0.01 16 stratified 2021\n",
      "Training complete!\n",
      "Macro F1:  0.363639\n",
      "\n",
      "https://ui.neptune.ai/Hatespeech-CNERG/MH-Bert/e/SAN-8538\n",
      "German 0.01 16 stratified 2022\n",
      "Training complete!\n",
      "Macro F1:  0.363639\n",
      "\n",
      "https://ui.neptune.ai/Hatespeech-CNERG/MH-Bert/e/SAN-8542\n",
      "German 0.01 32 stratified 2018\n",
      "Training complete!\n",
      "Macro F1:  0.364293\n",
      "\n",
      "https://ui.neptune.ai/Hatespeech-CNERG/MH-Bert/e/SAN-8544\n",
      "German 0.01 32 stratified 2019\n",
      "Training complete!\n",
      "Macro F1:  0.364293\n",
      "\n",
      "https://ui.neptune.ai/Hatespeech-CNERG/MH-Bert/e/SAN-8546\n",
      "German 0.01 32 stratified 2020\n",
      "Training complete!\n",
      "Macro F1:  0.363639\n",
      "\n",
      "https://ui.neptune.ai/Hatespeech-CNERG/MH-Bert/e/SAN-8548\n",
      "German 0.01 32 stratified 2021\n",
      "Training complete!\n",
      "Macro F1:  0.364293\n",
      "\n",
      "https://ui.neptune.ai/Hatespeech-CNERG/MH-Bert/e/SAN-8549\n",
      "German 0.01 32 stratified 2022\n",
      "Training complete!\n",
      "Macro F1:  0.364293\n",
      "\n",
      "https://ui.neptune.ai/Hatespeech-CNERG/MH-Bert/e/SAN-8553\n",
      "German 0.01 64 stratified 2018\n",
      "Training complete!\n",
      "Macro F1:  0.364293\n",
      "\n",
      "https://ui.neptune.ai/Hatespeech-CNERG/MH-Bert/e/SAN-8554\n",
      "German 0.01 64 stratified 2019\n",
      "Training complete!\n",
      "Macro F1:  0.364946\n",
      "\n",
      "https://ui.neptune.ai/Hatespeech-CNERG/MH-Bert/e/SAN-8557\n",
      "German 0.01 64 stratified 2020\n",
      "Training complete!\n",
      "Macro F1:  0.364946\n",
      "\n",
      "https://ui.neptune.ai/Hatespeech-CNERG/MH-Bert/e/SAN-8559\n",
      "German 0.01 64 stratified 2021\n",
      "Training complete!\n",
      "Macro F1:  0.364293\n",
      "\n",
      "https://ui.neptune.ai/Hatespeech-CNERG/MH-Bert/e/SAN-8561\n",
      "German 0.01 64 stratified 2022\n",
      "Training complete!\n",
      "Macro F1:  0.364946\n",
      "\n",
      "https://ui.neptune.ai/Hatespeech-CNERG/MH-Bert/e/SAN-8564\n",
      "German 0.01 128 stratified 2018\n",
      "Training complete!\n",
      "Macro F1:  0.364946\n",
      "\n",
      "https://ui.neptune.ai/Hatespeech-CNERG/MH-Bert/e/SAN-8566\n",
      "German 0.01 128 stratified 2019\n",
      "Training complete!\n",
      "Macro F1:  0.365599\n",
      "\n",
      "https://ui.neptune.ai/Hatespeech-CNERG/MH-Bert/e/SAN-8569\n",
      "German 0.01 128 stratified 2020\n",
      "Training complete!\n",
      "Macro F1:  0.364946\n",
      "\n",
      "https://ui.neptune.ai/Hatespeech-CNERG/MH-Bert/e/SAN-8570\n",
      "German 0.01 128 stratified 2021\n",
      "Training complete!\n",
      "Macro F1:  0.364946\n",
      "\n",
      "https://ui.neptune.ai/Hatespeech-CNERG/MH-Bert/e/SAN-8572\n",
      "German 0.01 128 stratified 2022\n",
      "Training complete!\n",
      "Macro F1:  0.364946\n",
      "\n",
      "https://ui.neptune.ai/Hatespeech-CNERG/MH-Bert/e/SAN-8575\n",
      "German 0.01 256 stratified 2018\n",
      "Training complete!\n",
      "Macro F1:  0.368855\n",
      "\n",
      "https://ui.neptune.ai/Hatespeech-CNERG/MH-Bert/e/SAN-8576\n",
      "German 0.01 256 stratified 2019\n",
      "Training complete!\n",
      "Macro F1:  0.369505\n",
      "\n",
      "https://ui.neptune.ai/Hatespeech-CNERG/MH-Bert/e/SAN-8580\n",
      "German 0.01 256 stratified 2020\n",
      "Training complete!\n",
      "Macro F1:  0.368855\n",
      "\n",
      "https://ui.neptune.ai/Hatespeech-CNERG/MH-Bert/e/SAN-8581\n",
      "German 0.01 256 stratified 2021\n",
      "Training complete!\n",
      "Macro F1:  0.368205\n",
      "\n",
      "https://ui.neptune.ai/Hatespeech-CNERG/MH-Bert/e/SAN-8584\n",
      "German 0.01 256 stratified 2022\n",
      "Training complete!\n",
      "Macro F1:  0.369505\n",
      "\n",
      "https://ui.neptune.ai/Hatespeech-CNERG/MH-Bert/e/SAN-8586\n",
      "German 0.1 16 stratified 2018\n",
      "Training complete!\n",
      "Macro F1:  0.439719\n",
      "\n",
      "https://ui.neptune.ai/Hatespeech-CNERG/MH-Bert/e/SAN-8588\n",
      "German 0.1 16 stratified 2019\n",
      "Training complete!\n",
      "Macro F1:  0.440315\n",
      "\n",
      "https://ui.neptune.ai/Hatespeech-CNERG/MH-Bert/e/SAN-8590\n",
      "German 0.1 16 stratified 2020\n",
      "Training complete!\n",
      "Macro F1:  0.439122\n",
      "\n",
      "https://ui.neptune.ai/Hatespeech-CNERG/MH-Bert/e/SAN-8593\n",
      "German 0.1 16 stratified 2021\n",
      "Training complete!\n",
      "Macro F1:  0.439719\n",
      "\n",
      "https://ui.neptune.ai/Hatespeech-CNERG/MH-Bert/e/SAN-8594\n",
      "German 0.1 16 stratified 2022\n",
      "Training complete!\n",
      "Macro F1:  0.439719\n",
      "\n",
      "https://ui.neptune.ai/Hatespeech-CNERG/MH-Bert/e/SAN-8597\n",
      "German 0.1 32 stratified 2018\n",
      "Training complete!\n",
      "Macro F1:  0.438538\n",
      "\n",
      "https://ui.neptune.ai/Hatespeech-CNERG/MH-Bert/e/SAN-8601\n",
      "German 0.1 32 stratified 2019\n",
      "Training complete!\n",
      "Macro F1:  0.439133\n",
      "\n",
      "https://ui.neptune.ai/Hatespeech-CNERG/MH-Bert/e/SAN-8603\n",
      "German 0.1 32 stratified 2020\n",
      "Training complete!\n",
      "Macro F1:  0.440315\n",
      "\n",
      "https://ui.neptune.ai/Hatespeech-CNERG/MH-Bert/e/SAN-8606\n",
      "German 0.1 32 stratified 2021\n",
      "Training complete!\n",
      "Macro F1:  0.440315\n",
      "\n",
      "https://ui.neptune.ai/Hatespeech-CNERG/MH-Bert/e/SAN-8608\n",
      "German 0.1 32 stratified 2022\n",
      "Training complete!\n",
      "Macro F1:  0.439719\n",
      "\n",
      "https://ui.neptune.ai/Hatespeech-CNERG/MH-Bert/e/SAN-8611\n",
      "German 0.1 64 stratified 2018\n",
      "Training complete!\n",
      "Macro F1:  0.440323\n",
      "\n",
      "https://ui.neptune.ai/Hatespeech-CNERG/MH-Bert/e/SAN-8613\n",
      "German 0.1 64 stratified 2019\n",
      "Training complete!\n",
      "Macro F1:  0.440918\n",
      "\n",
      "https://ui.neptune.ai/Hatespeech-CNERG/MH-Bert/e/SAN-8615\n",
      "German 0.1 64 stratified 2020\n",
      "Training complete!\n",
      "Macro F1:  0.440918\n",
      "\n",
      "https://ui.neptune.ai/Hatespeech-CNERG/MH-Bert/e/SAN-8618\n",
      "German 0.1 64 stratified 2021\n",
      "Training complete!\n",
      "Macro F1:  0.440323\n",
      "\n",
      "https://ui.neptune.ai/Hatespeech-CNERG/MH-Bert/e/SAN-8619\n",
      "German 0.1 64 stratified 2022\n",
      "Training complete!\n",
      "Macro F1:  0.440323\n",
      "\n",
      "https://ui.neptune.ai/Hatespeech-CNERG/MH-Bert/e/SAN-8622\n",
      "German 0.1 128 stratified 2018\n",
      "Training complete!\n",
      "Macro F1:  0.441512\n",
      "\n",
      "https://ui.neptune.ai/Hatespeech-CNERG/MH-Bert/e/SAN-8624\n",
      "German 0.1 128 stratified 2019\n",
      "Training complete!\n",
      "Macro F1:  0.442106\n",
      "\n",
      "https://ui.neptune.ai/Hatespeech-CNERG/MH-Bert/e/SAN-8625\n",
      "German 0.1 128 stratified 2020\n",
      "Training complete!\n",
      "Macro F1:  0.441512\n",
      "\n",
      "https://ui.neptune.ai/Hatespeech-CNERG/MH-Bert/e/SAN-8628\n",
      "German 0.1 128 stratified 2021\n",
      "Training complete!\n",
      "Macro F1:  0.441512\n",
      "\n",
      "https://ui.neptune.ai/Hatespeech-CNERG/MH-Bert/e/SAN-8629\n",
      "German 0.1 128 stratified 2022\n",
      "Training complete!\n",
      "Macro F1:  0.442106\n",
      "\n",
      "https://ui.neptune.ai/Hatespeech-CNERG/MH-Bert/e/SAN-8632\n",
      "German 0.1 256 stratified 2018\n",
      "Training complete!\n",
      "Macro F1:  0.445075\n",
      "\n",
      "https://ui.neptune.ai/Hatespeech-CNERG/MH-Bert/e/SAN-8635\n",
      "German 0.1 256 stratified 2019\n",
      "Training complete!\n",
      "Macro F1:  0.445075\n",
      "\n",
      "https://ui.neptune.ai/Hatespeech-CNERG/MH-Bert/e/SAN-8636\n",
      "German 0.1 256 stratified 2020\n",
      "Training complete!\n",
      "Macro F1:  0.443888\n",
      "\n",
      "https://ui.neptune.ai/Hatespeech-CNERG/MH-Bert/e/SAN-8639\n",
      "German 0.1 256 stratified 2021\n",
      "Training complete!\n",
      "Macro F1:  0.443294\n",
      "\n",
      "https://ui.neptune.ai/Hatespeech-CNERG/MH-Bert/e/SAN-8640\n",
      "German 0.1 256 stratified 2022\n",
      "Training complete!\n",
      "Macro F1:  0.443294\n",
      "\n",
      "https://ui.neptune.ai/Hatespeech-CNERG/MH-Bert/e/SAN-8643\n"
     ]
    },
    {
     "name": "stderr",
     "output_type": "stream",
     "text": [
      "/home/saketh/anaconda3/lib/python3.7/site-packages/sklearn/linear_model/logistic.py:947: ConvergenceWarning: lbfgs failed to converge. Increase the number of iterations.\n",
      "  \"of iterations.\", ConvergenceWarning)\n"
     ]
    },
    {
     "name": "stdout",
     "output_type": "stream",
     "text": [
      "German 1 16 stratified 2018\n",
      "Training complete!\n",
      "Macro F1:  0.463348\n",
      "\n",
      "https://ui.neptune.ai/Hatespeech-CNERG/MH-Bert/e/SAN-8644\n"
     ]
    },
    {
     "name": "stderr",
     "output_type": "stream",
     "text": [
      "/home/saketh/anaconda3/lib/python3.7/site-packages/sklearn/linear_model/logistic.py:947: ConvergenceWarning: lbfgs failed to converge. Increase the number of iterations.\n",
      "  \"of iterations.\", ConvergenceWarning)\n"
     ]
    },
    {
     "name": "stdout",
     "output_type": "stream",
     "text": [
      "German 1 16 stratified 2019\n",
      "Training complete!\n",
      "Macro F1:  0.462759\n",
      "\n",
      "https://ui.neptune.ai/Hatespeech-CNERG/MH-Bert/e/SAN-8647\n"
     ]
    },
    {
     "name": "stderr",
     "output_type": "stream",
     "text": [
      "/home/saketh/anaconda3/lib/python3.7/site-packages/sklearn/linear_model/logistic.py:947: ConvergenceWarning: lbfgs failed to converge. Increase the number of iterations.\n",
      "  \"of iterations.\", ConvergenceWarning)\n"
     ]
    },
    {
     "name": "stdout",
     "output_type": "stream",
     "text": [
      "German 1 16 stratified 2020\n",
      "Training complete!\n",
      "Macro F1:  0.462759\n",
      "\n",
      "https://ui.neptune.ai/Hatespeech-CNERG/MH-Bert/e/SAN-8650\n"
     ]
    },
    {
     "name": "stderr",
     "output_type": "stream",
     "text": [
      "/home/saketh/anaconda3/lib/python3.7/site-packages/sklearn/linear_model/logistic.py:947: ConvergenceWarning: lbfgs failed to converge. Increase the number of iterations.\n",
      "  \"of iterations.\", ConvergenceWarning)\n"
     ]
    },
    {
     "name": "stdout",
     "output_type": "stream",
     "text": [
      "German 1 16 stratified 2021\n",
      "Training complete!\n",
      "Macro F1:  0.463348\n",
      "\n",
      "https://ui.neptune.ai/Hatespeech-CNERG/MH-Bert/e/SAN-8653\n"
     ]
    },
    {
     "name": "stderr",
     "output_type": "stream",
     "text": [
      "/home/saketh/anaconda3/lib/python3.7/site-packages/sklearn/linear_model/logistic.py:947: ConvergenceWarning: lbfgs failed to converge. Increase the number of iterations.\n",
      "  \"of iterations.\", ConvergenceWarning)\n"
     ]
    },
    {
     "name": "stdout",
     "output_type": "stream",
     "text": [
      "German 1 16 stratified 2022\n",
      "Training complete!\n",
      "Macro F1:  0.463348\n",
      "\n",
      "https://ui.neptune.ai/Hatespeech-CNERG/MH-Bert/e/SAN-8656\n"
     ]
    },
    {
     "name": "stderr",
     "output_type": "stream",
     "text": [
      "/home/saketh/anaconda3/lib/python3.7/site-packages/sklearn/linear_model/logistic.py:947: ConvergenceWarning: lbfgs failed to converge. Increase the number of iterations.\n",
      "  \"of iterations.\", ConvergenceWarning)\n"
     ]
    },
    {
     "name": "stdout",
     "output_type": "stream",
     "text": [
      "German 1 32 stratified 2018\n",
      "Training complete!\n",
      "Macro F1:  0.463936\n",
      "\n",
      "https://ui.neptune.ai/Hatespeech-CNERG/MH-Bert/e/SAN-8658\n"
     ]
    },
    {
     "name": "stderr",
     "output_type": "stream",
     "text": [
      "/home/saketh/anaconda3/lib/python3.7/site-packages/sklearn/linear_model/logistic.py:947: ConvergenceWarning: lbfgs failed to converge. Increase the number of iterations.\n",
      "  \"of iterations.\", ConvergenceWarning)\n"
     ]
    },
    {
     "name": "stdout",
     "output_type": "stream",
     "text": [
      "German 1 32 stratified 2019\n",
      "Training complete!\n",
      "Macro F1:  0.463936\n",
      "\n",
      "https://ui.neptune.ai/Hatespeech-CNERG/MH-Bert/e/SAN-8661\n"
     ]
    },
    {
     "name": "stderr",
     "output_type": "stream",
     "text": [
      "/home/saketh/anaconda3/lib/python3.7/site-packages/sklearn/linear_model/logistic.py:947: ConvergenceWarning: lbfgs failed to converge. Increase the number of iterations.\n",
      "  \"of iterations.\", ConvergenceWarning)\n"
     ]
    },
    {
     "name": "stdout",
     "output_type": "stream",
     "text": [
      "German 1 32 stratified 2020\n",
      "Training complete!\n",
      "Macro F1:  0.463936\n",
      "\n",
      "https://ui.neptune.ai/Hatespeech-CNERG/MH-Bert/e/SAN-8662\n"
     ]
    },
    {
     "name": "stderr",
     "output_type": "stream",
     "text": [
      "/home/saketh/anaconda3/lib/python3.7/site-packages/sklearn/linear_model/logistic.py:947: ConvergenceWarning: lbfgs failed to converge. Increase the number of iterations.\n",
      "  \"of iterations.\", ConvergenceWarning)\n"
     ]
    },
    {
     "name": "stdout",
     "output_type": "stream",
     "text": [
      "German 1 32 stratified 2021\n",
      "Training complete!\n",
      "Macro F1:  0.463936\n",
      "\n",
      "https://ui.neptune.ai/Hatespeech-CNERG/MH-Bert/e/SAN-8665\n"
     ]
    },
    {
     "name": "stderr",
     "output_type": "stream",
     "text": [
      "/home/saketh/anaconda3/lib/python3.7/site-packages/sklearn/linear_model/logistic.py:947: ConvergenceWarning: lbfgs failed to converge. Increase the number of iterations.\n",
      "  \"of iterations.\", ConvergenceWarning)\n"
     ]
    },
    {
     "name": "stdout",
     "output_type": "stream",
     "text": [
      "German 1 32 stratified 2022\n",
      "Training complete!\n",
      "Macro F1:  0.463348\n",
      "\n",
      "https://ui.neptune.ai/Hatespeech-CNERG/MH-Bert/e/SAN-8666\n"
     ]
    },
    {
     "name": "stderr",
     "output_type": "stream",
     "text": [
      "/home/saketh/anaconda3/lib/python3.7/site-packages/sklearn/linear_model/logistic.py:947: ConvergenceWarning: lbfgs failed to converge. Increase the number of iterations.\n",
      "  \"of iterations.\", ConvergenceWarning)\n"
     ]
    },
    {
     "name": "stdout",
     "output_type": "stream",
     "text": [
      "German 1 64 stratified 2018\n",
      "Training complete!\n",
      "Macro F1:  0.466287\n",
      "\n",
      "https://ui.neptune.ai/Hatespeech-CNERG/MH-Bert/e/SAN-8670\n"
     ]
    },
    {
     "name": "stderr",
     "output_type": "stream",
     "text": [
      "/home/saketh/anaconda3/lib/python3.7/site-packages/sklearn/linear_model/logistic.py:947: ConvergenceWarning: lbfgs failed to converge. Increase the number of iterations.\n",
      "  \"of iterations.\", ConvergenceWarning)\n"
     ]
    },
    {
     "name": "stdout",
     "output_type": "stream",
     "text": [
      "German 1 64 stratified 2019\n",
      "Training complete!\n",
      "Macro F1:  0.464524\n",
      "\n",
      "https://ui.neptune.ai/Hatespeech-CNERG/MH-Bert/e/SAN-8672\n"
     ]
    },
    {
     "name": "stderr",
     "output_type": "stream",
     "text": [
      "/home/saketh/anaconda3/lib/python3.7/site-packages/sklearn/linear_model/logistic.py:947: ConvergenceWarning: lbfgs failed to converge. Increase the number of iterations.\n",
      "  \"of iterations.\", ConvergenceWarning)\n"
     ]
    },
    {
     "name": "stdout",
     "output_type": "stream",
     "text": [
      "German 1 64 stratified 2020\n",
      "Training complete!\n",
      "Macro F1:  0.465699\n",
      "\n",
      "https://ui.neptune.ai/Hatespeech-CNERG/MH-Bert/e/SAN-8675\n"
     ]
    },
    {
     "name": "stderr",
     "output_type": "stream",
     "text": [
      "/home/saketh/anaconda3/lib/python3.7/site-packages/sklearn/linear_model/logistic.py:947: ConvergenceWarning: lbfgs failed to converge. Increase the number of iterations.\n",
      "  \"of iterations.\", ConvergenceWarning)\n"
     ]
    },
    {
     "name": "stdout",
     "output_type": "stream",
     "text": [
      "German 1 64 stratified 2021\n",
      "Training complete!\n",
      "Macro F1:  0.465111\n",
      "\n",
      "https://ui.neptune.ai/Hatespeech-CNERG/MH-Bert/e/SAN-8676\n"
     ]
    },
    {
     "name": "stderr",
     "output_type": "stream",
     "text": [
      "/home/saketh/anaconda3/lib/python3.7/site-packages/sklearn/linear_model/logistic.py:947: ConvergenceWarning: lbfgs failed to converge. Increase the number of iterations.\n",
      "  \"of iterations.\", ConvergenceWarning)\n"
     ]
    },
    {
     "name": "stdout",
     "output_type": "stream",
     "text": [
      "German 1 64 stratified 2022\n",
      "Training complete!\n",
      "Macro F1:  0.465111\n",
      "\n",
      "https://ui.neptune.ai/Hatespeech-CNERG/MH-Bert/e/SAN-8679\n"
     ]
    },
    {
     "name": "stderr",
     "output_type": "stream",
     "text": [
      "/home/saketh/anaconda3/lib/python3.7/site-packages/sklearn/linear_model/logistic.py:947: ConvergenceWarning: lbfgs failed to converge. Increase the number of iterations.\n",
      "  \"of iterations.\", ConvergenceWarning)\n"
     ]
    },
    {
     "name": "stdout",
     "output_type": "stream",
     "text": [
      "German 1 128 stratified 2018\n",
      "Training complete!\n",
      "Macro F1:  0.468050\n",
      "\n",
      "https://ui.neptune.ai/Hatespeech-CNERG/MH-Bert/e/SAN-8681\n"
     ]
    },
    {
     "name": "stderr",
     "output_type": "stream",
     "text": [
      "/home/saketh/anaconda3/lib/python3.7/site-packages/sklearn/linear_model/logistic.py:947: ConvergenceWarning: lbfgs failed to converge. Increase the number of iterations.\n",
      "  \"of iterations.\", ConvergenceWarning)\n"
     ]
    },
    {
     "name": "stdout",
     "output_type": "stream",
     "text": [
      "German 1 128 stratified 2019\n",
      "Training complete!\n",
      "Macro F1:  0.465632\n",
      "\n",
      "https://ui.neptune.ai/Hatespeech-CNERG/MH-Bert/e/SAN-8683\n"
     ]
    },
    {
     "name": "stderr",
     "output_type": "stream",
     "text": [
      "/home/saketh/anaconda3/lib/python3.7/site-packages/sklearn/linear_model/logistic.py:947: ConvergenceWarning: lbfgs failed to converge. Increase the number of iterations.\n",
      "  \"of iterations.\", ConvergenceWarning)\n"
     ]
    },
    {
     "name": "stdout",
     "output_type": "stream",
     "text": [
      "German 1 128 stratified 2020\n",
      "Training complete!\n",
      "Macro F1:  0.467462\n",
      "\n",
      "https://ui.neptune.ai/Hatespeech-CNERG/MH-Bert/e/SAN-8686\n"
     ]
    },
    {
     "name": "stderr",
     "output_type": "stream",
     "text": [
      "/home/saketh/anaconda3/lib/python3.7/site-packages/sklearn/linear_model/logistic.py:947: ConvergenceWarning: lbfgs failed to converge. Increase the number of iterations.\n",
      "  \"of iterations.\", ConvergenceWarning)\n"
     ]
    },
    {
     "name": "stdout",
     "output_type": "stream",
     "text": [
      "German 1 128 stratified 2021\n",
      "Training complete!\n",
      "Macro F1:  0.468637\n",
      "\n",
      "https://ui.neptune.ai/Hatespeech-CNERG/MH-Bert/e/SAN-8690\n"
     ]
    },
    {
     "name": "stderr",
     "output_type": "stream",
     "text": [
      "/home/saketh/anaconda3/lib/python3.7/site-packages/sklearn/linear_model/logistic.py:947: ConvergenceWarning: lbfgs failed to converge. Increase the number of iterations.\n",
      "  \"of iterations.\", ConvergenceWarning)\n"
     ]
    },
    {
     "name": "stdout",
     "output_type": "stream",
     "text": [
      "German 1 128 stratified 2022\n",
      "Training complete!\n",
      "Macro F1:  0.466874\n",
      "\n",
      "https://ui.neptune.ai/Hatespeech-CNERG/MH-Bert/e/SAN-8691\n"
     ]
    },
    {
     "name": "stderr",
     "output_type": "stream",
     "text": [
      "/home/saketh/anaconda3/lib/python3.7/site-packages/sklearn/linear_model/logistic.py:947: ConvergenceWarning: lbfgs failed to converge. Increase the number of iterations.\n",
      "  \"of iterations.\", ConvergenceWarning)\n"
     ]
    },
    {
     "name": "stdout",
     "output_type": "stream",
     "text": [
      "German 1 256 stratified 2018\n",
      "Training complete!\n",
      "Macro F1:  0.470399\n",
      "\n",
      "https://ui.neptune.ai/Hatespeech-CNERG/MH-Bert/e/SAN-8693\n"
     ]
    },
    {
     "name": "stderr",
     "output_type": "stream",
     "text": [
      "/home/saketh/anaconda3/lib/python3.7/site-packages/sklearn/linear_model/logistic.py:947: ConvergenceWarning: lbfgs failed to converge. Increase the number of iterations.\n",
      "  \"of iterations.\", ConvergenceWarning)\n"
     ]
    },
    {
     "name": "stdout",
     "output_type": "stream",
     "text": [
      "German 1 256 stratified 2019\n",
      "Training complete!\n",
      "Macro F1:  0.469735\n",
      "\n",
      "https://ui.neptune.ai/Hatespeech-CNERG/MH-Bert/e/SAN-8695\n"
     ]
    },
    {
     "name": "stderr",
     "output_type": "stream",
     "text": [
      "/home/saketh/anaconda3/lib/python3.7/site-packages/sklearn/linear_model/logistic.py:947: ConvergenceWarning: lbfgs failed to converge. Increase the number of iterations.\n",
      "  \"of iterations.\", ConvergenceWarning)\n"
     ]
    },
    {
     "name": "stdout",
     "output_type": "stream",
     "text": [
      "German 1 256 stratified 2020\n",
      "Training complete!\n",
      "Macro F1:  0.470907\n",
      "\n",
      "https://ui.neptune.ai/Hatespeech-CNERG/MH-Bert/e/SAN-8697\n"
     ]
    },
    {
     "name": "stderr",
     "output_type": "stream",
     "text": [
      "/home/saketh/anaconda3/lib/python3.7/site-packages/sklearn/linear_model/logistic.py:947: ConvergenceWarning: lbfgs failed to converge. Increase the number of iterations.\n",
      "  \"of iterations.\", ConvergenceWarning)\n"
     ]
    },
    {
     "name": "stdout",
     "output_type": "stream",
     "text": [
      "German 1 256 stratified 2021\n",
      "Training complete!\n",
      "Macro F1:  0.469735\n",
      "\n",
      "https://ui.neptune.ai/Hatespeech-CNERG/MH-Bert/e/SAN-8700\n"
     ]
    },
    {
     "name": "stderr",
     "output_type": "stream",
     "text": [
      "/home/saketh/anaconda3/lib/python3.7/site-packages/sklearn/linear_model/logistic.py:947: ConvergenceWarning: lbfgs failed to converge. Increase the number of iterations.\n",
      "  \"of iterations.\", ConvergenceWarning)\n"
     ]
    },
    {
     "name": "stdout",
     "output_type": "stream",
     "text": [
      "German 1 256 stratified 2022\n",
      "Training complete!\n",
      "Macro F1:  0.469735\n",
      "\n",
      "https://ui.neptune.ai/Hatespeech-CNERG/MH-Bert/e/SAN-8701\n"
     ]
    },
    {
     "name": "stderr",
     "output_type": "stream",
     "text": [
      "/home/saketh/anaconda3/lib/python3.7/site-packages/sklearn/linear_model/logistic.py:947: ConvergenceWarning: lbfgs failed to converge. Increase the number of iterations.\n",
      "  \"of iterations.\", ConvergenceWarning)\n"
     ]
    },
    {
     "name": "stdout",
     "output_type": "stream",
     "text": [
      "German 10 16 stratified 2018\n",
      "Training complete!\n",
      "Macro F1:  0.468482\n",
      "\n",
      "https://ui.neptune.ai/Hatespeech-CNERG/MH-Bert/e/SAN-8704\n"
     ]
    },
    {
     "name": "stderr",
     "output_type": "stream",
     "text": [
      "/home/saketh/anaconda3/lib/python3.7/site-packages/sklearn/linear_model/logistic.py:947: ConvergenceWarning: lbfgs failed to converge. Increase the number of iterations.\n",
      "  \"of iterations.\", ConvergenceWarning)\n"
     ]
    },
    {
     "name": "stdout",
     "output_type": "stream",
     "text": [
      "German 10 16 stratified 2019\n",
      "Training complete!\n",
      "Macro F1:  0.469067\n",
      "\n",
      "https://ui.neptune.ai/Hatespeech-CNERG/MH-Bert/e/SAN-8706\n"
     ]
    },
    {
     "name": "stderr",
     "output_type": "stream",
     "text": [
      "/home/saketh/anaconda3/lib/python3.7/site-packages/sklearn/linear_model/logistic.py:947: ConvergenceWarning: lbfgs failed to converge. Increase the number of iterations.\n",
      "  \"of iterations.\", ConvergenceWarning)\n"
     ]
    },
    {
     "name": "stdout",
     "output_type": "stream",
     "text": [
      "German 10 16 stratified 2020\n",
      "Training complete!\n",
      "Macro F1:  0.471989\n",
      "\n",
      "https://ui.neptune.ai/Hatespeech-CNERG/MH-Bert/e/SAN-8708\n"
     ]
    },
    {
     "name": "stderr",
     "output_type": "stream",
     "text": [
      "/home/saketh/anaconda3/lib/python3.7/site-packages/sklearn/linear_model/logistic.py:947: ConvergenceWarning: lbfgs failed to converge. Increase the number of iterations.\n",
      "  \"of iterations.\", ConvergenceWarning)\n"
     ]
    },
    {
     "name": "stdout",
     "output_type": "stream",
     "text": [
      "German 10 16 stratified 2021\n",
      "Training complete!\n",
      "Macro F1:  0.471405\n",
      "\n",
      "https://ui.neptune.ai/Hatespeech-CNERG/MH-Bert/e/SAN-8710\n"
     ]
    },
    {
     "name": "stderr",
     "output_type": "stream",
     "text": [
      "/home/saketh/anaconda3/lib/python3.7/site-packages/sklearn/linear_model/logistic.py:947: ConvergenceWarning: lbfgs failed to converge. Increase the number of iterations.\n",
      "  \"of iterations.\", ConvergenceWarning)\n"
     ]
    },
    {
     "name": "stdout",
     "output_type": "stream",
     "text": [
      "German 10 16 stratified 2022\n",
      "Training complete!\n",
      "Macro F1:  0.469149\n",
      "\n",
      "https://ui.neptune.ai/Hatespeech-CNERG/MH-Bert/e/SAN-8712\n"
     ]
    },
    {
     "name": "stderr",
     "output_type": "stream",
     "text": [
      "/home/saketh/anaconda3/lib/python3.7/site-packages/sklearn/linear_model/logistic.py:947: ConvergenceWarning: lbfgs failed to converge. Increase the number of iterations.\n",
      "  \"of iterations.\", ConvergenceWarning)\n"
     ]
    },
    {
     "name": "stdout",
     "output_type": "stream",
     "text": [
      "German 10 32 stratified 2018\n",
      "Training complete!\n",
      "Macro F1:  0.472664\n",
      "\n",
      "https://ui.neptune.ai/Hatespeech-CNERG/MH-Bert/e/SAN-8713\n"
     ]
    },
    {
     "name": "stderr",
     "output_type": "stream",
     "text": [
      "/home/saketh/anaconda3/lib/python3.7/site-packages/sklearn/linear_model/logistic.py:947: ConvergenceWarning: lbfgs failed to converge. Increase the number of iterations.\n",
      "  \"of iterations.\", ConvergenceWarning)\n"
     ]
    },
    {
     "name": "stdout",
     "output_type": "stream",
     "text": [
      "German 10 32 stratified 2019\n",
      "Training complete!\n",
      "Macro F1:  0.473158\n",
      "\n",
      "https://ui.neptune.ai/Hatespeech-CNERG/MH-Bert/e/SAN-8715\n"
     ]
    },
    {
     "name": "stderr",
     "output_type": "stream",
     "text": [
      "/home/saketh/anaconda3/lib/python3.7/site-packages/sklearn/linear_model/logistic.py:947: ConvergenceWarning: lbfgs failed to converge. Increase the number of iterations.\n",
      "  \"of iterations.\", ConvergenceWarning)\n"
     ]
    },
    {
     "name": "stdout",
     "output_type": "stream",
     "text": [
      "German 10 32 stratified 2020\n",
      "Training complete!\n",
      "Macro F1:  0.473836\n",
      "\n",
      "https://ui.neptune.ai/Hatespeech-CNERG/MH-Bert/e/SAN-8718\n"
     ]
    },
    {
     "name": "stderr",
     "output_type": "stream",
     "text": [
      "/home/saketh/anaconda3/lib/python3.7/site-packages/sklearn/linear_model/logistic.py:947: ConvergenceWarning: lbfgs failed to converge. Increase the number of iterations.\n",
      "  \"of iterations.\", ConvergenceWarning)\n"
     ]
    },
    {
     "name": "stdout",
     "output_type": "stream",
     "text": [
      "German 10 32 stratified 2021\n",
      "Training complete!\n",
      "Macro F1:  0.471989\n",
      "\n",
      "https://ui.neptune.ai/Hatespeech-CNERG/MH-Bert/e/SAN-8720\n"
     ]
    },
    {
     "name": "stderr",
     "output_type": "stream",
     "text": [
      "/home/saketh/anaconda3/lib/python3.7/site-packages/sklearn/linear_model/logistic.py:947: ConvergenceWarning: lbfgs failed to converge. Increase the number of iterations.\n",
      "  \"of iterations.\", ConvergenceWarning)\n"
     ]
    },
    {
     "name": "stdout",
     "output_type": "stream",
     "text": [
      "German 10 32 stratified 2022\n",
      "Training complete!\n",
      "Macro F1:  0.471893\n",
      "\n",
      "https://ui.neptune.ai/Hatespeech-CNERG/MH-Bert/e/SAN-8722\n"
     ]
    },
    {
     "name": "stderr",
     "output_type": "stream",
     "text": [
      "/home/saketh/anaconda3/lib/python3.7/site-packages/sklearn/linear_model/logistic.py:947: ConvergenceWarning: lbfgs failed to converge. Increase the number of iterations.\n",
      "  \"of iterations.\", ConvergenceWarning)\n"
     ]
    },
    {
     "name": "stdout",
     "output_type": "stream",
     "text": [
      "German 10 64 stratified 2018\n",
      "Training complete!\n",
      "Macro F1:  0.470726\n",
      "\n",
      "https://ui.neptune.ai/Hatespeech-CNERG/MH-Bert/e/SAN-8724\n"
     ]
    },
    {
     "name": "stderr",
     "output_type": "stream",
     "text": [
      "/home/saketh/anaconda3/lib/python3.7/site-packages/sklearn/linear_model/logistic.py:947: ConvergenceWarning: lbfgs failed to converge. Increase the number of iterations.\n",
      "  \"of iterations.\", ConvergenceWarning)\n"
     ]
    },
    {
     "name": "stdout",
     "output_type": "stream",
     "text": [
      "German 10 64 stratified 2019\n",
      "Training complete!\n",
      "Macro F1:  0.471893\n",
      "\n",
      "https://ui.neptune.ai/Hatespeech-CNERG/MH-Bert/e/SAN-8726\n"
     ]
    },
    {
     "name": "stderr",
     "output_type": "stream",
     "text": [
      "/home/saketh/anaconda3/lib/python3.7/site-packages/sklearn/linear_model/logistic.py:947: ConvergenceWarning: lbfgs failed to converge. Increase the number of iterations.\n",
      "  \"of iterations.\", ConvergenceWarning)\n"
     ]
    },
    {
     "name": "stdout",
     "output_type": "stream",
     "text": [
      "German 10 64 stratified 2020\n",
      "Training complete!\n",
      "Macro F1:  0.474327\n",
      "\n",
      "https://ui.neptune.ai/Hatespeech-CNERG/MH-Bert/e/SAN-8728\n"
     ]
    },
    {
     "name": "stderr",
     "output_type": "stream",
     "text": [
      "/home/saketh/anaconda3/lib/python3.7/site-packages/sklearn/linear_model/logistic.py:947: ConvergenceWarning: lbfgs failed to converge. Increase the number of iterations.\n",
      "  \"of iterations.\", ConvergenceWarning)\n"
     ]
    },
    {
     "name": "stdout",
     "output_type": "stream",
     "text": [
      "German 10 64 stratified 2021\n",
      "Training complete!\n",
      "Macro F1:  0.473059\n",
      "\n",
      "https://ui.neptune.ai/Hatespeech-CNERG/MH-Bert/e/SAN-8730\n"
     ]
    },
    {
     "name": "stderr",
     "output_type": "stream",
     "text": [
      "/home/saketh/anaconda3/lib/python3.7/site-packages/sklearn/linear_model/logistic.py:947: ConvergenceWarning: lbfgs failed to converge. Increase the number of iterations.\n",
      "  \"of iterations.\", ConvergenceWarning)\n"
     ]
    },
    {
     "name": "stdout",
     "output_type": "stream",
     "text": [
      "German 10 64 stratified 2022\n",
      "Training complete!\n",
      "Macro F1:  0.474697\n",
      "\n",
      "https://ui.neptune.ai/Hatespeech-CNERG/MH-Bert/e/SAN-8733\n"
     ]
    },
    {
     "name": "stderr",
     "output_type": "stream",
     "text": [
      "/home/saketh/anaconda3/lib/python3.7/site-packages/sklearn/linear_model/logistic.py:947: ConvergenceWarning: lbfgs failed to converge. Increase the number of iterations.\n",
      "  \"of iterations.\", ConvergenceWarning)\n"
     ]
    },
    {
     "name": "stdout",
     "output_type": "stream",
     "text": [
      "German 10 128 stratified 2018\n",
      "Training complete!\n",
      "Macro F1:  0.474911\n",
      "\n",
      "https://ui.neptune.ai/Hatespeech-CNERG/MH-Bert/e/SAN-8734\n"
     ]
    },
    {
     "name": "stderr",
     "output_type": "stream",
     "text": [
      "/home/saketh/anaconda3/lib/python3.7/site-packages/sklearn/linear_model/logistic.py:947: ConvergenceWarning: lbfgs failed to converge. Increase the number of iterations.\n",
      "  \"of iterations.\", ConvergenceWarning)\n"
     ]
    },
    {
     "name": "stdout",
     "output_type": "stream",
     "text": [
      "German 10 128 stratified 2019\n",
      "Training complete!\n",
      "Macro F1:  0.474697\n",
      "\n",
      "https://ui.neptune.ai/Hatespeech-CNERG/MH-Bert/e/SAN-8736\n"
     ]
    },
    {
     "name": "stderr",
     "output_type": "stream",
     "text": [
      "/home/saketh/anaconda3/lib/python3.7/site-packages/sklearn/linear_model/logistic.py:947: ConvergenceWarning: lbfgs failed to converge. Increase the number of iterations.\n",
      "  \"of iterations.\", ConvergenceWarning)\n"
     ]
    },
    {
     "name": "stdout",
     "output_type": "stream",
     "text": [
      "German 10 128 stratified 2020\n",
      "Training complete!\n",
      "Macro F1:  0.473642\n",
      "\n",
      "https://ui.neptune.ai/Hatespeech-CNERG/MH-Bert/e/SAN-8739\n"
     ]
    },
    {
     "name": "stderr",
     "output_type": "stream",
     "text": [
      "/home/saketh/anaconda3/lib/python3.7/site-packages/sklearn/linear_model/logistic.py:947: ConvergenceWarning: lbfgs failed to converge. Increase the number of iterations.\n",
      "  \"of iterations.\", ConvergenceWarning)\n"
     ]
    },
    {
     "name": "stdout",
     "output_type": "stream",
     "text": [
      "German 10 128 stratified 2021\n",
      "Training complete!\n",
      "Macro F1:  0.473059\n",
      "\n",
      "https://ui.neptune.ai/Hatespeech-CNERG/MH-Bert/e/SAN-8741\n"
     ]
    },
    {
     "name": "stderr",
     "output_type": "stream",
     "text": [
      "/home/saketh/anaconda3/lib/python3.7/site-packages/sklearn/linear_model/logistic.py:947: ConvergenceWarning: lbfgs failed to converge. Increase the number of iterations.\n",
      "  \"of iterations.\", ConvergenceWarning)\n"
     ]
    },
    {
     "name": "stdout",
     "output_type": "stream",
     "text": [
      "German 10 128 stratified 2022\n",
      "Training complete!\n",
      "Macro F1:  0.473642\n",
      "\n",
      "https://ui.neptune.ai/Hatespeech-CNERG/MH-Bert/e/SAN-8742\n"
     ]
    },
    {
     "name": "stderr",
     "output_type": "stream",
     "text": [
      "/home/saketh/anaconda3/lib/python3.7/site-packages/sklearn/linear_model/logistic.py:947: ConvergenceWarning: lbfgs failed to converge. Increase the number of iterations.\n",
      "  \"of iterations.\", ConvergenceWarning)\n"
     ]
    },
    {
     "name": "stdout",
     "output_type": "stream",
     "text": [
      "German 10 256 stratified 2018\n",
      "Training complete!\n",
      "Macro F1:  0.478769\n",
      "\n",
      "https://ui.neptune.ai/Hatespeech-CNERG/MH-Bert/e/SAN-8744\n"
     ]
    },
    {
     "name": "stderr",
     "output_type": "stream",
     "text": [
      "/home/saketh/anaconda3/lib/python3.7/site-packages/sklearn/linear_model/logistic.py:947: ConvergenceWarning: lbfgs failed to converge. Increase the number of iterations.\n",
      "  \"of iterations.\", ConvergenceWarning)\n"
     ]
    },
    {
     "name": "stdout",
     "output_type": "stream",
     "text": [
      "German 10 256 stratified 2019\n",
      "Training complete!\n",
      "Macro F1:  0.478520\n",
      "\n",
      "https://ui.neptune.ai/Hatespeech-CNERG/MH-Bert/e/SAN-8747\n"
     ]
    },
    {
     "name": "stderr",
     "output_type": "stream",
     "text": [
      "/home/saketh/anaconda3/lib/python3.7/site-packages/sklearn/linear_model/logistic.py:947: ConvergenceWarning: lbfgs failed to converge. Increase the number of iterations.\n",
      "  \"of iterations.\", ConvergenceWarning)\n"
     ]
    },
    {
     "name": "stdout",
     "output_type": "stream",
     "text": [
      "German 10 256 stratified 2020\n",
      "Training complete!\n",
      "Macro F1:  0.480637\n",
      "\n",
      "https://ui.neptune.ai/Hatespeech-CNERG/MH-Bert/e/SAN-8749\n"
     ]
    },
    {
     "name": "stderr",
     "output_type": "stream",
     "text": [
      "/home/saketh/anaconda3/lib/python3.7/site-packages/sklearn/linear_model/logistic.py:947: ConvergenceWarning: lbfgs failed to converge. Increase the number of iterations.\n",
      "  \"of iterations.\", ConvergenceWarning)\n"
     ]
    },
    {
     "name": "stdout",
     "output_type": "stream",
     "text": [
      "German 10 256 stratified 2021\n",
      "Training complete!\n",
      "Macro F1:  0.475974\n",
      "\n",
      "https://ui.neptune.ai/Hatespeech-CNERG/MH-Bert/e/SAN-8750\n"
     ]
    },
    {
     "name": "stderr",
     "output_type": "stream",
     "text": [
      "/home/saketh/anaconda3/lib/python3.7/site-packages/sklearn/linear_model/logistic.py:947: ConvergenceWarning: lbfgs failed to converge. Increase the number of iterations.\n",
      "  \"of iterations.\", ConvergenceWarning)\n"
     ]
    },
    {
     "name": "stdout",
     "output_type": "stream",
     "text": [
      "German 10 256 stratified 2022\n",
      "Training complete!\n",
      "Macro F1:  0.478187\n",
      "\n",
      "https://ui.neptune.ai/Hatespeech-CNERG/MH-Bert/e/SAN-8752\n",
      "Indonesian 0.01 16 stratified 2018\n",
      "Training complete!\n",
      "Macro F1:  0.557898\n",
      "\n",
      "https://ui.neptune.ai/Hatespeech-CNERG/MH-Bert/e/SAN-8754\n",
      "Indonesian 0.01 16 stratified 2019\n",
      "Training complete!\n",
      "Macro F1:  0.557952\n",
      "\n",
      "https://ui.neptune.ai/Hatespeech-CNERG/MH-Bert/e/SAN-8756\n",
      "Indonesian 0.01 16 stratified 2020\n",
      "Training complete!\n",
      "Macro F1:  0.557952\n",
      "\n",
      "https://ui.neptune.ai/Hatespeech-CNERG/MH-Bert/e/SAN-8758\n",
      "Indonesian 0.01 16 stratified 2021\n",
      "Training complete!\n",
      "Macro F1:  0.557898\n",
      "\n",
      "https://ui.neptune.ai/Hatespeech-CNERG/MH-Bert/e/SAN-8759\n",
      "Indonesian 0.01 16 stratified 2022\n",
      "Training complete!\n",
      "Macro F1:  0.557562\n",
      "\n",
      "https://ui.neptune.ai/Hatespeech-CNERG/MH-Bert/e/SAN-8761\n",
      "Indonesian 0.01 32 stratified 2018\n",
      "Training complete!\n",
      "Macro F1:  0.557844\n",
      "\n",
      "https://ui.neptune.ai/Hatespeech-CNERG/MH-Bert/e/SAN-8763\n",
      "Indonesian 0.01 32 stratified 2019\n",
      "Training complete!\n",
      "Macro F1:  0.558234\n",
      "\n",
      "https://ui.neptune.ai/Hatespeech-CNERG/MH-Bert/e/SAN-8765\n",
      "Indonesian 0.01 32 stratified 2020\n",
      "Training complete!\n",
      "Macro F1:  0.557898\n",
      "\n",
      "https://ui.neptune.ai/Hatespeech-CNERG/MH-Bert/e/SAN-8766\n",
      "Indonesian 0.01 32 stratified 2021\n",
      "Training complete!\n",
      "Macro F1:  0.558069\n",
      "\n",
      "https://ui.neptune.ai/Hatespeech-CNERG/MH-Bert/e/SAN-8768\n",
      "Indonesian 0.01 32 stratified 2022\n",
      "Training complete!\n",
      "Macro F1:  0.558179\n",
      "\n",
      "https://ui.neptune.ai/Hatespeech-CNERG/MH-Bert/e/SAN-8769\n",
      "Indonesian 0.01 64 stratified 2018\n",
      "Training complete!\n",
      "Macro F1:  0.558013\n",
      "\n",
      "https://ui.neptune.ai/Hatespeech-CNERG/MH-Bert/e/SAN-8771\n",
      "Indonesian 0.01 64 stratified 2019\n",
      "Training complete!\n",
      "Macro F1:  0.558794\n",
      "\n",
      "https://ui.neptune.ai/Hatespeech-CNERG/MH-Bert/e/SAN-8773\n",
      "Indonesian 0.01 64 stratified 2020\n",
      "Training complete!\n",
      "Macro F1:  0.558515\n",
      "\n",
      "https://ui.neptune.ai/Hatespeech-CNERG/MH-Bert/e/SAN-8774\n",
      "Indonesian 0.01 64 stratified 2021\n",
      "Training complete!\n",
      "Macro F1:  0.558234\n",
      "\n",
      "https://ui.neptune.ai/Hatespeech-CNERG/MH-Bert/e/SAN-8777\n",
      "Indonesian 0.01 64 stratified 2022\n",
      "Training complete!\n",
      "Macro F1:  0.558682\n",
      "\n",
      "https://ui.neptune.ai/Hatespeech-CNERG/MH-Bert/e/SAN-8780\n",
      "Indonesian 0.01 128 stratified 2018\n",
      "Training complete!\n",
      "Macro F1:  0.557334\n",
      "\n",
      "https://ui.neptune.ai/Hatespeech-CNERG/MH-Bert/e/SAN-8781\n",
      "Indonesian 0.01 128 stratified 2019\n",
      "Training complete!\n",
      "Macro F1:  0.556274\n",
      "\n",
      "https://ui.neptune.ai/Hatespeech-CNERG/MH-Bert/e/SAN-8783\n",
      "Indonesian 0.01 128 stratified 2020\n",
      "Training complete!\n",
      "Macro F1:  0.558234\n",
      "\n",
      "https://ui.neptune.ai/Hatespeech-CNERG/MH-Bert/e/SAN-8785\n",
      "Indonesian 0.01 128 stratified 2021\n",
      "Training complete!\n",
      "Macro F1:  0.558759\n",
      "\n",
      "https://ui.neptune.ai/Hatespeech-CNERG/MH-Bert/e/SAN-8786\n",
      "Indonesian 0.01 128 stratified 2022\n",
      "Training complete!\n",
      "Macro F1:  0.557366\n",
      "\n",
      "https://ui.neptune.ai/Hatespeech-CNERG/MH-Bert/e/SAN-8788\n",
      "Indonesian 0.01 256 stratified 2018\n",
      "Training complete!\n",
      "Macro F1:  0.559771\n",
      "\n",
      "https://ui.neptune.ai/Hatespeech-CNERG/MH-Bert/e/SAN-8791\n",
      "Indonesian 0.01 256 stratified 2019\n",
      "Training complete!\n",
      "Macro F1:  0.559243\n",
      "\n",
      "https://ui.neptune.ai/Hatespeech-CNERG/MH-Bert/e/SAN-8794\n",
      "Indonesian 0.01 256 stratified 2020\n",
      "Training complete!\n",
      "Macro F1:  0.558646\n",
      "\n",
      "https://ui.neptune.ai/Hatespeech-CNERG/MH-Bert/e/SAN-8796\n",
      "Indonesian 0.01 256 stratified 2021\n",
      "Training complete!\n",
      "Macro F1:  0.558712\n",
      "\n",
      "https://ui.neptune.ai/Hatespeech-CNERG/MH-Bert/e/SAN-8798\n",
      "Indonesian 0.01 256 stratified 2022\n",
      "Training complete!\n",
      "Macro F1:  0.560566\n",
      "\n",
      "https://ui.neptune.ai/Hatespeech-CNERG/MH-Bert/e/SAN-8800\n",
      "Indonesian 0.1 16 stratified 2018\n",
      "Training complete!\n",
      "Macro F1:  0.624217\n",
      "\n",
      "https://ui.neptune.ai/Hatespeech-CNERG/MH-Bert/e/SAN-8802\n",
      "Indonesian 0.1 16 stratified 2019\n",
      "Training complete!\n",
      "Macro F1:  0.625989\n",
      "\n",
      "https://ui.neptune.ai/Hatespeech-CNERG/MH-Bert/e/SAN-8803\n",
      "Indonesian 0.1 16 stratified 2020\n",
      "Training complete!\n",
      "Macro F1:  0.624917\n",
      "\n",
      "https://ui.neptune.ai/Hatespeech-CNERG/MH-Bert/e/SAN-8805\n",
      "Indonesian 0.1 16 stratified 2021\n",
      "Training complete!\n",
      "Macro F1:  0.625369\n",
      "\n",
      "https://ui.neptune.ai/Hatespeech-CNERG/MH-Bert/e/SAN-8807\n",
      "Indonesian 0.1 16 stratified 2022\n",
      "Training complete!\n",
      "Macro F1:  0.624917\n",
      "\n",
      "https://ui.neptune.ai/Hatespeech-CNERG/MH-Bert/e/SAN-8810\n",
      "Indonesian 0.1 32 stratified 2018\n",
      "Training complete!\n",
      "Macro F1:  0.625019\n",
      "\n",
      "https://ui.neptune.ai/Hatespeech-CNERG/MH-Bert/e/SAN-8812\n",
      "Indonesian 0.1 32 stratified 2019\n",
      "Training complete!\n",
      "Macro F1:  0.626071\n",
      "\n",
      "https://ui.neptune.ai/Hatespeech-CNERG/MH-Bert/e/SAN-8813\n",
      "Indonesian 0.1 32 stratified 2020\n",
      "Training complete!\n",
      "Macro F1:  0.624567\n",
      "\n",
      "https://ui.neptune.ai/Hatespeech-CNERG/MH-Bert/e/SAN-8815\n",
      "Indonesian 0.1 32 stratified 2021\n",
      "Training complete!\n",
      "Macro F1:  0.625426\n",
      "\n",
      "https://ui.neptune.ai/Hatespeech-CNERG/MH-Bert/e/SAN-8817\n",
      "Indonesian 0.1 32 stratified 2022\n",
      "Training complete!\n",
      "Macro F1:  0.624999\n",
      "\n",
      "https://ui.neptune.ai/Hatespeech-CNERG/MH-Bert/e/SAN-8819\n",
      "Indonesian 0.1 64 stratified 2018\n",
      "Training complete!\n",
      "Macro F1:  0.624087\n",
      "\n",
      "https://ui.neptune.ai/Hatespeech-CNERG/MH-Bert/e/SAN-8822\n",
      "Indonesian 0.1 64 stratified 2019\n",
      "Training complete!\n",
      "Macro F1:  0.625462\n",
      "\n",
      "https://ui.neptune.ai/Hatespeech-CNERG/MH-Bert/e/SAN-8824\n",
      "Indonesian 0.1 64 stratified 2020\n",
      "Training complete!\n",
      "Macro F1:  0.624389\n",
      "\n",
      "https://ui.neptune.ai/Hatespeech-CNERG/MH-Bert/e/SAN-8827\n",
      "Indonesian 0.1 64 stratified 2021\n",
      "Training complete!\n",
      "Macro F1:  0.622735\n",
      "\n",
      "https://ui.neptune.ai/Hatespeech-CNERG/MH-Bert/e/SAN-8829\n",
      "Indonesian 0.1 64 stratified 2022\n",
      "Training complete!\n",
      "Macro F1:  0.623685\n",
      "\n",
      "https://ui.neptune.ai/Hatespeech-CNERG/MH-Bert/e/SAN-8831\n",
      "Indonesian 0.1 128 stratified 2018\n",
      "Training complete!\n",
      "Macro F1:  0.616733\n",
      "\n",
      "https://ui.neptune.ai/Hatespeech-CNERG/MH-Bert/e/SAN-8833\n",
      "Indonesian 0.1 128 stratified 2019\n",
      "Training complete!\n",
      "Macro F1:  0.619562\n",
      "\n",
      "https://ui.neptune.ai/Hatespeech-CNERG/MH-Bert/e/SAN-8834\n",
      "Indonesian 0.1 128 stratified 2020\n",
      "Training complete!\n",
      "Macro F1:  0.618874\n",
      "\n",
      "https://ui.neptune.ai/Hatespeech-CNERG/MH-Bert/e/SAN-8836\n",
      "Indonesian 0.1 128 stratified 2021\n",
      "Training complete!\n",
      "Macro F1:  0.616078\n",
      "\n",
      "https://ui.neptune.ai/Hatespeech-CNERG/MH-Bert/e/SAN-8838\n",
      "Indonesian 0.1 128 stratified 2022\n",
      "Training complete!\n",
      "Macro F1:  0.619584\n",
      "\n",
      "https://ui.neptune.ai/Hatespeech-CNERG/MH-Bert/e/SAN-8840\n",
      "Indonesian 0.1 256 stratified 2018\n",
      "Training complete!\n",
      "Macro F1:  0.615052\n",
      "\n",
      "https://ui.neptune.ai/Hatespeech-CNERG/MH-Bert/e/SAN-8842\n",
      "Indonesian 0.1 256 stratified 2019\n",
      "Training complete!\n",
      "Macro F1:  0.615410\n",
      "\n",
      "https://ui.neptune.ai/Hatespeech-CNERG/MH-Bert/e/SAN-8844\n",
      "Indonesian 0.1 256 stratified 2020\n",
      "Training complete!\n",
      "Macro F1:  0.614686\n",
      "\n",
      "https://ui.neptune.ai/Hatespeech-CNERG/MH-Bert/e/SAN-8846\n",
      "Indonesian 0.1 256 stratified 2021\n",
      "Training complete!\n",
      "Macro F1:  0.614691\n",
      "\n",
      "https://ui.neptune.ai/Hatespeech-CNERG/MH-Bert/e/SAN-8848\n",
      "Indonesian 0.1 256 stratified 2022\n",
      "Training complete!\n",
      "Macro F1:  0.615772\n",
      "\n",
      "https://ui.neptune.ai/Hatespeech-CNERG/MH-Bert/e/SAN-8849\n"
     ]
    },
    {
     "name": "stderr",
     "output_type": "stream",
     "text": [
      "/home/saketh/anaconda3/lib/python3.7/site-packages/sklearn/linear_model/logistic.py:947: ConvergenceWarning: lbfgs failed to converge. Increase the number of iterations.\n",
      "  \"of iterations.\", ConvergenceWarning)\n"
     ]
    },
    {
     "name": "stdout",
     "output_type": "stream",
     "text": [
      "Indonesian 1 16 stratified 2018\n",
      "Training complete!\n",
      "Macro F1:  0.634184\n",
      "\n",
      "https://ui.neptune.ai/Hatespeech-CNERG/MH-Bert/e/SAN-8851\n"
     ]
    },
    {
     "name": "stderr",
     "output_type": "stream",
     "text": [
      "/home/saketh/anaconda3/lib/python3.7/site-packages/sklearn/linear_model/logistic.py:947: ConvergenceWarning: lbfgs failed to converge. Increase the number of iterations.\n",
      "  \"of iterations.\", ConvergenceWarning)\n"
     ]
    },
    {
     "name": "stdout",
     "output_type": "stream",
     "text": [
      "Indonesian 1 16 stratified 2019\n",
      "Training complete!\n",
      "Macro F1:  0.635914\n",
      "\n",
      "https://ui.neptune.ai/Hatespeech-CNERG/MH-Bert/e/SAN-8853\n"
     ]
    },
    {
     "name": "stderr",
     "output_type": "stream",
     "text": [
      "/home/saketh/anaconda3/lib/python3.7/site-packages/sklearn/linear_model/logistic.py:947: ConvergenceWarning: lbfgs failed to converge. Increase the number of iterations.\n",
      "  \"of iterations.\", ConvergenceWarning)\n"
     ]
    },
    {
     "name": "stdout",
     "output_type": "stream",
     "text": [
      "Indonesian 1 16 stratified 2020\n",
      "Training complete!\n",
      "Macro F1:  0.636182\n",
      "\n",
      "https://ui.neptune.ai/Hatespeech-CNERG/MH-Bert/e/SAN-8855\n"
     ]
    },
    {
     "name": "stderr",
     "output_type": "stream",
     "text": [
      "/home/saketh/anaconda3/lib/python3.7/site-packages/sklearn/linear_model/logistic.py:947: ConvergenceWarning: lbfgs failed to converge. Increase the number of iterations.\n",
      "  \"of iterations.\", ConvergenceWarning)\n"
     ]
    },
    {
     "name": "stdout",
     "output_type": "stream",
     "text": [
      "Indonesian 1 16 stratified 2021\n",
      "Training complete!\n",
      "Macro F1:  0.634141\n",
      "\n",
      "https://ui.neptune.ai/Hatespeech-CNERG/MH-Bert/e/SAN-8858\n"
     ]
    },
    {
     "name": "stderr",
     "output_type": "stream",
     "text": [
      "/home/saketh/anaconda3/lib/python3.7/site-packages/sklearn/linear_model/logistic.py:947: ConvergenceWarning: lbfgs failed to converge. Increase the number of iterations.\n",
      "  \"of iterations.\", ConvergenceWarning)\n"
     ]
    },
    {
     "name": "stdout",
     "output_type": "stream",
     "text": [
      "Indonesian 1 16 stratified 2022\n",
      "Training complete!\n",
      "Macro F1:  0.635516\n",
      "\n",
      "https://ui.neptune.ai/Hatespeech-CNERG/MH-Bert/e/SAN-8859\n"
     ]
    },
    {
     "name": "stderr",
     "output_type": "stream",
     "text": [
      "/home/saketh/anaconda3/lib/python3.7/site-packages/sklearn/linear_model/logistic.py:947: ConvergenceWarning: lbfgs failed to converge. Increase the number of iterations.\n",
      "  \"of iterations.\", ConvergenceWarning)\n"
     ]
    },
    {
     "name": "stdout",
     "output_type": "stream",
     "text": [
      "Indonesian 1 32 stratified 2018\n",
      "Training complete!\n",
      "Macro F1:  0.633624\n",
      "\n",
      "https://ui.neptune.ai/Hatespeech-CNERG/MH-Bert/e/SAN-8863\n"
     ]
    },
    {
     "name": "stderr",
     "output_type": "stream",
     "text": [
      "/home/saketh/anaconda3/lib/python3.7/site-packages/sklearn/linear_model/logistic.py:947: ConvergenceWarning: lbfgs failed to converge. Increase the number of iterations.\n",
      "  \"of iterations.\", ConvergenceWarning)\n"
     ]
    },
    {
     "name": "stdout",
     "output_type": "stream",
     "text": [
      "Indonesian 1 32 stratified 2019\n",
      "Training complete!\n",
      "Macro F1:  0.635479\n",
      "\n",
      "https://ui.neptune.ai/Hatespeech-CNERG/MH-Bert/e/SAN-8865\n"
     ]
    },
    {
     "name": "stderr",
     "output_type": "stream",
     "text": [
      "/home/saketh/anaconda3/lib/python3.7/site-packages/sklearn/linear_model/logistic.py:947: ConvergenceWarning: lbfgs failed to converge. Increase the number of iterations.\n",
      "  \"of iterations.\", ConvergenceWarning)\n"
     ]
    },
    {
     "name": "stdout",
     "output_type": "stream",
     "text": [
      "Indonesian 1 32 stratified 2020\n",
      "Training complete!\n",
      "Macro F1:  0.633915\n",
      "\n",
      "https://ui.neptune.ai/Hatespeech-CNERG/MH-Bert/e/SAN-8867\n"
     ]
    },
    {
     "name": "stderr",
     "output_type": "stream",
     "text": [
      "/home/saketh/anaconda3/lib/python3.7/site-packages/sklearn/linear_model/logistic.py:947: ConvergenceWarning: lbfgs failed to converge. Increase the number of iterations.\n",
      "  \"of iterations.\", ConvergenceWarning)\n"
     ]
    },
    {
     "name": "stdout",
     "output_type": "stream",
     "text": [
      "Indonesian 1 32 stratified 2021\n",
      "Training complete!\n",
      "Macro F1:  0.633315\n",
      "\n",
      "https://ui.neptune.ai/Hatespeech-CNERG/MH-Bert/e/SAN-8869\n"
     ]
    },
    {
     "name": "stderr",
     "output_type": "stream",
     "text": [
      "/home/saketh/anaconda3/lib/python3.7/site-packages/sklearn/linear_model/logistic.py:947: ConvergenceWarning: lbfgs failed to converge. Increase the number of iterations.\n",
      "  \"of iterations.\", ConvergenceWarning)\n"
     ]
    },
    {
     "name": "stdout",
     "output_type": "stream",
     "text": [
      "Indonesian 1 32 stratified 2022\n",
      "Training complete!\n",
      "Macro F1:  0.635503\n",
      "\n",
      "https://ui.neptune.ai/Hatespeech-CNERG/MH-Bert/e/SAN-8871\n"
     ]
    },
    {
     "name": "stderr",
     "output_type": "stream",
     "text": [
      "/home/saketh/anaconda3/lib/python3.7/site-packages/sklearn/linear_model/logistic.py:947: ConvergenceWarning: lbfgs failed to converge. Increase the number of iterations.\n",
      "  \"of iterations.\", ConvergenceWarning)\n"
     ]
    },
    {
     "name": "stdout",
     "output_type": "stream",
     "text": [
      "Indonesian 1 64 stratified 2018\n",
      "Training complete!\n",
      "Macro F1:  0.636066\n",
      "\n",
      "https://ui.neptune.ai/Hatespeech-CNERG/MH-Bert/e/SAN-8873\n"
     ]
    },
    {
     "name": "stderr",
     "output_type": "stream",
     "text": [
      "/home/saketh/anaconda3/lib/python3.7/site-packages/sklearn/linear_model/logistic.py:947: ConvergenceWarning: lbfgs failed to converge. Increase the number of iterations.\n",
      "  \"of iterations.\", ConvergenceWarning)\n"
     ]
    },
    {
     "name": "stdout",
     "output_type": "stream",
     "text": [
      "Indonesian 1 64 stratified 2019\n",
      "Training complete!\n",
      "Macro F1:  0.635061\n",
      "\n",
      "https://ui.neptune.ai/Hatespeech-CNERG/MH-Bert/e/SAN-8875\n"
     ]
    },
    {
     "name": "stderr",
     "output_type": "stream",
     "text": [
      "/home/saketh/anaconda3/lib/python3.7/site-packages/sklearn/linear_model/logistic.py:947: ConvergenceWarning: lbfgs failed to converge. Increase the number of iterations.\n",
      "  \"of iterations.\", ConvergenceWarning)\n"
     ]
    },
    {
     "name": "stdout",
     "output_type": "stream",
     "text": [
      "Indonesian 1 64 stratified 2020\n",
      "Training complete!\n",
      "Macro F1:  0.632980\n",
      "\n",
      "https://ui.neptune.ai/Hatespeech-CNERG/MH-Bert/e/SAN-8877\n"
     ]
    },
    {
     "name": "stderr",
     "output_type": "stream",
     "text": [
      "/home/saketh/anaconda3/lib/python3.7/site-packages/sklearn/linear_model/logistic.py:947: ConvergenceWarning: lbfgs failed to converge. Increase the number of iterations.\n",
      "  \"of iterations.\", ConvergenceWarning)\n"
     ]
    },
    {
     "name": "stdout",
     "output_type": "stream",
     "text": [
      "Indonesian 1 64 stratified 2021\n",
      "Training complete!\n",
      "Macro F1:  0.635658\n",
      "\n",
      "https://ui.neptune.ai/Hatespeech-CNERG/MH-Bert/e/SAN-8879\n"
     ]
    },
    {
     "name": "stderr",
     "output_type": "stream",
     "text": [
      "/home/saketh/anaconda3/lib/python3.7/site-packages/sklearn/linear_model/logistic.py:947: ConvergenceWarning: lbfgs failed to converge. Increase the number of iterations.\n",
      "  \"of iterations.\", ConvergenceWarning)\n"
     ]
    },
    {
     "name": "stdout",
     "output_type": "stream",
     "text": [
      "Indonesian 1 64 stratified 2022\n",
      "Training complete!\n",
      "Macro F1:  0.636293\n",
      "\n",
      "https://ui.neptune.ai/Hatespeech-CNERG/MH-Bert/e/SAN-8880\n"
     ]
    },
    {
     "name": "stderr",
     "output_type": "stream",
     "text": [
      "/home/saketh/anaconda3/lib/python3.7/site-packages/sklearn/linear_model/logistic.py:947: ConvergenceWarning: lbfgs failed to converge. Increase the number of iterations.\n",
      "  \"of iterations.\", ConvergenceWarning)\n"
     ]
    },
    {
     "name": "stdout",
     "output_type": "stream",
     "text": [
      "Indonesian 1 128 stratified 2018\n",
      "Training complete!\n",
      "Macro F1:  0.637003\n",
      "\n",
      "https://ui.neptune.ai/Hatespeech-CNERG/MH-Bert/e/SAN-8882\n"
     ]
    },
    {
     "name": "stderr",
     "output_type": "stream",
     "text": [
      "/home/saketh/anaconda3/lib/python3.7/site-packages/sklearn/linear_model/logistic.py:947: ConvergenceWarning: lbfgs failed to converge. Increase the number of iterations.\n",
      "  \"of iterations.\", ConvergenceWarning)\n"
     ]
    },
    {
     "name": "stdout",
     "output_type": "stream",
     "text": [
      "Indonesian 1 128 stratified 2019\n",
      "Training complete!\n",
      "Macro F1:  0.637390\n",
      "\n",
      "https://ui.neptune.ai/Hatespeech-CNERG/MH-Bert/e/SAN-8884\n"
     ]
    },
    {
     "name": "stderr",
     "output_type": "stream",
     "text": [
      "/home/saketh/anaconda3/lib/python3.7/site-packages/sklearn/linear_model/logistic.py:947: ConvergenceWarning: lbfgs failed to converge. Increase the number of iterations.\n",
      "  \"of iterations.\", ConvergenceWarning)\n"
     ]
    },
    {
     "name": "stdout",
     "output_type": "stream",
     "text": [
      "Indonesian 1 128 stratified 2020\n",
      "Training complete!\n",
      "Macro F1:  0.635851\n",
      "\n",
      "https://ui.neptune.ai/Hatespeech-CNERG/MH-Bert/e/SAN-8886\n"
     ]
    },
    {
     "name": "stderr",
     "output_type": "stream",
     "text": [
      "/home/saketh/anaconda3/lib/python3.7/site-packages/sklearn/linear_model/logistic.py:947: ConvergenceWarning: lbfgs failed to converge. Increase the number of iterations.\n",
      "  \"of iterations.\", ConvergenceWarning)\n"
     ]
    },
    {
     "name": "stdout",
     "output_type": "stream",
     "text": [
      "Indonesian 1 128 stratified 2021\n",
      "Training complete!\n",
      "Macro F1:  0.632815\n",
      "\n",
      "https://ui.neptune.ai/Hatespeech-CNERG/MH-Bert/e/SAN-8887\n"
     ]
    },
    {
     "name": "stderr",
     "output_type": "stream",
     "text": [
      "/home/saketh/anaconda3/lib/python3.7/site-packages/sklearn/linear_model/logistic.py:947: ConvergenceWarning: lbfgs failed to converge. Increase the number of iterations.\n",
      "  \"of iterations.\", ConvergenceWarning)\n"
     ]
    },
    {
     "name": "stdout",
     "output_type": "stream",
     "text": [
      "Indonesian 1 128 stratified 2022\n",
      "Training complete!\n",
      "Macro F1:  0.638159\n",
      "\n",
      "https://ui.neptune.ai/Hatespeech-CNERG/MH-Bert/e/SAN-8888\n"
     ]
    },
    {
     "name": "stderr",
     "output_type": "stream",
     "text": [
      "/home/saketh/anaconda3/lib/python3.7/site-packages/sklearn/linear_model/logistic.py:947: ConvergenceWarning: lbfgs failed to converge. Increase the number of iterations.\n",
      "  \"of iterations.\", ConvergenceWarning)\n"
     ]
    },
    {
     "name": "stdout",
     "output_type": "stream",
     "text": [
      "Indonesian 1 256 stratified 2018\n",
      "Training complete!\n",
      "Macro F1:  0.626921\n",
      "\n",
      "https://ui.neptune.ai/Hatespeech-CNERG/MH-Bert/e/SAN-8890\n"
     ]
    },
    {
     "name": "stderr",
     "output_type": "stream",
     "text": [
      "/home/saketh/anaconda3/lib/python3.7/site-packages/sklearn/linear_model/logistic.py:947: ConvergenceWarning: lbfgs failed to converge. Increase the number of iterations.\n",
      "  \"of iterations.\", ConvergenceWarning)\n"
     ]
    },
    {
     "name": "stdout",
     "output_type": "stream",
     "text": [
      "Indonesian 1 256 stratified 2019\n",
      "Training complete!\n",
      "Macro F1:  0.628916\n",
      "\n",
      "https://ui.neptune.ai/Hatespeech-CNERG/MH-Bert/e/SAN-8891\n"
     ]
    },
    {
     "name": "stderr",
     "output_type": "stream",
     "text": [
      "/home/saketh/anaconda3/lib/python3.7/site-packages/sklearn/linear_model/logistic.py:947: ConvergenceWarning: lbfgs failed to converge. Increase the number of iterations.\n",
      "  \"of iterations.\", ConvergenceWarning)\n"
     ]
    },
    {
     "name": "stdout",
     "output_type": "stream",
     "text": [
      "Indonesian 1 256 stratified 2020\n",
      "Training complete!\n",
      "Macro F1:  0.627621\n",
      "\n",
      "https://ui.neptune.ai/Hatespeech-CNERG/MH-Bert/e/SAN-8892\n"
     ]
    },
    {
     "name": "stderr",
     "output_type": "stream",
     "text": [
      "/home/saketh/anaconda3/lib/python3.7/site-packages/sklearn/linear_model/logistic.py:947: ConvergenceWarning: lbfgs failed to converge. Increase the number of iterations.\n",
      "  \"of iterations.\", ConvergenceWarning)\n"
     ]
    },
    {
     "name": "stdout",
     "output_type": "stream",
     "text": [
      "Indonesian 1 256 stratified 2021\n",
      "Training complete!\n",
      "Macro F1:  0.626921\n",
      "\n",
      "https://ui.neptune.ai/Hatespeech-CNERG/MH-Bert/e/SAN-8894\n"
     ]
    },
    {
     "name": "stderr",
     "output_type": "stream",
     "text": [
      "/home/saketh/anaconda3/lib/python3.7/site-packages/sklearn/linear_model/logistic.py:947: ConvergenceWarning: lbfgs failed to converge. Increase the number of iterations.\n",
      "  \"of iterations.\", ConvergenceWarning)\n"
     ]
    },
    {
     "name": "stdout",
     "output_type": "stream",
     "text": [
      "Indonesian 1 256 stratified 2022\n",
      "Training complete!\n",
      "Macro F1:  0.626831\n",
      "\n",
      "https://ui.neptune.ai/Hatespeech-CNERG/MH-Bert/e/SAN-8896\n"
     ]
    },
    {
     "name": "stderr",
     "output_type": "stream",
     "text": [
      "/home/saketh/anaconda3/lib/python3.7/site-packages/sklearn/linear_model/logistic.py:947: ConvergenceWarning: lbfgs failed to converge. Increase the number of iterations.\n",
      "  \"of iterations.\", ConvergenceWarning)\n"
     ]
    },
    {
     "name": "stdout",
     "output_type": "stream",
     "text": [
      "Indonesian 10 16 stratified 2018\n",
      "Training complete!\n",
      "Macro F1:  0.624917\n",
      "\n",
      "https://ui.neptune.ai/Hatespeech-CNERG/MH-Bert/e/SAN-8898\n"
     ]
    },
    {
     "name": "stderr",
     "output_type": "stream",
     "text": [
      "/home/saketh/anaconda3/lib/python3.7/site-packages/sklearn/linear_model/logistic.py:947: ConvergenceWarning: lbfgs failed to converge. Increase the number of iterations.\n",
      "  \"of iterations.\", ConvergenceWarning)\n"
     ]
    },
    {
     "name": "stdout",
     "output_type": "stream",
     "text": [
      "Indonesian 10 16 stratified 2019\n",
      "Training complete!\n",
      "Macro F1:  0.626922\n",
      "\n",
      "https://ui.neptune.ai/Hatespeech-CNERG/MH-Bert/e/SAN-8899\n"
     ]
    },
    {
     "name": "stderr",
     "output_type": "stream",
     "text": [
      "/home/saketh/anaconda3/lib/python3.7/site-packages/sklearn/linear_model/logistic.py:947: ConvergenceWarning: lbfgs failed to converge. Increase the number of iterations.\n",
      "  \"of iterations.\", ConvergenceWarning)\n"
     ]
    },
    {
     "name": "stdout",
     "output_type": "stream",
     "text": [
      "Indonesian 10 16 stratified 2020\n",
      "Training complete!\n",
      "Macro F1:  0.625674\n",
      "\n",
      "https://ui.neptune.ai/Hatespeech-CNERG/MH-Bert/e/SAN-8900\n"
     ]
    },
    {
     "name": "stderr",
     "output_type": "stream",
     "text": [
      "/home/saketh/anaconda3/lib/python3.7/site-packages/sklearn/linear_model/logistic.py:947: ConvergenceWarning: lbfgs failed to converge. Increase the number of iterations.\n",
      "  \"of iterations.\", ConvergenceWarning)\n"
     ]
    },
    {
     "name": "stdout",
     "output_type": "stream",
     "text": [
      "Indonesian 10 16 stratified 2021\n",
      "Training complete!\n",
      "Macro F1:  0.623544\n",
      "\n",
      "https://ui.neptune.ai/Hatespeech-CNERG/MH-Bert/e/SAN-8901\n"
     ]
    },
    {
     "name": "stderr",
     "output_type": "stream",
     "text": [
      "/home/saketh/anaconda3/lib/python3.7/site-packages/sklearn/linear_model/logistic.py:947: ConvergenceWarning: lbfgs failed to converge. Increase the number of iterations.\n",
      "  \"of iterations.\", ConvergenceWarning)\n"
     ]
    },
    {
     "name": "stdout",
     "output_type": "stream",
     "text": [
      "Indonesian 10 16 stratified 2022\n",
      "Training complete!\n",
      "Macro F1:  0.625769\n",
      "\n",
      "https://ui.neptune.ai/Hatespeech-CNERG/MH-Bert/e/SAN-8902\n"
     ]
    },
    {
     "name": "stderr",
     "output_type": "stream",
     "text": [
      "/home/saketh/anaconda3/lib/python3.7/site-packages/sklearn/linear_model/logistic.py:947: ConvergenceWarning: lbfgs failed to converge. Increase the number of iterations.\n",
      "  \"of iterations.\", ConvergenceWarning)\n"
     ]
    },
    {
     "name": "stdout",
     "output_type": "stream",
     "text": [
      "Indonesian 10 32 stratified 2018\n",
      "Training complete!\n",
      "Macro F1:  0.625651\n",
      "\n",
      "https://ui.neptune.ai/Hatespeech-CNERG/MH-Bert/e/SAN-8903\n"
     ]
    },
    {
     "name": "stderr",
     "output_type": "stream",
     "text": [
      "/home/saketh/anaconda3/lib/python3.7/site-packages/sklearn/linear_model/logistic.py:947: ConvergenceWarning: lbfgs failed to converge. Increase the number of iterations.\n",
      "  \"of iterations.\", ConvergenceWarning)\n"
     ]
    },
    {
     "name": "stdout",
     "output_type": "stream",
     "text": [
      "Indonesian 10 32 stratified 2019\n",
      "Training complete!\n",
      "Macro F1:  0.626515\n",
      "\n",
      "https://ui.neptune.ai/Hatespeech-CNERG/MH-Bert/e/SAN-8904\n"
     ]
    },
    {
     "name": "stderr",
     "output_type": "stream",
     "text": [
      "/home/saketh/anaconda3/lib/python3.7/site-packages/sklearn/linear_model/logistic.py:947: ConvergenceWarning: lbfgs failed to converge. Increase the number of iterations.\n",
      "  \"of iterations.\", ConvergenceWarning)\n"
     ]
    },
    {
     "name": "stdout",
     "output_type": "stream",
     "text": [
      "Indonesian 10 32 stratified 2020\n",
      "Training complete!\n",
      "Macro F1:  0.625939\n",
      "\n",
      "https://ui.neptune.ai/Hatespeech-CNERG/MH-Bert/e/SAN-8906\n"
     ]
    },
    {
     "name": "stderr",
     "output_type": "stream",
     "text": [
      "/home/saketh/anaconda3/lib/python3.7/site-packages/sklearn/linear_model/logistic.py:947: ConvergenceWarning: lbfgs failed to converge. Increase the number of iterations.\n",
      "  \"of iterations.\", ConvergenceWarning)\n"
     ]
    },
    {
     "name": "stdout",
     "output_type": "stream",
     "text": [
      "Indonesian 10 32 stratified 2021\n",
      "Training complete!\n",
      "Macro F1:  0.624939\n",
      "\n",
      "https://ui.neptune.ai/Hatespeech-CNERG/MH-Bert/e/SAN-8907\n"
     ]
    },
    {
     "name": "stderr",
     "output_type": "stream",
     "text": [
      "/home/saketh/anaconda3/lib/python3.7/site-packages/sklearn/linear_model/logistic.py:947: ConvergenceWarning: lbfgs failed to converge. Increase the number of iterations.\n",
      "  \"of iterations.\", ConvergenceWarning)\n"
     ]
    },
    {
     "name": "stdout",
     "output_type": "stream",
     "text": [
      "Indonesian 10 32 stratified 2022\n",
      "Training complete!\n",
      "Macro F1:  0.628916\n",
      "\n",
      "https://ui.neptune.ai/Hatespeech-CNERG/MH-Bert/e/SAN-8908\n"
     ]
    },
    {
     "name": "stderr",
     "output_type": "stream",
     "text": [
      "/home/saketh/anaconda3/lib/python3.7/site-packages/sklearn/linear_model/logistic.py:947: ConvergenceWarning: lbfgs failed to converge. Increase the number of iterations.\n",
      "  \"of iterations.\", ConvergenceWarning)\n"
     ]
    },
    {
     "name": "stdout",
     "output_type": "stream",
     "text": [
      "Indonesian 10 64 stratified 2018\n",
      "Training complete!\n",
      "Macro F1:  0.627660\n",
      "\n",
      "https://ui.neptune.ai/Hatespeech-CNERG/MH-Bert/e/SAN-8909\n"
     ]
    },
    {
     "name": "stderr",
     "output_type": "stream",
     "text": [
      "/home/saketh/anaconda3/lib/python3.7/site-packages/sklearn/linear_model/logistic.py:947: ConvergenceWarning: lbfgs failed to converge. Increase the number of iterations.\n",
      "  \"of iterations.\", ConvergenceWarning)\n"
     ]
    },
    {
     "name": "stdout",
     "output_type": "stream",
     "text": [
      "Indonesian 10 64 stratified 2019\n",
      "Training complete!\n",
      "Macro F1:  0.625866\n",
      "\n",
      "https://ui.neptune.ai/Hatespeech-CNERG/MH-Bert/e/SAN-8911\n"
     ]
    },
    {
     "name": "stderr",
     "output_type": "stream",
     "text": [
      "/home/saketh/anaconda3/lib/python3.7/site-packages/sklearn/linear_model/logistic.py:947: ConvergenceWarning: lbfgs failed to converge. Increase the number of iterations.\n",
      "  \"of iterations.\", ConvergenceWarning)\n"
     ]
    },
    {
     "name": "stdout",
     "output_type": "stream",
     "text": [
      "Indonesian 10 64 stratified 2020\n",
      "Training complete!\n",
      "Macro F1:  0.622549\n",
      "\n",
      "https://ui.neptune.ai/Hatespeech-CNERG/MH-Bert/e/SAN-8912\n"
     ]
    },
    {
     "name": "stderr",
     "output_type": "stream",
     "text": [
      "/home/saketh/anaconda3/lib/python3.7/site-packages/sklearn/linear_model/logistic.py:947: ConvergenceWarning: lbfgs failed to converge. Increase the number of iterations.\n",
      "  \"of iterations.\", ConvergenceWarning)\n"
     ]
    },
    {
     "name": "stdout",
     "output_type": "stream",
     "text": [
      "Indonesian 10 64 stratified 2021\n",
      "Training complete!\n",
      "Macro F1:  0.626096\n",
      "\n",
      "https://ui.neptune.ai/Hatespeech-CNERG/MH-Bert/e/SAN-8913\n"
     ]
    },
    {
     "name": "stderr",
     "output_type": "stream",
     "text": [
      "/home/saketh/anaconda3/lib/python3.7/site-packages/sklearn/linear_model/logistic.py:947: ConvergenceWarning: lbfgs failed to converge. Increase the number of iterations.\n",
      "  \"of iterations.\", ConvergenceWarning)\n"
     ]
    },
    {
     "name": "stdout",
     "output_type": "stream",
     "text": [
      "Indonesian 10 64 stratified 2022\n",
      "Training complete!\n",
      "Macro F1:  0.623086\n",
      "\n",
      "https://ui.neptune.ai/Hatespeech-CNERG/MH-Bert/e/SAN-8914\n"
     ]
    },
    {
     "name": "stderr",
     "output_type": "stream",
     "text": [
      "/home/saketh/anaconda3/lib/python3.7/site-packages/sklearn/linear_model/logistic.py:947: ConvergenceWarning: lbfgs failed to converge. Increase the number of iterations.\n",
      "  \"of iterations.\", ConvergenceWarning)\n"
     ]
    },
    {
     "name": "stdout",
     "output_type": "stream",
     "text": [
      "Indonesian 10 128 stratified 2018\n",
      "Training complete!\n",
      "Macro F1:  0.629810\n",
      "\n",
      "https://ui.neptune.ai/Hatespeech-CNERG/MH-Bert/e/SAN-8916\n"
     ]
    },
    {
     "name": "stderr",
     "output_type": "stream",
     "text": [
      "/home/saketh/anaconda3/lib/python3.7/site-packages/sklearn/linear_model/logistic.py:947: ConvergenceWarning: lbfgs failed to converge. Increase the number of iterations.\n",
      "  \"of iterations.\", ConvergenceWarning)\n"
     ]
    },
    {
     "name": "stdout",
     "output_type": "stream",
     "text": [
      "Indonesian 10 128 stratified 2019\n",
      "Training complete!\n",
      "Macro F1:  0.628182\n",
      "\n",
      "https://ui.neptune.ai/Hatespeech-CNERG/MH-Bert/e/SAN-8917\n"
     ]
    },
    {
     "name": "stderr",
     "output_type": "stream",
     "text": [
      "/home/saketh/anaconda3/lib/python3.7/site-packages/sklearn/linear_model/logistic.py:947: ConvergenceWarning: lbfgs failed to converge. Increase the number of iterations.\n",
      "  \"of iterations.\", ConvergenceWarning)\n"
     ]
    },
    {
     "name": "stdout",
     "output_type": "stream",
     "text": [
      "Indonesian 10 128 stratified 2020\n",
      "Training complete!\n",
      "Macro F1:  0.627370\n",
      "\n",
      "https://ui.neptune.ai/Hatespeech-CNERG/MH-Bert/e/SAN-8918\n"
     ]
    },
    {
     "name": "stderr",
     "output_type": "stream",
     "text": [
      "/home/saketh/anaconda3/lib/python3.7/site-packages/sklearn/linear_model/logistic.py:947: ConvergenceWarning: lbfgs failed to converge. Increase the number of iterations.\n",
      "  \"of iterations.\", ConvergenceWarning)\n"
     ]
    },
    {
     "name": "stdout",
     "output_type": "stream",
     "text": [
      "Indonesian 10 128 stratified 2021\n",
      "Training complete!\n",
      "Macro F1:  0.625827\n",
      "\n",
      "https://ui.neptune.ai/Hatespeech-CNERG/MH-Bert/e/SAN-8920\n"
     ]
    },
    {
     "name": "stderr",
     "output_type": "stream",
     "text": [
      "/home/saketh/anaconda3/lib/python3.7/site-packages/sklearn/linear_model/logistic.py:947: ConvergenceWarning: lbfgs failed to converge. Increase the number of iterations.\n",
      "  \"of iterations.\", ConvergenceWarning)\n"
     ]
    },
    {
     "name": "stdout",
     "output_type": "stream",
     "text": [
      "Indonesian 10 128 stratified 2022\n",
      "Training complete!\n",
      "Macro F1:  0.629539\n",
      "\n",
      "https://ui.neptune.ai/Hatespeech-CNERG/MH-Bert/e/SAN-8921\n"
     ]
    },
    {
     "name": "stderr",
     "output_type": "stream",
     "text": [
      "/home/saketh/anaconda3/lib/python3.7/site-packages/sklearn/linear_model/logistic.py:947: ConvergenceWarning: lbfgs failed to converge. Increase the number of iterations.\n",
      "  \"of iterations.\", ConvergenceWarning)\n"
     ]
    },
    {
     "name": "stdout",
     "output_type": "stream",
     "text": [
      "Indonesian 10 256 stratified 2018\n",
      "Training complete!\n",
      "Macro F1:  0.622466\n",
      "\n",
      "https://ui.neptune.ai/Hatespeech-CNERG/MH-Bert/e/SAN-8922\n"
     ]
    },
    {
     "name": "stderr",
     "output_type": "stream",
     "text": [
      "/home/saketh/anaconda3/lib/python3.7/site-packages/sklearn/linear_model/logistic.py:947: ConvergenceWarning: lbfgs failed to converge. Increase the number of iterations.\n",
      "  \"of iterations.\", ConvergenceWarning)\n"
     ]
    },
    {
     "name": "stdout",
     "output_type": "stream",
     "text": [
      "Indonesian 10 256 stratified 2019\n",
      "Training complete!\n",
      "Macro F1:  0.623382\n",
      "\n",
      "https://ui.neptune.ai/Hatespeech-CNERG/MH-Bert/e/SAN-8923\n"
     ]
    },
    {
     "name": "stderr",
     "output_type": "stream",
     "text": [
      "/home/saketh/anaconda3/lib/python3.7/site-packages/sklearn/linear_model/logistic.py:947: ConvergenceWarning: lbfgs failed to converge. Increase the number of iterations.\n",
      "  \"of iterations.\", ConvergenceWarning)\n"
     ]
    },
    {
     "name": "stdout",
     "output_type": "stream",
     "text": [
      "Indonesian 10 256 stratified 2020\n",
      "Training complete!\n",
      "Macro F1:  0.624524\n",
      "\n",
      "https://ui.neptune.ai/Hatespeech-CNERG/MH-Bert/e/SAN-8925\n"
     ]
    },
    {
     "name": "stderr",
     "output_type": "stream",
     "text": [
      "/home/saketh/anaconda3/lib/python3.7/site-packages/sklearn/linear_model/logistic.py:947: ConvergenceWarning: lbfgs failed to converge. Increase the number of iterations.\n",
      "  \"of iterations.\", ConvergenceWarning)\n"
     ]
    },
    {
     "name": "stdout",
     "output_type": "stream",
     "text": [
      "Indonesian 10 256 stratified 2021\n",
      "Training complete!\n",
      "Macro F1:  0.623552\n",
      "\n",
      "https://ui.neptune.ai/Hatespeech-CNERG/MH-Bert/e/SAN-8926\n"
     ]
    },
    {
     "name": "stderr",
     "output_type": "stream",
     "text": [
      "/home/saketh/anaconda3/lib/python3.7/site-packages/sklearn/linear_model/logistic.py:947: ConvergenceWarning: lbfgs failed to converge. Increase the number of iterations.\n",
      "  \"of iterations.\", ConvergenceWarning)\n"
     ]
    },
    {
     "name": "stdout",
     "output_type": "stream",
     "text": [
      "Indonesian 10 256 stratified 2022\n",
      "Training complete!\n",
      "Macro F1:  0.632230\n",
      "\n",
      "https://ui.neptune.ai/Hatespeech-CNERG/MH-Bert/e/SAN-8927\n",
      "Italian 0.01 16 stratified 2018\n",
      "Training complete!\n",
      "Macro F1:  0.686095\n",
      "\n",
      "https://ui.neptune.ai/Hatespeech-CNERG/MH-Bert/e/SAN-8928\n",
      "Italian 0.01 16 stratified 2019\n",
      "Training complete!\n",
      "Macro F1:  0.685130\n",
      "\n",
      "https://ui.neptune.ai/Hatespeech-CNERG/MH-Bert/e/SAN-8929\n",
      "Italian 0.01 16 stratified 2020\n",
      "Training complete!\n",
      "Macro F1:  0.686095\n",
      "\n",
      "https://ui.neptune.ai/Hatespeech-CNERG/MH-Bert/e/SAN-8930\n",
      "Italian 0.01 16 stratified 2021\n",
      "Training complete!\n",
      "Macro F1:  0.685130\n",
      "\n",
      "https://ui.neptune.ai/Hatespeech-CNERG/MH-Bert/e/SAN-8932\n",
      "Italian 0.01 16 stratified 2022\n",
      "Training complete!\n",
      "Macro F1:  0.686095\n",
      "\n",
      "https://ui.neptune.ai/Hatespeech-CNERG/MH-Bert/e/SAN-8933\n",
      "Italian 0.01 32 stratified 2018\n",
      "Training complete!\n",
      "Macro F1:  0.686095\n",
      "\n",
      "https://ui.neptune.ai/Hatespeech-CNERG/MH-Bert/e/SAN-8935\n",
      "Italian 0.01 32 stratified 2019\n",
      "Training complete!\n",
      "Macro F1:  0.685130\n",
      "\n",
      "https://ui.neptune.ai/Hatespeech-CNERG/MH-Bert/e/SAN-8936\n",
      "Italian 0.01 32 stratified 2020\n",
      "Training complete!\n",
      "Macro F1:  0.686095\n",
      "\n",
      "https://ui.neptune.ai/Hatespeech-CNERG/MH-Bert/e/SAN-8937\n",
      "Italian 0.01 32 stratified 2021\n",
      "Training complete!\n",
      "Macro F1:  0.685130\n",
      "\n",
      "https://ui.neptune.ai/Hatespeech-CNERG/MH-Bert/e/SAN-8938\n",
      "Italian 0.01 32 stratified 2022\n",
      "Training complete!\n",
      "Macro F1:  0.685130\n",
      "\n",
      "https://ui.neptune.ai/Hatespeech-CNERG/MH-Bert/e/SAN-8939\n",
      "Italian 0.01 64 stratified 2018\n",
      "Training complete!\n",
      "Macro F1:  0.686095\n",
      "\n",
      "https://ui.neptune.ai/Hatespeech-CNERG/MH-Bert/e/SAN-8940\n",
      "Italian 0.01 64 stratified 2019\n",
      "Training complete!\n",
      "Macro F1:  0.685130\n",
      "\n",
      "https://ui.neptune.ai/Hatespeech-CNERG/MH-Bert/e/SAN-8942\n",
      "Italian 0.01 64 stratified 2020\n",
      "Training complete!\n",
      "Macro F1:  0.685612\n",
      "\n",
      "https://ui.neptune.ai/Hatespeech-CNERG/MH-Bert/e/SAN-8943\n",
      "Italian 0.01 64 stratified 2021\n",
      "Training complete!\n",
      "Macro F1:  0.685723\n",
      "\n",
      "https://ui.neptune.ai/Hatespeech-CNERG/MH-Bert/e/SAN-8944\n",
      "Italian 0.01 64 stratified 2022\n",
      "Training complete!\n",
      "Macro F1:  0.685130\n",
      "\n",
      "https://ui.neptune.ai/Hatespeech-CNERG/MH-Bert/e/SAN-8947\n",
      "Italian 0.01 128 stratified 2018\n",
      "Training complete!\n",
      "Macro F1:  0.686205\n",
      "\n",
      "https://ui.neptune.ai/Hatespeech-CNERG/MH-Bert/e/SAN-8948\n",
      "Italian 0.01 128 stratified 2019\n",
      "Training complete!\n",
      "Macro F1:  0.685240\n",
      "\n",
      "https://ui.neptune.ai/Hatespeech-CNERG/MH-Bert/e/SAN-8949\n",
      "Italian 0.01 128 stratified 2020\n",
      "Training complete!\n",
      "Macro F1:  0.685612\n",
      "\n",
      "https://ui.neptune.ai/Hatespeech-CNERG/MH-Bert/e/SAN-8950\n",
      "Italian 0.01 128 stratified 2021\n",
      "Training complete!\n",
      "Macro F1:  0.686687\n",
      "\n",
      "https://ui.neptune.ai/Hatespeech-CNERG/MH-Bert/e/SAN-8951\n",
      "Italian 0.01 128 stratified 2022\n",
      "Training complete!\n",
      "Macro F1:  0.686205\n",
      "\n",
      "https://ui.neptune.ai/Hatespeech-CNERG/MH-Bert/e/SAN-8952\n",
      "Italian 0.01 256 stratified 2018\n",
      "Training complete!\n",
      "Macro F1:  0.686797\n",
      "\n",
      "https://ui.neptune.ai/Hatespeech-CNERG/MH-Bert/e/SAN-8953\n",
      "Italian 0.01 256 stratified 2019\n",
      "Training complete!\n",
      "Macro F1:  0.685350\n",
      "\n",
      "https://ui.neptune.ai/Hatespeech-CNERG/MH-Bert/e/SAN-8954\n",
      "Italian 0.01 256 stratified 2020\n",
      "Training complete!\n",
      "Macro F1:  0.687280\n",
      "\n",
      "https://ui.neptune.ai/Hatespeech-CNERG/MH-Bert/e/SAN-8956\n",
      "Italian 0.01 256 stratified 2021\n",
      "Training complete!\n",
      "Macro F1:  0.687389\n",
      "\n",
      "https://ui.neptune.ai/Hatespeech-CNERG/MH-Bert/e/SAN-8958\n",
      "Italian 0.01 256 stratified 2022\n",
      "Training complete!\n",
      "Macro F1:  0.686906\n",
      "\n",
      "https://ui.neptune.ai/Hatespeech-CNERG/MH-Bert/e/SAN-8959\n",
      "Italian 0.1 16 stratified 2018\n",
      "Training complete!\n",
      "Macro F1:  0.686093\n",
      "\n",
      "https://ui.neptune.ai/Hatespeech-CNERG/MH-Bert/e/SAN-8960\n",
      "Italian 0.1 16 stratified 2019\n",
      "Training complete!\n",
      "Macro F1:  0.685125\n",
      "\n",
      "https://ui.neptune.ai/Hatespeech-CNERG/MH-Bert/e/SAN-8961\n",
      "Italian 0.1 16 stratified 2020\n",
      "Training complete!\n",
      "Macro F1:  0.685125\n",
      "\n",
      "https://ui.neptune.ai/Hatespeech-CNERG/MH-Bert/e/SAN-8962\n",
      "Italian 0.1 16 stratified 2021\n",
      "Training complete!\n",
      "Macro F1:  0.686093\n",
      "\n",
      "https://ui.neptune.ai/Hatespeech-CNERG/MH-Bert/e/SAN-8963\n",
      "Italian 0.1 16 stratified 2022\n",
      "Training complete!\n",
      "Macro F1:  0.685609\n",
      "\n",
      "https://ui.neptune.ai/Hatespeech-CNERG/MH-Bert/e/SAN-8964\n",
      "Italian 0.1 32 stratified 2018\n",
      "Training complete!\n",
      "Macro F1:  0.686093\n",
      "\n",
      "https://ui.neptune.ai/Hatespeech-CNERG/MH-Bert/e/SAN-8965\n",
      "Italian 0.1 32 stratified 2019\n",
      "Training complete!\n",
      "Macro F1:  0.685125\n",
      "\n",
      "https://ui.neptune.ai/Hatespeech-CNERG/MH-Bert/e/SAN-8967\n",
      "Italian 0.1 32 stratified 2020\n",
      "Training complete!\n",
      "Macro F1:  0.684641\n",
      "\n",
      "https://ui.neptune.ai/Hatespeech-CNERG/MH-Bert/e/SAN-8968\n",
      "Italian 0.1 32 stratified 2021\n",
      "Training complete!\n",
      "Macro F1:  0.685609\n",
      "\n",
      "https://ui.neptune.ai/Hatespeech-CNERG/MH-Bert/e/SAN-8969\n",
      "Italian 0.1 32 stratified 2022\n",
      "Training complete!\n",
      "Macro F1:  0.685609\n",
      "\n",
      "https://ui.neptune.ai/Hatespeech-CNERG/MH-Bert/e/SAN-8970\n",
      "Italian 0.1 64 stratified 2018\n",
      "Training complete!\n",
      "Macro F1:  0.684641\n",
      "\n",
      "https://ui.neptune.ai/Hatespeech-CNERG/MH-Bert/e/SAN-8971\n",
      "Italian 0.1 64 stratified 2019\n",
      "Training complete!\n",
      "Macro F1:  0.685712\n",
      "\n",
      "https://ui.neptune.ai/Hatespeech-CNERG/MH-Bert/e/SAN-8972\n",
      "Italian 0.1 64 stratified 2020\n",
      "Training complete!\n",
      "Macro F1:  0.683189\n",
      "\n",
      "https://ui.neptune.ai/Hatespeech-CNERG/MH-Bert/e/SAN-8974\n",
      "Italian 0.1 64 stratified 2021\n",
      "Training complete!\n",
      "Macro F1:  0.684641\n",
      "\n",
      "https://ui.neptune.ai/Hatespeech-CNERG/MH-Bert/e/SAN-8975\n",
      "Italian 0.1 64 stratified 2022\n",
      "Training complete!\n",
      "Macro F1:  0.685609\n",
      "\n",
      "https://ui.neptune.ai/Hatespeech-CNERG/MH-Bert/e/SAN-8977\n",
      "Italian 0.1 128 stratified 2018\n",
      "Training complete!\n",
      "Macro F1:  0.685227\n",
      "\n",
      "https://ui.neptune.ai/Hatespeech-CNERG/MH-Bert/e/SAN-8978\n",
      "Italian 0.1 128 stratified 2019\n",
      "Training complete!\n",
      "Macro F1:  0.684743\n",
      "\n",
      "https://ui.neptune.ai/Hatespeech-CNERG/MH-Bert/e/SAN-8980\n",
      "Italian 0.1 128 stratified 2020\n",
      "Training complete!\n",
      "Macro F1:  0.683673\n",
      "\n",
      "https://ui.neptune.ai/Hatespeech-CNERG/MH-Bert/e/SAN-8981\n",
      "Italian 0.1 128 stratified 2021\n",
      "Training complete!\n",
      "Macro F1:  0.685609\n",
      "\n",
      "https://ui.neptune.ai/Hatespeech-CNERG/MH-Bert/e/SAN-8982\n",
      "Italian 0.1 128 stratified 2022\n",
      "Training complete!\n",
      "Macro F1:  0.684641\n",
      "\n",
      "https://ui.neptune.ai/Hatespeech-CNERG/MH-Bert/e/SAN-8983\n",
      "Italian 0.1 256 stratified 2018\n",
      "Training complete!\n",
      "Macro F1:  0.686298\n",
      "\n",
      "https://ui.neptune.ai/Hatespeech-CNERG/MH-Bert/e/SAN-8984\n",
      "Italian 0.1 256 stratified 2019\n",
      "Training complete!\n",
      "Macro F1:  0.685227\n",
      "\n",
      "https://ui.neptune.ai/Hatespeech-CNERG/MH-Bert/e/SAN-8985\n",
      "Italian 0.1 256 stratified 2020\n",
      "Training complete!\n",
      "Macro F1:  0.684743\n",
      "\n",
      "https://ui.neptune.ai/Hatespeech-CNERG/MH-Bert/e/SAN-8987\n",
      "Italian 0.1 256 stratified 2021\n",
      "Training complete!\n",
      "Macro F1:  0.685712\n",
      "\n",
      "https://ui.neptune.ai/Hatespeech-CNERG/MH-Bert/e/SAN-8988\n",
      "Italian 0.1 256 stratified 2022\n",
      "Training complete!\n",
      "Macro F1:  0.684641\n",
      "\n",
      "https://ui.neptune.ai/Hatespeech-CNERG/MH-Bert/e/SAN-8989\n"
     ]
    },
    {
     "name": "stderr",
     "output_type": "stream",
     "text": [
      "/home/saketh/anaconda3/lib/python3.7/site-packages/sklearn/linear_model/logistic.py:947: ConvergenceWarning: lbfgs failed to converge. Increase the number of iterations.\n",
      "  \"of iterations.\", ConvergenceWarning)\n"
     ]
    },
    {
     "name": "stdout",
     "output_type": "stream",
     "text": [
      "Italian 1 16 stratified 2018\n",
      "Training complete!\n",
      "Macro F1:  0.681846\n",
      "\n",
      "https://ui.neptune.ai/Hatespeech-CNERG/MH-Bert/e/SAN-8990\n"
     ]
    },
    {
     "name": "stderr",
     "output_type": "stream",
     "text": [
      "/home/saketh/anaconda3/lib/python3.7/site-packages/sklearn/linear_model/logistic.py:947: ConvergenceWarning: lbfgs failed to converge. Increase the number of iterations.\n",
      "  \"of iterations.\", ConvergenceWarning)\n"
     ]
    },
    {
     "name": "stdout",
     "output_type": "stream",
     "text": [
      "Italian 1 16 stratified 2019\n",
      "Training complete!\n",
      "Macro F1:  0.680681\n",
      "\n",
      "https://ui.neptune.ai/Hatespeech-CNERG/MH-Bert/e/SAN-8991\n"
     ]
    },
    {
     "name": "stderr",
     "output_type": "stream",
     "text": [
      "/home/saketh/anaconda3/lib/python3.7/site-packages/sklearn/linear_model/logistic.py:947: ConvergenceWarning: lbfgs failed to converge. Increase the number of iterations.\n",
      "  \"of iterations.\", ConvergenceWarning)\n"
     ]
    },
    {
     "name": "stdout",
     "output_type": "stream",
     "text": [
      "Italian 1 16 stratified 2020\n",
      "Training complete!\n",
      "Macro F1:  0.681263\n",
      "\n",
      "https://ui.neptune.ai/Hatespeech-CNERG/MH-Bert/e/SAN-8993\n"
     ]
    },
    {
     "name": "stderr",
     "output_type": "stream",
     "text": [
      "/home/saketh/anaconda3/lib/python3.7/site-packages/sklearn/linear_model/logistic.py:947: ConvergenceWarning: lbfgs failed to converge. Increase the number of iterations.\n",
      "  \"of iterations.\", ConvergenceWarning)\n"
     ]
    },
    {
     "name": "stdout",
     "output_type": "stream",
     "text": [
      "Italian 1 16 stratified 2021\n",
      "Training complete!\n",
      "Macro F1:  0.680196\n",
      "\n",
      "https://ui.neptune.ai/Hatespeech-CNERG/MH-Bert/e/SAN-8994\n"
     ]
    },
    {
     "name": "stderr",
     "output_type": "stream",
     "text": [
      "/home/saketh/anaconda3/lib/python3.7/site-packages/sklearn/linear_model/logistic.py:947: ConvergenceWarning: lbfgs failed to converge. Increase the number of iterations.\n",
      "  \"of iterations.\", ConvergenceWarning)\n"
     ]
    },
    {
     "name": "stdout",
     "output_type": "stream",
     "text": [
      "Italian 1 16 stratified 2022\n",
      "Training complete!\n",
      "Macro F1:  0.680293\n",
      "\n",
      "https://ui.neptune.ai/Hatespeech-CNERG/MH-Bert/e/SAN-8996\n"
     ]
    },
    {
     "name": "stderr",
     "output_type": "stream",
     "text": [
      "/home/saketh/anaconda3/lib/python3.7/site-packages/sklearn/linear_model/logistic.py:947: ConvergenceWarning: lbfgs failed to converge. Increase the number of iterations.\n",
      "  \"of iterations.\", ConvergenceWarning)\n"
     ]
    },
    {
     "name": "stdout",
     "output_type": "stream",
     "text": [
      "Italian 1 32 stratified 2018\n",
      "Training complete!\n",
      "Macro F1:  0.681846\n",
      "\n",
      "https://ui.neptune.ai/Hatespeech-CNERG/MH-Bert/e/SAN-8997\n"
     ]
    },
    {
     "name": "stderr",
     "output_type": "stream",
     "text": [
      "/home/saketh/anaconda3/lib/python3.7/site-packages/sklearn/linear_model/logistic.py:947: ConvergenceWarning: lbfgs failed to converge. Increase the number of iterations.\n",
      "  \"of iterations.\", ConvergenceWarning)\n"
     ]
    },
    {
     "name": "stdout",
     "output_type": "stream",
     "text": [
      "Italian 1 32 stratified 2019\n",
      "Training complete!\n",
      "Macro F1:  0.680681\n",
      "\n",
      "https://ui.neptune.ai/Hatespeech-CNERG/MH-Bert/e/SAN-8999\n"
     ]
    },
    {
     "name": "stderr",
     "output_type": "stream",
     "text": [
      "/home/saketh/anaconda3/lib/python3.7/site-packages/sklearn/linear_model/logistic.py:947: ConvergenceWarning: lbfgs failed to converge. Increase the number of iterations.\n",
      "  \"of iterations.\", ConvergenceWarning)\n"
     ]
    },
    {
     "name": "stdout",
     "output_type": "stream",
     "text": [
      "Italian 1 32 stratified 2020\n",
      "Training complete!\n",
      "Macro F1:  0.681263\n",
      "\n",
      "https://ui.neptune.ai/Hatespeech-CNERG/MH-Bert/e/SAN-9000\n"
     ]
    },
    {
     "name": "stderr",
     "output_type": "stream",
     "text": [
      "/home/saketh/anaconda3/lib/python3.7/site-packages/sklearn/linear_model/logistic.py:947: ConvergenceWarning: lbfgs failed to converge. Increase the number of iterations.\n",
      "  \"of iterations.\", ConvergenceWarning)\n"
     ]
    },
    {
     "name": "stdout",
     "output_type": "stream",
     "text": [
      "Italian 1 32 stratified 2021\n",
      "Training complete!\n",
      "Macro F1:  0.681360\n",
      "\n",
      "https://ui.neptune.ai/Hatespeech-CNERG/MH-Bert/e/SAN-9001\n"
     ]
    },
    {
     "name": "stderr",
     "output_type": "stream",
     "text": [
      "/home/saketh/anaconda3/lib/python3.7/site-packages/sklearn/linear_model/logistic.py:947: ConvergenceWarning: lbfgs failed to converge. Increase the number of iterations.\n",
      "  \"of iterations.\", ConvergenceWarning)\n"
     ]
    },
    {
     "name": "stdout",
     "output_type": "stream",
     "text": [
      "Italian 1 32 stratified 2022\n",
      "Training complete!\n",
      "Macro F1:  0.681360\n",
      "\n",
      "https://ui.neptune.ai/Hatespeech-CNERG/MH-Bert/e/SAN-9002\n"
     ]
    },
    {
     "name": "stderr",
     "output_type": "stream",
     "text": [
      "/home/saketh/anaconda3/lib/python3.7/site-packages/sklearn/linear_model/logistic.py:947: ConvergenceWarning: lbfgs failed to converge. Increase the number of iterations.\n",
      "  \"of iterations.\", ConvergenceWarning)\n"
     ]
    },
    {
     "name": "stdout",
     "output_type": "stream",
     "text": [
      "Italian 1 64 stratified 2018\n",
      "Training complete!\n",
      "Macro F1:  0.681942\n",
      "\n",
      "https://ui.neptune.ai/Hatespeech-CNERG/MH-Bert/e/SAN-9003\n"
     ]
    },
    {
     "name": "stderr",
     "output_type": "stream",
     "text": [
      "/home/saketh/anaconda3/lib/python3.7/site-packages/sklearn/linear_model/logistic.py:947: ConvergenceWarning: lbfgs failed to converge. Increase the number of iterations.\n",
      "  \"of iterations.\", ConvergenceWarning)\n"
     ]
    },
    {
     "name": "stdout",
     "output_type": "stream",
     "text": [
      "Italian 1 64 stratified 2019\n",
      "Training complete!\n",
      "Macro F1:  0.680778\n",
      "\n",
      "https://ui.neptune.ai/Hatespeech-CNERG/MH-Bert/e/SAN-9005\n"
     ]
    },
    {
     "name": "stderr",
     "output_type": "stream",
     "text": [
      "/home/saketh/anaconda3/lib/python3.7/site-packages/sklearn/linear_model/logistic.py:947: ConvergenceWarning: lbfgs failed to converge. Increase the number of iterations.\n",
      "  \"of iterations.\", ConvergenceWarning)\n"
     ]
    },
    {
     "name": "stdout",
     "output_type": "stream",
     "text": [
      "Italian 1 64 stratified 2020\n",
      "Training complete!\n",
      "Macro F1:  0.682913\n",
      "\n",
      "https://ui.neptune.ai/Hatespeech-CNERG/MH-Bert/e/SAN-9007\n"
     ]
    },
    {
     "name": "stderr",
     "output_type": "stream",
     "text": [
      "/home/saketh/anaconda3/lib/python3.7/site-packages/sklearn/linear_model/logistic.py:947: ConvergenceWarning: lbfgs failed to converge. Increase the number of iterations.\n",
      "  \"of iterations.\", ConvergenceWarning)\n"
     ]
    },
    {
     "name": "stdout",
     "output_type": "stream",
     "text": [
      "Italian 1 64 stratified 2021\n",
      "Training complete!\n",
      "Macro F1:  0.681552\n",
      "\n",
      "https://ui.neptune.ai/Hatespeech-CNERG/MH-Bert/e/SAN-9008\n"
     ]
    },
    {
     "name": "stderr",
     "output_type": "stream",
     "text": [
      "/home/saketh/anaconda3/lib/python3.7/site-packages/sklearn/linear_model/logistic.py:947: ConvergenceWarning: lbfgs failed to converge. Increase the number of iterations.\n",
      "  \"of iterations.\", ConvergenceWarning)\n"
     ]
    },
    {
     "name": "stdout",
     "output_type": "stream",
     "text": [
      "Italian 1 64 stratified 2022\n",
      "Training complete!\n",
      "Macro F1:  0.680875\n",
      "\n",
      "https://ui.neptune.ai/Hatespeech-CNERG/MH-Bert/e/SAN-9009\n"
     ]
    },
    {
     "name": "stderr",
     "output_type": "stream",
     "text": [
      "/home/saketh/anaconda3/lib/python3.7/site-packages/sklearn/linear_model/logistic.py:947: ConvergenceWarning: lbfgs failed to converge. Increase the number of iterations.\n",
      "  \"of iterations.\", ConvergenceWarning)\n"
     ]
    },
    {
     "name": "stdout",
     "output_type": "stream",
     "text": [
      "Italian 1 128 stratified 2018\n",
      "Training complete!\n",
      "Macro F1:  0.682331\n",
      "\n",
      "https://ui.neptune.ai/Hatespeech-CNERG/MH-Bert/e/SAN-9010\n"
     ]
    },
    {
     "name": "stderr",
     "output_type": "stream",
     "text": [
      "/home/saketh/anaconda3/lib/python3.7/site-packages/sklearn/linear_model/logistic.py:947: ConvergenceWarning: lbfgs failed to converge. Increase the number of iterations.\n",
      "  \"of iterations.\", ConvergenceWarning)\n"
     ]
    },
    {
     "name": "stdout",
     "output_type": "stream",
     "text": [
      "Italian 1 128 stratified 2019\n",
      "Training complete!\n",
      "Macro F1:  0.680389\n",
      "\n",
      "https://ui.neptune.ai/Hatespeech-CNERG/MH-Bert/e/SAN-9011\n"
     ]
    },
    {
     "name": "stderr",
     "output_type": "stream",
     "text": [
      "/home/saketh/anaconda3/lib/python3.7/site-packages/sklearn/linear_model/logistic.py:947: ConvergenceWarning: lbfgs failed to converge. Increase the number of iterations.\n",
      "  \"of iterations.\", ConvergenceWarning)\n"
     ]
    },
    {
     "name": "stdout",
     "output_type": "stream",
     "text": [
      "Italian 1 128 stratified 2020\n",
      "Training complete!\n",
      "Macro F1:  0.683981\n",
      "\n",
      "https://ui.neptune.ai/Hatespeech-CNERG/MH-Bert/e/SAN-9012\n",
      "Italian 1 128 stratified 2021\n",
      "Training complete!\n",
      "Macro F1:  0.683685\n",
      "\n",
      "https://ui.neptune.ai/Hatespeech-CNERG/MH-Bert/e/SAN-9014\n"
     ]
    },
    {
     "name": "stderr",
     "output_type": "stream",
     "text": [
      "/home/saketh/anaconda3/lib/python3.7/site-packages/sklearn/linear_model/logistic.py:947: ConvergenceWarning: lbfgs failed to converge. Increase the number of iterations.\n",
      "  \"of iterations.\", ConvergenceWarning)\n"
     ]
    },
    {
     "name": "stdout",
     "output_type": "stream",
     "text": [
      "Italian 1 128 stratified 2022\n",
      "Training complete!\n",
      "Macro F1:  0.681552\n",
      "\n",
      "https://ui.neptune.ai/Hatespeech-CNERG/MH-Bert/e/SAN-9015\n"
     ]
    },
    {
     "name": "stderr",
     "output_type": "stream",
     "text": [
      "/home/saketh/anaconda3/lib/python3.7/site-packages/sklearn/linear_model/logistic.py:947: ConvergenceWarning: lbfgs failed to converge. Increase the number of iterations.\n",
      "  \"of iterations.\", ConvergenceWarning)\n"
     ]
    },
    {
     "name": "stdout",
     "output_type": "stream",
     "text": [
      "Italian 1 256 stratified 2018\n",
      "Training complete!\n",
      "Macro F1:  0.682132\n",
      "\n",
      "https://ui.neptune.ai/Hatespeech-CNERG/MH-Bert/e/SAN-9016\n"
     ]
    },
    {
     "name": "stderr",
     "output_type": "stream",
     "text": [
      "/home/saketh/anaconda3/lib/python3.7/site-packages/sklearn/linear_model/logistic.py:947: ConvergenceWarning: lbfgs failed to converge. Increase the number of iterations.\n",
      "  \"of iterations.\", ConvergenceWarning)\n"
     ]
    },
    {
     "name": "stdout",
     "output_type": "stream",
     "text": [
      "Italian 1 256 stratified 2019\n",
      "Training complete!\n",
      "Macro F1:  0.684359\n",
      "\n",
      "https://ui.neptune.ai/Hatespeech-CNERG/MH-Bert/e/SAN-9017\n"
     ]
    },
    {
     "name": "stderr",
     "output_type": "stream",
     "text": [
      "/home/saketh/anaconda3/lib/python3.7/site-packages/sklearn/linear_model/logistic.py:947: ConvergenceWarning: lbfgs failed to converge. Increase the number of iterations.\n",
      "  \"of iterations.\", ConvergenceWarning)\n"
     ]
    },
    {
     "name": "stdout",
     "output_type": "stream",
     "text": [
      "Italian 1 256 stratified 2020\n",
      "Training complete!\n",
      "Macro F1:  0.682713\n",
      "\n",
      "https://ui.neptune.ai/Hatespeech-CNERG/MH-Bert/e/SAN-9018\n"
     ]
    },
    {
     "name": "stderr",
     "output_type": "stream",
     "text": [
      "/home/saketh/anaconda3/lib/python3.7/site-packages/sklearn/linear_model/logistic.py:947: ConvergenceWarning: lbfgs failed to converge. Increase the number of iterations.\n",
      "  \"of iterations.\", ConvergenceWarning)\n"
     ]
    },
    {
     "name": "stdout",
     "output_type": "stream",
     "text": [
      "Italian 1 256 stratified 2021\n",
      "Training complete!\n",
      "Macro F1:  0.685332\n",
      "\n",
      "https://ui.neptune.ai/Hatespeech-CNERG/MH-Bert/e/SAN-9020\n"
     ]
    },
    {
     "name": "stderr",
     "output_type": "stream",
     "text": [
      "/home/saketh/anaconda3/lib/python3.7/site-packages/sklearn/linear_model/logistic.py:947: ConvergenceWarning: lbfgs failed to converge. Increase the number of iterations.\n",
      "  \"of iterations.\", ConvergenceWarning)\n"
     ]
    },
    {
     "name": "stdout",
     "output_type": "stream",
     "text": [
      "Italian 1 256 stratified 2022\n",
      "Training complete!\n",
      "Macro F1:  0.683779\n",
      "\n",
      "https://ui.neptune.ai/Hatespeech-CNERG/MH-Bert/e/SAN-9022\n"
     ]
    },
    {
     "name": "stderr",
     "output_type": "stream",
     "text": [
      "/home/saketh/anaconda3/lib/python3.7/site-packages/sklearn/linear_model/logistic.py:947: ConvergenceWarning: lbfgs failed to converge. Increase the number of iterations.\n",
      "  \"of iterations.\", ConvergenceWarning)\n"
     ]
    },
    {
     "name": "stdout",
     "output_type": "stream",
     "text": [
      "Italian 10 16 stratified 2018\n",
      "Training complete!\n",
      "Macro F1:  0.670875\n",
      "\n",
      "https://ui.neptune.ai/Hatespeech-CNERG/MH-Bert/e/SAN-9023\n"
     ]
    },
    {
     "name": "stderr",
     "output_type": "stream",
     "text": [
      "/home/saketh/anaconda3/lib/python3.7/site-packages/sklearn/linear_model/logistic.py:947: ConvergenceWarning: lbfgs failed to converge. Increase the number of iterations.\n",
      "  \"of iterations.\", ConvergenceWarning)\n"
     ]
    },
    {
     "name": "stdout",
     "output_type": "stream",
     "text": [
      "Italian 10 16 stratified 2019\n",
      "Training complete!\n",
      "Macro F1:  0.668951\n",
      "\n",
      "https://ui.neptune.ai/Hatespeech-CNERG/MH-Bert/e/SAN-9024\n"
     ]
    },
    {
     "name": "stderr",
     "output_type": "stream",
     "text": [
      "/home/saketh/anaconda3/lib/python3.7/site-packages/sklearn/linear_model/logistic.py:947: ConvergenceWarning: lbfgs failed to converge. Increase the number of iterations.\n",
      "  \"of iterations.\", ConvergenceWarning)\n"
     ]
    },
    {
     "name": "stdout",
     "output_type": "stream",
     "text": [
      "Italian 10 16 stratified 2020\n",
      "Training complete!\n",
      "Macro F1:  0.671309\n",
      "\n",
      "https://ui.neptune.ai/Hatespeech-CNERG/MH-Bert/e/SAN-9026\n"
     ]
    },
    {
     "name": "stderr",
     "output_type": "stream",
     "text": [
      "/home/saketh/anaconda3/lib/python3.7/site-packages/sklearn/linear_model/logistic.py:947: ConvergenceWarning: lbfgs failed to converge. Increase the number of iterations.\n",
      "  \"of iterations.\", ConvergenceWarning)\n"
     ]
    },
    {
     "name": "stdout",
     "output_type": "stream",
     "text": [
      "Italian 10 16 stratified 2021\n",
      "Training complete!\n",
      "Macro F1:  0.672799\n",
      "\n",
      "https://ui.neptune.ai/Hatespeech-CNERG/MH-Bert/e/SAN-9027\n"
     ]
    },
    {
     "name": "stderr",
     "output_type": "stream",
     "text": [
      "/home/saketh/anaconda3/lib/python3.7/site-packages/sklearn/linear_model/logistic.py:947: ConvergenceWarning: lbfgs failed to converge. Increase the number of iterations.\n",
      "  \"of iterations.\", ConvergenceWarning)\n"
     ]
    },
    {
     "name": "stdout",
     "output_type": "stream",
     "text": [
      "Italian 10 16 stratified 2022\n",
      "Training complete!\n",
      "Macro F1:  0.668988\n",
      "\n",
      "https://ui.neptune.ai/Hatespeech-CNERG/MH-Bert/e/SAN-9028\n"
     ]
    },
    {
     "name": "stderr",
     "output_type": "stream",
     "text": [
      "/home/saketh/anaconda3/lib/python3.7/site-packages/sklearn/linear_model/logistic.py:947: ConvergenceWarning: lbfgs failed to converge. Increase the number of iterations.\n",
      "  \"of iterations.\", ConvergenceWarning)\n"
     ]
    },
    {
     "name": "stdout",
     "output_type": "stream",
     "text": [
      "Italian 10 32 stratified 2018\n",
      "Training complete!\n",
      "Macro F1:  0.672165\n",
      "\n",
      "https://ui.neptune.ai/Hatespeech-CNERG/MH-Bert/e/SAN-9029\n"
     ]
    },
    {
     "name": "stderr",
     "output_type": "stream",
     "text": [
      "/home/saketh/anaconda3/lib/python3.7/site-packages/sklearn/linear_model/logistic.py:947: ConvergenceWarning: lbfgs failed to converge. Increase the number of iterations.\n",
      "  \"of iterations.\", ConvergenceWarning)\n"
     ]
    },
    {
     "name": "stdout",
     "output_type": "stream",
     "text": [
      "Italian 10 32 stratified 2019\n",
      "Training complete!\n",
      "Macro F1:  0.671246\n",
      "\n",
      "https://ui.neptune.ai/Hatespeech-CNERG/MH-Bert/e/SAN-9032\n"
     ]
    },
    {
     "name": "stderr",
     "output_type": "stream",
     "text": [
      "/home/saketh/anaconda3/lib/python3.7/site-packages/sklearn/linear_model/logistic.py:947: ConvergenceWarning: lbfgs failed to converge. Increase the number of iterations.\n",
      "  \"of iterations.\", ConvergenceWarning)\n"
     ]
    },
    {
     "name": "stdout",
     "output_type": "stream",
     "text": [
      "Italian 10 32 stratified 2020\n",
      "Training complete!\n",
      "Macro F1:  0.673128\n",
      "\n",
      "https://ui.neptune.ai/Hatespeech-CNERG/MH-Bert/e/SAN-9033\n"
     ]
    },
    {
     "name": "stderr",
     "output_type": "stream",
     "text": [
      "/home/saketh/anaconda3/lib/python3.7/site-packages/sklearn/linear_model/logistic.py:947: ConvergenceWarning: lbfgs failed to converge. Increase the number of iterations.\n",
      "  \"of iterations.\", ConvergenceWarning)\n"
     ]
    },
    {
     "name": "stdout",
     "output_type": "stream",
     "text": [
      "Italian 10 32 stratified 2021\n",
      "Training complete!\n",
      "Macro F1:  0.668311\n",
      "\n",
      "https://ui.neptune.ai/Hatespeech-CNERG/MH-Bert/e/SAN-9034\n"
     ]
    },
    {
     "name": "stderr",
     "output_type": "stream",
     "text": [
      "/home/saketh/anaconda3/lib/python3.7/site-packages/sklearn/linear_model/logistic.py:947: ConvergenceWarning: lbfgs failed to converge. Increase the number of iterations.\n",
      "  \"of iterations.\", ConvergenceWarning)\n"
     ]
    },
    {
     "name": "stdout",
     "output_type": "stream",
     "text": [
      "Italian 10 32 stratified 2022\n",
      "Training complete!\n",
      "Macro F1:  0.674937\n",
      "\n",
      "https://ui.neptune.ai/Hatespeech-CNERG/MH-Bert/e/SAN-9035\n"
     ]
    },
    {
     "name": "stderr",
     "output_type": "stream",
     "text": [
      "/home/saketh/anaconda3/lib/python3.7/site-packages/sklearn/linear_model/logistic.py:947: ConvergenceWarning: lbfgs failed to converge. Increase the number of iterations.\n",
      "  \"of iterations.\", ConvergenceWarning)\n"
     ]
    },
    {
     "name": "stdout",
     "output_type": "stream",
     "text": [
      "Italian 10 64 stratified 2018\n",
      "Training complete!\n",
      "Macro F1:  0.674834\n",
      "\n",
      "https://ui.neptune.ai/Hatespeech-CNERG/MH-Bert/e/SAN-9036\n"
     ]
    },
    {
     "name": "stderr",
     "output_type": "stream",
     "text": [
      "/home/saketh/anaconda3/lib/python3.7/site-packages/sklearn/linear_model/logistic.py:947: ConvergenceWarning: lbfgs failed to converge. Increase the number of iterations.\n",
      "  \"of iterations.\", ConvergenceWarning)\n"
     ]
    },
    {
     "name": "stdout",
     "output_type": "stream",
     "text": [
      "Italian 10 64 stratified 2019\n",
      "Training complete!\n",
      "Macro F1:  0.675904\n",
      "\n",
      "https://ui.neptune.ai/Hatespeech-CNERG/MH-Bert/e/SAN-9037\n"
     ]
    },
    {
     "name": "stderr",
     "output_type": "stream",
     "text": [
      "/home/saketh/anaconda3/lib/python3.7/site-packages/sklearn/linear_model/logistic.py:947: ConvergenceWarning: lbfgs failed to converge. Increase the number of iterations.\n",
      "  \"of iterations.\", ConvergenceWarning)\n"
     ]
    },
    {
     "name": "stdout",
     "output_type": "stream",
     "text": [
      "Italian 10 64 stratified 2020\n",
      "Training complete!\n",
      "Macro F1:  0.671415\n",
      "\n",
      "https://ui.neptune.ai/Hatespeech-CNERG/MH-Bert/e/SAN-9040\n"
     ]
    },
    {
     "name": "stderr",
     "output_type": "stream",
     "text": [
      "/home/saketh/anaconda3/lib/python3.7/site-packages/sklearn/linear_model/logistic.py:947: ConvergenceWarning: lbfgs failed to converge. Increase the number of iterations.\n",
      "  \"of iterations.\", ConvergenceWarning)\n"
     ]
    },
    {
     "name": "stdout",
     "output_type": "stream",
     "text": [
      "Italian 10 64 stratified 2021\n",
      "Training complete!\n",
      "Macro F1:  0.673344\n",
      "\n",
      "https://ui.neptune.ai/Hatespeech-CNERG/MH-Bert/e/SAN-9041\n"
     ]
    },
    {
     "name": "stderr",
     "output_type": "stream",
     "text": [
      "/home/saketh/anaconda3/lib/python3.7/site-packages/sklearn/linear_model/logistic.py:947: ConvergenceWarning: lbfgs failed to converge. Increase the number of iterations.\n",
      "  \"of iterations.\", ConvergenceWarning)\n"
     ]
    },
    {
     "name": "stdout",
     "output_type": "stream",
     "text": [
      "Italian 10 64 stratified 2022\n",
      "Training complete!\n",
      "Macro F1:  0.673932\n",
      "\n",
      "https://ui.neptune.ai/Hatespeech-CNERG/MH-Bert/e/SAN-9042\n"
     ]
    },
    {
     "name": "stderr",
     "output_type": "stream",
     "text": [
      "/home/saketh/anaconda3/lib/python3.7/site-packages/sklearn/linear_model/logistic.py:947: ConvergenceWarning: lbfgs failed to converge. Increase the number of iterations.\n",
      "  \"of iterations.\", ConvergenceWarning)\n"
     ]
    },
    {
     "name": "stdout",
     "output_type": "stream",
     "text": [
      "Italian 10 128 stratified 2018\n",
      "Training complete!\n",
      "Macro F1:  0.675379\n",
      "\n",
      "https://ui.neptune.ai/Hatespeech-CNERG/MH-Bert/e/SAN-9043\n"
     ]
    },
    {
     "name": "stderr",
     "output_type": "stream",
     "text": [
      "/home/saketh/anaconda3/lib/python3.7/site-packages/sklearn/linear_model/logistic.py:947: ConvergenceWarning: lbfgs failed to converge. Increase the number of iterations.\n",
      "  \"of iterations.\", ConvergenceWarning)\n"
     ]
    },
    {
     "name": "stdout",
     "output_type": "stream",
     "text": [
      "Italian 10 128 stratified 2019\n",
      "Training complete!\n",
      "Macro F1:  0.672318\n",
      "\n",
      "https://ui.neptune.ai/Hatespeech-CNERG/MH-Bert/e/SAN-9044\n"
     ]
    },
    {
     "name": "stderr",
     "output_type": "stream",
     "text": [
      "/home/saketh/anaconda3/lib/python3.7/site-packages/sklearn/linear_model/logistic.py:947: ConvergenceWarning: lbfgs failed to converge. Increase the number of iterations.\n",
      "  \"of iterations.\", ConvergenceWarning)\n"
     ]
    },
    {
     "name": "stdout",
     "output_type": "stream",
     "text": [
      "Italian 10 128 stratified 2020\n",
      "Training complete!\n",
      "Macro F1:  0.676662\n",
      "\n",
      "https://ui.neptune.ai/Hatespeech-CNERG/MH-Bert/e/SAN-9046\n"
     ]
    },
    {
     "name": "stderr",
     "output_type": "stream",
     "text": [
      "/home/saketh/anaconda3/lib/python3.7/site-packages/sklearn/linear_model/logistic.py:947: ConvergenceWarning: lbfgs failed to converge. Increase the number of iterations.\n",
      "  \"of iterations.\", ConvergenceWarning)\n"
     ]
    },
    {
     "name": "stdout",
     "output_type": "stream",
     "text": [
      "Italian 10 128 stratified 2021\n",
      "Training complete!\n",
      "Macro F1:  0.677278\n",
      "\n",
      "https://ui.neptune.ai/Hatespeech-CNERG/MH-Bert/e/SAN-9047\n"
     ]
    },
    {
     "name": "stderr",
     "output_type": "stream",
     "text": [
      "/home/saketh/anaconda3/lib/python3.7/site-packages/sklearn/linear_model/logistic.py:947: ConvergenceWarning: lbfgs failed to converge. Increase the number of iterations.\n",
      "  \"of iterations.\", ConvergenceWarning)\n"
     ]
    },
    {
     "name": "stdout",
     "output_type": "stream",
     "text": [
      "Italian 10 128 stratified 2022\n",
      "Training complete!\n",
      "Macro F1:  0.675523\n",
      "\n",
      "https://ui.neptune.ai/Hatespeech-CNERG/MH-Bert/e/SAN-9048\n"
     ]
    },
    {
     "name": "stderr",
     "output_type": "stream",
     "text": [
      "/home/saketh/anaconda3/lib/python3.7/site-packages/sklearn/linear_model/logistic.py:947: ConvergenceWarning: lbfgs failed to converge. Increase the number of iterations.\n",
      "  \"of iterations.\", ConvergenceWarning)\n"
     ]
    },
    {
     "name": "stdout",
     "output_type": "stream",
     "text": [
      "Italian 10 256 stratified 2018\n",
      "Training complete!\n",
      "Macro F1:  0.677862\n",
      "\n",
      "https://ui.neptune.ai/Hatespeech-CNERG/MH-Bert/e/SAN-9049\n"
     ]
    },
    {
     "name": "stderr",
     "output_type": "stream",
     "text": [
      "/home/saketh/anaconda3/lib/python3.7/site-packages/sklearn/linear_model/logistic.py:947: ConvergenceWarning: lbfgs failed to converge. Increase the number of iterations.\n",
      "  \"of iterations.\", ConvergenceWarning)\n"
     ]
    },
    {
     "name": "stdout",
     "output_type": "stream",
     "text": [
      "Italian 10 256 stratified 2019\n",
      "Training complete!\n",
      "Macro F1:  0.679613\n",
      "\n",
      "https://ui.neptune.ai/Hatespeech-CNERG/MH-Bert/e/SAN-9050\n"
     ]
    },
    {
     "name": "stderr",
     "output_type": "stream",
     "text": [
      "/home/saketh/anaconda3/lib/python3.7/site-packages/sklearn/linear_model/logistic.py:947: ConvergenceWarning: lbfgs failed to converge. Increase the number of iterations.\n",
      "  \"of iterations.\", ConvergenceWarning)\n"
     ]
    },
    {
     "name": "stdout",
     "output_type": "stream",
     "text": [
      "Italian 10 256 stratified 2020\n",
      "Training complete!\n",
      "Macro F1:  0.676693\n",
      "\n",
      "https://ui.neptune.ai/Hatespeech-CNERG/MH-Bert/e/SAN-9053\n"
     ]
    },
    {
     "name": "stderr",
     "output_type": "stream",
     "text": [
      "/home/saketh/anaconda3/lib/python3.7/site-packages/sklearn/linear_model/logistic.py:947: ConvergenceWarning: lbfgs failed to converge. Increase the number of iterations.\n",
      "  \"of iterations.\", ConvergenceWarning)\n"
     ]
    },
    {
     "name": "stdout",
     "output_type": "stream",
     "text": [
      "Italian 10 256 stratified 2021\n",
      "Training complete!\n",
      "Macro F1:  0.679613\n",
      "\n",
      "https://ui.neptune.ai/Hatespeech-CNERG/MH-Bert/e/SAN-9054\n"
     ]
    },
    {
     "name": "stderr",
     "output_type": "stream",
     "text": [
      "/home/saketh/anaconda3/lib/python3.7/site-packages/sklearn/linear_model/logistic.py:947: ConvergenceWarning: lbfgs failed to converge. Increase the number of iterations.\n",
      "  \"of iterations.\", ConvergenceWarning)\n"
     ]
    },
    {
     "name": "stdout",
     "output_type": "stream",
     "text": [
      "Italian 10 256 stratified 2022\n",
      "Training complete!\n",
      "Macro F1:  0.681837\n",
      "\n",
      "https://ui.neptune.ai/Hatespeech-CNERG/MH-Bert/e/SAN-9055\n",
      "Polish 0.01 16 stratified 2018\n",
      "Training complete!\n",
      "Macro F1:  0.544792\n",
      "\n",
      "https://ui.neptune.ai/Hatespeech-CNERG/MH-Bert/e/SAN-9056\n",
      "Polish 0.01 16 stratified 2019\n",
      "Training complete!\n",
      "Macro F1:  0.544792\n",
      "\n",
      "https://ui.neptune.ai/Hatespeech-CNERG/MH-Bert/e/SAN-9057\n",
      "Polish 0.01 16 stratified 2020\n",
      "Training complete!\n",
      "Macro F1:  0.544792\n",
      "\n",
      "https://ui.neptune.ai/Hatespeech-CNERG/MH-Bert/e/SAN-9059\n",
      "Polish 0.01 16 stratified 2021\n",
      "Training complete!\n",
      "Macro F1:  0.544792\n",
      "\n",
      "https://ui.neptune.ai/Hatespeech-CNERG/MH-Bert/e/SAN-9060\n",
      "Polish 0.01 16 stratified 2022\n",
      "Training complete!\n",
      "Macro F1:  0.544792\n",
      "\n",
      "https://ui.neptune.ai/Hatespeech-CNERG/MH-Bert/e/SAN-9061\n",
      "Polish 0.01 32 stratified 2018\n",
      "Training complete!\n",
      "Macro F1:  0.545153\n",
      "\n",
      "https://ui.neptune.ai/Hatespeech-CNERG/MH-Bert/e/SAN-9062\n",
      "Polish 0.01 32 stratified 2019\n",
      "Training complete!\n",
      "Macro F1:  0.544792\n",
      "\n",
      "https://ui.neptune.ai/Hatespeech-CNERG/MH-Bert/e/SAN-9063\n",
      "Polish 0.01 32 stratified 2020\n",
      "Training complete!\n",
      "Macro F1:  0.544792\n",
      "\n",
      "https://ui.neptune.ai/Hatespeech-CNERG/MH-Bert/e/SAN-9064\n",
      "Polish 0.01 32 stratified 2021\n",
      "Training complete!\n",
      "Macro F1:  0.545153\n",
      "\n",
      "https://ui.neptune.ai/Hatespeech-CNERG/MH-Bert/e/SAN-9066\n",
      "Polish 0.01 32 stratified 2022\n",
      "Training complete!\n",
      "Macro F1:  0.544792\n",
      "\n",
      "https://ui.neptune.ai/Hatespeech-CNERG/MH-Bert/e/SAN-9067\n",
      "Polish 0.01 64 stratified 2018\n",
      "Training complete!\n",
      "Macro F1:  0.547696\n",
      "\n",
      "https://ui.neptune.ai/Hatespeech-CNERG/MH-Bert/e/SAN-9068\n",
      "Polish 0.01 64 stratified 2019\n",
      "Training complete!\n",
      "Macro F1:  0.547696\n",
      "\n",
      "https://ui.neptune.ai/Hatespeech-CNERG/MH-Bert/e/SAN-9069\n",
      "Polish 0.01 64 stratified 2020\n",
      "Training complete!\n",
      "Macro F1:  0.547332\n",
      "\n",
      "https://ui.neptune.ai/Hatespeech-CNERG/MH-Bert/e/SAN-9070\n",
      "Polish 0.01 64 stratified 2021\n",
      "Training complete!\n",
      "Macro F1:  0.547696\n",
      "\n",
      "https://ui.neptune.ai/Hatespeech-CNERG/MH-Bert/e/SAN-9071\n",
      "Polish 0.01 64 stratified 2022\n",
      "Training complete!\n",
      "Macro F1:  0.547332\n",
      "\n",
      "https://ui.neptune.ai/Hatespeech-CNERG/MH-Bert/e/SAN-9072\n",
      "Polish 0.01 128 stratified 2018\n",
      "Training complete!\n",
      "Macro F1:  0.550263\n",
      "\n",
      "https://ui.neptune.ai/Hatespeech-CNERG/MH-Bert/e/SAN-9074\n",
      "Polish 0.01 128 stratified 2019\n",
      "Training complete!\n",
      "Macro F1:  0.550263\n",
      "\n",
      "https://ui.neptune.ai/Hatespeech-CNERG/MH-Bert/e/SAN-9075\n",
      "Polish 0.01 128 stratified 2020\n",
      "Training complete!\n",
      "Macro F1:  0.550263\n",
      "\n",
      "https://ui.neptune.ai/Hatespeech-CNERG/MH-Bert/e/SAN-9076\n",
      "Polish 0.01 128 stratified 2021\n",
      "Training complete!\n",
      "Macro F1:  0.550263\n",
      "\n",
      "https://ui.neptune.ai/Hatespeech-CNERG/MH-Bert/e/SAN-9077\n",
      "Polish 0.01 128 stratified 2022\n",
      "Training complete!\n",
      "Macro F1:  0.550263\n",
      "\n",
      "https://ui.neptune.ai/Hatespeech-CNERG/MH-Bert/e/SAN-9078\n",
      "Polish 0.01 256 stratified 2018\n",
      "Training complete!\n",
      "Macro F1:  0.555469\n",
      "\n",
      "https://ui.neptune.ai/Hatespeech-CNERG/MH-Bert/e/SAN-9079\n",
      "Polish 0.01 256 stratified 2019\n",
      "Training complete!\n",
      "Macro F1:  0.555469\n",
      "\n",
      "https://ui.neptune.ai/Hatespeech-CNERG/MH-Bert/e/SAN-9081\n",
      "Polish 0.01 256 stratified 2020\n",
      "Training complete!\n",
      "Macro F1:  0.554345\n",
      "\n",
      "https://ui.neptune.ai/Hatespeech-CNERG/MH-Bert/e/SAN-9082\n",
      "Polish 0.01 256 stratified 2021\n",
      "Training complete!\n",
      "Macro F1:  0.555469\n",
      "\n",
      "https://ui.neptune.ai/Hatespeech-CNERG/MH-Bert/e/SAN-9083\n",
      "Polish 0.01 256 stratified 2022\n",
      "Training complete!\n",
      "Macro F1:  0.555844\n",
      "\n",
      "https://ui.neptune.ai/Hatespeech-CNERG/MH-Bert/e/SAN-9084\n",
      "Polish 0.1 16 stratified 2018\n",
      "Training complete!\n",
      "Macro F1:  0.592521\n",
      "\n",
      "https://ui.neptune.ai/Hatespeech-CNERG/MH-Bert/e/SAN-9085\n",
      "Polish 0.1 16 stratified 2019\n",
      "Training complete!\n",
      "Macro F1:  0.592521\n",
      "\n",
      "https://ui.neptune.ai/Hatespeech-CNERG/MH-Bert/e/SAN-9086\n",
      "Polish 0.1 16 stratified 2020\n",
      "Training complete!\n",
      "Macro F1:  0.592979\n",
      "\n",
      "https://ui.neptune.ai/Hatespeech-CNERG/MH-Bert/e/SAN-9088\n",
      "Polish 0.1 16 stratified 2021\n",
      "Training complete!\n",
      "Macro F1:  0.592064\n",
      "\n",
      "https://ui.neptune.ai/Hatespeech-CNERG/MH-Bert/e/SAN-9089\n",
      "Polish 0.1 16 stratified 2022\n",
      "Training complete!\n",
      "Macro F1:  0.592979\n",
      "\n",
      "https://ui.neptune.ai/Hatespeech-CNERG/MH-Bert/e/SAN-9090\n",
      "Polish 0.1 32 stratified 2018\n",
      "Training complete!\n",
      "Macro F1:  0.593439\n",
      "\n",
      "https://ui.neptune.ai/Hatespeech-CNERG/MH-Bert/e/SAN-9091\n",
      "Polish 0.1 32 stratified 2019\n",
      "Training complete!\n",
      "Macro F1:  0.593439\n",
      "\n",
      "https://ui.neptune.ai/Hatespeech-CNERG/MH-Bert/e/SAN-9092\n",
      "Polish 0.1 32 stratified 2020\n",
      "Training complete!\n",
      "Macro F1:  0.593439\n",
      "\n",
      "https://ui.neptune.ai/Hatespeech-CNERG/MH-Bert/e/SAN-9093\n",
      "Polish 0.1 32 stratified 2021\n",
      "Training complete!\n",
      "Macro F1:  0.593899\n",
      "\n",
      "https://ui.neptune.ai/Hatespeech-CNERG/MH-Bert/e/SAN-9095\n",
      "Polish 0.1 32 stratified 2022\n",
      "Training complete!\n",
      "Macro F1:  0.593439\n",
      "\n",
      "https://ui.neptune.ai/Hatespeech-CNERG/MH-Bert/e/SAN-9096\n",
      "Polish 0.1 64 stratified 2018\n",
      "Training complete!\n",
      "Macro F1:  0.590469\n",
      "\n",
      "https://ui.neptune.ai/Hatespeech-CNERG/MH-Bert/e/SAN-9097\n",
      "Polish 0.1 64 stratified 2019\n",
      "Training complete!\n",
      "Macro F1:  0.590926\n",
      "\n",
      "https://ui.neptune.ai/Hatespeech-CNERG/MH-Bert/e/SAN-9098\n",
      "Polish 0.1 64 stratified 2020\n",
      "Training complete!\n",
      "Macro F1:  0.590469\n",
      "\n",
      "https://ui.neptune.ai/Hatespeech-CNERG/MH-Bert/e/SAN-9099\n",
      "Polish 0.1 64 stratified 2021\n",
      "Training complete!\n",
      "Macro F1:  0.590926\n",
      "\n",
      "https://ui.neptune.ai/Hatespeech-CNERG/MH-Bert/e/SAN-9101\n",
      "Polish 0.1 64 stratified 2022\n",
      "Training complete!\n",
      "Macro F1:  0.590926\n",
      "\n",
      "https://ui.neptune.ai/Hatespeech-CNERG/MH-Bert/e/SAN-9102\n",
      "Polish 0.1 128 stratified 2018\n",
      "Training complete!\n",
      "Macro F1:  0.592487\n",
      "\n",
      "https://ui.neptune.ai/Hatespeech-CNERG/MH-Bert/e/SAN-9103\n",
      "Polish 0.1 128 stratified 2019\n",
      "Training complete!\n",
      "Macro F1:  0.592632\n",
      "\n",
      "https://ui.neptune.ai/Hatespeech-CNERG/MH-Bert/e/SAN-9104\n",
      "Polish 0.1 128 stratified 2020\n",
      "Training complete!\n",
      "Macro F1:  0.592487\n",
      "\n",
      "https://ui.neptune.ai/Hatespeech-CNERG/MH-Bert/e/SAN-9105\n",
      "Polish 0.1 128 stratified 2021\n",
      "Training complete!\n",
      "Macro F1:  0.590932\n",
      "\n",
      "https://ui.neptune.ai/Hatespeech-CNERG/MH-Bert/e/SAN-9106\n",
      "Polish 0.1 128 stratified 2022\n",
      "Training complete!\n",
      "Macro F1:  0.591859\n",
      "\n",
      "https://ui.neptune.ai/Hatespeech-CNERG/MH-Bert/e/SAN-9107\n",
      "Polish 0.1 256 stratified 2018\n",
      "Training complete!\n",
      "Macro F1:  0.592894\n",
      "\n",
      "https://ui.neptune.ai/Hatespeech-CNERG/MH-Bert/e/SAN-9109\n",
      "Polish 0.1 256 stratified 2019\n",
      "Training complete!\n",
      "Macro F1:  0.594978\n",
      "\n",
      "https://ui.neptune.ai/Hatespeech-CNERG/MH-Bert/e/SAN-9110\n",
      "Polish 0.1 256 stratified 2020\n",
      "Training complete!\n",
      "Macro F1:  0.592894\n",
      "\n",
      "https://ui.neptune.ai/Hatespeech-CNERG/MH-Bert/e/SAN-9111\n",
      "Polish 0.1 256 stratified 2021\n",
      "Training complete!\n",
      "Macro F1:  0.592894\n",
      "\n",
      "https://ui.neptune.ai/Hatespeech-CNERG/MH-Bert/e/SAN-9112\n",
      "Polish 0.1 256 stratified 2022\n",
      "Training complete!\n",
      "Macro F1:  0.590099\n",
      "\n",
      "https://ui.neptune.ai/Hatespeech-CNERG/MH-Bert/e/SAN-9113\n"
     ]
    },
    {
     "name": "stderr",
     "output_type": "stream",
     "text": [
      "/home/saketh/anaconda3/lib/python3.7/site-packages/sklearn/linear_model/logistic.py:947: ConvergenceWarning: lbfgs failed to converge. Increase the number of iterations.\n",
      "  \"of iterations.\", ConvergenceWarning)\n"
     ]
    },
    {
     "name": "stdout",
     "output_type": "stream",
     "text": [
      "Polish 1 16 stratified 2018\n",
      "Training complete!\n",
      "Macro F1:  0.590638\n",
      "\n",
      "https://ui.neptune.ai/Hatespeech-CNERG/MH-Bert/e/SAN-9114\n"
     ]
    },
    {
     "name": "stderr",
     "output_type": "stream",
     "text": [
      "/home/saketh/anaconda3/lib/python3.7/site-packages/sklearn/linear_model/logistic.py:947: ConvergenceWarning: lbfgs failed to converge. Increase the number of iterations.\n",
      "  \"of iterations.\", ConvergenceWarning)\n"
     ]
    },
    {
     "name": "stdout",
     "output_type": "stream",
     "text": [
      "Polish 1 16 stratified 2019\n",
      "Training complete!\n",
      "Macro F1:  0.591081\n",
      "\n",
      "https://ui.neptune.ai/Hatespeech-CNERG/MH-Bert/e/SAN-9116\n"
     ]
    },
    {
     "name": "stderr",
     "output_type": "stream",
     "text": [
      "/home/saketh/anaconda3/lib/python3.7/site-packages/sklearn/linear_model/logistic.py:947: ConvergenceWarning: lbfgs failed to converge. Increase the number of iterations.\n",
      "  \"of iterations.\", ConvergenceWarning)\n"
     ]
    },
    {
     "name": "stdout",
     "output_type": "stream",
     "text": [
      "Polish 1 16 stratified 2020\n",
      "Training complete!\n",
      "Macro F1:  0.590196\n",
      "\n",
      "https://ui.neptune.ai/Hatespeech-CNERG/MH-Bert/e/SAN-9117\n"
     ]
    },
    {
     "name": "stderr",
     "output_type": "stream",
     "text": [
      "/home/saketh/anaconda3/lib/python3.7/site-packages/sklearn/linear_model/logistic.py:947: ConvergenceWarning: lbfgs failed to converge. Increase the number of iterations.\n",
      "  \"of iterations.\", ConvergenceWarning)\n"
     ]
    },
    {
     "name": "stdout",
     "output_type": "stream",
     "text": [
      "Polish 1 16 stratified 2021\n",
      "Training complete!\n",
      "Macro F1:  0.590196\n",
      "\n",
      "https://ui.neptune.ai/Hatespeech-CNERG/MH-Bert/e/SAN-9118\n"
     ]
    },
    {
     "name": "stderr",
     "output_type": "stream",
     "text": [
      "/home/saketh/anaconda3/lib/python3.7/site-packages/sklearn/linear_model/logistic.py:947: ConvergenceWarning: lbfgs failed to converge. Increase the number of iterations.\n",
      "  \"of iterations.\", ConvergenceWarning)\n"
     ]
    },
    {
     "name": "stdout",
     "output_type": "stream",
     "text": [
      "Polish 1 16 stratified 2022\n",
      "Training complete!\n",
      "Macro F1:  0.591525\n",
      "\n",
      "https://ui.neptune.ai/Hatespeech-CNERG/MH-Bert/e/SAN-9119\n"
     ]
    },
    {
     "name": "stderr",
     "output_type": "stream",
     "text": [
      "/home/saketh/anaconda3/lib/python3.7/site-packages/sklearn/linear_model/logistic.py:947: ConvergenceWarning: lbfgs failed to converge. Increase the number of iterations.\n",
      "  \"of iterations.\", ConvergenceWarning)\n"
     ]
    },
    {
     "name": "stdout",
     "output_type": "stream",
     "text": [
      "Polish 1 32 stratified 2018\n",
      "Training complete!\n",
      "Macro F1:  0.592852\n",
      "\n",
      "https://ui.neptune.ai/Hatespeech-CNERG/MH-Bert/e/SAN-9120\n"
     ]
    },
    {
     "name": "stderr",
     "output_type": "stream",
     "text": [
      "/home/saketh/anaconda3/lib/python3.7/site-packages/sklearn/linear_model/logistic.py:947: ConvergenceWarning: lbfgs failed to converge. Increase the number of iterations.\n",
      "  \"of iterations.\", ConvergenceWarning)\n"
     ]
    },
    {
     "name": "stdout",
     "output_type": "stream",
     "text": [
      "Polish 1 32 stratified 2019\n",
      "Training complete!\n",
      "Macro F1:  0.593761\n",
      "\n",
      "https://ui.neptune.ai/Hatespeech-CNERG/MH-Bert/e/SAN-9121\n"
     ]
    },
    {
     "name": "stderr",
     "output_type": "stream",
     "text": [
      "/home/saketh/anaconda3/lib/python3.7/site-packages/sklearn/linear_model/logistic.py:947: ConvergenceWarning: lbfgs failed to converge. Increase the number of iterations.\n",
      "  \"of iterations.\", ConvergenceWarning)\n"
     ]
    },
    {
     "name": "stdout",
     "output_type": "stream",
     "text": [
      "Polish 1 32 stratified 2020\n",
      "Training complete!\n",
      "Macro F1:  0.593302\n",
      "\n",
      "https://ui.neptune.ai/Hatespeech-CNERG/MH-Bert/e/SAN-9123\n"
     ]
    },
    {
     "name": "stderr",
     "output_type": "stream",
     "text": [
      "/home/saketh/anaconda3/lib/python3.7/site-packages/sklearn/linear_model/logistic.py:947: ConvergenceWarning: lbfgs failed to converge. Increase the number of iterations.\n",
      "  \"of iterations.\", ConvergenceWarning)\n"
     ]
    },
    {
     "name": "stdout",
     "output_type": "stream",
     "text": [
      "Polish 1 32 stratified 2021\n",
      "Training complete!\n",
      "Macro F1:  0.592852\n",
      "\n",
      "https://ui.neptune.ai/Hatespeech-CNERG/MH-Bert/e/SAN-9124\n"
     ]
    },
    {
     "name": "stderr",
     "output_type": "stream",
     "text": [
      "/home/saketh/anaconda3/lib/python3.7/site-packages/sklearn/linear_model/logistic.py:947: ConvergenceWarning: lbfgs failed to converge. Increase the number of iterations.\n",
      "  \"of iterations.\", ConvergenceWarning)\n"
     ]
    },
    {
     "name": "stdout",
     "output_type": "stream",
     "text": [
      "Polish 1 32 stratified 2022\n",
      "Training complete!\n",
      "Macro F1:  0.592852\n",
      "\n",
      "https://ui.neptune.ai/Hatespeech-CNERG/MH-Bert/e/SAN-9125\n"
     ]
    },
    {
     "name": "stderr",
     "output_type": "stream",
     "text": [
      "/home/saketh/anaconda3/lib/python3.7/site-packages/sklearn/linear_model/logistic.py:947: ConvergenceWarning: lbfgs failed to converge. Increase the number of iterations.\n",
      "  \"of iterations.\", ConvergenceWarning)\n"
     ]
    },
    {
     "name": "stdout",
     "output_type": "stream",
     "text": [
      "Polish 1 64 stratified 2018\n",
      "Training complete!\n",
      "Macro F1:  0.595550\n",
      "\n",
      "https://ui.neptune.ai/Hatespeech-CNERG/MH-Bert/e/SAN-9126\n"
     ]
    },
    {
     "name": "stderr",
     "output_type": "stream",
     "text": [
      "/home/saketh/anaconda3/lib/python3.7/site-packages/sklearn/linear_model/logistic.py:947: ConvergenceWarning: lbfgs failed to converge. Increase the number of iterations.\n",
      "  \"of iterations.\", ConvergenceWarning)\n"
     ]
    },
    {
     "name": "stdout",
     "output_type": "stream",
     "text": [
      "Polish 1 64 stratified 2019\n",
      "Training complete!\n",
      "Macro F1:  0.597395\n",
      "\n",
      "https://ui.neptune.ai/Hatespeech-CNERG/MH-Bert/e/SAN-9127\n"
     ]
    },
    {
     "name": "stderr",
     "output_type": "stream",
     "text": [
      "/home/saketh/anaconda3/lib/python3.7/site-packages/sklearn/linear_model/logistic.py:947: ConvergenceWarning: lbfgs failed to converge. Increase the number of iterations.\n",
      "  \"of iterations.\", ConvergenceWarning)\n"
     ]
    },
    {
     "name": "stdout",
     "output_type": "stream",
     "text": [
      "Polish 1 64 stratified 2020\n",
      "Training complete!\n",
      "Macro F1:  0.591391\n",
      "\n",
      "https://ui.neptune.ai/Hatespeech-CNERG/MH-Bert/e/SAN-9128\n"
     ]
    },
    {
     "name": "stderr",
     "output_type": "stream",
     "text": [
      "/home/saketh/anaconda3/lib/python3.7/site-packages/sklearn/linear_model/logistic.py:947: ConvergenceWarning: lbfgs failed to converge. Increase the number of iterations.\n",
      "  \"of iterations.\", ConvergenceWarning)\n"
     ]
    },
    {
     "name": "stdout",
     "output_type": "stream",
     "text": [
      "Polish 1 64 stratified 2021\n",
      "Training complete!\n",
      "Macro F1:  0.590425\n",
      "\n",
      "https://ui.neptune.ai/Hatespeech-CNERG/MH-Bert/e/SAN-9130\n"
     ]
    },
    {
     "name": "stderr",
     "output_type": "stream",
     "text": [
      "/home/saketh/anaconda3/lib/python3.7/site-packages/sklearn/linear_model/logistic.py:947: ConvergenceWarning: lbfgs failed to converge. Increase the number of iterations.\n",
      "  \"of iterations.\", ConvergenceWarning)\n"
     ]
    },
    {
     "name": "stdout",
     "output_type": "stream",
     "text": [
      "Polish 1 64 stratified 2022\n",
      "Training complete!\n",
      "Macro F1:  0.592745\n",
      "\n",
      "https://ui.neptune.ai/Hatespeech-CNERG/MH-Bert/e/SAN-9131\n"
     ]
    },
    {
     "name": "stderr",
     "output_type": "stream",
     "text": [
      "/home/saketh/anaconda3/lib/python3.7/site-packages/sklearn/linear_model/logistic.py:947: ConvergenceWarning: lbfgs failed to converge. Increase the number of iterations.\n",
      "  \"of iterations.\", ConvergenceWarning)\n"
     ]
    },
    {
     "name": "stdout",
     "output_type": "stream",
     "text": [
      "Polish 1 128 stratified 2018\n",
      "Training complete!\n",
      "Macro F1:  0.591700\n",
      "\n",
      "https://ui.neptune.ai/Hatespeech-CNERG/MH-Bert/e/SAN-9132\n"
     ]
    },
    {
     "name": "stderr",
     "output_type": "stream",
     "text": [
      "/home/saketh/anaconda3/lib/python3.7/site-packages/sklearn/linear_model/logistic.py:947: ConvergenceWarning: lbfgs failed to converge. Increase the number of iterations.\n",
      "  \"of iterations.\", ConvergenceWarning)\n"
     ]
    },
    {
     "name": "stdout",
     "output_type": "stream",
     "text": [
      "Polish 1 128 stratified 2019\n",
      "Training complete!\n",
      "Macro F1:  0.591700\n",
      "\n",
      "https://ui.neptune.ai/Hatespeech-CNERG/MH-Bert/e/SAN-9133\n"
     ]
    },
    {
     "name": "stderr",
     "output_type": "stream",
     "text": [
      "/home/saketh/anaconda3/lib/python3.7/site-packages/sklearn/linear_model/logistic.py:947: ConvergenceWarning: lbfgs failed to converge. Increase the number of iterations.\n",
      "  \"of iterations.\", ConvergenceWarning)\n"
     ]
    },
    {
     "name": "stdout",
     "output_type": "stream",
     "text": [
      "Polish 1 128 stratified 2020\n",
      "Training complete!\n",
      "Macro F1:  0.589686\n",
      "\n",
      "https://ui.neptune.ai/Hatespeech-CNERG/MH-Bert/e/SAN-9134\n"
     ]
    },
    {
     "name": "stderr",
     "output_type": "stream",
     "text": [
      "/home/saketh/anaconda3/lib/python3.7/site-packages/sklearn/linear_model/logistic.py:947: ConvergenceWarning: lbfgs failed to converge. Increase the number of iterations.\n",
      "  \"of iterations.\", ConvergenceWarning)\n"
     ]
    },
    {
     "name": "stdout",
     "output_type": "stream",
     "text": [
      "Polish 1 128 stratified 2021\n",
      "Training complete!\n",
      "Macro F1:  0.591154\n",
      "\n",
      "https://ui.neptune.ai/Hatespeech-CNERG/MH-Bert/e/SAN-9135\n"
     ]
    },
    {
     "name": "stderr",
     "output_type": "stream",
     "text": [
      "/home/saketh/anaconda3/lib/python3.7/site-packages/sklearn/linear_model/logistic.py:947: ConvergenceWarning: lbfgs failed to converge. Increase the number of iterations.\n",
      "  \"of iterations.\", ConvergenceWarning)\n"
     ]
    },
    {
     "name": "stdout",
     "output_type": "stream",
     "text": [
      "Polish 1 128 stratified 2022\n",
      "Training complete!\n",
      "Macro F1:  0.586264\n",
      "\n",
      "https://ui.neptune.ai/Hatespeech-CNERG/MH-Bert/e/SAN-9137\n"
     ]
    },
    {
     "name": "stderr",
     "output_type": "stream",
     "text": [
      "/home/saketh/anaconda3/lib/python3.7/site-packages/sklearn/linear_model/logistic.py:947: ConvergenceWarning: lbfgs failed to converge. Increase the number of iterations.\n",
      "  \"of iterations.\", ConvergenceWarning)\n"
     ]
    },
    {
     "name": "stdout",
     "output_type": "stream",
     "text": [
      "Polish 1 256 stratified 2018\n",
      "Training complete!\n",
      "Macro F1:  0.581438\n",
      "\n",
      "https://ui.neptune.ai/Hatespeech-CNERG/MH-Bert/e/SAN-9138\n"
     ]
    },
    {
     "name": "stderr",
     "output_type": "stream",
     "text": [
      "/home/saketh/anaconda3/lib/python3.7/site-packages/sklearn/linear_model/logistic.py:947: ConvergenceWarning: lbfgs failed to converge. Increase the number of iterations.\n",
      "  \"of iterations.\", ConvergenceWarning)\n"
     ]
    },
    {
     "name": "stdout",
     "output_type": "stream",
     "text": [
      "Polish 1 256 stratified 2019\n",
      "Training complete!\n",
      "Macro F1:  0.583105\n",
      "\n",
      "https://ui.neptune.ai/Hatespeech-CNERG/MH-Bert/e/SAN-9139\n"
     ]
    },
    {
     "name": "stderr",
     "output_type": "stream",
     "text": [
      "/home/saketh/anaconda3/lib/python3.7/site-packages/sklearn/linear_model/logistic.py:947: ConvergenceWarning: lbfgs failed to converge. Increase the number of iterations.\n",
      "  \"of iterations.\", ConvergenceWarning)\n"
     ]
    },
    {
     "name": "stdout",
     "output_type": "stream",
     "text": [
      "Polish 1 256 stratified 2020\n",
      "Training complete!\n",
      "Macro F1:  0.581438\n",
      "\n",
      "https://ui.neptune.ai/Hatespeech-CNERG/MH-Bert/e/SAN-9140\n"
     ]
    },
    {
     "name": "stderr",
     "output_type": "stream",
     "text": [
      "/home/saketh/anaconda3/lib/python3.7/site-packages/sklearn/linear_model/logistic.py:947: ConvergenceWarning: lbfgs failed to converge. Increase the number of iterations.\n",
      "  \"of iterations.\", ConvergenceWarning)\n"
     ]
    },
    {
     "name": "stdout",
     "output_type": "stream",
     "text": [
      "Polish 1 256 stratified 2021\n",
      "Training complete!\n",
      "Macro F1:  0.580092\n",
      "\n",
      "https://ui.neptune.ai/Hatespeech-CNERG/MH-Bert/e/SAN-9141\n"
     ]
    },
    {
     "name": "stderr",
     "output_type": "stream",
     "text": [
      "/home/saketh/anaconda3/lib/python3.7/site-packages/sklearn/linear_model/logistic.py:947: ConvergenceWarning: lbfgs failed to converge. Increase the number of iterations.\n",
      "  \"of iterations.\", ConvergenceWarning)\n"
     ]
    },
    {
     "name": "stdout",
     "output_type": "stream",
     "text": [
      "Polish 1 256 stratified 2022\n",
      "Training complete!\n",
      "Macro F1:  0.588340\n",
      "\n",
      "https://ui.neptune.ai/Hatespeech-CNERG/MH-Bert/e/SAN-9143\n"
     ]
    },
    {
     "name": "stderr",
     "output_type": "stream",
     "text": [
      "/home/saketh/anaconda3/lib/python3.7/site-packages/sklearn/linear_model/logistic.py:947: ConvergenceWarning: lbfgs failed to converge. Increase the number of iterations.\n",
      "  \"of iterations.\", ConvergenceWarning)\n"
     ]
    },
    {
     "name": "stdout",
     "output_type": "stream",
     "text": [
      "Polish 10 16 stratified 2018\n",
      "Training complete!\n",
      "Macro F1:  0.577011\n",
      "\n",
      "https://ui.neptune.ai/Hatespeech-CNERG/MH-Bert/e/SAN-9144\n"
     ]
    },
    {
     "name": "stderr",
     "output_type": "stream",
     "text": [
      "/home/saketh/anaconda3/lib/python3.7/site-packages/sklearn/linear_model/logistic.py:947: ConvergenceWarning: lbfgs failed to converge. Increase the number of iterations.\n",
      "  \"of iterations.\", ConvergenceWarning)\n"
     ]
    },
    {
     "name": "stdout",
     "output_type": "stream",
     "text": [
      "Polish 10 16 stratified 2019\n",
      "Training complete!\n",
      "Macro F1:  0.575296\n",
      "\n",
      "https://ui.neptune.ai/Hatespeech-CNERG/MH-Bert/e/SAN-9145\n"
     ]
    },
    {
     "name": "stderr",
     "output_type": "stream",
     "text": [
      "/home/saketh/anaconda3/lib/python3.7/site-packages/sklearn/linear_model/logistic.py:947: ConvergenceWarning: lbfgs failed to converge. Increase the number of iterations.\n",
      "  \"of iterations.\", ConvergenceWarning)\n"
     ]
    },
    {
     "name": "stdout",
     "output_type": "stream",
     "text": [
      "Polish 10 16 stratified 2020\n",
      "Training complete!\n",
      "Macro F1:  0.579027\n",
      "\n",
      "https://ui.neptune.ai/Hatespeech-CNERG/MH-Bert/e/SAN-9146\n"
     ]
    },
    {
     "name": "stderr",
     "output_type": "stream",
     "text": [
      "/home/saketh/anaconda3/lib/python3.7/site-packages/sklearn/linear_model/logistic.py:947: ConvergenceWarning: lbfgs failed to converge. Increase the number of iterations.\n",
      "  \"of iterations.\", ConvergenceWarning)\n"
     ]
    },
    {
     "name": "stdout",
     "output_type": "stream",
     "text": [
      "Polish 10 16 stratified 2021\n",
      "Training complete!\n",
      "Macro F1:  0.577360\n",
      "\n",
      "https://ui.neptune.ai/Hatespeech-CNERG/MH-Bert/e/SAN-9147\n"
     ]
    },
    {
     "name": "stderr",
     "output_type": "stream",
     "text": [
      "/home/saketh/anaconda3/lib/python3.7/site-packages/sklearn/linear_model/logistic.py:947: ConvergenceWarning: lbfgs failed to converge. Increase the number of iterations.\n",
      "  \"of iterations.\", ConvergenceWarning)\n"
     ]
    },
    {
     "name": "stdout",
     "output_type": "stream",
     "text": [
      "Polish 10 16 stratified 2022\n",
      "Training complete!\n",
      "Macro F1:  0.575296\n",
      "\n",
      "https://ui.neptune.ai/Hatespeech-CNERG/MH-Bert/e/SAN-9148\n"
     ]
    },
    {
     "name": "stderr",
     "output_type": "stream",
     "text": [
      "/home/saketh/anaconda3/lib/python3.7/site-packages/sklearn/linear_model/logistic.py:947: ConvergenceWarning: lbfgs failed to converge. Increase the number of iterations.\n",
      "  \"of iterations.\", ConvergenceWarning)\n"
     ]
    },
    {
     "name": "stdout",
     "output_type": "stream",
     "text": [
      "Polish 10 32 stratified 2018\n",
      "Training complete!\n",
      "Macro F1:  0.577776\n",
      "\n",
      "https://ui.neptune.ai/Hatespeech-CNERG/MH-Bert/e/SAN-9150\n"
     ]
    },
    {
     "name": "stderr",
     "output_type": "stream",
     "text": [
      "/home/saketh/anaconda3/lib/python3.7/site-packages/sklearn/linear_model/logistic.py:947: ConvergenceWarning: lbfgs failed to converge. Increase the number of iterations.\n",
      "  \"of iterations.\", ConvergenceWarning)\n"
     ]
    },
    {
     "name": "stdout",
     "output_type": "stream",
     "text": [
      "Polish 10 32 stratified 2019\n",
      "Training complete!\n",
      "Macro F1:  0.582399\n",
      "\n",
      "https://ui.neptune.ai/Hatespeech-CNERG/MH-Bert/e/SAN-9151\n"
     ]
    },
    {
     "name": "stderr",
     "output_type": "stream",
     "text": [
      "/home/saketh/anaconda3/lib/python3.7/site-packages/sklearn/linear_model/logistic.py:947: ConvergenceWarning: lbfgs failed to converge. Increase the number of iterations.\n",
      "  \"of iterations.\", ConvergenceWarning)\n"
     ]
    },
    {
     "name": "stdout",
     "output_type": "stream",
     "text": [
      "Polish 10 32 stratified 2020\n",
      "Training complete!\n",
      "Macro F1:  0.583678\n",
      "\n",
      "https://ui.neptune.ai/Hatespeech-CNERG/MH-Bert/e/SAN-9152\n"
     ]
    },
    {
     "name": "stderr",
     "output_type": "stream",
     "text": [
      "/home/saketh/anaconda3/lib/python3.7/site-packages/sklearn/linear_model/logistic.py:947: ConvergenceWarning: lbfgs failed to converge. Increase the number of iterations.\n",
      "  \"of iterations.\", ConvergenceWarning)\n"
     ]
    },
    {
     "name": "stdout",
     "output_type": "stream",
     "text": [
      "Polish 10 32 stratified 2021\n",
      "Training complete!\n",
      "Macro F1:  0.584106\n",
      "\n",
      "https://ui.neptune.ai/Hatespeech-CNERG/MH-Bert/e/SAN-9153\n"
     ]
    },
    {
     "name": "stderr",
     "output_type": "stream",
     "text": [
      "/home/saketh/anaconda3/lib/python3.7/site-packages/sklearn/linear_model/logistic.py:947: ConvergenceWarning: lbfgs failed to converge. Increase the number of iterations.\n",
      "  \"of iterations.\", ConvergenceWarning)\n"
     ]
    },
    {
     "name": "stdout",
     "output_type": "stream",
     "text": [
      "Polish 10 32 stratified 2022\n",
      "Training complete!\n",
      "Macro F1:  0.582399\n",
      "\n",
      "https://ui.neptune.ai/Hatespeech-CNERG/MH-Bert/e/SAN-9154\n"
     ]
    },
    {
     "name": "stderr",
     "output_type": "stream",
     "text": [
      "/home/saketh/anaconda3/lib/python3.7/site-packages/sklearn/linear_model/logistic.py:947: ConvergenceWarning: lbfgs failed to converge. Increase the number of iterations.\n",
      "  \"of iterations.\", ConvergenceWarning)\n"
     ]
    },
    {
     "name": "stdout",
     "output_type": "stream",
     "text": [
      "Polish 10 64 stratified 2018\n",
      "Training complete!\n",
      "Macro F1:  0.585797\n",
      "\n",
      "https://ui.neptune.ai/Hatespeech-CNERG/MH-Bert/e/SAN-9156\n"
     ]
    },
    {
     "name": "stderr",
     "output_type": "stream",
     "text": [
      "/home/saketh/anaconda3/lib/python3.7/site-packages/sklearn/linear_model/logistic.py:947: ConvergenceWarning: lbfgs failed to converge. Increase the number of iterations.\n",
      "  \"of iterations.\", ConvergenceWarning)\n"
     ]
    },
    {
     "name": "stdout",
     "output_type": "stream",
     "text": [
      "Polish 10 64 stratified 2019\n",
      "Training complete!\n",
      "Macro F1:  0.583102\n",
      "\n",
      "https://ui.neptune.ai/Hatespeech-CNERG/MH-Bert/e/SAN-9157\n"
     ]
    },
    {
     "name": "stderr",
     "output_type": "stream",
     "text": [
      "/home/saketh/anaconda3/lib/python3.7/site-packages/sklearn/linear_model/logistic.py:947: ConvergenceWarning: lbfgs failed to converge. Increase the number of iterations.\n",
      "  \"of iterations.\", ConvergenceWarning)\n"
     ]
    },
    {
     "name": "stdout",
     "output_type": "stream",
     "text": [
      "Polish 10 64 stratified 2020\n",
      "Training complete!\n",
      "Macro F1:  0.585320\n",
      "\n",
      "https://ui.neptune.ai/Hatespeech-CNERG/MH-Bert/e/SAN-9158\n"
     ]
    },
    {
     "name": "stderr",
     "output_type": "stream",
     "text": [
      "/home/saketh/anaconda3/lib/python3.7/site-packages/sklearn/linear_model/logistic.py:947: ConvergenceWarning: lbfgs failed to converge. Increase the number of iterations.\n",
      "  \"of iterations.\", ConvergenceWarning)\n"
     ]
    },
    {
     "name": "stdout",
     "output_type": "stream",
     "text": [
      "Polish 10 64 stratified 2021\n",
      "Training complete!\n",
      "Macro F1:  0.584887\n",
      "\n",
      "https://ui.neptune.ai/Hatespeech-CNERG/MH-Bert/e/SAN-9159\n"
     ]
    },
    {
     "name": "stderr",
     "output_type": "stream",
     "text": [
      "/home/saketh/anaconda3/lib/python3.7/site-packages/sklearn/linear_model/logistic.py:947: ConvergenceWarning: lbfgs failed to converge. Increase the number of iterations.\n",
      "  \"of iterations.\", ConvergenceWarning)\n"
     ]
    },
    {
     "name": "stdout",
     "output_type": "stream",
     "text": [
      "Polish 10 64 stratified 2022\n",
      "Training complete!\n",
      "Macro F1:  0.583102\n",
      "\n",
      "https://ui.neptune.ai/Hatespeech-CNERG/MH-Bert/e/SAN-9160\n"
     ]
    },
    {
     "name": "stderr",
     "output_type": "stream",
     "text": [
      "/home/saketh/anaconda3/lib/python3.7/site-packages/sklearn/linear_model/logistic.py:947: ConvergenceWarning: lbfgs failed to converge. Increase the number of iterations.\n",
      "  \"of iterations.\", ConvergenceWarning)\n"
     ]
    },
    {
     "name": "stdout",
     "output_type": "stream",
     "text": [
      "Polish 10 128 stratified 2018\n",
      "Training complete!\n",
      "Macro F1:  0.584674\n",
      "\n",
      "https://ui.neptune.ai/Hatespeech-CNERG/MH-Bert/e/SAN-9163\n"
     ]
    },
    {
     "name": "stderr",
     "output_type": "stream",
     "text": [
      "/home/saketh/anaconda3/lib/python3.7/site-packages/sklearn/linear_model/logistic.py:947: ConvergenceWarning: lbfgs failed to converge. Increase the number of iterations.\n",
      "  \"of iterations.\", ConvergenceWarning)\n"
     ]
    },
    {
     "name": "stdout",
     "output_type": "stream",
     "text": [
      "Polish 10 128 stratified 2019\n",
      "Training complete!\n",
      "Macro F1:  0.586067\n",
      "\n",
      "https://ui.neptune.ai/Hatespeech-CNERG/MH-Bert/e/SAN-9164\n"
     ]
    },
    {
     "name": "stderr",
     "output_type": "stream",
     "text": [
      "/home/saketh/anaconda3/lib/python3.7/site-packages/sklearn/linear_model/logistic.py:947: ConvergenceWarning: lbfgs failed to converge. Increase the number of iterations.\n",
      "  \"of iterations.\", ConvergenceWarning)\n"
     ]
    },
    {
     "name": "stdout",
     "output_type": "stream",
     "text": [
      "Polish 10 128 stratified 2020\n",
      "Training complete!\n",
      "Macro F1:  0.583805\n",
      "\n",
      "https://ui.neptune.ai/Hatespeech-CNERG/MH-Bert/e/SAN-9165\n"
     ]
    },
    {
     "name": "stderr",
     "output_type": "stream",
     "text": [
      "/home/saketh/anaconda3/lib/python3.7/site-packages/sklearn/linear_model/logistic.py:947: ConvergenceWarning: lbfgs failed to converge. Increase the number of iterations.\n",
      "  \"of iterations.\", ConvergenceWarning)\n"
     ]
    },
    {
     "name": "stdout",
     "output_type": "stream",
     "text": [
      "Polish 10 128 stratified 2021\n",
      "Training complete!\n",
      "Macro F1:  0.584758\n",
      "\n",
      "https://ui.neptune.ai/Hatespeech-CNERG/MH-Bert/e/SAN-9166\n"
     ]
    },
    {
     "name": "stderr",
     "output_type": "stream",
     "text": [
      "/home/saketh/anaconda3/lib/python3.7/site-packages/sklearn/linear_model/logistic.py:947: ConvergenceWarning: lbfgs failed to converge. Increase the number of iterations.\n",
      "  \"of iterations.\", ConvergenceWarning)\n"
     ]
    },
    {
     "name": "stdout",
     "output_type": "stream",
     "text": [
      "Polish 10 128 stratified 2022\n",
      "Training complete!\n",
      "Macro F1:  0.582446\n",
      "\n",
      "https://ui.neptune.ai/Hatespeech-CNERG/MH-Bert/e/SAN-9167\n"
     ]
    },
    {
     "name": "stderr",
     "output_type": "stream",
     "text": [
      "/home/saketh/anaconda3/lib/python3.7/site-packages/sklearn/linear_model/logistic.py:947: ConvergenceWarning: lbfgs failed to converge. Increase the number of iterations.\n",
      "  \"of iterations.\", ConvergenceWarning)\n"
     ]
    },
    {
     "name": "stdout",
     "output_type": "stream",
     "text": [
      "Polish 10 256 stratified 2018\n",
      "Training complete!\n",
      "Macro F1:  0.587780\n",
      "\n",
      "https://ui.neptune.ai/Hatespeech-CNERG/MH-Bert/e/SAN-9168\n"
     ]
    },
    {
     "name": "stderr",
     "output_type": "stream",
     "text": [
      "/home/saketh/anaconda3/lib/python3.7/site-packages/sklearn/linear_model/logistic.py:947: ConvergenceWarning: lbfgs failed to converge. Increase the number of iterations.\n",
      "  \"of iterations.\", ConvergenceWarning)\n"
     ]
    },
    {
     "name": "stdout",
     "output_type": "stream",
     "text": [
      "Polish 10 256 stratified 2019\n",
      "Training complete!\n",
      "Macro F1:  0.588904\n",
      "\n",
      "https://ui.neptune.ai/Hatespeech-CNERG/MH-Bert/e/SAN-9170\n"
     ]
    },
    {
     "name": "stderr",
     "output_type": "stream",
     "text": [
      "/home/saketh/anaconda3/lib/python3.7/site-packages/sklearn/linear_model/logistic.py:947: ConvergenceWarning: lbfgs failed to converge. Increase the number of iterations.\n",
      "  \"of iterations.\", ConvergenceWarning)\n"
     ]
    },
    {
     "name": "stdout",
     "output_type": "stream",
     "text": [
      "Polish 10 256 stratified 2020\n",
      "Training complete!\n",
      "Macro F1:  0.590286\n",
      "\n",
      "https://ui.neptune.ai/Hatespeech-CNERG/MH-Bert/e/SAN-9171\n"
     ]
    },
    {
     "name": "stderr",
     "output_type": "stream",
     "text": [
      "/home/saketh/anaconda3/lib/python3.7/site-packages/sklearn/linear_model/logistic.py:947: ConvergenceWarning: lbfgs failed to converge. Increase the number of iterations.\n",
      "  \"of iterations.\", ConvergenceWarning)\n"
     ]
    },
    {
     "name": "stdout",
     "output_type": "stream",
     "text": [
      "Polish 10 256 stratified 2021\n",
      "Training complete!\n",
      "Macro F1:  0.587077\n",
      "\n",
      "https://ui.neptune.ai/Hatespeech-CNERG/MH-Bert/e/SAN-9172\n"
     ]
    },
    {
     "name": "stderr",
     "output_type": "stream",
     "text": [
      "/home/saketh/anaconda3/lib/python3.7/site-packages/sklearn/linear_model/logistic.py:947: ConvergenceWarning: lbfgs failed to converge. Increase the number of iterations.\n",
      "  \"of iterations.\", ConvergenceWarning)\n"
     ]
    },
    {
     "name": "stdout",
     "output_type": "stream",
     "text": [
      "Polish 10 256 stratified 2022\n",
      "Training complete!\n",
      "Macro F1:  0.587773\n",
      "\n",
      "https://ui.neptune.ai/Hatespeech-CNERG/MH-Bert/e/SAN-9173\n",
      "Portugese 0.01 16 stratified 2018\n",
      "Training complete!\n",
      "Macro F1:  0.654656\n",
      "\n",
      "https://ui.neptune.ai/Hatespeech-CNERG/MH-Bert/e/SAN-9174\n",
      "Portugese 0.01 16 stratified 2019\n",
      "Training complete!\n",
      "Macro F1:  0.654656\n",
      "\n",
      "https://ui.neptune.ai/Hatespeech-CNERG/MH-Bert/e/SAN-9176\n",
      "Portugese 0.01 16 stratified 2020\n",
      "Training complete!\n",
      "Macro F1:  0.654656\n",
      "\n",
      "https://ui.neptune.ai/Hatespeech-CNERG/MH-Bert/e/SAN-9177\n",
      "Portugese 0.01 16 stratified 2021\n",
      "Training complete!\n",
      "Macro F1:  0.654656\n",
      "\n",
      "https://ui.neptune.ai/Hatespeech-CNERG/MH-Bert/e/SAN-9178\n",
      "Portugese 0.01 16 stratified 2022\n",
      "Training complete!\n",
      "Macro F1:  0.654656\n",
      "\n",
      "https://ui.neptune.ai/Hatespeech-CNERG/MH-Bert/e/SAN-9179\n",
      "Portugese 0.01 32 stratified 2018\n",
      "Training complete!\n",
      "Macro F1:  0.655424\n",
      "\n",
      "https://ui.neptune.ai/Hatespeech-CNERG/MH-Bert/e/SAN-9180\n",
      "Portugese 0.01 32 stratified 2019\n",
      "Training complete!\n",
      "Macro F1:  0.654656\n",
      "\n",
      "https://ui.neptune.ai/Hatespeech-CNERG/MH-Bert/e/SAN-9181\n",
      "Portugese 0.01 32 stratified 2020\n",
      "Training complete!\n",
      "Macro F1:  0.654656\n",
      "\n",
      "https://ui.neptune.ai/Hatespeech-CNERG/MH-Bert/e/SAN-9182\n",
      "Portugese 0.01 32 stratified 2021\n",
      "Training complete!\n",
      "Macro F1:  0.654656\n",
      "\n",
      "https://ui.neptune.ai/Hatespeech-CNERG/MH-Bert/e/SAN-9183\n",
      "Portugese 0.01 32 stratified 2022\n",
      "Training complete!\n",
      "Macro F1:  0.654656\n",
      "\n",
      "https://ui.neptune.ai/Hatespeech-CNERG/MH-Bert/e/SAN-9185\n",
      "Portugese 0.01 64 stratified 2018\n",
      "Training complete!\n",
      "Macro F1:  0.655424\n",
      "\n",
      "https://ui.neptune.ai/Hatespeech-CNERG/MH-Bert/e/SAN-9186\n",
      "Portugese 0.01 64 stratified 2019\n",
      "Training complete!\n",
      "Macro F1:  0.654656\n",
      "\n",
      "https://ui.neptune.ai/Hatespeech-CNERG/MH-Bert/e/SAN-9187\n",
      "Portugese 0.01 64 stratified 2020\n",
      "Training complete!\n",
      "Macro F1:  0.654656\n",
      "\n",
      "https://ui.neptune.ai/Hatespeech-CNERG/MH-Bert/e/SAN-9188\n",
      "Portugese 0.01 64 stratified 2021\n",
      "Training complete!\n",
      "Macro F1:  0.654656\n",
      "\n",
      "https://ui.neptune.ai/Hatespeech-CNERG/MH-Bert/e/SAN-9189\n",
      "Portugese 0.01 64 stratified 2022\n",
      "Training complete!\n",
      "Macro F1:  0.654656\n",
      "\n",
      "https://ui.neptune.ai/Hatespeech-CNERG/MH-Bert/e/SAN-9190\n",
      "Portugese 0.01 128 stratified 2018\n",
      "Training complete!\n",
      "Macro F1:  0.654656\n",
      "\n",
      "https://ui.neptune.ai/Hatespeech-CNERG/MH-Bert/e/SAN-9191\n",
      "Portugese 0.01 128 stratified 2019\n",
      "Training complete!\n",
      "Macro F1:  0.654656\n",
      "\n",
      "https://ui.neptune.ai/Hatespeech-CNERG/MH-Bert/e/SAN-9193\n",
      "Portugese 0.01 128 stratified 2020\n",
      "Training complete!\n",
      "Macro F1:  0.654656\n",
      "\n",
      "https://ui.neptune.ai/Hatespeech-CNERG/MH-Bert/e/SAN-9194\n",
      "Portugese 0.01 128 stratified 2021\n",
      "Training complete!\n",
      "Macro F1:  0.654656\n",
      "\n",
      "https://ui.neptune.ai/Hatespeech-CNERG/MH-Bert/e/SAN-9195\n",
      "Portugese 0.01 128 stratified 2022\n",
      "Training complete!\n",
      "Macro F1:  0.654656\n",
      "\n",
      "https://ui.neptune.ai/Hatespeech-CNERG/MH-Bert/e/SAN-9196\n",
      "Portugese 0.01 256 stratified 2018\n",
      "Training complete!\n",
      "Macro F1:  0.655827\n",
      "\n",
      "https://ui.neptune.ai/Hatespeech-CNERG/MH-Bert/e/SAN-9197\n",
      "Portugese 0.01 256 stratified 2019\n",
      "Training complete!\n",
      "Macro F1:  0.655827\n",
      "\n",
      "https://ui.neptune.ai/Hatespeech-CNERG/MH-Bert/e/SAN-9198\n",
      "Portugese 0.01 256 stratified 2020\n",
      "Training complete!\n",
      "Macro F1:  0.655827\n",
      "\n",
      "https://ui.neptune.ai/Hatespeech-CNERG/MH-Bert/e/SAN-9199\n",
      "Portugese 0.01 256 stratified 2021\n",
      "Training complete!\n",
      "Macro F1:  0.654656\n",
      "\n",
      "https://ui.neptune.ai/Hatespeech-CNERG/MH-Bert/e/SAN-9201\n",
      "Portugese 0.01 256 stratified 2022\n",
      "Training complete!\n",
      "Macro F1:  0.654656\n",
      "\n",
      "https://ui.neptune.ai/Hatespeech-CNERG/MH-Bert/e/SAN-9202\n",
      "Portugese 0.1 16 stratified 2018\n",
      "Training complete!\n",
      "Macro F1:  0.656720\n",
      "\n",
      "https://ui.neptune.ai/Hatespeech-CNERG/MH-Bert/e/SAN-9203\n",
      "Portugese 0.1 16 stratified 2019\n",
      "Training complete!\n",
      "Macro F1:  0.656720\n",
      "\n",
      "https://ui.neptune.ai/Hatespeech-CNERG/MH-Bert/e/SAN-9204\n",
      "Portugese 0.1 16 stratified 2020\n",
      "Training complete!\n",
      "Macro F1:  0.656720\n",
      "\n",
      "https://ui.neptune.ai/Hatespeech-CNERG/MH-Bert/e/SAN-9205\n",
      "Portugese 0.1 16 stratified 2021\n",
      "Training complete!\n",
      "Macro F1:  0.655481\n",
      "\n",
      "https://ui.neptune.ai/Hatespeech-CNERG/MH-Bert/e/SAN-9206\n",
      "Portugese 0.1 16 stratified 2022\n",
      "Training complete!\n",
      "Macro F1:  0.656720\n",
      "\n",
      "https://ui.neptune.ai/Hatespeech-CNERG/MH-Bert/e/SAN-9207\n",
      "Portugese 0.1 32 stratified 2018\n",
      "Training complete!\n",
      "Macro F1:  0.656720\n",
      "\n",
      "https://ui.neptune.ai/Hatespeech-CNERG/MH-Bert/e/SAN-9208\n",
      "Portugese 0.1 32 stratified 2019\n",
      "Training complete!\n",
      "Macro F1:  0.656720\n",
      "\n",
      "https://ui.neptune.ai/Hatespeech-CNERG/MH-Bert/e/SAN-9209\n",
      "Portugese 0.1 32 stratified 2020\n",
      "Training complete!\n",
      "Macro F1:  0.655956\n",
      "\n",
      "https://ui.neptune.ai/Hatespeech-CNERG/MH-Bert/e/SAN-9210\n",
      "Portugese 0.1 32 stratified 2021\n",
      "Training complete!\n",
      "Macro F1:  0.656720\n",
      "\n",
      "https://ui.neptune.ai/Hatespeech-CNERG/MH-Bert/e/SAN-9211\n",
      "Portugese 0.1 32 stratified 2022\n",
      "Training complete!\n",
      "Macro F1:  0.656720\n",
      "\n",
      "https://ui.neptune.ai/Hatespeech-CNERG/MH-Bert/e/SAN-9212\n",
      "Portugese 0.1 64 stratified 2018\n",
      "Training complete!\n",
      "Macro F1:  0.656720\n",
      "\n",
      "https://ui.neptune.ai/Hatespeech-CNERG/MH-Bert/e/SAN-9213\n",
      "Portugese 0.1 64 stratified 2019\n",
      "Training complete!\n",
      "Macro F1:  0.656720\n",
      "\n",
      "https://ui.neptune.ai/Hatespeech-CNERG/MH-Bert/e/SAN-9214\n",
      "Portugese 0.1 64 stratified 2020\n",
      "Training complete!\n",
      "Macro F1:  0.655956\n",
      "\n",
      "https://ui.neptune.ai/Hatespeech-CNERG/MH-Bert/e/SAN-9215\n",
      "Portugese 0.1 64 stratified 2021\n",
      "Training complete!\n",
      "Macro F1:  0.655481\n",
      "\n",
      "https://ui.neptune.ai/Hatespeech-CNERG/MH-Bert/e/SAN-9216\n",
      "Portugese 0.1 64 stratified 2022\n",
      "Training complete!\n",
      "Macro F1:  0.656720\n",
      "\n",
      "https://ui.neptune.ai/Hatespeech-CNERG/MH-Bert/e/SAN-9217\n",
      "Portugese 0.1 128 stratified 2018\n",
      "Training complete!\n",
      "Macro F1:  0.656720\n",
      "\n",
      "https://ui.neptune.ai/Hatespeech-CNERG/MH-Bert/e/SAN-9218\n",
      "Portugese 0.1 128 stratified 2019\n",
      "Training complete!\n",
      "Macro F1:  0.655956\n",
      "\n",
      "https://ui.neptune.ai/Hatespeech-CNERG/MH-Bert/e/SAN-9219\n",
      "Portugese 0.1 128 stratified 2020\n",
      "Training complete!\n",
      "Macro F1:  0.655956\n",
      "\n",
      "https://ui.neptune.ai/Hatespeech-CNERG/MH-Bert/e/SAN-9220\n",
      "Portugese 0.1 128 stratified 2021\n",
      "Training complete!\n",
      "Macro F1:  0.657192\n",
      "\n",
      "https://ui.neptune.ai/Hatespeech-CNERG/MH-Bert/e/SAN-9221\n",
      "Portugese 0.1 128 stratified 2022\n",
      "Training complete!\n",
      "Macro F1:  0.656720\n",
      "\n",
      "https://ui.neptune.ai/Hatespeech-CNERG/MH-Bert/e/SAN-9222\n",
      "Portugese 0.1 256 stratified 2018\n",
      "Training complete!\n",
      "Macro F1:  0.657957\n",
      "\n",
      "https://ui.neptune.ai/Hatespeech-CNERG/MH-Bert/e/SAN-9223\n",
      "Portugese 0.1 256 stratified 2019\n",
      "Training complete!\n",
      "Macro F1:  0.655956\n",
      "\n",
      "https://ui.neptune.ai/Hatespeech-CNERG/MH-Bert/e/SAN-9224\n",
      "Portugese 0.1 256 stratified 2020\n",
      "Training complete!\n",
      "Macro F1:  0.658425\n",
      "\n",
      "https://ui.neptune.ai/Hatespeech-CNERG/MH-Bert/e/SAN-9225\n",
      "Portugese 0.1 256 stratified 2021\n",
      "Training complete!\n",
      "Macro F1:  0.657192\n",
      "\n",
      "https://ui.neptune.ai/Hatespeech-CNERG/MH-Bert/e/SAN-9226\n",
      "Portugese 0.1 256 stratified 2022\n",
      "Training complete!\n",
      "Macro F1:  0.657192\n",
      "\n",
      "https://ui.neptune.ai/Hatespeech-CNERG/MH-Bert/e/SAN-9227\n"
     ]
    },
    {
     "name": "stderr",
     "output_type": "stream",
     "text": [
      "/home/saketh/anaconda3/lib/python3.7/site-packages/sklearn/linear_model/logistic.py:947: ConvergenceWarning: lbfgs failed to converge. Increase the number of iterations.\n",
      "  \"of iterations.\", ConvergenceWarning)\n"
     ]
    },
    {
     "name": "stdout",
     "output_type": "stream",
     "text": [
      "Portugese 1 16 stratified 2018\n",
      "Training complete!\n",
      "Macro F1:  0.652906\n",
      "\n",
      "https://ui.neptune.ai/Hatespeech-CNERG/MH-Bert/e/SAN-9228\n"
     ]
    },
    {
     "name": "stderr",
     "output_type": "stream",
     "text": [
      "/home/saketh/anaconda3/lib/python3.7/site-packages/sklearn/linear_model/logistic.py:947: ConvergenceWarning: lbfgs failed to converge. Increase the number of iterations.\n",
      "  \"of iterations.\", ConvergenceWarning)\n"
     ]
    },
    {
     "name": "stdout",
     "output_type": "stream",
     "text": [
      "Portugese 1 16 stratified 2019\n",
      "Training complete!\n",
      "Macro F1:  0.651672\n",
      "\n",
      "https://ui.neptune.ai/Hatespeech-CNERG/MH-Bert/e/SAN-9229\n"
     ]
    },
    {
     "name": "stderr",
     "output_type": "stream",
     "text": [
      "/home/saketh/anaconda3/lib/python3.7/site-packages/sklearn/linear_model/logistic.py:947: ConvergenceWarning: lbfgs failed to converge. Increase the number of iterations.\n",
      "  \"of iterations.\", ConvergenceWarning)\n"
     ]
    },
    {
     "name": "stdout",
     "output_type": "stream",
     "text": [
      "Portugese 1 16 stratified 2020\n",
      "Training complete!\n",
      "Macro F1:  0.653668\n",
      "\n",
      "https://ui.neptune.ai/Hatespeech-CNERG/MH-Bert/e/SAN-9230\n"
     ]
    },
    {
     "name": "stderr",
     "output_type": "stream",
     "text": [
      "/home/saketh/anaconda3/lib/python3.7/site-packages/sklearn/linear_model/logistic.py:947: ConvergenceWarning: lbfgs failed to converge. Increase the number of iterations.\n",
      "  \"of iterations.\", ConvergenceWarning)\n"
     ]
    },
    {
     "name": "stdout",
     "output_type": "stream",
     "text": [
      "Portugese 1 16 stratified 2021\n",
      "Training complete!\n",
      "Macro F1:  0.652144\n",
      "\n",
      "https://ui.neptune.ai/Hatespeech-CNERG/MH-Bert/e/SAN-9231\n"
     ]
    },
    {
     "name": "stderr",
     "output_type": "stream",
     "text": [
      "/home/saketh/anaconda3/lib/python3.7/site-packages/sklearn/linear_model/logistic.py:947: ConvergenceWarning: lbfgs failed to converge. Increase the number of iterations.\n",
      "  \"of iterations.\", ConvergenceWarning)\n"
     ]
    },
    {
     "name": "stdout",
     "output_type": "stream",
     "text": [
      "Portugese 1 16 stratified 2022\n",
      "Training complete!\n",
      "Macro F1:  0.652906\n",
      "\n",
      "https://ui.neptune.ai/Hatespeech-CNERG/MH-Bert/e/SAN-9232\n"
     ]
    },
    {
     "name": "stderr",
     "output_type": "stream",
     "text": [
      "/home/saketh/anaconda3/lib/python3.7/site-packages/sklearn/linear_model/logistic.py:947: ConvergenceWarning: lbfgs failed to converge. Increase the number of iterations.\n",
      "  \"of iterations.\", ConvergenceWarning)\n"
     ]
    },
    {
     "name": "stdout",
     "output_type": "stream",
     "text": [
      "Portugese 1 32 stratified 2018\n",
      "Training complete!\n",
      "Macro F1:  0.652906\n",
      "\n",
      "https://ui.neptune.ai/Hatespeech-CNERG/MH-Bert/e/SAN-9233\n"
     ]
    },
    {
     "name": "stderr",
     "output_type": "stream",
     "text": [
      "/home/saketh/anaconda3/lib/python3.7/site-packages/sklearn/linear_model/logistic.py:947: ConvergenceWarning: lbfgs failed to converge. Increase the number of iterations.\n",
      "  \"of iterations.\", ConvergenceWarning)\n"
     ]
    },
    {
     "name": "stdout",
     "output_type": "stream",
     "text": [
      "Portugese 1 32 stratified 2019\n",
      "Training complete!\n",
      "Macro F1:  0.651672\n",
      "\n",
      "https://ui.neptune.ai/Hatespeech-CNERG/MH-Bert/e/SAN-9234\n"
     ]
    },
    {
     "name": "stderr",
     "output_type": "stream",
     "text": [
      "/home/saketh/anaconda3/lib/python3.7/site-packages/sklearn/linear_model/logistic.py:947: ConvergenceWarning: lbfgs failed to converge. Increase the number of iterations.\n",
      "  \"of iterations.\", ConvergenceWarning)\n"
     ]
    },
    {
     "name": "stdout",
     "output_type": "stream",
     "text": [
      "Portugese 1 32 stratified 2020\n",
      "Training complete!\n",
      "Macro F1:  0.650911\n",
      "\n",
      "https://ui.neptune.ai/Hatespeech-CNERG/MH-Bert/e/SAN-9235\n"
     ]
    },
    {
     "name": "stderr",
     "output_type": "stream",
     "text": [
      "/home/saketh/anaconda3/lib/python3.7/site-packages/sklearn/linear_model/logistic.py:947: ConvergenceWarning: lbfgs failed to converge. Increase the number of iterations.\n",
      "  \"of iterations.\", ConvergenceWarning)\n"
     ]
    },
    {
     "name": "stdout",
     "output_type": "stream",
     "text": [
      "Portugese 1 32 stratified 2021\n",
      "Training complete!\n",
      "Macro F1:  0.653194\n",
      "\n",
      "https://ui.neptune.ai/Hatespeech-CNERG/MH-Bert/e/SAN-9236\n"
     ]
    },
    {
     "name": "stderr",
     "output_type": "stream",
     "text": [
      "/home/saketh/anaconda3/lib/python3.7/site-packages/sklearn/linear_model/logistic.py:947: ConvergenceWarning: lbfgs failed to converge. Increase the number of iterations.\n",
      "  \"of iterations.\", ConvergenceWarning)\n"
     ]
    },
    {
     "name": "stdout",
     "output_type": "stream",
     "text": [
      "Portugese 1 32 stratified 2022\n",
      "Training complete!\n",
      "Macro F1:  0.654430\n",
      "\n",
      "https://ui.neptune.ai/Hatespeech-CNERG/MH-Bert/e/SAN-9237\n"
     ]
    },
    {
     "name": "stderr",
     "output_type": "stream",
     "text": [
      "/home/saketh/anaconda3/lib/python3.7/site-packages/sklearn/linear_model/logistic.py:947: ConvergenceWarning: lbfgs failed to converge. Increase the number of iterations.\n",
      "  \"of iterations.\", ConvergenceWarning)\n"
     ]
    },
    {
     "name": "stdout",
     "output_type": "stream",
     "text": [
      "Portugese 1 64 stratified 2018\n",
      "Training complete!\n",
      "Macro F1:  0.651672\n",
      "\n",
      "https://ui.neptune.ai/Hatespeech-CNERG/MH-Bert/e/SAN-9238\n"
     ]
    },
    {
     "name": "stderr",
     "output_type": "stream",
     "text": [
      "/home/saketh/anaconda3/lib/python3.7/site-packages/sklearn/linear_model/logistic.py:947: ConvergenceWarning: lbfgs failed to converge. Increase the number of iterations.\n",
      "  \"of iterations.\", ConvergenceWarning)\n"
     ]
    },
    {
     "name": "stdout",
     "output_type": "stream",
     "text": [
      "Portugese 1 64 stratified 2019\n",
      "Training complete!\n",
      "Macro F1:  0.652144\n",
      "\n",
      "https://ui.neptune.ai/Hatespeech-CNERG/MH-Bert/e/SAN-9239\n"
     ]
    },
    {
     "name": "stderr",
     "output_type": "stream",
     "text": [
      "/home/saketh/anaconda3/lib/python3.7/site-packages/sklearn/linear_model/logistic.py:947: ConvergenceWarning: lbfgs failed to converge. Increase the number of iterations.\n",
      "  \"of iterations.\", ConvergenceWarning)\n"
     ]
    },
    {
     "name": "stdout",
     "output_type": "stream",
     "text": [
      "Portugese 1 64 stratified 2020\n",
      "Training complete!\n",
      "Macro F1:  0.653375\n",
      "\n",
      "https://ui.neptune.ai/Hatespeech-CNERG/MH-Bert/e/SAN-9240\n"
     ]
    },
    {
     "name": "stderr",
     "output_type": "stream",
     "text": [
      "/home/saketh/anaconda3/lib/python3.7/site-packages/sklearn/linear_model/logistic.py:947: ConvergenceWarning: lbfgs failed to converge. Increase the number of iterations.\n",
      "  \"of iterations.\", ConvergenceWarning)\n"
     ]
    },
    {
     "name": "stdout",
     "output_type": "stream",
     "text": [
      "Portugese 1 64 stratified 2021\n",
      "Training complete!\n",
      "Macro F1:  0.650911\n",
      "\n",
      "https://ui.neptune.ai/Hatespeech-CNERG/MH-Bert/e/SAN-9241\n"
     ]
    },
    {
     "name": "stderr",
     "output_type": "stream",
     "text": [
      "/home/saketh/anaconda3/lib/python3.7/site-packages/sklearn/linear_model/logistic.py:947: ConvergenceWarning: lbfgs failed to converge. Increase the number of iterations.\n",
      "  \"of iterations.\", ConvergenceWarning)\n"
     ]
    },
    {
     "name": "stdout",
     "output_type": "stream",
     "text": [
      "Portugese 1 64 stratified 2022\n",
      "Training complete!\n",
      "Macro F1:  0.652906\n",
      "\n",
      "https://ui.neptune.ai/Hatespeech-CNERG/MH-Bert/e/SAN-9242\n"
     ]
    },
    {
     "name": "stderr",
     "output_type": "stream",
     "text": [
      "/home/saketh/anaconda3/lib/python3.7/site-packages/sklearn/linear_model/logistic.py:947: ConvergenceWarning: lbfgs failed to converge. Increase the number of iterations.\n",
      "  \"of iterations.\", ConvergenceWarning)\n"
     ]
    },
    {
     "name": "stdout",
     "output_type": "stream",
     "text": [
      "Portugese 1 128 stratified 2018\n",
      "Training complete!\n",
      "Macro F1:  0.650911\n",
      "\n",
      "https://ui.neptune.ai/Hatespeech-CNERG/MH-Bert/e/SAN-9243\n"
     ]
    },
    {
     "name": "stderr",
     "output_type": "stream",
     "text": [
      "/home/saketh/anaconda3/lib/python3.7/site-packages/sklearn/linear_model/logistic.py:947: ConvergenceWarning: lbfgs failed to converge. Increase the number of iterations.\n",
      "  \"of iterations.\", ConvergenceWarning)\n"
     ]
    },
    {
     "name": "stdout",
     "output_type": "stream",
     "text": [
      "Portugese 1 128 stratified 2019\n",
      "Training complete!\n",
      "Macro F1:  0.656896\n",
      "\n",
      "https://ui.neptune.ai/Hatespeech-CNERG/MH-Bert/e/SAN-9244\n"
     ]
    },
    {
     "name": "stderr",
     "output_type": "stream",
     "text": [
      "/home/saketh/anaconda3/lib/python3.7/site-packages/sklearn/linear_model/logistic.py:947: ConvergenceWarning: lbfgs failed to converge. Increase the number of iterations.\n",
      "  \"of iterations.\", ConvergenceWarning)\n"
     ]
    },
    {
     "name": "stdout",
     "output_type": "stream",
     "text": [
      "Portugese 1 128 stratified 2020\n",
      "Training complete!\n",
      "Macro F1:  0.651383\n",
      "\n",
      "https://ui.neptune.ai/Hatespeech-CNERG/MH-Bert/e/SAN-9245\n"
     ]
    },
    {
     "name": "stderr",
     "output_type": "stream",
     "text": [
      "/home/saketh/anaconda3/lib/python3.7/site-packages/sklearn/linear_model/logistic.py:947: ConvergenceWarning: lbfgs failed to converge. Increase the number of iterations.\n",
      "  \"of iterations.\", ConvergenceWarning)\n"
     ]
    },
    {
     "name": "stdout",
     "output_type": "stream",
     "text": [
      "Portugese 1 128 stratified 2021\n",
      "Training complete!\n",
      "Macro F1:  0.653375\n",
      "\n",
      "https://ui.neptune.ai/Hatespeech-CNERG/MH-Bert/e/SAN-9246\n"
     ]
    },
    {
     "name": "stderr",
     "output_type": "stream",
     "text": [
      "/home/saketh/anaconda3/lib/python3.7/site-packages/sklearn/linear_model/logistic.py:947: ConvergenceWarning: lbfgs failed to converge. Increase the number of iterations.\n",
      "  \"of iterations.\", ConvergenceWarning)\n"
     ]
    },
    {
     "name": "stdout",
     "output_type": "stream",
     "text": [
      "Portugese 1 128 stratified 2022\n",
      "Training complete!\n",
      "Macro F1:  0.654138\n",
      "\n",
      "https://ui.neptune.ai/Hatespeech-CNERG/MH-Bert/e/SAN-9247\n"
     ]
    },
    {
     "name": "stderr",
     "output_type": "stream",
     "text": [
      "/home/saketh/anaconda3/lib/python3.7/site-packages/sklearn/linear_model/logistic.py:947: ConvergenceWarning: lbfgs failed to converge. Increase the number of iterations.\n",
      "  \"of iterations.\", ConvergenceWarning)\n"
     ]
    },
    {
     "name": "stdout",
     "output_type": "stream",
     "text": [
      "Portugese 1 256 stratified 2018\n",
      "Training complete!\n",
      "Macro F1:  0.652144\n",
      "\n",
      "https://ui.neptune.ai/Hatespeech-CNERG/MH-Bert/e/SAN-9248\n"
     ]
    },
    {
     "name": "stderr",
     "output_type": "stream",
     "text": [
      "/home/saketh/anaconda3/lib/python3.7/site-packages/sklearn/linear_model/logistic.py:947: ConvergenceWarning: lbfgs failed to converge. Increase the number of iterations.\n",
      "  \"of iterations.\", ConvergenceWarning)\n"
     ]
    },
    {
     "name": "stdout",
     "output_type": "stream",
     "text": [
      "Portugese 1 256 stratified 2019\n",
      "Training complete!\n",
      "Macro F1:  0.649391\n",
      "\n",
      "https://ui.neptune.ai/Hatespeech-CNERG/MH-Bert/e/SAN-9249\n"
     ]
    },
    {
     "name": "stderr",
     "output_type": "stream",
     "text": [
      "/home/saketh/anaconda3/lib/python3.7/site-packages/sklearn/linear_model/logistic.py:947: ConvergenceWarning: lbfgs failed to converge. Increase the number of iterations.\n",
      "  \"of iterations.\", ConvergenceWarning)\n"
     ]
    },
    {
     "name": "stdout",
     "output_type": "stream",
     "text": [
      "Portugese 1 256 stratified 2020\n",
      "Training complete!\n",
      "Macro F1:  0.651091\n",
      "\n",
      "https://ui.neptune.ai/Hatespeech-CNERG/MH-Bert/e/SAN-9250\n"
     ]
    },
    {
     "name": "stderr",
     "output_type": "stream",
     "text": [
      "/home/saketh/anaconda3/lib/python3.7/site-packages/sklearn/linear_model/logistic.py:947: ConvergenceWarning: lbfgs failed to converge. Increase the number of iterations.\n",
      "  \"of iterations.\", ConvergenceWarning)\n"
     ]
    },
    {
     "name": "stdout",
     "output_type": "stream",
     "text": [
      "Portugese 1 256 stratified 2021\n",
      "Training complete!\n",
      "Macro F1:  0.650151\n",
      "\n",
      "https://ui.neptune.ai/Hatespeech-CNERG/MH-Bert/e/SAN-9251\n"
     ]
    },
    {
     "name": "stderr",
     "output_type": "stream",
     "text": [
      "/home/saketh/anaconda3/lib/python3.7/site-packages/sklearn/linear_model/logistic.py:947: ConvergenceWarning: lbfgs failed to converge. Increase the number of iterations.\n",
      "  \"of iterations.\", ConvergenceWarning)\n"
     ]
    },
    {
     "name": "stdout",
     "output_type": "stream",
     "text": [
      "Portugese 1 256 stratified 2022\n",
      "Training complete!\n",
      "Macro F1:  0.650623\n",
      "\n",
      "https://ui.neptune.ai/Hatespeech-CNERG/MH-Bert/e/SAN-9252\n"
     ]
    },
    {
     "name": "stderr",
     "output_type": "stream",
     "text": [
      "/home/saketh/anaconda3/lib/python3.7/site-packages/sklearn/linear_model/logistic.py:947: ConvergenceWarning: lbfgs failed to converge. Increase the number of iterations.\n",
      "  \"of iterations.\", ConvergenceWarning)\n"
     ]
    },
    {
     "name": "stdout",
     "output_type": "stream",
     "text": [
      "Portugese 10 16 stratified 2018\n",
      "Training complete!\n",
      "Macro F1:  0.646825\n",
      "\n",
      "https://ui.neptune.ai/Hatespeech-CNERG/MH-Bert/e/SAN-9253\n"
     ]
    },
    {
     "name": "stderr",
     "output_type": "stream",
     "text": [
      "/home/saketh/anaconda3/lib/python3.7/site-packages/sklearn/linear_model/logistic.py:947: ConvergenceWarning: lbfgs failed to converge. Increase the number of iterations.\n",
      "  \"of iterations.\", ConvergenceWarning)\n"
     ]
    },
    {
     "name": "stdout",
     "output_type": "stream",
     "text": [
      "Portugese 10 16 stratified 2019\n",
      "Training complete!\n",
      "Macro F1:  0.650151\n",
      "\n",
      "https://ui.neptune.ai/Hatespeech-CNERG/MH-Bert/e/SAN-9254\n"
     ]
    },
    {
     "name": "stderr",
     "output_type": "stream",
     "text": [
      "/home/saketh/anaconda3/lib/python3.7/site-packages/sklearn/linear_model/logistic.py:947: ConvergenceWarning: lbfgs failed to converge. Increase the number of iterations.\n",
      "  \"of iterations.\", ConvergenceWarning)\n"
     ]
    },
    {
     "name": "stdout",
     "output_type": "stream",
     "text": [
      "Portugese 10 16 stratified 2020\n",
      "Training complete!\n",
      "Macro F1:  0.645884\n",
      "\n",
      "https://ui.neptune.ai/Hatespeech-CNERG/MH-Bert/e/SAN-9255\n"
     ]
    },
    {
     "name": "stderr",
     "output_type": "stream",
     "text": [
      "/home/saketh/anaconda3/lib/python3.7/site-packages/sklearn/linear_model/logistic.py:947: ConvergenceWarning: lbfgs failed to converge. Increase the number of iterations.\n",
      "  \"of iterations.\", ConvergenceWarning)\n"
     ]
    },
    {
     "name": "stdout",
     "output_type": "stream",
     "text": [
      "Portugese 10 16 stratified 2021\n",
      "Training complete!\n",
      "Macro F1:  0.643200\n",
      "\n",
      "https://ui.neptune.ai/Hatespeech-CNERG/MH-Bert/e/SAN-9256\n"
     ]
    },
    {
     "name": "stderr",
     "output_type": "stream",
     "text": [
      "/home/saketh/anaconda3/lib/python3.7/site-packages/sklearn/linear_model/logistic.py:947: ConvergenceWarning: lbfgs failed to converge. Increase the number of iterations.\n",
      "  \"of iterations.\", ConvergenceWarning)\n"
     ]
    },
    {
     "name": "stdout",
     "output_type": "stream",
     "text": [
      "Portugese 10 16 stratified 2022\n",
      "Training complete!\n",
      "Macro F1:  0.646067\n",
      "\n",
      "https://ui.neptune.ai/Hatespeech-CNERG/MH-Bert/e/SAN-9257\n"
     ]
    },
    {
     "name": "stderr",
     "output_type": "stream",
     "text": [
      "/home/saketh/anaconda3/lib/python3.7/site-packages/sklearn/linear_model/logistic.py:947: ConvergenceWarning: lbfgs failed to converge. Increase the number of iterations.\n",
      "  \"of iterations.\", ConvergenceWarning)\n"
     ]
    },
    {
     "name": "stdout",
     "output_type": "stream",
     "text": [
      "Portugese 10 32 stratified 2018\n",
      "Training complete!\n",
      "Macro F1:  0.647679\n",
      "\n",
      "https://ui.neptune.ai/Hatespeech-CNERG/MH-Bert/e/SAN-9259\n"
     ]
    },
    {
     "name": "stderr",
     "output_type": "stream",
     "text": [
      "/home/saketh/anaconda3/lib/python3.7/site-packages/sklearn/linear_model/logistic.py:947: ConvergenceWarning: lbfgs failed to converge. Increase the number of iterations.\n",
      "  \"of iterations.\", ConvergenceWarning)\n"
     ]
    },
    {
     "name": "stdout",
     "output_type": "stream",
     "text": [
      "Portugese 10 32 stratified 2019\n",
      "Training complete!\n",
      "Macro F1:  0.646825\n",
      "\n",
      "https://ui.neptune.ai/Hatespeech-CNERG/MH-Bert/e/SAN-9260\n"
     ]
    },
    {
     "name": "stderr",
     "output_type": "stream",
     "text": [
      "/home/saketh/anaconda3/lib/python3.7/site-packages/sklearn/linear_model/logistic.py:947: ConvergenceWarning: lbfgs failed to converge. Increase the number of iterations.\n",
      "  \"of iterations.\", ConvergenceWarning)\n"
     ]
    },
    {
     "name": "stdout",
     "output_type": "stream",
     "text": [
      "Portugese 10 32 stratified 2020\n",
      "Training complete!\n",
      "Macro F1:  0.649570\n",
      "\n",
      "https://ui.neptune.ai/Hatespeech-CNERG/MH-Bert/e/SAN-9261\n"
     ]
    },
    {
     "name": "stderr",
     "output_type": "stream",
     "text": [
      "/home/saketh/anaconda3/lib/python3.7/site-packages/sklearn/linear_model/logistic.py:947: ConvergenceWarning: lbfgs failed to converge. Increase the number of iterations.\n",
      "  \"of iterations.\", ConvergenceWarning)\n"
     ]
    },
    {
     "name": "stdout",
     "output_type": "stream",
     "text": [
      "Portugese 10 32 stratified 2021\n",
      "Training complete!\n",
      "Macro F1:  0.649676\n",
      "\n",
      "https://ui.neptune.ai/Hatespeech-CNERG/MH-Bert/e/SAN-9262\n"
     ]
    },
    {
     "name": "stderr",
     "output_type": "stream",
     "text": [
      "/home/saketh/anaconda3/lib/python3.7/site-packages/sklearn/linear_model/logistic.py:947: ConvergenceWarning: lbfgs failed to converge. Increase the number of iterations.\n",
      "  \"of iterations.\", ConvergenceWarning)\n"
     ]
    },
    {
     "name": "stdout",
     "output_type": "stream",
     "text": [
      "Portugese 10 32 stratified 2022\n",
      "Training complete!\n",
      "Macro F1:  0.647873\n",
      "\n",
      "https://ui.neptune.ai/Hatespeech-CNERG/MH-Bert/e/SAN-9263\n"
     ]
    },
    {
     "name": "stderr",
     "output_type": "stream",
     "text": [
      "/home/saketh/anaconda3/lib/python3.7/site-packages/sklearn/linear_model/logistic.py:947: ConvergenceWarning: lbfgs failed to converge. Increase the number of iterations.\n",
      "  \"of iterations.\", ConvergenceWarning)\n"
     ]
    },
    {
     "name": "stdout",
     "output_type": "stream",
     "text": [
      "Portugese 10 64 stratified 2018\n",
      "Training complete!\n",
      "Macro F1:  0.648916\n",
      "\n",
      "https://ui.neptune.ai/Hatespeech-CNERG/MH-Bert/e/SAN-9264\n"
     ]
    },
    {
     "name": "stderr",
     "output_type": "stream",
     "text": [
      "/home/saketh/anaconda3/lib/python3.7/site-packages/sklearn/linear_model/logistic.py:947: ConvergenceWarning: lbfgs failed to converge. Increase the number of iterations.\n",
      "  \"of iterations.\", ConvergenceWarning)\n"
     ]
    },
    {
     "name": "stdout",
     "output_type": "stream",
     "text": [
      "Portugese 10 64 stratified 2019\n",
      "Training complete!\n",
      "Macro F1:  0.652317\n",
      "\n",
      "https://ui.neptune.ai/Hatespeech-CNERG/MH-Bert/e/SAN-9265\n"
     ]
    },
    {
     "name": "stderr",
     "output_type": "stream",
     "text": [
      "/home/saketh/anaconda3/lib/python3.7/site-packages/sklearn/linear_model/logistic.py:947: ConvergenceWarning: lbfgs failed to converge. Increase the number of iterations.\n",
      "  \"of iterations.\", ConvergenceWarning)\n"
     ]
    },
    {
     "name": "stdout",
     "output_type": "stream",
     "text": [
      "Portugese 10 64 stratified 2020\n",
      "Training complete!\n",
      "Macro F1:  0.649862\n",
      "\n",
      "https://ui.neptune.ai/Hatespeech-CNERG/MH-Bert/e/SAN-9266\n"
     ]
    },
    {
     "name": "stderr",
     "output_type": "stream",
     "text": [
      "/home/saketh/anaconda3/lib/python3.7/site-packages/sklearn/linear_model/logistic.py:947: ConvergenceWarning: lbfgs failed to converge. Increase the number of iterations.\n",
      "  \"of iterations.\", ConvergenceWarning)\n"
     ]
    },
    {
     "name": "stdout",
     "output_type": "stream",
     "text": [
      "Portugese 10 64 stratified 2021\n",
      "Training complete!\n",
      "Macro F1:  0.648343\n",
      "\n",
      "https://ui.neptune.ai/Hatespeech-CNERG/MH-Bert/e/SAN-9267\n"
     ]
    },
    {
     "name": "stderr",
     "output_type": "stream",
     "text": [
      "/home/saketh/anaconda3/lib/python3.7/site-packages/sklearn/linear_model/logistic.py:947: ConvergenceWarning: lbfgs failed to converge. Increase the number of iterations.\n",
      "  \"of iterations.\", ConvergenceWarning)\n"
     ]
    },
    {
     "name": "stdout",
     "output_type": "stream",
     "text": [
      "Portugese 10 64 stratified 2022\n",
      "Training complete!\n",
      "Macro F1:  0.646641\n",
      "\n",
      "https://ui.neptune.ai/Hatespeech-CNERG/MH-Bert/e/SAN-9268\n"
     ]
    },
    {
     "name": "stderr",
     "output_type": "stream",
     "text": [
      "/home/saketh/anaconda3/lib/python3.7/site-packages/sklearn/linear_model/logistic.py:947: ConvergenceWarning: lbfgs failed to converge. Increase the number of iterations.\n",
      "  \"of iterations.\", ConvergenceWarning)\n"
     ]
    },
    {
     "name": "stdout",
     "output_type": "stream",
     "text": [
      "Portugese 10 128 stratified 2018\n",
      "Training complete!\n",
      "Macro F1:  0.649676\n",
      "\n",
      "https://ui.neptune.ai/Hatespeech-CNERG/MH-Bert/e/SAN-9269\n"
     ]
    },
    {
     "name": "stderr",
     "output_type": "stream",
     "text": [
      "/home/saketh/anaconda3/lib/python3.7/site-packages/sklearn/linear_model/logistic.py:947: ConvergenceWarning: lbfgs failed to converge. Increase the number of iterations.\n",
      "  \"of iterations.\", ConvergenceWarning)\n"
     ]
    },
    {
     "name": "stdout",
     "output_type": "stream",
     "text": [
      "Portugese 10 128 stratified 2019\n",
      "Training complete!\n",
      "Macro F1:  0.648632\n",
      "\n",
      "https://ui.neptune.ai/Hatespeech-CNERG/MH-Bert/e/SAN-9270\n"
     ]
    },
    {
     "name": "stderr",
     "output_type": "stream",
     "text": [
      "/home/saketh/anaconda3/lib/python3.7/site-packages/sklearn/linear_model/logistic.py:947: ConvergenceWarning: lbfgs failed to converge. Increase the number of iterations.\n",
      "  \"of iterations.\", ConvergenceWarning)\n"
     ]
    },
    {
     "name": "stdout",
     "output_type": "stream",
     "text": [
      "Portugese 10 128 stratified 2020\n",
      "Training complete!\n",
      "Macro F1:  0.652906\n",
      "\n",
      "https://ui.neptune.ai/Hatespeech-CNERG/MH-Bert/e/SAN-9271\n"
     ]
    },
    {
     "name": "stderr",
     "output_type": "stream",
     "text": [
      "/home/saketh/anaconda3/lib/python3.7/site-packages/sklearn/linear_model/logistic.py:947: ConvergenceWarning: lbfgs failed to converge. Increase the number of iterations.\n",
      "  \"of iterations.\", ConvergenceWarning)\n"
     ]
    },
    {
     "name": "stdout",
     "output_type": "stream",
     "text": [
      "Portugese 10 128 stratified 2021\n",
      "Training complete!\n",
      "Macro F1:  0.648512\n",
      "\n",
      "https://ui.neptune.ai/Hatespeech-CNERG/MH-Bert/e/SAN-9272\n"
     ]
    },
    {
     "name": "stderr",
     "output_type": "stream",
     "text": [
      "/home/saketh/anaconda3/lib/python3.7/site-packages/sklearn/linear_model/logistic.py:947: ConvergenceWarning: lbfgs failed to converge. Increase the number of iterations.\n",
      "  \"of iterations.\", ConvergenceWarning)\n"
     ]
    },
    {
     "name": "stdout",
     "output_type": "stream",
     "text": [
      "Portugese 10 128 stratified 2022\n",
      "Training complete!\n",
      "Macro F1:  0.649472\n",
      "\n",
      "https://ui.neptune.ai/Hatespeech-CNERG/MH-Bert/e/SAN-9273\n"
     ]
    },
    {
     "name": "stderr",
     "output_type": "stream",
     "text": [
      "/home/saketh/anaconda3/lib/python3.7/site-packages/sklearn/linear_model/logistic.py:947: ConvergenceWarning: lbfgs failed to converge. Increase the number of iterations.\n",
      "  \"of iterations.\", ConvergenceWarning)\n"
     ]
    },
    {
     "name": "stdout",
     "output_type": "stream",
     "text": [
      "Portugese 10 256 stratified 2018\n",
      "Training complete!\n",
      "Macro F1:  0.649272\n",
      "\n",
      "https://ui.neptune.ai/Hatespeech-CNERG/MH-Bert/e/SAN-9274\n"
     ]
    },
    {
     "name": "stderr",
     "output_type": "stream",
     "text": [
      "/home/saketh/anaconda3/lib/python3.7/site-packages/sklearn/linear_model/logistic.py:947: ConvergenceWarning: lbfgs failed to converge. Increase the number of iterations.\n",
      "  \"of iterations.\", ConvergenceWarning)\n"
     ]
    },
    {
     "name": "stdout",
     "output_type": "stream",
     "text": [
      "Portugese 10 256 stratified 2019\n",
      "Training complete!\n",
      "Macro F1:  0.647450\n",
      "\n",
      "https://ui.neptune.ai/Hatespeech-CNERG/MH-Bert/e/SAN-9275\n"
     ]
    },
    {
     "name": "stderr",
     "output_type": "stream",
     "text": [
      "/home/saketh/anaconda3/lib/python3.7/site-packages/sklearn/linear_model/logistic.py:947: ConvergenceWarning: lbfgs failed to converge. Increase the number of iterations.\n",
      "  \"of iterations.\", ConvergenceWarning)\n"
     ]
    },
    {
     "name": "stdout",
     "output_type": "stream",
     "text": [
      "Portugese 10 256 stratified 2020\n",
      "Training complete!\n",
      "Macro F1:  0.652163\n",
      "\n",
      "https://ui.neptune.ai/Hatespeech-CNERG/MH-Bert/e/SAN-9276\n"
     ]
    },
    {
     "name": "stderr",
     "output_type": "stream",
     "text": [
      "/home/saketh/anaconda3/lib/python3.7/site-packages/sklearn/linear_model/logistic.py:947: ConvergenceWarning: lbfgs failed to converge. Increase the number of iterations.\n",
      "  \"of iterations.\", ConvergenceWarning)\n"
     ]
    },
    {
     "name": "stdout",
     "output_type": "stream",
     "text": [
      "Portugese 10 256 stratified 2021\n",
      "Training complete!\n",
      "Macro F1:  0.653998\n",
      "\n",
      "https://ui.neptune.ai/Hatespeech-CNERG/MH-Bert/e/SAN-9277\n"
     ]
    },
    {
     "name": "stderr",
     "output_type": "stream",
     "text": [
      "/home/saketh/anaconda3/lib/python3.7/site-packages/sklearn/linear_model/logistic.py:947: ConvergenceWarning: lbfgs failed to converge. Increase the number of iterations.\n",
      "  \"of iterations.\", ConvergenceWarning)\n"
     ]
    },
    {
     "name": "stdout",
     "output_type": "stream",
     "text": [
      "Portugese 10 256 stratified 2022\n",
      "Training complete!\n",
      "Macro F1:  0.650794\n",
      "\n",
      "https://ui.neptune.ai/Hatespeech-CNERG/MH-Bert/e/SAN-9278\n",
      "Spanish 0.01 16 stratified 2018\n",
      "Training complete!\n",
      "Macro F1:  0.518228\n",
      "\n",
      "https://ui.neptune.ai/Hatespeech-CNERG/MH-Bert/e/SAN-9279\n",
      "Spanish 0.01 16 stratified 2019\n",
      "Training complete!\n",
      "Macro F1:  0.517784\n",
      "\n",
      "https://ui.neptune.ai/Hatespeech-CNERG/MH-Bert/e/SAN-9280\n",
      "Spanish 0.01 16 stratified 2020\n",
      "Training complete!\n",
      "Macro F1:  0.517784\n",
      "\n",
      "https://ui.neptune.ai/Hatespeech-CNERG/MH-Bert/e/SAN-9281\n",
      "Spanish 0.01 16 stratified 2021\n",
      "Training complete!\n",
      "Macro F1:  0.518228\n",
      "\n",
      "https://ui.neptune.ai/Hatespeech-CNERG/MH-Bert/e/SAN-9282\n",
      "Spanish 0.01 16 stratified 2022\n",
      "Training complete!\n",
      "Macro F1:  0.517784\n",
      "\n",
      "https://ui.neptune.ai/Hatespeech-CNERG/MH-Bert/e/SAN-9283\n",
      "Spanish 0.01 32 stratified 2018\n",
      "Training complete!\n",
      "Macro F1:  0.517784\n",
      "\n",
      "https://ui.neptune.ai/Hatespeech-CNERG/MH-Bert/e/SAN-9284\n",
      "Spanish 0.01 32 stratified 2019\n",
      "Training complete!\n",
      "Macro F1:  0.517784\n",
      "\n",
      "https://ui.neptune.ai/Hatespeech-CNERG/MH-Bert/e/SAN-9285\n",
      "Spanish 0.01 32 stratified 2020\n",
      "Training complete!\n",
      "Macro F1:  0.518671\n",
      "\n",
      "https://ui.neptune.ai/Hatespeech-CNERG/MH-Bert/e/SAN-9286\n",
      "Spanish 0.01 32 stratified 2021\n",
      "Training complete!\n",
      "Macro F1:  0.517784\n",
      "\n",
      "https://ui.neptune.ai/Hatespeech-CNERG/MH-Bert/e/SAN-9287\n",
      "Spanish 0.01 32 stratified 2022\n",
      "Training complete!\n",
      "Macro F1:  0.517784\n",
      "\n",
      "https://ui.neptune.ai/Hatespeech-CNERG/MH-Bert/e/SAN-9288\n",
      "Spanish 0.01 64 stratified 2018\n",
      "Training complete!\n",
      "Macro F1:  0.517784\n",
      "\n",
      "https://ui.neptune.ai/Hatespeech-CNERG/MH-Bert/e/SAN-9289\n",
      "Spanish 0.01 64 stratified 2019\n",
      "Training complete!\n",
      "Macro F1:  0.518228\n",
      "\n",
      "https://ui.neptune.ai/Hatespeech-CNERG/MH-Bert/e/SAN-9290\n",
      "Spanish 0.01 64 stratified 2020\n",
      "Training complete!\n",
      "Macro F1:  0.519114\n",
      "\n",
      "https://ui.neptune.ai/Hatespeech-CNERG/MH-Bert/e/SAN-9291\n",
      "Spanish 0.01 64 stratified 2021\n",
      "Training complete!\n",
      "Macro F1:  0.517784\n",
      "\n",
      "https://ui.neptune.ai/Hatespeech-CNERG/MH-Bert/e/SAN-9292\n",
      "Spanish 0.01 64 stratified 2022\n",
      "Training complete!\n",
      "Macro F1:  0.518228\n",
      "\n",
      "https://ui.neptune.ai/Hatespeech-CNERG/MH-Bert/e/SAN-9293\n",
      "Spanish 0.01 128 stratified 2018\n",
      "Training complete!\n",
      "Macro F1:  0.517784\n",
      "\n",
      "https://ui.neptune.ai/Hatespeech-CNERG/MH-Bert/e/SAN-9294\n",
      "Spanish 0.01 128 stratified 2019\n",
      "Training complete!\n",
      "Macro F1:  0.518664\n",
      "\n",
      "https://ui.neptune.ai/Hatespeech-CNERG/MH-Bert/e/SAN-9295\n",
      "Spanish 0.01 128 stratified 2020\n",
      "Training complete!\n",
      "Macro F1:  0.519114\n",
      "\n",
      "https://ui.neptune.ai/Hatespeech-CNERG/MH-Bert/e/SAN-9296\n",
      "Spanish 0.01 128 stratified 2021\n",
      "Training complete!\n",
      "Macro F1:  0.517784\n",
      "\n",
      "https://ui.neptune.ai/Hatespeech-CNERG/MH-Bert/e/SAN-9297\n",
      "Spanish 0.01 128 stratified 2022\n",
      "Training complete!\n",
      "Macro F1:  0.518671\n",
      "\n",
      "https://ui.neptune.ai/Hatespeech-CNERG/MH-Bert/e/SAN-9298\n",
      "Spanish 0.01 256 stratified 2018\n",
      "Training complete!\n",
      "Macro F1:  0.519100\n",
      "\n",
      "https://ui.neptune.ai/Hatespeech-CNERG/MH-Bert/e/SAN-9299\n",
      "Spanish 0.01 256 stratified 2019\n",
      "Training complete!\n",
      "Macro F1:  0.518221\n",
      "\n",
      "https://ui.neptune.ai/Hatespeech-CNERG/MH-Bert/e/SAN-9300\n",
      "Spanish 0.01 256 stratified 2020\n",
      "Training complete!\n",
      "Macro F1:  0.518671\n",
      "\n",
      "https://ui.neptune.ai/Hatespeech-CNERG/MH-Bert/e/SAN-9301\n",
      "Spanish 0.01 256 stratified 2021\n",
      "Training complete!\n",
      "Macro F1:  0.518221\n",
      "\n",
      "https://ui.neptune.ai/Hatespeech-CNERG/MH-Bert/e/SAN-9302\n",
      "Spanish 0.01 256 stratified 2022\n",
      "Training complete!\n",
      "Macro F1:  0.518671\n",
      "\n",
      "https://ui.neptune.ai/Hatespeech-CNERG/MH-Bert/e/SAN-9303\n",
      "Spanish 0.1 16 stratified 2018\n",
      "Training complete!\n",
      "Macro F1:  0.544204\n",
      "\n",
      "https://ui.neptune.ai/Hatespeech-CNERG/MH-Bert/e/SAN-9304\n",
      "Spanish 0.1 16 stratified 2019\n",
      "Training complete!\n",
      "Macro F1:  0.544646\n",
      "\n",
      "https://ui.neptune.ai/Hatespeech-CNERG/MH-Bert/e/SAN-9305\n",
      "Spanish 0.1 16 stratified 2020\n",
      "Training complete!\n",
      "Macro F1:  0.543762\n",
      "\n",
      "https://ui.neptune.ai/Hatespeech-CNERG/MH-Bert/e/SAN-9306\n",
      "Spanish 0.1 16 stratified 2021\n",
      "Training complete!\n",
      "Macro F1:  0.543324\n",
      "\n",
      "https://ui.neptune.ai/Hatespeech-CNERG/MH-Bert/e/SAN-9307\n",
      "Spanish 0.1 16 stratified 2022\n",
      "Training complete!\n",
      "Macro F1:  0.544204\n",
      "\n",
      "https://ui.neptune.ai/Hatespeech-CNERG/MH-Bert/e/SAN-9308\n",
      "Spanish 0.1 32 stratified 2018\n",
      "Training complete!\n",
      "Macro F1:  0.544204\n",
      "\n",
      "https://ui.neptune.ai/Hatespeech-CNERG/MH-Bert/e/SAN-9309\n",
      "Spanish 0.1 32 stratified 2019\n",
      "Training complete!\n",
      "Macro F1:  0.544646\n",
      "\n",
      "https://ui.neptune.ai/Hatespeech-CNERG/MH-Bert/e/SAN-9310\n",
      "Spanish 0.1 32 stratified 2020\n",
      "Training complete!\n",
      "Macro F1:  0.543762\n",
      "\n",
      "https://ui.neptune.ai/Hatespeech-CNERG/MH-Bert/e/SAN-9311\n",
      "Spanish 0.1 32 stratified 2021\n",
      "Training complete!\n",
      "Macro F1:  0.543762\n",
      "\n",
      "https://ui.neptune.ai/Hatespeech-CNERG/MH-Bert/e/SAN-9312\n",
      "Spanish 0.1 32 stratified 2022\n",
      "Training complete!\n",
      "Macro F1:  0.543762\n",
      "\n",
      "https://ui.neptune.ai/Hatespeech-CNERG/MH-Bert/e/SAN-9313\n",
      "Spanish 0.1 64 stratified 2018\n",
      "Training complete!\n",
      "Macro F1:  0.544204\n",
      "\n",
      "https://ui.neptune.ai/Hatespeech-CNERG/MH-Bert/e/SAN-9314\n",
      "Spanish 0.1 64 stratified 2019\n",
      "Training complete!\n",
      "Macro F1:  0.544646\n",
      "\n",
      "https://ui.neptune.ai/Hatespeech-CNERG/MH-Bert/e/SAN-9315\n",
      "Spanish 0.1 64 stratified 2020\n",
      "Training complete!\n",
      "Macro F1:  0.544204\n",
      "\n",
      "https://ui.neptune.ai/Hatespeech-CNERG/MH-Bert/e/SAN-9316\n",
      "Spanish 0.1 64 stratified 2021\n",
      "Training complete!\n",
      "Macro F1:  0.544204\n",
      "\n",
      "https://ui.neptune.ai/Hatespeech-CNERG/MH-Bert/e/SAN-9317\n",
      "Spanish 0.1 64 stratified 2022\n",
      "Training complete!\n",
      "Macro F1:  0.543762\n",
      "\n",
      "https://ui.neptune.ai/Hatespeech-CNERG/MH-Bert/e/SAN-9318\n",
      "Spanish 0.1 128 stratified 2018\n",
      "Training complete!\n",
      "Macro F1:  0.544646\n",
      "\n",
      "https://ui.neptune.ai/Hatespeech-CNERG/MH-Bert/e/SAN-9319\n",
      "Spanish 0.1 128 stratified 2019\n",
      "Training complete!\n",
      "Macro F1:  0.544649\n",
      "\n",
      "https://ui.neptune.ai/Hatespeech-CNERG/MH-Bert/e/SAN-9320\n",
      "Spanish 0.1 128 stratified 2020\n",
      "Training complete!\n",
      "Macro F1:  0.544204\n",
      "\n",
      "https://ui.neptune.ai/Hatespeech-CNERG/MH-Bert/e/SAN-9321\n",
      "Spanish 0.1 128 stratified 2021\n",
      "Training complete!\n",
      "Macro F1:  0.545529\n",
      "\n",
      "https://ui.neptune.ai/Hatespeech-CNERG/MH-Bert/e/SAN-9322\n",
      "Spanish 0.1 128 stratified 2022\n",
      "Training complete!\n",
      "Macro F1:  0.543762\n",
      "\n",
      "https://ui.neptune.ai/Hatespeech-CNERG/MH-Bert/e/SAN-9323\n",
      "Spanish 0.1 256 stratified 2018\n",
      "Training complete!\n",
      "Macro F1:  0.545087\n",
      "\n",
      "https://ui.neptune.ai/Hatespeech-CNERG/MH-Bert/e/SAN-9324\n",
      "Spanish 0.1 256 stratified 2019\n",
      "Training complete!\n",
      "Macro F1:  0.544204\n",
      "\n",
      "https://ui.neptune.ai/Hatespeech-CNERG/MH-Bert/e/SAN-9325\n",
      "Spanish 0.1 256 stratified 2020\n",
      "Training complete!\n",
      "Macro F1:  0.544642\n",
      "\n",
      "https://ui.neptune.ai/Hatespeech-CNERG/MH-Bert/e/SAN-9326\n",
      "Spanish 0.1 256 stratified 2021\n",
      "Training complete!\n",
      "Macro F1:  0.545529\n",
      "\n",
      "https://ui.neptune.ai/Hatespeech-CNERG/MH-Bert/e/SAN-9327\n",
      "Spanish 0.1 256 stratified 2022\n",
      "Training complete!\n",
      "Macro F1:  0.545084\n",
      "\n",
      "https://ui.neptune.ai/Hatespeech-CNERG/MH-Bert/e/SAN-9328\n"
     ]
    },
    {
     "name": "stderr",
     "output_type": "stream",
     "text": [
      "/home/saketh/anaconda3/lib/python3.7/site-packages/sklearn/linear_model/logistic.py:947: ConvergenceWarning: lbfgs failed to converge. Increase the number of iterations.\n",
      "  \"of iterations.\", ConvergenceWarning)\n"
     ]
    },
    {
     "name": "stdout",
     "output_type": "stream",
     "text": [
      "Spanish 1 16 stratified 2018\n",
      "Training complete!\n",
      "Macro F1:  0.535764\n",
      "\n",
      "https://ui.neptune.ai/Hatespeech-CNERG/MH-Bert/e/SAN-9329\n"
     ]
    },
    {
     "name": "stderr",
     "output_type": "stream",
     "text": [
      "/home/saketh/anaconda3/lib/python3.7/site-packages/sklearn/linear_model/logistic.py:947: ConvergenceWarning: lbfgs failed to converge. Increase the number of iterations.\n",
      "  \"of iterations.\", ConvergenceWarning)\n"
     ]
    },
    {
     "name": "stdout",
     "output_type": "stream",
     "text": [
      "Spanish 1 16 stratified 2019\n",
      "Training complete!\n",
      "Macro F1:  0.538850\n",
      "\n",
      "https://ui.neptune.ai/Hatespeech-CNERG/MH-Bert/e/SAN-9330\n"
     ]
    },
    {
     "name": "stderr",
     "output_type": "stream",
     "text": [
      "/home/saketh/anaconda3/lib/python3.7/site-packages/sklearn/linear_model/logistic.py:947: ConvergenceWarning: lbfgs failed to converge. Increase the number of iterations.\n",
      "  \"of iterations.\", ConvergenceWarning)\n"
     ]
    },
    {
     "name": "stdout",
     "output_type": "stream",
     "text": [
      "Spanish 1 16 stratified 2020\n",
      "Training complete!\n",
      "Macro F1:  0.537512\n",
      "\n",
      "https://ui.neptune.ai/Hatespeech-CNERG/MH-Bert/e/SAN-9331\n"
     ]
    },
    {
     "name": "stderr",
     "output_type": "stream",
     "text": [
      "/home/saketh/anaconda3/lib/python3.7/site-packages/sklearn/linear_model/logistic.py:947: ConvergenceWarning: lbfgs failed to converge. Increase the number of iterations.\n",
      "  \"of iterations.\", ConvergenceWarning)\n"
     ]
    },
    {
     "name": "stdout",
     "output_type": "stream",
     "text": [
      "Spanish 1 16 stratified 2021\n",
      "Training complete!\n",
      "Macro F1:  0.537990\n",
      "\n",
      "https://ui.neptune.ai/Hatespeech-CNERG/MH-Bert/e/SAN-9332\n"
     ]
    },
    {
     "name": "stderr",
     "output_type": "stream",
     "text": [
      "/home/saketh/anaconda3/lib/python3.7/site-packages/sklearn/linear_model/logistic.py:947: ConvergenceWarning: lbfgs failed to converge. Increase the number of iterations.\n",
      "  \"of iterations.\", ConvergenceWarning)\n"
     ]
    },
    {
     "name": "stdout",
     "output_type": "stream",
     "text": [
      "Spanish 1 16 stratified 2022\n",
      "Training complete!\n",
      "Macro F1:  0.538415\n",
      "\n",
      "https://ui.neptune.ai/Hatespeech-CNERG/MH-Bert/e/SAN-9333\n"
     ]
    },
    {
     "name": "stderr",
     "output_type": "stream",
     "text": [
      "/home/saketh/anaconda3/lib/python3.7/site-packages/sklearn/linear_model/logistic.py:947: ConvergenceWarning: lbfgs failed to converge. Increase the number of iterations.\n",
      "  \"of iterations.\", ConvergenceWarning)\n"
     ]
    },
    {
     "name": "stdout",
     "output_type": "stream",
     "text": [
      "Spanish 1 32 stratified 2018\n",
      "Training complete!\n",
      "Macro F1:  0.537089\n",
      "\n",
      "https://ui.neptune.ai/Hatespeech-CNERG/MH-Bert/e/SAN-9334\n"
     ]
    },
    {
     "name": "stderr",
     "output_type": "stream",
     "text": [
      "/home/saketh/anaconda3/lib/python3.7/site-packages/sklearn/linear_model/logistic.py:947: ConvergenceWarning: lbfgs failed to converge. Increase the number of iterations.\n",
      "  \"of iterations.\", ConvergenceWarning)\n"
     ]
    },
    {
     "name": "stdout",
     "output_type": "stream",
     "text": [
      "Spanish 1 32 stratified 2019\n",
      "Training complete!\n",
      "Macro F1:  0.539776\n",
      "\n",
      "https://ui.neptune.ai/Hatespeech-CNERG/MH-Bert/e/SAN-9335\n"
     ]
    },
    {
     "name": "stderr",
     "output_type": "stream",
     "text": [
      "/home/saketh/anaconda3/lib/python3.7/site-packages/sklearn/linear_model/logistic.py:947: ConvergenceWarning: lbfgs failed to converge. Increase the number of iterations.\n",
      "  \"of iterations.\", ConvergenceWarning)\n"
     ]
    },
    {
     "name": "stdout",
     "output_type": "stream",
     "text": [
      "Spanish 1 32 stratified 2020\n",
      "Training complete!\n",
      "Macro F1:  0.537089\n",
      "\n",
      "https://ui.neptune.ai/Hatespeech-CNERG/MH-Bert/e/SAN-9336\n"
     ]
    },
    {
     "name": "stderr",
     "output_type": "stream",
     "text": [
      "/home/saketh/anaconda3/lib/python3.7/site-packages/sklearn/linear_model/logistic.py:947: ConvergenceWarning: lbfgs failed to converge. Increase the number of iterations.\n",
      "  \"of iterations.\", ConvergenceWarning)\n"
     ]
    },
    {
     "name": "stdout",
     "output_type": "stream",
     "text": [
      "Spanish 1 32 stratified 2021\n",
      "Training complete!\n",
      "Macro F1:  0.538425\n",
      "\n",
      "https://ui.neptune.ai/Hatespeech-CNERG/MH-Bert/e/SAN-9337\n"
     ]
    },
    {
     "name": "stderr",
     "output_type": "stream",
     "text": [
      "/home/saketh/anaconda3/lib/python3.7/site-packages/sklearn/linear_model/logistic.py:947: ConvergenceWarning: lbfgs failed to converge. Increase the number of iterations.\n",
      "  \"of iterations.\", ConvergenceWarning)\n"
     ]
    },
    {
     "name": "stdout",
     "output_type": "stream",
     "text": [
      "Spanish 1 32 stratified 2022\n",
      "Training complete!\n",
      "Macro F1:  0.537535\n",
      "\n",
      "https://ui.neptune.ai/Hatespeech-CNERG/MH-Bert/e/SAN-9338\n"
     ]
    },
    {
     "name": "stderr",
     "output_type": "stream",
     "text": [
      "/home/saketh/anaconda3/lib/python3.7/site-packages/sklearn/linear_model/logistic.py:947: ConvergenceWarning: lbfgs failed to converge. Increase the number of iterations.\n",
      "  \"of iterations.\", ConvergenceWarning)\n"
     ]
    },
    {
     "name": "stdout",
     "output_type": "stream",
     "text": [
      "Spanish 1 64 stratified 2018\n",
      "Training complete!\n",
      "Macro F1:  0.538425\n",
      "\n",
      "https://ui.neptune.ai/Hatespeech-CNERG/MH-Bert/e/SAN-9339\n"
     ]
    },
    {
     "name": "stderr",
     "output_type": "stream",
     "text": [
      "/home/saketh/anaconda3/lib/python3.7/site-packages/sklearn/linear_model/logistic.py:947: ConvergenceWarning: lbfgs failed to converge. Increase the number of iterations.\n",
      "  \"of iterations.\", ConvergenceWarning)\n"
     ]
    },
    {
     "name": "stdout",
     "output_type": "stream",
     "text": [
      "Spanish 1 64 stratified 2019\n",
      "Training complete!\n",
      "Macro F1:  0.537535\n",
      "\n",
      "https://ui.neptune.ai/Hatespeech-CNERG/MH-Bert/e/SAN-9340\n"
     ]
    },
    {
     "name": "stderr",
     "output_type": "stream",
     "text": [
      "/home/saketh/anaconda3/lib/python3.7/site-packages/sklearn/linear_model/logistic.py:947: ConvergenceWarning: lbfgs failed to converge. Increase the number of iterations.\n",
      "  \"of iterations.\", ConvergenceWarning)\n"
     ]
    },
    {
     "name": "stdout",
     "output_type": "stream",
     "text": [
      "Spanish 1 64 stratified 2020\n",
      "Training complete!\n",
      "Macro F1:  0.537545\n",
      "\n",
      "https://ui.neptune.ai/Hatespeech-CNERG/MH-Bert/e/SAN-9342\n"
     ]
    },
    {
     "name": "stderr",
     "output_type": "stream",
     "text": [
      "/home/saketh/anaconda3/lib/python3.7/site-packages/sklearn/linear_model/logistic.py:947: ConvergenceWarning: lbfgs failed to converge. Increase the number of iterations.\n",
      "  \"of iterations.\", ConvergenceWarning)\n"
     ]
    },
    {
     "name": "stdout",
     "output_type": "stream",
     "text": [
      "Spanish 1 64 stratified 2021\n",
      "Training complete!\n",
      "Macro F1:  0.538425\n",
      "\n",
      "https://ui.neptune.ai/Hatespeech-CNERG/MH-Bert/e/SAN-9343\n"
     ]
    },
    {
     "name": "stderr",
     "output_type": "stream",
     "text": [
      "/home/saketh/anaconda3/lib/python3.7/site-packages/sklearn/linear_model/logistic.py:947: ConvergenceWarning: lbfgs failed to converge. Increase the number of iterations.\n",
      "  \"of iterations.\", ConvergenceWarning)\n"
     ]
    },
    {
     "name": "stdout",
     "output_type": "stream",
     "text": [
      "Spanish 1 64 stratified 2022\n",
      "Training complete!\n",
      "Macro F1:  0.537980\n",
      "\n",
      "https://ui.neptune.ai/Hatespeech-CNERG/MH-Bert/e/SAN-9344\n"
     ]
    },
    {
     "name": "stderr",
     "output_type": "stream",
     "text": [
      "/home/saketh/anaconda3/lib/python3.7/site-packages/sklearn/linear_model/logistic.py:947: ConvergenceWarning: lbfgs failed to converge. Increase the number of iterations.\n",
      "  \"of iterations.\", ConvergenceWarning)\n"
     ]
    },
    {
     "name": "stdout",
     "output_type": "stream",
     "text": [
      "Spanish 1 128 stratified 2018\n",
      "Training complete!\n",
      "Macro F1:  0.537078\n",
      "\n",
      "https://ui.neptune.ai/Hatespeech-CNERG/MH-Bert/e/SAN-9345\n"
     ]
    },
    {
     "name": "stderr",
     "output_type": "stream",
     "text": [
      "/home/saketh/anaconda3/lib/python3.7/site-packages/sklearn/linear_model/logistic.py:947: ConvergenceWarning: lbfgs failed to converge. Increase the number of iterations.\n",
      "  \"of iterations.\", ConvergenceWarning)\n"
     ]
    },
    {
     "name": "stdout",
     "output_type": "stream",
     "text": [
      "Spanish 1 128 stratified 2019\n",
      "Training complete!\n",
      "Macro F1:  0.538392\n",
      "\n",
      "https://ui.neptune.ai/Hatespeech-CNERG/MH-Bert/e/SAN-9346\n"
     ]
    },
    {
     "name": "stderr",
     "output_type": "stream",
     "text": [
      "/home/saketh/anaconda3/lib/python3.7/site-packages/sklearn/linear_model/logistic.py:947: ConvergenceWarning: lbfgs failed to converge. Increase the number of iterations.\n",
      "  \"of iterations.\", ConvergenceWarning)\n"
     ]
    },
    {
     "name": "stdout",
     "output_type": "stream",
     "text": [
      "Spanish 1 128 stratified 2020\n",
      "Training complete!\n",
      "Macro F1:  0.537980\n",
      "\n",
      "https://ui.neptune.ai/Hatespeech-CNERG/MH-Bert/e/SAN-9347\n"
     ]
    },
    {
     "name": "stderr",
     "output_type": "stream",
     "text": [
      "/home/saketh/anaconda3/lib/python3.7/site-packages/sklearn/linear_model/logistic.py:947: ConvergenceWarning: lbfgs failed to converge. Increase the number of iterations.\n",
      "  \"of iterations.\", ConvergenceWarning)\n"
     ]
    },
    {
     "name": "stdout",
     "output_type": "stream",
     "text": [
      "Spanish 1 128 stratified 2021\n",
      "Training complete!\n",
      "Macro F1:  0.538870\n",
      "\n",
      "https://ui.neptune.ai/Hatespeech-CNERG/MH-Bert/e/SAN-9348\n"
     ]
    },
    {
     "name": "stderr",
     "output_type": "stream",
     "text": [
      "/home/saketh/anaconda3/lib/python3.7/site-packages/sklearn/linear_model/logistic.py:947: ConvergenceWarning: lbfgs failed to converge. Increase the number of iterations.\n",
      "  \"of iterations.\", ConvergenceWarning)\n"
     ]
    },
    {
     "name": "stdout",
     "output_type": "stream",
     "text": [
      "Spanish 1 128 stratified 2022\n",
      "Training complete!\n",
      "Macro F1:  0.539295\n",
      "\n",
      "https://ui.neptune.ai/Hatespeech-CNERG/MH-Bert/e/SAN-9349\n"
     ]
    },
    {
     "name": "stderr",
     "output_type": "stream",
     "text": [
      "/home/saketh/anaconda3/lib/python3.7/site-packages/sklearn/linear_model/logistic.py:947: ConvergenceWarning: lbfgs failed to converge. Increase the number of iterations.\n",
      "  \"of iterations.\", ConvergenceWarning)\n"
     ]
    },
    {
     "name": "stdout",
     "output_type": "stream",
     "text": [
      "Spanish 1 256 stratified 2018\n",
      "Training complete!\n",
      "Macro F1:  0.538380\n",
      "\n",
      "https://ui.neptune.ai/Hatespeech-CNERG/MH-Bert/e/SAN-9350\n"
     ]
    },
    {
     "name": "stderr",
     "output_type": "stream",
     "text": [
      "/home/saketh/anaconda3/lib/python3.7/site-packages/sklearn/linear_model/logistic.py:947: ConvergenceWarning: lbfgs failed to converge. Increase the number of iterations.\n",
      "  \"of iterations.\", ConvergenceWarning)\n"
     ]
    },
    {
     "name": "stdout",
     "output_type": "stream",
     "text": [
      "Spanish 1 256 stratified 2019\n",
      "Training complete!\n",
      "Macro F1:  0.538392\n",
      "\n",
      "https://ui.neptune.ai/Hatespeech-CNERG/MH-Bert/e/SAN-9351\n"
     ]
    },
    {
     "name": "stderr",
     "output_type": "stream",
     "text": [
      "/home/saketh/anaconda3/lib/python3.7/site-packages/sklearn/linear_model/logistic.py:947: ConvergenceWarning: lbfgs failed to converge. Increase the number of iterations.\n",
      "  \"of iterations.\", ConvergenceWarning)\n"
     ]
    },
    {
     "name": "stdout",
     "output_type": "stream",
     "text": [
      "Spanish 1 256 stratified 2020\n",
      "Training complete!\n",
      "Macro F1:  0.538392\n",
      "\n",
      "https://ui.neptune.ai/Hatespeech-CNERG/MH-Bert/e/SAN-9352\n"
     ]
    },
    {
     "name": "stderr",
     "output_type": "stream",
     "text": [
      "/home/saketh/anaconda3/lib/python3.7/site-packages/sklearn/linear_model/logistic.py:947: ConvergenceWarning: lbfgs failed to converge. Increase the number of iterations.\n",
      "  \"of iterations.\", ConvergenceWarning)\n"
     ]
    },
    {
     "name": "stdout",
     "output_type": "stream",
     "text": [
      "Spanish 1 256 stratified 2021\n",
      "Training complete!\n",
      "Macro F1:  0.539740\n",
      "\n",
      "https://ui.neptune.ai/Hatespeech-CNERG/MH-Bert/e/SAN-9353\n"
     ]
    },
    {
     "name": "stderr",
     "output_type": "stream",
     "text": [
      "/home/saketh/anaconda3/lib/python3.7/site-packages/sklearn/linear_model/logistic.py:947: ConvergenceWarning: lbfgs failed to converge. Increase the number of iterations.\n",
      "  \"of iterations.\", ConvergenceWarning)\n"
     ]
    },
    {
     "name": "stdout",
     "output_type": "stream",
     "text": [
      "Spanish 1 256 stratified 2022\n",
      "Training complete!\n",
      "Macro F1:  0.537969\n",
      "\n",
      "https://ui.neptune.ai/Hatespeech-CNERG/MH-Bert/e/SAN-9354\n"
     ]
    },
    {
     "name": "stderr",
     "output_type": "stream",
     "text": [
      "/home/saketh/anaconda3/lib/python3.7/site-packages/sklearn/linear_model/logistic.py:947: ConvergenceWarning: lbfgs failed to converge. Increase the number of iterations.\n",
      "  \"of iterations.\", ConvergenceWarning)\n"
     ]
    },
    {
     "name": "stdout",
     "output_type": "stream",
     "text": [
      "Spanish 10 16 stratified 2018\n",
      "Training complete!\n",
      "Macro F1:  0.542454\n",
      "\n",
      "https://ui.neptune.ai/Hatespeech-CNERG/MH-Bert/e/SAN-9355\n"
     ]
    },
    {
     "name": "stderr",
     "output_type": "stream",
     "text": [
      "/home/saketh/anaconda3/lib/python3.7/site-packages/sklearn/linear_model/logistic.py:947: ConvergenceWarning: lbfgs failed to converge. Increase the number of iterations.\n",
      "  \"of iterations.\", ConvergenceWarning)\n"
     ]
    },
    {
     "name": "stdout",
     "output_type": "stream",
     "text": [
      "Spanish 10 16 stratified 2019\n",
      "Training complete!\n",
      "Macro F1:  0.542453\n",
      "\n",
      "https://ui.neptune.ai/Hatespeech-CNERG/MH-Bert/e/SAN-9356\n"
     ]
    },
    {
     "name": "stderr",
     "output_type": "stream",
     "text": [
      "/home/saketh/anaconda3/lib/python3.7/site-packages/sklearn/linear_model/logistic.py:947: ConvergenceWarning: lbfgs failed to converge. Increase the number of iterations.\n",
      "  \"of iterations.\", ConvergenceWarning)\n"
     ]
    },
    {
     "name": "stdout",
     "output_type": "stream",
     "text": [
      "Spanish 10 16 stratified 2020\n",
      "Training complete!\n",
      "Macro F1:  0.539374\n",
      "\n",
      "https://ui.neptune.ai/Hatespeech-CNERG/MH-Bert/e/SAN-9357\n"
     ]
    },
    {
     "name": "stderr",
     "output_type": "stream",
     "text": [
      "/home/saketh/anaconda3/lib/python3.7/site-packages/sklearn/linear_model/logistic.py:947: ConvergenceWarning: lbfgs failed to converge. Increase the number of iterations.\n",
      "  \"of iterations.\", ConvergenceWarning)\n"
     ]
    },
    {
     "name": "stdout",
     "output_type": "stream",
     "text": [
      "Spanish 10 16 stratified 2021\n",
      "Training complete!\n",
      "Macro F1:  0.542444\n",
      "\n",
      "https://ui.neptune.ai/Hatespeech-CNERG/MH-Bert/e/SAN-9358\n"
     ]
    },
    {
     "name": "stderr",
     "output_type": "stream",
     "text": [
      "/home/saketh/anaconda3/lib/python3.7/site-packages/sklearn/linear_model/logistic.py:947: ConvergenceWarning: lbfgs failed to converge. Increase the number of iterations.\n",
      "  \"of iterations.\", ConvergenceWarning)\n"
     ]
    },
    {
     "name": "stdout",
     "output_type": "stream",
     "text": [
      "Spanish 10 16 stratified 2022\n",
      "Training complete!\n",
      "Macro F1:  0.542453\n",
      "\n",
      "https://ui.neptune.ai/Hatespeech-CNERG/MH-Bert/e/SAN-9359\n"
     ]
    },
    {
     "name": "stderr",
     "output_type": "stream",
     "text": [
      "/home/saketh/anaconda3/lib/python3.7/site-packages/sklearn/linear_model/logistic.py:947: ConvergenceWarning: lbfgs failed to converge. Increase the number of iterations.\n",
      "  \"of iterations.\", ConvergenceWarning)\n"
     ]
    },
    {
     "name": "stdout",
     "output_type": "stream",
     "text": [
      "Spanish 10 32 stratified 2018\n",
      "Training complete!\n",
      "Macro F1:  0.542895\n",
      "\n",
      "https://ui.neptune.ai/Hatespeech-CNERG/MH-Bert/e/SAN-9360\n"
     ]
    },
    {
     "name": "stderr",
     "output_type": "stream",
     "text": [
      "/home/saketh/anaconda3/lib/python3.7/site-packages/sklearn/linear_model/logistic.py:947: ConvergenceWarning: lbfgs failed to converge. Increase the number of iterations.\n",
      "  \"of iterations.\", ConvergenceWarning)\n"
     ]
    },
    {
     "name": "stdout",
     "output_type": "stream",
     "text": [
      "Spanish 10 32 stratified 2019\n",
      "Training complete!\n",
      "Macro F1:  0.539366\n",
      "\n",
      "https://ui.neptune.ai/Hatespeech-CNERG/MH-Bert/e/SAN-9361\n"
     ]
    },
    {
     "name": "stderr",
     "output_type": "stream",
     "text": [
      "/home/saketh/anaconda3/lib/python3.7/site-packages/sklearn/linear_model/logistic.py:947: ConvergenceWarning: lbfgs failed to converge. Increase the number of iterations.\n",
      "  \"of iterations.\", ConvergenceWarning)\n"
     ]
    },
    {
     "name": "stdout",
     "output_type": "stream",
     "text": [
      "Spanish 10 32 stratified 2020\n",
      "Training complete!\n",
      "Macro F1:  0.541134\n",
      "\n",
      "https://ui.neptune.ai/Hatespeech-CNERG/MH-Bert/e/SAN-9362\n"
     ]
    },
    {
     "name": "stderr",
     "output_type": "stream",
     "text": [
      "/home/saketh/anaconda3/lib/python3.7/site-packages/sklearn/linear_model/logistic.py:947: ConvergenceWarning: lbfgs failed to converge. Increase the number of iterations.\n",
      "  \"of iterations.\", ConvergenceWarning)\n"
     ]
    },
    {
     "name": "stdout",
     "output_type": "stream",
     "text": [
      "Spanish 10 32 stratified 2021\n",
      "Training complete!\n",
      "Macro F1:  0.539366\n",
      "\n",
      "https://ui.neptune.ai/Hatespeech-CNERG/MH-Bert/e/SAN-9363\n"
     ]
    },
    {
     "name": "stderr",
     "output_type": "stream",
     "text": [
      "/home/saketh/anaconda3/lib/python3.7/site-packages/sklearn/linear_model/logistic.py:947: ConvergenceWarning: lbfgs failed to converge. Increase the number of iterations.\n",
      "  \"of iterations.\", ConvergenceWarning)\n"
     ]
    },
    {
     "name": "stdout",
     "output_type": "stream",
     "text": [
      "Spanish 10 32 stratified 2022\n",
      "Training complete!\n",
      "Macro F1:  0.545970\n",
      "\n",
      "https://ui.neptune.ai/Hatespeech-CNERG/MH-Bert/e/SAN-9364\n"
     ]
    },
    {
     "name": "stderr",
     "output_type": "stream",
     "text": [
      "/home/saketh/anaconda3/lib/python3.7/site-packages/sklearn/linear_model/logistic.py:947: ConvergenceWarning: lbfgs failed to converge. Increase the number of iterations.\n",
      "  \"of iterations.\", ConvergenceWarning)\n"
     ]
    },
    {
     "name": "stdout",
     "output_type": "stream",
     "text": [
      "Spanish 10 64 stratified 2018\n",
      "Training complete!\n",
      "Macro F1:  0.539800\n",
      "\n",
      "https://ui.neptune.ai/Hatespeech-CNERG/MH-Bert/e/SAN-9365\n"
     ]
    },
    {
     "name": "stderr",
     "output_type": "stream",
     "text": [
      "/home/saketh/anaconda3/lib/python3.7/site-packages/sklearn/linear_model/logistic.py:947: ConvergenceWarning: lbfgs failed to converge. Increase the number of iterations.\n",
      "  \"of iterations.\", ConvergenceWarning)\n"
     ]
    },
    {
     "name": "stdout",
     "output_type": "stream",
     "text": [
      "Spanish 10 64 stratified 2019\n",
      "Training complete!\n",
      "Macro F1:  0.540242\n",
      "\n",
      "https://ui.neptune.ai/Hatespeech-CNERG/MH-Bert/e/SAN-9366\n"
     ]
    },
    {
     "name": "stderr",
     "output_type": "stream",
     "text": [
      "/home/saketh/anaconda3/lib/python3.7/site-packages/sklearn/linear_model/logistic.py:947: ConvergenceWarning: lbfgs failed to converge. Increase the number of iterations.\n",
      "  \"of iterations.\", ConvergenceWarning)\n"
     ]
    },
    {
     "name": "stdout",
     "output_type": "stream",
     "text": [
      "Spanish 10 64 stratified 2020\n",
      "Training complete!\n",
      "Macro F1:  0.541132\n",
      "\n",
      "https://ui.neptune.ai/Hatespeech-CNERG/MH-Bert/e/SAN-9367\n"
     ]
    },
    {
     "name": "stderr",
     "output_type": "stream",
     "text": [
      "/home/saketh/anaconda3/lib/python3.7/site-packages/sklearn/linear_model/logistic.py:947: ConvergenceWarning: lbfgs failed to converge. Increase the number of iterations.\n",
      "  \"of iterations.\", ConvergenceWarning)\n"
     ]
    },
    {
     "name": "stdout",
     "output_type": "stream",
     "text": [
      "Spanish 10 64 stratified 2021\n",
      "Training complete!\n",
      "Macro F1:  0.541575\n",
      "\n",
      "https://ui.neptune.ai/Hatespeech-CNERG/MH-Bert/e/SAN-9368\n"
     ]
    },
    {
     "name": "stderr",
     "output_type": "stream",
     "text": [
      "/home/saketh/anaconda3/lib/python3.7/site-packages/sklearn/linear_model/logistic.py:947: ConvergenceWarning: lbfgs failed to converge. Increase the number of iterations.\n",
      "  \"of iterations.\", ConvergenceWarning)\n"
     ]
    },
    {
     "name": "stdout",
     "output_type": "stream",
     "text": [
      "Spanish 10 64 stratified 2022\n",
      "Training complete!\n",
      "Macro F1:  0.540238\n",
      "\n",
      "https://ui.neptune.ai/Hatespeech-CNERG/MH-Bert/e/SAN-9369\n"
     ]
    },
    {
     "name": "stderr",
     "output_type": "stream",
     "text": [
      "/home/saketh/anaconda3/lib/python3.7/site-packages/sklearn/linear_model/logistic.py:947: ConvergenceWarning: lbfgs failed to converge. Increase the number of iterations.\n",
      "  \"of iterations.\", ConvergenceWarning)\n"
     ]
    },
    {
     "name": "stdout",
     "output_type": "stream",
     "text": [
      "Spanish 10 128 stratified 2018\n",
      "Training complete!\n",
      "Macro F1:  0.545974\n",
      "\n",
      "https://ui.neptune.ai/Hatespeech-CNERG/MH-Bert/e/SAN-9370\n"
     ]
    },
    {
     "name": "stderr",
     "output_type": "stream",
     "text": [
      "/home/saketh/anaconda3/lib/python3.7/site-packages/sklearn/linear_model/logistic.py:947: ConvergenceWarning: lbfgs failed to converge. Increase the number of iterations.\n",
      "  \"of iterations.\", ConvergenceWarning)\n"
     ]
    },
    {
     "name": "stdout",
     "output_type": "stream",
     "text": [
      "Spanish 10 128 stratified 2019\n",
      "Training complete!\n",
      "Macro F1:  0.544214\n",
      "\n",
      "https://ui.neptune.ai/Hatespeech-CNERG/MH-Bert/e/SAN-9371\n"
     ]
    },
    {
     "name": "stderr",
     "output_type": "stream",
     "text": [
      "/home/saketh/anaconda3/lib/python3.7/site-packages/sklearn/linear_model/logistic.py:947: ConvergenceWarning: lbfgs failed to converge. Increase the number of iterations.\n",
      "  \"of iterations.\", ConvergenceWarning)\n"
     ]
    },
    {
     "name": "stdout",
     "output_type": "stream",
     "text": [
      "Spanish 10 128 stratified 2020\n",
      "Training complete!\n",
      "Macro F1:  0.542886\n",
      "\n",
      "https://ui.neptune.ai/Hatespeech-CNERG/MH-Bert/e/SAN-9372\n"
     ]
    },
    {
     "name": "stderr",
     "output_type": "stream",
     "text": [
      "/home/saketh/anaconda3/lib/python3.7/site-packages/sklearn/linear_model/logistic.py:947: ConvergenceWarning: lbfgs failed to converge. Increase the number of iterations.\n",
      "  \"of iterations.\", ConvergenceWarning)\n"
     ]
    },
    {
     "name": "stdout",
     "output_type": "stream",
     "text": [
      "Spanish 10 128 stratified 2021\n",
      "Training complete!\n",
      "Macro F1:  0.541575\n",
      "\n",
      "https://ui.neptune.ai/Hatespeech-CNERG/MH-Bert/e/SAN-9373\n"
     ]
    },
    {
     "name": "stderr",
     "output_type": "stream",
     "text": [
      "/home/saketh/anaconda3/lib/python3.7/site-packages/sklearn/linear_model/logistic.py:947: ConvergenceWarning: lbfgs failed to converge. Increase the number of iterations.\n",
      "  \"of iterations.\", ConvergenceWarning)\n"
     ]
    },
    {
     "name": "stdout",
     "output_type": "stream",
     "text": [
      "Spanish 10 128 stratified 2022\n",
      "Training complete!\n",
      "Macro F1:  0.542455\n",
      "\n",
      "https://ui.neptune.ai/Hatespeech-CNERG/MH-Bert/e/SAN-9374\n"
     ]
    },
    {
     "name": "stderr",
     "output_type": "stream",
     "text": [
      "/home/saketh/anaconda3/lib/python3.7/site-packages/sklearn/linear_model/logistic.py:947: ConvergenceWarning: lbfgs failed to converge. Increase the number of iterations.\n",
      "  \"of iterations.\", ConvergenceWarning)\n"
     ]
    },
    {
     "name": "stdout",
     "output_type": "stream",
     "text": [
      "Spanish 10 256 stratified 2018\n",
      "Training complete!\n",
      "Macro F1:  0.543775\n",
      "\n",
      "https://ui.neptune.ai/Hatespeech-CNERG/MH-Bert/e/SAN-9375\n"
     ]
    },
    {
     "name": "stderr",
     "output_type": "stream",
     "text": [
      "/home/saketh/anaconda3/lib/python3.7/site-packages/sklearn/linear_model/logistic.py:947: ConvergenceWarning: lbfgs failed to converge. Increase the number of iterations.\n",
      "  \"of iterations.\", ConvergenceWarning)\n"
     ]
    },
    {
     "name": "stdout",
     "output_type": "stream",
     "text": [
      "Spanish 10 256 stratified 2019\n",
      "Training complete!\n",
      "Macro F1:  0.543324\n",
      "\n",
      "https://ui.neptune.ai/Hatespeech-CNERG/MH-Bert/e/SAN-9377\n"
     ]
    },
    {
     "name": "stderr",
     "output_type": "stream",
     "text": [
      "/home/saketh/anaconda3/lib/python3.7/site-packages/sklearn/linear_model/logistic.py:947: ConvergenceWarning: lbfgs failed to converge. Increase the number of iterations.\n",
      "  \"of iterations.\", ConvergenceWarning)\n"
     ]
    },
    {
     "name": "stdout",
     "output_type": "stream",
     "text": [
      "Spanish 10 256 stratified 2020\n",
      "Training complete!\n",
      "Macro F1:  0.550801\n",
      "\n",
      "https://ui.neptune.ai/Hatespeech-CNERG/MH-Bert/e/SAN-9379\n"
     ]
    },
    {
     "name": "stderr",
     "output_type": "stream",
     "text": [
      "/home/saketh/anaconda3/lib/python3.7/site-packages/sklearn/linear_model/logistic.py:947: ConvergenceWarning: lbfgs failed to converge. Increase the number of iterations.\n",
      "  \"of iterations.\", ConvergenceWarning)\n"
     ]
    },
    {
     "name": "stdout",
     "output_type": "stream",
     "text": [
      "Spanish 10 256 stratified 2021\n",
      "Training complete!\n",
      "Macro F1:  0.543773\n",
      "\n",
      "https://ui.neptune.ai/Hatespeech-CNERG/MH-Bert/e/SAN-9381\n"
     ]
    },
    {
     "name": "stderr",
     "output_type": "stream",
     "text": [
      "/home/saketh/anaconda3/lib/python3.7/site-packages/sklearn/linear_model/logistic.py:947: ConvergenceWarning: lbfgs failed to converge. Increase the number of iterations.\n",
      "  \"of iterations.\", ConvergenceWarning)\n"
     ]
    },
    {
     "name": "stdout",
     "output_type": "stream",
     "text": [
      "Spanish 10 256 stratified 2022\n",
      "Training complete!\n",
      "Macro F1:  0.542453\n",
      "\n",
      "https://ui.neptune.ai/Hatespeech-CNERG/MH-Bert/e/SAN-9382\n",
      "French 0.01 16 stratified 2018\n",
      "Training complete!\n",
      "Macro F1:  0.424528\n",
      "\n",
      "https://ui.neptune.ai/Hatespeech-CNERG/MH-Bert/e/SAN-9384\n",
      "French 0.01 16 stratified 2019\n",
      "Training complete!\n",
      "Macro F1:  0.424528\n",
      "\n",
      "https://ui.neptune.ai/Hatespeech-CNERG/MH-Bert/e/SAN-9386\n",
      "French 0.01 16 stratified 2020\n",
      "Training complete!\n",
      "Macro F1:  0.419714\n",
      "\n",
      "https://ui.neptune.ai/Hatespeech-CNERG/MH-Bert/e/SAN-9388\n",
      "French 0.01 16 stratified 2021\n",
      "Training complete!\n",
      "Macro F1:  0.419714\n",
      "\n",
      "https://ui.neptune.ai/Hatespeech-CNERG/MH-Bert/e/SAN-9390\n",
      "French 0.01 16 stratified 2022\n",
      "Training complete!\n",
      "Macro F1:  0.419714\n",
      "\n",
      "https://ui.neptune.ai/Hatespeech-CNERG/MH-Bert/e/SAN-9391\n",
      "French 0.01 32 stratified 2018\n",
      "Training complete!\n",
      "Macro F1:  0.424528\n",
      "\n",
      "https://ui.neptune.ai/Hatespeech-CNERG/MH-Bert/e/SAN-9393\n",
      "French 0.01 32 stratified 2019\n",
      "Training complete!\n",
      "Macro F1:  0.424528\n",
      "\n",
      "https://ui.neptune.ai/Hatespeech-CNERG/MH-Bert/e/SAN-9395\n",
      "French 0.01 32 stratified 2020\n",
      "Training complete!\n",
      "Macro F1:  0.419714\n",
      "\n",
      "https://ui.neptune.ai/Hatespeech-CNERG/MH-Bert/e/SAN-9397\n",
      "French 0.01 32 stratified 2021\n",
      "Training complete!\n",
      "Macro F1:  0.419714\n",
      "\n",
      "https://ui.neptune.ai/Hatespeech-CNERG/MH-Bert/e/SAN-9398\n",
      "French 0.01 32 stratified 2022\n",
      "Training complete!\n",
      "Macro F1:  0.419714\n",
      "\n",
      "https://ui.neptune.ai/Hatespeech-CNERG/MH-Bert/e/SAN-9399\n",
      "French 0.01 64 stratified 2018\n",
      "Training complete!\n",
      "Macro F1:  0.424528\n",
      "\n",
      "https://ui.neptune.ai/Hatespeech-CNERG/MH-Bert/e/SAN-9401\n",
      "French 0.01 64 stratified 2019\n",
      "Training complete!\n",
      "Macro F1:  0.424528\n",
      "\n",
      "https://ui.neptune.ai/Hatespeech-CNERG/MH-Bert/e/SAN-9403\n",
      "French 0.01 64 stratified 2020\n",
      "Training complete!\n",
      "Macro F1:  0.419714\n",
      "\n",
      "https://ui.neptune.ai/Hatespeech-CNERG/MH-Bert/e/SAN-9405\n",
      "French 0.01 64 stratified 2021\n",
      "Training complete!\n",
      "Macro F1:  0.419714\n",
      "\n",
      "https://ui.neptune.ai/Hatespeech-CNERG/MH-Bert/e/SAN-9406\n",
      "French 0.01 64 stratified 2022\n",
      "Training complete!\n",
      "Macro F1:  0.419714\n",
      "\n",
      "https://ui.neptune.ai/Hatespeech-CNERG/MH-Bert/e/SAN-9408\n",
      "French 0.01 128 stratified 2018\n",
      "Training complete!\n",
      "Macro F1:  0.424528\n",
      "\n",
      "https://ui.neptune.ai/Hatespeech-CNERG/MH-Bert/e/SAN-9410\n",
      "French 0.01 128 stratified 2019\n",
      "Training complete!\n",
      "Macro F1:  0.424528\n",
      "\n",
      "https://ui.neptune.ai/Hatespeech-CNERG/MH-Bert/e/SAN-9412\n",
      "French 0.01 128 stratified 2020\n",
      "Training complete!\n",
      "Macro F1:  0.419714\n",
      "\n",
      "https://ui.neptune.ai/Hatespeech-CNERG/MH-Bert/e/SAN-9414\n",
      "French 0.01 128 stratified 2021\n",
      "Training complete!\n",
      "Macro F1:  0.419714\n",
      "\n",
      "https://ui.neptune.ai/Hatespeech-CNERG/MH-Bert/e/SAN-9416\n",
      "French 0.01 128 stratified 2022\n",
      "Training complete!\n",
      "Macro F1:  0.419714\n",
      "\n",
      "https://ui.neptune.ai/Hatespeech-CNERG/MH-Bert/e/SAN-9417\n",
      "French 0.01 256 stratified 2018\n",
      "Training complete!\n",
      "Macro F1:  0.419714\n",
      "\n",
      "https://ui.neptune.ai/Hatespeech-CNERG/MH-Bert/e/SAN-9419\n",
      "French 0.01 256 stratified 2019\n",
      "Training complete!\n",
      "Macro F1:  0.424528\n",
      "\n",
      "https://ui.neptune.ai/Hatespeech-CNERG/MH-Bert/e/SAN-9421\n",
      "French 0.01 256 stratified 2020\n",
      "Training complete!\n",
      "Macro F1:  0.419714\n",
      "\n",
      "https://ui.neptune.ai/Hatespeech-CNERG/MH-Bert/e/SAN-9423\n",
      "French 0.01 256 stratified 2021\n",
      "Training complete!\n",
      "Macro F1:  0.419714\n",
      "\n",
      "https://ui.neptune.ai/Hatespeech-CNERG/MH-Bert/e/SAN-9425\n",
      "French 0.01 256 stratified 2022\n",
      "Training complete!\n",
      "Macro F1:  0.419714\n",
      "\n",
      "https://ui.neptune.ai/Hatespeech-CNERG/MH-Bert/e/SAN-9426\n",
      "French 0.1 16 stratified 2018\n",
      "Training complete!\n",
      "Macro F1:  0.429313\n",
      "\n",
      "https://ui.neptune.ai/Hatespeech-CNERG/MH-Bert/e/SAN-9428\n",
      "French 0.1 16 stratified 2019\n",
      "Training complete!\n",
      "Macro F1:  0.429313\n",
      "\n",
      "https://ui.neptune.ai/Hatespeech-CNERG/MH-Bert/e/SAN-9430\n",
      "French 0.1 16 stratified 2020\n",
      "Training complete!\n",
      "Macro F1:  0.429313\n",
      "\n",
      "https://ui.neptune.ai/Hatespeech-CNERG/MH-Bert/e/SAN-9432\n",
      "French 0.1 16 stratified 2021\n",
      "Training complete!\n",
      "Macro F1:  0.429313\n",
      "\n",
      "https://ui.neptune.ai/Hatespeech-CNERG/MH-Bert/e/SAN-9434\n",
      "French 0.1 16 stratified 2022\n",
      "Training complete!\n",
      "Macro F1:  0.429313\n",
      "\n",
      "https://ui.neptune.ai/Hatespeech-CNERG/MH-Bert/e/SAN-9436\n",
      "French 0.1 32 stratified 2018\n",
      "Training complete!\n",
      "Macro F1:  0.429313\n",
      "\n",
      "https://ui.neptune.ai/Hatespeech-CNERG/MH-Bert/e/SAN-9438\n",
      "French 0.1 32 stratified 2019\n",
      "Training complete!\n",
      "Macro F1:  0.429313\n",
      "\n",
      "https://ui.neptune.ai/Hatespeech-CNERG/MH-Bert/e/SAN-9440\n",
      "French 0.1 32 stratified 2020\n",
      "Training complete!\n",
      "Macro F1:  0.429313\n",
      "\n",
      "https://ui.neptune.ai/Hatespeech-CNERG/MH-Bert/e/SAN-9441\n",
      "French 0.1 32 stratified 2021\n",
      "Training complete!\n",
      "Macro F1:  0.429313\n",
      "\n",
      "https://ui.neptune.ai/Hatespeech-CNERG/MH-Bert/e/SAN-9443\n",
      "French 0.1 32 stratified 2022\n",
      "Training complete!\n",
      "Macro F1:  0.429313\n",
      "\n",
      "https://ui.neptune.ai/Hatespeech-CNERG/MH-Bert/e/SAN-9445\n",
      "French 0.1 64 stratified 2018\n",
      "Training complete!\n",
      "Macro F1:  0.429313\n",
      "\n",
      "https://ui.neptune.ai/Hatespeech-CNERG/MH-Bert/e/SAN-9447\n",
      "French 0.1 64 stratified 2019\n",
      "Training complete!\n",
      "Macro F1:  0.429313\n",
      "\n",
      "https://ui.neptune.ai/Hatespeech-CNERG/MH-Bert/e/SAN-9449\n",
      "French 0.1 64 stratified 2020\n",
      "Training complete!\n",
      "Macro F1:  0.429313\n",
      "\n",
      "https://ui.neptune.ai/Hatespeech-CNERG/MH-Bert/e/SAN-9451\n",
      "French 0.1 64 stratified 2021\n",
      "Training complete!\n",
      "Macro F1:  0.429313\n",
      "\n",
      "https://ui.neptune.ai/Hatespeech-CNERG/MH-Bert/e/SAN-9453\n",
      "French 0.1 64 stratified 2022\n",
      "Training complete!\n",
      "Macro F1:  0.429313\n",
      "\n",
      "https://ui.neptune.ai/Hatespeech-CNERG/MH-Bert/e/SAN-9455\n",
      "French 0.1 128 stratified 2018\n",
      "Training complete!\n",
      "Macro F1:  0.429313\n",
      "\n",
      "https://ui.neptune.ai/Hatespeech-CNERG/MH-Bert/e/SAN-9456\n",
      "French 0.1 128 stratified 2019\n",
      "Training complete!\n",
      "Macro F1:  0.429313\n",
      "\n",
      "https://ui.neptune.ai/Hatespeech-CNERG/MH-Bert/e/SAN-9458\n",
      "French 0.1 128 stratified 2020\n",
      "Training complete!\n",
      "Macro F1:  0.434068\n",
      "\n",
      "https://ui.neptune.ai/Hatespeech-CNERG/MH-Bert/e/SAN-9460\n",
      "French 0.1 128 stratified 2021\n",
      "Training complete!\n",
      "Macro F1:  0.429313\n",
      "\n",
      "https://ui.neptune.ai/Hatespeech-CNERG/MH-Bert/e/SAN-9462\n",
      "French 0.1 128 stratified 2022\n",
      "Training complete!\n",
      "Macro F1:  0.429313\n",
      "\n",
      "https://ui.neptune.ai/Hatespeech-CNERG/MH-Bert/e/SAN-9464\n",
      "French 0.1 256 stratified 2018\n",
      "Training complete!\n",
      "Macro F1:  0.429313\n",
      "\n",
      "https://ui.neptune.ai/Hatespeech-CNERG/MH-Bert/e/SAN-9466\n",
      "French 0.1 256 stratified 2019\n",
      "Training complete!\n",
      "Macro F1:  0.429313\n",
      "\n",
      "https://ui.neptune.ai/Hatespeech-CNERG/MH-Bert/e/SAN-9468\n",
      "French 0.1 256 stratified 2020\n",
      "Training complete!\n",
      "Macro F1:  0.429313\n",
      "\n",
      "https://ui.neptune.ai/Hatespeech-CNERG/MH-Bert/e/SAN-9469\n",
      "French 0.1 256 stratified 2021\n",
      "Training complete!\n",
      "Macro F1:  0.429313\n",
      "\n",
      "https://ui.neptune.ai/Hatespeech-CNERG/MH-Bert/e/SAN-9471\n",
      "French 0.1 256 stratified 2022\n",
      "Training complete!\n",
      "Macro F1:  0.429313\n",
      "\n",
      "https://ui.neptune.ai/Hatespeech-CNERG/MH-Bert/e/SAN-9473\n"
     ]
    },
    {
     "name": "stderr",
     "output_type": "stream",
     "text": [
      "/home/saketh/anaconda3/lib/python3.7/site-packages/sklearn/linear_model/logistic.py:947: ConvergenceWarning: lbfgs failed to converge. Increase the number of iterations.\n",
      "  \"of iterations.\", ConvergenceWarning)\n"
     ]
    },
    {
     "name": "stdout",
     "output_type": "stream",
     "text": [
      "French 1 16 stratified 2018\n",
      "Training complete!\n",
      "Macro F1:  0.409991\n",
      "\n",
      "https://ui.neptune.ai/Hatespeech-CNERG/MH-Bert/e/SAN-9475\n"
     ]
    },
    {
     "name": "stderr",
     "output_type": "stream",
     "text": [
      "/home/saketh/anaconda3/lib/python3.7/site-packages/sklearn/linear_model/logistic.py:947: ConvergenceWarning: lbfgs failed to converge. Increase the number of iterations.\n",
      "  \"of iterations.\", ConvergenceWarning)\n"
     ]
    },
    {
     "name": "stdout",
     "output_type": "stream",
     "text": [
      "French 1 16 stratified 2019\n",
      "Training complete!\n",
      "Macro F1:  0.409991\n",
      "\n",
      "https://ui.neptune.ai/Hatespeech-CNERG/MH-Bert/e/SAN-9477\n"
     ]
    },
    {
     "name": "stderr",
     "output_type": "stream",
     "text": [
      "/home/saketh/anaconda3/lib/python3.7/site-packages/sklearn/linear_model/logistic.py:947: ConvergenceWarning: lbfgs failed to converge. Increase the number of iterations.\n",
      "  \"of iterations.\", ConvergenceWarning)\n"
     ]
    },
    {
     "name": "stdout",
     "output_type": "stream",
     "text": [
      "French 1 16 stratified 2020\n",
      "Training complete!\n",
      "Macro F1:  0.406509\n",
      "\n",
      "https://ui.neptune.ai/Hatespeech-CNERG/MH-Bert/e/SAN-9479\n"
     ]
    },
    {
     "name": "stderr",
     "output_type": "stream",
     "text": [
      "/home/saketh/anaconda3/lib/python3.7/site-packages/sklearn/linear_model/logistic.py:947: ConvergenceWarning: lbfgs failed to converge. Increase the number of iterations.\n",
      "  \"of iterations.\", ConvergenceWarning)\n"
     ]
    },
    {
     "name": "stdout",
     "output_type": "stream",
     "text": [
      "French 1 16 stratified 2021\n",
      "Training complete!\n",
      "Macro F1:  0.414868\n",
      "\n",
      "https://ui.neptune.ai/Hatespeech-CNERG/MH-Bert/e/SAN-9481\n"
     ]
    },
    {
     "name": "stderr",
     "output_type": "stream",
     "text": [
      "/home/saketh/anaconda3/lib/python3.7/site-packages/sklearn/linear_model/logistic.py:947: ConvergenceWarning: lbfgs failed to converge. Increase the number of iterations.\n",
      "  \"of iterations.\", ConvergenceWarning)\n"
     ]
    },
    {
     "name": "stdout",
     "output_type": "stream",
     "text": [
      "French 1 16 stratified 2022\n",
      "Training complete!\n",
      "Macro F1:  0.409991\n",
      "\n",
      "https://ui.neptune.ai/Hatespeech-CNERG/MH-Bert/e/SAN-9483\n"
     ]
    },
    {
     "name": "stderr",
     "output_type": "stream",
     "text": [
      "/home/saketh/anaconda3/lib/python3.7/site-packages/sklearn/linear_model/logistic.py:947: ConvergenceWarning: lbfgs failed to converge. Increase the number of iterations.\n",
      "  \"of iterations.\", ConvergenceWarning)\n"
     ]
    },
    {
     "name": "stdout",
     "output_type": "stream",
     "text": [
      "French 1 32 stratified 2018\n",
      "Training complete!\n",
      "Macro F1:  0.409991\n",
      "\n",
      "https://ui.neptune.ai/Hatespeech-CNERG/MH-Bert/e/SAN-9484\n"
     ]
    },
    {
     "name": "stderr",
     "output_type": "stream",
     "text": [
      "/home/saketh/anaconda3/lib/python3.7/site-packages/sklearn/linear_model/logistic.py:947: ConvergenceWarning: lbfgs failed to converge. Increase the number of iterations.\n",
      "  \"of iterations.\", ConvergenceWarning)\n"
     ]
    },
    {
     "name": "stdout",
     "output_type": "stream",
     "text": [
      "French 1 32 stratified 2019\n",
      "Training complete!\n",
      "Macro F1:  0.406509\n",
      "\n",
      "https://ui.neptune.ai/Hatespeech-CNERG/MH-Bert/e/SAN-9486\n"
     ]
    },
    {
     "name": "stderr",
     "output_type": "stream",
     "text": [
      "/home/saketh/anaconda3/lib/python3.7/site-packages/sklearn/linear_model/logistic.py:947: ConvergenceWarning: lbfgs failed to converge. Increase the number of iterations.\n",
      "  \"of iterations.\", ConvergenceWarning)\n"
     ]
    },
    {
     "name": "stdout",
     "output_type": "stream",
     "text": [
      "French 1 32 stratified 2020\n",
      "Training complete!\n",
      "Macro F1:  0.409991\n",
      "\n",
      "https://ui.neptune.ai/Hatespeech-CNERG/MH-Bert/e/SAN-9488\n"
     ]
    },
    {
     "name": "stderr",
     "output_type": "stream",
     "text": [
      "/home/saketh/anaconda3/lib/python3.7/site-packages/sklearn/linear_model/logistic.py:947: ConvergenceWarning: lbfgs failed to converge. Increase the number of iterations.\n",
      "  \"of iterations.\", ConvergenceWarning)\n"
     ]
    },
    {
     "name": "stdout",
     "output_type": "stream",
     "text": [
      "French 1 32 stratified 2021\n",
      "Training complete!\n",
      "Macro F1:  0.414868\n",
      "\n",
      "https://ui.neptune.ai/Hatespeech-CNERG/MH-Bert/e/SAN-9490\n"
     ]
    },
    {
     "name": "stderr",
     "output_type": "stream",
     "text": [
      "/home/saketh/anaconda3/lib/python3.7/site-packages/sklearn/linear_model/logistic.py:947: ConvergenceWarning: lbfgs failed to converge. Increase the number of iterations.\n",
      "  \"of iterations.\", ConvergenceWarning)\n"
     ]
    },
    {
     "name": "stdout",
     "output_type": "stream",
     "text": [
      "French 1 32 stratified 2022\n",
      "Training complete!\n",
      "Macro F1:  0.401622\n",
      "\n",
      "https://ui.neptune.ai/Hatespeech-CNERG/MH-Bert/e/SAN-9492\n"
     ]
    },
    {
     "name": "stderr",
     "output_type": "stream",
     "text": [
      "/home/saketh/anaconda3/lib/python3.7/site-packages/sklearn/linear_model/logistic.py:947: ConvergenceWarning: lbfgs failed to converge. Increase the number of iterations.\n",
      "  \"of iterations.\", ConvergenceWarning)\n"
     ]
    },
    {
     "name": "stdout",
     "output_type": "stream",
     "text": [
      "French 1 64 stratified 2018\n",
      "Training complete!\n",
      "Macro F1:  0.409991\n",
      "\n",
      "https://ui.neptune.ai/Hatespeech-CNERG/MH-Bert/e/SAN-9495\n"
     ]
    },
    {
     "name": "stderr",
     "output_type": "stream",
     "text": [
      "/home/saketh/anaconda3/lib/python3.7/site-packages/sklearn/linear_model/logistic.py:947: ConvergenceWarning: lbfgs failed to converge. Increase the number of iterations.\n",
      "  \"of iterations.\", ConvergenceWarning)\n"
     ]
    },
    {
     "name": "stdout",
     "output_type": "stream",
     "text": [
      "French 1 64 stratified 2019\n",
      "Training complete!\n",
      "Macro F1:  0.411364\n",
      "\n",
      "https://ui.neptune.ai/Hatespeech-CNERG/MH-Bert/e/SAN-9497\n"
     ]
    },
    {
     "name": "stderr",
     "output_type": "stream",
     "text": [
      "/home/saketh/anaconda3/lib/python3.7/site-packages/sklearn/linear_model/logistic.py:947: ConvergenceWarning: lbfgs failed to converge. Increase the number of iterations.\n",
      "  \"of iterations.\", ConvergenceWarning)\n"
     ]
    },
    {
     "name": "stdout",
     "output_type": "stream",
     "text": [
      "French 1 64 stratified 2020\n",
      "Training complete!\n",
      "Macro F1:  0.409991\n",
      "\n",
      "https://ui.neptune.ai/Hatespeech-CNERG/MH-Bert/e/SAN-9498\n"
     ]
    },
    {
     "name": "stderr",
     "output_type": "stream",
     "text": [
      "/home/saketh/anaconda3/lib/python3.7/site-packages/sklearn/linear_model/logistic.py:947: ConvergenceWarning: lbfgs failed to converge. Increase the number of iterations.\n",
      "  \"of iterations.\", ConvergenceWarning)\n"
     ]
    },
    {
     "name": "stdout",
     "output_type": "stream",
     "text": [
      "French 1 64 stratified 2021\n",
      "Training complete!\n",
      "Macro F1:  0.409991\n",
      "\n",
      "https://ui.neptune.ai/Hatespeech-CNERG/MH-Bert/e/SAN-9499\n"
     ]
    },
    {
     "name": "stderr",
     "output_type": "stream",
     "text": [
      "/home/saketh/anaconda3/lib/python3.7/site-packages/sklearn/linear_model/logistic.py:947: ConvergenceWarning: lbfgs failed to converge. Increase the number of iterations.\n",
      "  \"of iterations.\", ConvergenceWarning)\n"
     ]
    },
    {
     "name": "stdout",
     "output_type": "stream",
     "text": [
      "French 1 64 stratified 2022\n",
      "Training complete!\n",
      "Macro F1:  0.405082\n",
      "\n",
      "https://ui.neptune.ai/Hatespeech-CNERG/MH-Bert/e/SAN-9500\n"
     ]
    },
    {
     "name": "stderr",
     "output_type": "stream",
     "text": [
      "/home/saketh/anaconda3/lib/python3.7/site-packages/sklearn/linear_model/logistic.py:947: ConvergenceWarning: lbfgs failed to converge. Increase the number of iterations.\n",
      "  \"of iterations.\", ConvergenceWarning)\n"
     ]
    },
    {
     "name": "stdout",
     "output_type": "stream",
     "text": [
      "French 1 128 stratified 2018\n",
      "Training complete!\n",
      "Macro F1:  0.406509\n",
      "\n",
      "https://ui.neptune.ai/Hatespeech-CNERG/MH-Bert/e/SAN-9501\n"
     ]
    },
    {
     "name": "stderr",
     "output_type": "stream",
     "text": [
      "/home/saketh/anaconda3/lib/python3.7/site-packages/sklearn/linear_model/logistic.py:947: ConvergenceWarning: lbfgs failed to converge. Increase the number of iterations.\n",
      "  \"of iterations.\", ConvergenceWarning)\n"
     ]
    },
    {
     "name": "stdout",
     "output_type": "stream",
     "text": [
      "French 1 128 stratified 2019\n",
      "Training complete!\n",
      "Macro F1:  0.406509\n",
      "\n",
      "https://ui.neptune.ai/Hatespeech-CNERG/MH-Bert/e/SAN-9502\n"
     ]
    },
    {
     "name": "stderr",
     "output_type": "stream",
     "text": [
      "/home/saketh/anaconda3/lib/python3.7/site-packages/sklearn/linear_model/logistic.py:947: ConvergenceWarning: lbfgs failed to converge. Increase the number of iterations.\n",
      "  \"of iterations.\", ConvergenceWarning)\n"
     ]
    },
    {
     "name": "stdout",
     "output_type": "stream",
     "text": [
      "French 1 128 stratified 2020\n",
      "Training complete!\n",
      "Macro F1:  0.406509\n",
      "\n",
      "https://ui.neptune.ai/Hatespeech-CNERG/MH-Bert/e/SAN-9503\n"
     ]
    },
    {
     "name": "stderr",
     "output_type": "stream",
     "text": [
      "/home/saketh/anaconda3/lib/python3.7/site-packages/sklearn/linear_model/logistic.py:947: ConvergenceWarning: lbfgs failed to converge. Increase the number of iterations.\n",
      "  \"of iterations.\", ConvergenceWarning)\n"
     ]
    },
    {
     "name": "stdout",
     "output_type": "stream",
     "text": [
      "French 1 128 stratified 2021\n",
      "Training complete!\n",
      "Macro F1:  0.409991\n",
      "\n",
      "https://ui.neptune.ai/Hatespeech-CNERG/MH-Bert/e/SAN-9504\n"
     ]
    },
    {
     "name": "stderr",
     "output_type": "stream",
     "text": [
      "/home/saketh/anaconda3/lib/python3.7/site-packages/sklearn/linear_model/logistic.py:947: ConvergenceWarning: lbfgs failed to converge. Increase the number of iterations.\n",
      "  \"of iterations.\", ConvergenceWarning)\n"
     ]
    },
    {
     "name": "stdout",
     "output_type": "stream",
     "text": [
      "French 1 128 stratified 2022\n",
      "Training complete!\n",
      "Macro F1:  0.406509\n",
      "\n",
      "https://ui.neptune.ai/Hatespeech-CNERG/MH-Bert/e/SAN-9505\n"
     ]
    },
    {
     "name": "stderr",
     "output_type": "stream",
     "text": [
      "/home/saketh/anaconda3/lib/python3.7/site-packages/sklearn/linear_model/logistic.py:947: ConvergenceWarning: lbfgs failed to converge. Increase the number of iterations.\n",
      "  \"of iterations.\", ConvergenceWarning)\n"
     ]
    },
    {
     "name": "stdout",
     "output_type": "stream",
     "text": [
      "French 1 256 stratified 2018\n",
      "Training complete!\n",
      "Macro F1:  0.411364\n",
      "\n",
      "https://ui.neptune.ai/Hatespeech-CNERG/MH-Bert/e/SAN-9506\n"
     ]
    },
    {
     "name": "stderr",
     "output_type": "stream",
     "text": [
      "/home/saketh/anaconda3/lib/python3.7/site-packages/sklearn/linear_model/logistic.py:947: ConvergenceWarning: lbfgs failed to converge. Increase the number of iterations.\n",
      "  \"of iterations.\", ConvergenceWarning)\n"
     ]
    },
    {
     "name": "stdout",
     "output_type": "stream",
     "text": [
      "French 1 256 stratified 2019\n",
      "Training complete!\n",
      "Macro F1:  0.411364\n",
      "\n",
      "https://ui.neptune.ai/Hatespeech-CNERG/MH-Bert/e/SAN-9507\n"
     ]
    },
    {
     "name": "stderr",
     "output_type": "stream",
     "text": [
      "/home/saketh/anaconda3/lib/python3.7/site-packages/sklearn/linear_model/logistic.py:947: ConvergenceWarning: lbfgs failed to converge. Increase the number of iterations.\n",
      "  \"of iterations.\", ConvergenceWarning)\n"
     ]
    },
    {
     "name": "stdout",
     "output_type": "stream",
     "text": [
      "French 1 256 stratified 2020\n",
      "Training complete!\n",
      "Macro F1:  0.406509\n",
      "\n",
      "https://ui.neptune.ai/Hatespeech-CNERG/MH-Bert/e/SAN-9508\n"
     ]
    },
    {
     "name": "stderr",
     "output_type": "stream",
     "text": [
      "/home/saketh/anaconda3/lib/python3.7/site-packages/sklearn/linear_model/logistic.py:947: ConvergenceWarning: lbfgs failed to converge. Increase the number of iterations.\n",
      "  \"of iterations.\", ConvergenceWarning)\n"
     ]
    },
    {
     "name": "stdout",
     "output_type": "stream",
     "text": [
      "French 1 256 stratified 2021\n",
      "Training complete!\n",
      "Macro F1:  0.406509\n",
      "\n",
      "https://ui.neptune.ai/Hatespeech-CNERG/MH-Bert/e/SAN-9509\n"
     ]
    },
    {
     "name": "stderr",
     "output_type": "stream",
     "text": [
      "/home/saketh/anaconda3/lib/python3.7/site-packages/sklearn/linear_model/logistic.py:947: ConvergenceWarning: lbfgs failed to converge. Increase the number of iterations.\n",
      "  \"of iterations.\", ConvergenceWarning)\n"
     ]
    },
    {
     "name": "stdout",
     "output_type": "stream",
     "text": [
      "French 1 256 stratified 2022\n",
      "Training complete!\n",
      "Macro F1:  0.416188\n",
      "\n",
      "https://ui.neptune.ai/Hatespeech-CNERG/MH-Bert/e/SAN-9510\n"
     ]
    },
    {
     "name": "stderr",
     "output_type": "stream",
     "text": [
      "/home/saketh/anaconda3/lib/python3.7/site-packages/sklearn/linear_model/logistic.py:947: ConvergenceWarning: lbfgs failed to converge. Increase the number of iterations.\n",
      "  \"of iterations.\", ConvergenceWarning)\n"
     ]
    },
    {
     "name": "stdout",
     "output_type": "stream",
     "text": [
      "French 10 16 stratified 2018\n",
      "Training complete!\n",
      "Macro F1:  0.411364\n",
      "\n",
      "https://ui.neptune.ai/Hatespeech-CNERG/MH-Bert/e/SAN-9511\n"
     ]
    },
    {
     "name": "stderr",
     "output_type": "stream",
     "text": [
      "/home/saketh/anaconda3/lib/python3.7/site-packages/sklearn/linear_model/logistic.py:947: ConvergenceWarning: lbfgs failed to converge. Increase the number of iterations.\n",
      "  \"of iterations.\", ConvergenceWarning)\n"
     ]
    },
    {
     "name": "stdout",
     "output_type": "stream",
     "text": [
      "French 10 16 stratified 2019\n",
      "Training complete!\n",
      "Macro F1:  0.419714\n",
      "\n",
      "https://ui.neptune.ai/Hatespeech-CNERG/MH-Bert/e/SAN-9512\n"
     ]
    },
    {
     "name": "stderr",
     "output_type": "stream",
     "text": [
      "/home/saketh/anaconda3/lib/python3.7/site-packages/sklearn/linear_model/logistic.py:947: ConvergenceWarning: lbfgs failed to converge. Increase the number of iterations.\n",
      "  \"of iterations.\", ConvergenceWarning)\n"
     ]
    },
    {
     "name": "stdout",
     "output_type": "stream",
     "text": [
      "French 10 16 stratified 2020\n",
      "Training complete!\n",
      "Macro F1:  0.419714\n",
      "\n",
      "https://ui.neptune.ai/Hatespeech-CNERG/MH-Bert/e/SAN-9513\n"
     ]
    },
    {
     "name": "stderr",
     "output_type": "stream",
     "text": [
      "/home/saketh/anaconda3/lib/python3.7/site-packages/sklearn/linear_model/logistic.py:947: ConvergenceWarning: lbfgs failed to converge. Increase the number of iterations.\n",
      "  \"of iterations.\", ConvergenceWarning)\n"
     ]
    },
    {
     "name": "stdout",
     "output_type": "stream",
     "text": [
      "French 10 16 stratified 2021\n",
      "Training complete!\n",
      "Macro F1:  0.428063\n",
      "\n",
      "https://ui.neptune.ai/Hatespeech-CNERG/MH-Bert/e/SAN-9514\n"
     ]
    },
    {
     "name": "stderr",
     "output_type": "stream",
     "text": [
      "/home/saketh/anaconda3/lib/python3.7/site-packages/sklearn/linear_model/logistic.py:947: ConvergenceWarning: lbfgs failed to converge. Increase the number of iterations.\n",
      "  \"of iterations.\", ConvergenceWarning)\n"
     ]
    },
    {
     "name": "stdout",
     "output_type": "stream",
     "text": [
      "French 10 16 stratified 2022\n",
      "Training complete!\n",
      "Macro F1:  0.411364\n",
      "\n",
      "https://ui.neptune.ai/Hatespeech-CNERG/MH-Bert/e/SAN-9515\n"
     ]
    },
    {
     "name": "stderr",
     "output_type": "stream",
     "text": [
      "/home/saketh/anaconda3/lib/python3.7/site-packages/sklearn/linear_model/logistic.py:947: ConvergenceWarning: lbfgs failed to converge. Increase the number of iterations.\n",
      "  \"of iterations.\", ConvergenceWarning)\n"
     ]
    },
    {
     "name": "stdout",
     "output_type": "stream",
     "text": [
      "French 10 32 stratified 2018\n",
      "Training complete!\n",
      "Macro F1:  0.423227\n",
      "\n",
      "https://ui.neptune.ai/Hatespeech-CNERG/MH-Bert/e/SAN-9516\n"
     ]
    },
    {
     "name": "stderr",
     "output_type": "stream",
     "text": [
      "/home/saketh/anaconda3/lib/python3.7/site-packages/sklearn/linear_model/logistic.py:947: ConvergenceWarning: lbfgs failed to converge. Increase the number of iterations.\n",
      "  \"of iterations.\", ConvergenceWarning)\n"
     ]
    },
    {
     "name": "stdout",
     "output_type": "stream",
     "text": [
      "French 10 32 stratified 2019\n",
      "Training complete!\n",
      "Macro F1:  0.416188\n",
      "\n",
      "https://ui.neptune.ai/Hatespeech-CNERG/MH-Bert/e/SAN-9517\n"
     ]
    },
    {
     "name": "stderr",
     "output_type": "stream",
     "text": [
      "/home/saketh/anaconda3/lib/python3.7/site-packages/sklearn/linear_model/logistic.py:947: ConvergenceWarning: lbfgs failed to converge. Increase the number of iterations.\n",
      "  \"of iterations.\", ConvergenceWarning)\n"
     ]
    },
    {
     "name": "stdout",
     "output_type": "stream",
     "text": [
      "French 10 32 stratified 2020\n",
      "Training complete!\n",
      "Macro F1:  0.418360\n",
      "\n",
      "https://ui.neptune.ai/Hatespeech-CNERG/MH-Bert/e/SAN-9518\n"
     ]
    },
    {
     "name": "stderr",
     "output_type": "stream",
     "text": [
      "/home/saketh/anaconda3/lib/python3.7/site-packages/sklearn/linear_model/logistic.py:947: ConvergenceWarning: lbfgs failed to converge. Increase the number of iterations.\n",
      "  \"of iterations.\", ConvergenceWarning)\n"
     ]
    },
    {
     "name": "stdout",
     "output_type": "stream",
     "text": [
      "French 10 32 stratified 2021\n",
      "Training complete!\n",
      "Macro F1:  0.416188\n",
      "\n",
      "https://ui.neptune.ai/Hatespeech-CNERG/MH-Bert/e/SAN-9519\n"
     ]
    },
    {
     "name": "stderr",
     "output_type": "stream",
     "text": [
      "/home/saketh/anaconda3/lib/python3.7/site-packages/sklearn/linear_model/logistic.py:947: ConvergenceWarning: lbfgs failed to converge. Increase the number of iterations.\n",
      "  \"of iterations.\", ConvergenceWarning)\n"
     ]
    },
    {
     "name": "stdout",
     "output_type": "stream",
     "text": [
      "French 10 32 stratified 2022\n",
      "Training complete!\n",
      "Macro F1:  0.411364\n",
      "\n",
      "https://ui.neptune.ai/Hatespeech-CNERG/MH-Bert/e/SAN-9520\n"
     ]
    },
    {
     "name": "stderr",
     "output_type": "stream",
     "text": [
      "/home/saketh/anaconda3/lib/python3.7/site-packages/sklearn/linear_model/logistic.py:947: ConvergenceWarning: lbfgs failed to converge. Increase the number of iterations.\n",
      "  \"of iterations.\", ConvergenceWarning)\n"
     ]
    },
    {
     "name": "stdout",
     "output_type": "stream",
     "text": [
      "French 10 64 stratified 2018\n",
      "Training complete!\n",
      "Macro F1:  0.419714\n",
      "\n",
      "https://ui.neptune.ai/Hatespeech-CNERG/MH-Bert/e/SAN-9521\n"
     ]
    },
    {
     "name": "stderr",
     "output_type": "stream",
     "text": [
      "/home/saketh/anaconda3/lib/python3.7/site-packages/sklearn/linear_model/logistic.py:947: ConvergenceWarning: lbfgs failed to converge. Increase the number of iterations.\n",
      "  \"of iterations.\", ConvergenceWarning)\n"
     ]
    },
    {
     "name": "stdout",
     "output_type": "stream",
     "text": [
      "French 10 64 stratified 2019\n",
      "Training complete!\n",
      "Macro F1:  0.406509\n",
      "\n",
      "https://ui.neptune.ai/Hatespeech-CNERG/MH-Bert/e/SAN-9522\n"
     ]
    },
    {
     "name": "stderr",
     "output_type": "stream",
     "text": [
      "/home/saketh/anaconda3/lib/python3.7/site-packages/sklearn/linear_model/logistic.py:947: ConvergenceWarning: lbfgs failed to converge. Increase the number of iterations.\n",
      "  \"of iterations.\", ConvergenceWarning)\n"
     ]
    },
    {
     "name": "stdout",
     "output_type": "stream",
     "text": [
      "French 10 64 stratified 2020\n",
      "Training complete!\n",
      "Macro F1:  0.423227\n",
      "\n",
      "https://ui.neptune.ai/Hatespeech-CNERG/MH-Bert/e/SAN-9523\n"
     ]
    },
    {
     "name": "stderr",
     "output_type": "stream",
     "text": [
      "/home/saketh/anaconda3/lib/python3.7/site-packages/sklearn/linear_model/logistic.py:947: ConvergenceWarning: lbfgs failed to converge. Increase the number of iterations.\n",
      "  \"of iterations.\", ConvergenceWarning)\n"
     ]
    },
    {
     "name": "stdout",
     "output_type": "stream",
     "text": [
      "French 10 64 stratified 2021\n",
      "Training complete!\n",
      "Macro F1:  0.416188\n",
      "\n",
      "https://ui.neptune.ai/Hatespeech-CNERG/MH-Bert/e/SAN-9524\n"
     ]
    },
    {
     "name": "stderr",
     "output_type": "stream",
     "text": [
      "/home/saketh/anaconda3/lib/python3.7/site-packages/sklearn/linear_model/logistic.py:947: ConvergenceWarning: lbfgs failed to converge. Increase the number of iterations.\n",
      "  \"of iterations.\", ConvergenceWarning)\n"
     ]
    },
    {
     "name": "stdout",
     "output_type": "stream",
     "text": [
      "French 10 64 stratified 2022\n",
      "Training complete!\n",
      "Macro F1:  0.424528\n",
      "\n",
      "https://ui.neptune.ai/Hatespeech-CNERG/MH-Bert/e/SAN-9525\n"
     ]
    },
    {
     "name": "stderr",
     "output_type": "stream",
     "text": [
      "/home/saketh/anaconda3/lib/python3.7/site-packages/sklearn/linear_model/logistic.py:947: ConvergenceWarning: lbfgs failed to converge. Increase the number of iterations.\n",
      "  \"of iterations.\", ConvergenceWarning)\n"
     ]
    },
    {
     "name": "stdout",
     "output_type": "stream",
     "text": [
      "French 10 128 stratified 2018\n",
      "Training complete!\n",
      "Macro F1:  0.411364\n",
      "\n",
      "https://ui.neptune.ai/Hatespeech-CNERG/MH-Bert/e/SAN-9526\n"
     ]
    },
    {
     "name": "stderr",
     "output_type": "stream",
     "text": [
      "/home/saketh/anaconda3/lib/python3.7/site-packages/sklearn/linear_model/logistic.py:947: ConvergenceWarning: lbfgs failed to converge. Increase the number of iterations.\n",
      "  \"of iterations.\", ConvergenceWarning)\n"
     ]
    },
    {
     "name": "stdout",
     "output_type": "stream",
     "text": [
      "French 10 128 stratified 2019\n",
      "Training complete!\n",
      "Macro F1:  0.420982\n",
      "\n",
      "https://ui.neptune.ai/Hatespeech-CNERG/MH-Bert/e/SAN-9527\n"
     ]
    },
    {
     "name": "stderr",
     "output_type": "stream",
     "text": [
      "/home/saketh/anaconda3/lib/python3.7/site-packages/sklearn/linear_model/logistic.py:947: ConvergenceWarning: lbfgs failed to converge. Increase the number of iterations.\n",
      "  \"of iterations.\", ConvergenceWarning)\n"
     ]
    },
    {
     "name": "stdout",
     "output_type": "stream",
     "text": [
      "French 10 128 stratified 2020\n",
      "Training complete!\n",
      "Macro F1:  0.416188\n",
      "\n",
      "https://ui.neptune.ai/Hatespeech-CNERG/MH-Bert/e/SAN-9528\n"
     ]
    },
    {
     "name": "stderr",
     "output_type": "stream",
     "text": [
      "/home/saketh/anaconda3/lib/python3.7/site-packages/sklearn/linear_model/logistic.py:947: ConvergenceWarning: lbfgs failed to converge. Increase the number of iterations.\n",
      "  \"of iterations.\", ConvergenceWarning)\n"
     ]
    },
    {
     "name": "stdout",
     "output_type": "stream",
     "text": [
      "French 10 128 stratified 2021\n",
      "Training complete!\n",
      "Macro F1:  0.424528\n",
      "\n",
      "https://ui.neptune.ai/Hatespeech-CNERG/MH-Bert/e/SAN-9529\n"
     ]
    },
    {
     "name": "stderr",
     "output_type": "stream",
     "text": [
      "/home/saketh/anaconda3/lib/python3.7/site-packages/sklearn/linear_model/logistic.py:947: ConvergenceWarning: lbfgs failed to converge. Increase the number of iterations.\n",
      "  \"of iterations.\", ConvergenceWarning)\n"
     ]
    },
    {
     "name": "stdout",
     "output_type": "stream",
     "text": [
      "French 10 128 stratified 2022\n",
      "Training complete!\n",
      "Macro F1:  0.417423\n",
      "\n",
      "https://ui.neptune.ai/Hatespeech-CNERG/MH-Bert/e/SAN-9530\n"
     ]
    },
    {
     "name": "stderr",
     "output_type": "stream",
     "text": [
      "/home/saketh/anaconda3/lib/python3.7/site-packages/sklearn/linear_model/logistic.py:947: ConvergenceWarning: lbfgs failed to converge. Increase the number of iterations.\n",
      "  \"of iterations.\", ConvergenceWarning)\n"
     ]
    },
    {
     "name": "stdout",
     "output_type": "stream",
     "text": [
      "French 10 256 stratified 2018\n",
      "Training complete!\n",
      "Macro F1:  0.417423\n",
      "\n",
      "https://ui.neptune.ai/Hatespeech-CNERG/MH-Bert/e/SAN-9531\n"
     ]
    },
    {
     "name": "stderr",
     "output_type": "stream",
     "text": [
      "/home/saketh/anaconda3/lib/python3.7/site-packages/sklearn/linear_model/logistic.py:947: ConvergenceWarning: lbfgs failed to converge. Increase the number of iterations.\n",
      "  \"of iterations.\", ConvergenceWarning)\n"
     ]
    },
    {
     "name": "stdout",
     "output_type": "stream",
     "text": [
      "French 10 256 stratified 2019\n",
      "Training complete!\n",
      "Macro F1:  0.422165\n",
      "\n",
      "https://ui.neptune.ai/Hatespeech-CNERG/MH-Bert/e/SAN-9532\n"
     ]
    },
    {
     "name": "stderr",
     "output_type": "stream",
     "text": [
      "/home/saketh/anaconda3/lib/python3.7/site-packages/sklearn/linear_model/logistic.py:947: ConvergenceWarning: lbfgs failed to converge. Increase the number of iterations.\n",
      "  \"of iterations.\", ConvergenceWarning)\n"
     ]
    },
    {
     "name": "stdout",
     "output_type": "stream",
     "text": [
      "French 10 256 stratified 2020\n",
      "Training complete!\n",
      "Macro F1:  0.420982\n",
      "\n",
      "https://ui.neptune.ai/Hatespeech-CNERG/MH-Bert/e/SAN-9533\n"
     ]
    },
    {
     "name": "stderr",
     "output_type": "stream",
     "text": [
      "/home/saketh/anaconda3/lib/python3.7/site-packages/sklearn/linear_model/logistic.py:947: ConvergenceWarning: lbfgs failed to converge. Increase the number of iterations.\n",
      "  \"of iterations.\", ConvergenceWarning)\n"
     ]
    },
    {
     "name": "stdout",
     "output_type": "stream",
     "text": [
      "French 10 256 stratified 2021\n",
      "Training complete!\n",
      "Macro F1:  0.420982\n",
      "\n",
      "https://ui.neptune.ai/Hatespeech-CNERG/MH-Bert/e/SAN-9534\n"
     ]
    },
    {
     "name": "stderr",
     "output_type": "stream",
     "text": [
      "/home/saketh/anaconda3/lib/python3.7/site-packages/sklearn/linear_model/logistic.py:947: ConvergenceWarning: lbfgs failed to converge. Increase the number of iterations.\n",
      "  \"of iterations.\", ConvergenceWarning)\n"
     ]
    },
    {
     "name": "stdout",
     "output_type": "stream",
     "text": [
      "French 10 256 stratified 2022\n",
      "Training complete!\n",
      "Macro F1:  0.417423\n",
      "\n"
     ]
    }
   ],
   "source": [
    "# Run the above function for all languages, and 4 chosen c values, for 5 seed values each.\n",
    "for lang in langs:\n",
    "    for c in [0.01,0.1,1,10]:\n",
    "        for samp in [16,32,64,128,256]:\n",
    "            for ty in ['stratified']:\n",
    "                for seeds in [2018,2019,2020,2021,2022]:\n",
    "                    seed_val = seeds\n",
    "                    np.random.seed(seed_val)\n",
    "                    train_and_test_allbutone(lang,c,samp,ty,seed_val)"
   ]
  },
  {
   "cell_type": "code",
   "execution_count": 16,
   "metadata": {},
   "outputs": [],
   "source": [
    "# Function to run zero shot experiment i.e. without any data from the target language. \n",
    "def train_and_test_zeroshot(lang,c,sample,seed_val):\n",
    "    # Define the parameters of the experiment and create a neptune experiment with these parameters\n",
    "    params = {}\n",
    "    params['how_train'] = 'all_but_one'\n",
    "    params['random_seed'] = seed_val\n",
    "    params['sample_ratio'] = sample\n",
    "    params['lang'] = lang\n",
    "    params['C'] = c\n",
    "    name_one = lang+'_'+'all_but_one'+'_'+str(sample)+'_'+str(seed_val)\n",
    "    neptune.create_experiment(name_one,params=params,send_hardware_metrics=False,run_monitoring_thread=False)\n",
    "    neptune.append_tag('LR all_but_one')\n",
    "    neptune.append_tag(lang)\n",
    "    neptune.append_tag('only_hate')\n",
    "    neptune.append_tag('zero shot')\n",
    "    train = pd.DataFrame()\n",
    "    columns = cols+['label']\n",
    "    # Load training dataset and split the embeddings and labels. Only other language points are loaded. \n",
    "    for l in langs:\n",
    "        if l!=lang:\n",
    "            df = pd.read_csv(os.path.join('../Dataset/embedded/train',l+'.csv'))\n",
    "            df = df[columns]\n",
    "            train = pd.concat([train,df],axis=0)\n",
    "    # Shuffle the dataset\n",
    "    train = train.sample(frac=1,random_state=seed_val).reset_index(drop=True)\n",
    "    train_x = train[cols]\n",
    "    train_y = train['label']\n",
    "    # Initialize a logistic regression model. The class weights are taken as balanced to account for data imbalance\n",
    "    model = LogisticRegression(C=c,solver='lbfgs',class_weight='balanced',random_state=seed_val)\n",
    "    # Train the model\n",
    "    model.fit(train_x,train_y)\n",
    "    # Load the validation and test datasets\n",
    "    val = pd.read_csv(os.path.join('../Dataset/embedded/val',lang+'.csv'))\n",
    "    test = pd.read_csv(os.path.join('../Dataset/embedded/test',lang+'.csv'))\n",
    "    test_x = test[cols]\n",
    "    test_y = test['label']\n",
    "    val_x = val[cols]\n",
    "    val_y = val['label']\n",
    "    print(lang,c,seed_val)\n",
    "    print('Training complete!')\n",
    "    # Get the predictions on the validation and test sets\n",
    "    pred = model.predict(test_x)\n",
    "    fscore = f1_score(test_y,pred,average='macro')\n",
    "    accuracy = accuracy_score(test_y,pred)\n",
    "    pred_val = model.predict(val_x)\n",
    "    val_fscore = f1_score(val_y,pred_val,average='macro')\n",
    "    val_accuracy = accuracy_score(val_y,pred_val)\n",
    "    print(\"Macro F1: \",'{0:.6f}'.format(f1_score(test_y,pred,average='macro')))\n",
    "    print('')\n",
    "    # Log the accuracy and f1 scores to neptune\n",
    "    neptune.log_metric('val_fscore',val_fscore)\n",
    "    neptune.log_metric('val_acc',val_accuracy)\n",
    "    neptune.log_metric('test_fscore',fscore)\n",
    "    neptune.log_metric('test_accuracy',accuracy)\n",
    "    neptune.stop()\n",
    "    return fscore"
   ]
  },
  {
   "cell_type": "code",
   "execution_count": 17,
   "metadata": {
    "collapsed": true
   },
   "outputs": [
    {
     "name": "stdout",
     "output_type": "stream",
     "text": [
      "https://ui.neptune.ai/Hatespeech-CNERG/MH-Bert/e/SAN-9537\n",
      "Arabic 0.01 2018\n",
      "Training complete!\n",
      "Macro F1:  0.296838\n",
      "\n",
      "https://ui.neptune.ai/Hatespeech-CNERG/MH-Bert/e/SAN-9538\n",
      "Arabic 0.01 2019\n",
      "Training complete!\n",
      "Macro F1:  0.296838\n",
      "\n",
      "https://ui.neptune.ai/Hatespeech-CNERG/MH-Bert/e/SAN-9539\n",
      "Arabic 0.01 2020\n",
      "Training complete!\n",
      "Macro F1:  0.296838\n",
      "\n",
      "https://ui.neptune.ai/Hatespeech-CNERG/MH-Bert/e/SAN-9540\n",
      "Arabic 0.01 2021\n",
      "Training complete!\n",
      "Macro F1:  0.296838\n",
      "\n",
      "https://ui.neptune.ai/Hatespeech-CNERG/MH-Bert/e/SAN-9541\n",
      "Arabic 0.01 2022\n",
      "Training complete!\n",
      "Macro F1:  0.296838\n",
      "\n",
      "https://ui.neptune.ai/Hatespeech-CNERG/MH-Bert/e/SAN-9542\n",
      "Arabic 0.1 2018\n",
      "Training complete!\n",
      "Macro F1:  0.412779\n",
      "\n",
      "https://ui.neptune.ai/Hatespeech-CNERG/MH-Bert/e/SAN-9543\n",
      "Arabic 0.1 2019\n",
      "Training complete!\n",
      "Macro F1:  0.412779\n",
      "\n",
      "https://ui.neptune.ai/Hatespeech-CNERG/MH-Bert/e/SAN-9545\n",
      "Arabic 0.1 2020\n",
      "Training complete!\n",
      "Macro F1:  0.412779\n",
      "\n",
      "https://ui.neptune.ai/Hatespeech-CNERG/MH-Bert/e/SAN-9547\n",
      "Arabic 0.1 2021\n",
      "Training complete!\n",
      "Macro F1:  0.412779\n",
      "\n",
      "https://ui.neptune.ai/Hatespeech-CNERG/MH-Bert/e/SAN-9548\n",
      "Arabic 0.1 2022\n",
      "Training complete!\n",
      "Macro F1:  0.412779\n",
      "\n",
      "https://ui.neptune.ai/Hatespeech-CNERG/MH-Bert/e/SAN-9549\n"
     ]
    },
    {
     "name": "stderr",
     "output_type": "stream",
     "text": [
      "/home/saketh/anaconda3/lib/python3.7/site-packages/sklearn/linear_model/logistic.py:947: ConvergenceWarning: lbfgs failed to converge. Increase the number of iterations.\n",
      "  \"of iterations.\", ConvergenceWarning)\n"
     ]
    },
    {
     "name": "stdout",
     "output_type": "stream",
     "text": [
      "Arabic 1 2018\n",
      "Training complete!\n",
      "Macro F1:  0.449832\n",
      "\n",
      "https://ui.neptune.ai/Hatespeech-CNERG/MH-Bert/e/SAN-9550\n"
     ]
    },
    {
     "name": "stderr",
     "output_type": "stream",
     "text": [
      "/home/saketh/anaconda3/lib/python3.7/site-packages/sklearn/linear_model/logistic.py:947: ConvergenceWarning: lbfgs failed to converge. Increase the number of iterations.\n",
      "  \"of iterations.\", ConvergenceWarning)\n"
     ]
    },
    {
     "name": "stdout",
     "output_type": "stream",
     "text": [
      "Arabic 1 2019\n",
      "Training complete!\n",
      "Macro F1:  0.449832\n",
      "\n",
      "https://ui.neptune.ai/Hatespeech-CNERG/MH-Bert/e/SAN-9551\n"
     ]
    },
    {
     "name": "stderr",
     "output_type": "stream",
     "text": [
      "/home/saketh/anaconda3/lib/python3.7/site-packages/sklearn/linear_model/logistic.py:947: ConvergenceWarning: lbfgs failed to converge. Increase the number of iterations.\n",
      "  \"of iterations.\", ConvergenceWarning)\n"
     ]
    },
    {
     "name": "stdout",
     "output_type": "stream",
     "text": [
      "Arabic 1 2020\n",
      "Training complete!\n",
      "Macro F1:  0.449832\n",
      "\n",
      "https://ui.neptune.ai/Hatespeech-CNERG/MH-Bert/e/SAN-9552\n"
     ]
    },
    {
     "name": "stderr",
     "output_type": "stream",
     "text": [
      "/home/saketh/anaconda3/lib/python3.7/site-packages/sklearn/linear_model/logistic.py:947: ConvergenceWarning: lbfgs failed to converge. Increase the number of iterations.\n",
      "  \"of iterations.\", ConvergenceWarning)\n"
     ]
    },
    {
     "name": "stdout",
     "output_type": "stream",
     "text": [
      "Arabic 1 2021\n",
      "Training complete!\n",
      "Macro F1:  0.449832\n",
      "\n",
      "https://ui.neptune.ai/Hatespeech-CNERG/MH-Bert/e/SAN-9554\n"
     ]
    },
    {
     "name": "stderr",
     "output_type": "stream",
     "text": [
      "/home/saketh/anaconda3/lib/python3.7/site-packages/sklearn/linear_model/logistic.py:947: ConvergenceWarning: lbfgs failed to converge. Increase the number of iterations.\n",
      "  \"of iterations.\", ConvergenceWarning)\n"
     ]
    },
    {
     "name": "stdout",
     "output_type": "stream",
     "text": [
      "Arabic 1 2022\n",
      "Training complete!\n",
      "Macro F1:  0.449832\n",
      "\n",
      "https://ui.neptune.ai/Hatespeech-CNERG/MH-Bert/e/SAN-9555\n"
     ]
    },
    {
     "name": "stderr",
     "output_type": "stream",
     "text": [
      "/home/saketh/anaconda3/lib/python3.7/site-packages/sklearn/linear_model/logistic.py:947: ConvergenceWarning: lbfgs failed to converge. Increase the number of iterations.\n",
      "  \"of iterations.\", ConvergenceWarning)\n"
     ]
    },
    {
     "name": "stdout",
     "output_type": "stream",
     "text": [
      "Arabic 10 2018\n",
      "Training complete!\n",
      "Macro F1:  0.464475\n",
      "\n",
      "https://ui.neptune.ai/Hatespeech-CNERG/MH-Bert/e/SAN-9557\n"
     ]
    },
    {
     "name": "stderr",
     "output_type": "stream",
     "text": [
      "/home/saketh/anaconda3/lib/python3.7/site-packages/sklearn/linear_model/logistic.py:947: ConvergenceWarning: lbfgs failed to converge. Increase the number of iterations.\n",
      "  \"of iterations.\", ConvergenceWarning)\n"
     ]
    },
    {
     "name": "stdout",
     "output_type": "stream",
     "text": [
      "Arabic 10 2019\n",
      "Training complete!\n",
      "Macro F1:  0.464475\n",
      "\n",
      "https://ui.neptune.ai/Hatespeech-CNERG/MH-Bert/e/SAN-9559\n"
     ]
    },
    {
     "name": "stderr",
     "output_type": "stream",
     "text": [
      "/home/saketh/anaconda3/lib/python3.7/site-packages/sklearn/linear_model/logistic.py:947: ConvergenceWarning: lbfgs failed to converge. Increase the number of iterations.\n",
      "  \"of iterations.\", ConvergenceWarning)\n"
     ]
    },
    {
     "name": "stdout",
     "output_type": "stream",
     "text": [
      "Arabic 10 2020\n",
      "Training complete!\n",
      "Macro F1:  0.464475\n",
      "\n",
      "https://ui.neptune.ai/Hatespeech-CNERG/MH-Bert/e/SAN-9560\n"
     ]
    },
    {
     "name": "stderr",
     "output_type": "stream",
     "text": [
      "/home/saketh/anaconda3/lib/python3.7/site-packages/sklearn/linear_model/logistic.py:947: ConvergenceWarning: lbfgs failed to converge. Increase the number of iterations.\n",
      "  \"of iterations.\", ConvergenceWarning)\n"
     ]
    },
    {
     "name": "stdout",
     "output_type": "stream",
     "text": [
      "Arabic 10 2021\n",
      "Training complete!\n",
      "Macro F1:  0.464475\n",
      "\n",
      "https://ui.neptune.ai/Hatespeech-CNERG/MH-Bert/e/SAN-9561\n"
     ]
    },
    {
     "name": "stderr",
     "output_type": "stream",
     "text": [
      "/home/saketh/anaconda3/lib/python3.7/site-packages/sklearn/linear_model/logistic.py:947: ConvergenceWarning: lbfgs failed to converge. Increase the number of iterations.\n",
      "  \"of iterations.\", ConvergenceWarning)\n"
     ]
    },
    {
     "name": "stdout",
     "output_type": "stream",
     "text": [
      "Arabic 10 2022\n",
      "Training complete!\n",
      "Macro F1:  0.464475\n",
      "\n",
      "https://ui.neptune.ai/Hatespeech-CNERG/MH-Bert/e/SAN-9562\n",
      "English 0.01 2018\n",
      "Training complete!\n",
      "Macro F1:  0.604955\n",
      "\n",
      "https://ui.neptune.ai/Hatespeech-CNERG/MH-Bert/e/SAN-9563\n",
      "English 0.01 2019\n",
      "Training complete!\n",
      "Macro F1:  0.604955\n",
      "\n",
      "https://ui.neptune.ai/Hatespeech-CNERG/MH-Bert/e/SAN-9564\n",
      "English 0.01 2020\n",
      "Training complete!\n",
      "Macro F1:  0.604955\n",
      "\n",
      "https://ui.neptune.ai/Hatespeech-CNERG/MH-Bert/e/SAN-9565\n",
      "English 0.01 2021\n",
      "Training complete!\n",
      "Macro F1:  0.604955\n",
      "\n",
      "https://ui.neptune.ai/Hatespeech-CNERG/MH-Bert/e/SAN-9566\n",
      "English 0.01 2022\n",
      "Training complete!\n",
      "Macro F1:  0.604955\n",
      "\n",
      "https://ui.neptune.ai/Hatespeech-CNERG/MH-Bert/e/SAN-9567\n",
      "English 0.1 2018\n",
      "Training complete!\n",
      "Macro F1:  0.590462\n",
      "\n",
      "https://ui.neptune.ai/Hatespeech-CNERG/MH-Bert/e/SAN-9568\n",
      "English 0.1 2019\n",
      "Training complete!\n",
      "Macro F1:  0.590462\n",
      "\n",
      "https://ui.neptune.ai/Hatespeech-CNERG/MH-Bert/e/SAN-9570\n",
      "English 0.1 2020\n",
      "Training complete!\n",
      "Macro F1:  0.590462\n",
      "\n",
      "https://ui.neptune.ai/Hatespeech-CNERG/MH-Bert/e/SAN-9571\n",
      "English 0.1 2021\n",
      "Training complete!\n",
      "Macro F1:  0.590462\n",
      "\n",
      "https://ui.neptune.ai/Hatespeech-CNERG/MH-Bert/e/SAN-9572\n",
      "English 0.1 2022\n",
      "Training complete!\n",
      "Macro F1:  0.590462\n",
      "\n",
      "https://ui.neptune.ai/Hatespeech-CNERG/MH-Bert/e/SAN-9573\n",
      "English 1 2018\n",
      "Training complete!\n",
      "Macro F1:  0.588826\n",
      "\n",
      "https://ui.neptune.ai/Hatespeech-CNERG/MH-Bert/e/SAN-9574\n",
      "English 1 2019\n",
      "Training complete!\n",
      "Macro F1:  0.588826\n",
      "\n",
      "https://ui.neptune.ai/Hatespeech-CNERG/MH-Bert/e/SAN-9575\n",
      "English 1 2020\n",
      "Training complete!\n",
      "Macro F1:  0.588826\n",
      "\n",
      "https://ui.neptune.ai/Hatespeech-CNERG/MH-Bert/e/SAN-9576\n",
      "English 1 2021\n",
      "Training complete!\n",
      "Macro F1:  0.588826\n",
      "\n",
      "https://ui.neptune.ai/Hatespeech-CNERG/MH-Bert/e/SAN-9577\n",
      "English 1 2022\n",
      "Training complete!\n",
      "Macro F1:  0.588826\n",
      "\n",
      "https://ui.neptune.ai/Hatespeech-CNERG/MH-Bert/e/SAN-9578\n"
     ]
    },
    {
     "name": "stderr",
     "output_type": "stream",
     "text": [
      "/home/saketh/anaconda3/lib/python3.7/site-packages/sklearn/linear_model/logistic.py:947: ConvergenceWarning: lbfgs failed to converge. Increase the number of iterations.\n",
      "  \"of iterations.\", ConvergenceWarning)\n"
     ]
    },
    {
     "name": "stdout",
     "output_type": "stream",
     "text": [
      "English 10 2018\n",
      "Training complete!\n",
      "Macro F1:  0.586336\n",
      "\n",
      "https://ui.neptune.ai/Hatespeech-CNERG/MH-Bert/e/SAN-9579\n"
     ]
    },
    {
     "name": "stderr",
     "output_type": "stream",
     "text": [
      "/home/saketh/anaconda3/lib/python3.7/site-packages/sklearn/linear_model/logistic.py:947: ConvergenceWarning: lbfgs failed to converge. Increase the number of iterations.\n",
      "  \"of iterations.\", ConvergenceWarning)\n"
     ]
    },
    {
     "name": "stdout",
     "output_type": "stream",
     "text": [
      "English 10 2019\n",
      "Training complete!\n",
      "Macro F1:  0.586336\n",
      "\n",
      "https://ui.neptune.ai/Hatespeech-CNERG/MH-Bert/e/SAN-9580\n"
     ]
    },
    {
     "name": "stderr",
     "output_type": "stream",
     "text": [
      "/home/saketh/anaconda3/lib/python3.7/site-packages/sklearn/linear_model/logistic.py:947: ConvergenceWarning: lbfgs failed to converge. Increase the number of iterations.\n",
      "  \"of iterations.\", ConvergenceWarning)\n"
     ]
    },
    {
     "name": "stdout",
     "output_type": "stream",
     "text": [
      "English 10 2020\n",
      "Training complete!\n",
      "Macro F1:  0.586336\n",
      "\n",
      "https://ui.neptune.ai/Hatespeech-CNERG/MH-Bert/e/SAN-9581\n"
     ]
    },
    {
     "name": "stderr",
     "output_type": "stream",
     "text": [
      "/home/saketh/anaconda3/lib/python3.7/site-packages/sklearn/linear_model/logistic.py:947: ConvergenceWarning: lbfgs failed to converge. Increase the number of iterations.\n",
      "  \"of iterations.\", ConvergenceWarning)\n"
     ]
    },
    {
     "name": "stdout",
     "output_type": "stream",
     "text": [
      "English 10 2021\n",
      "Training complete!\n",
      "Macro F1:  0.586336\n",
      "\n",
      "https://ui.neptune.ai/Hatespeech-CNERG/MH-Bert/e/SAN-9582\n"
     ]
    },
    {
     "name": "stderr",
     "output_type": "stream",
     "text": [
      "/home/saketh/anaconda3/lib/python3.7/site-packages/sklearn/linear_model/logistic.py:947: ConvergenceWarning: lbfgs failed to converge. Increase the number of iterations.\n",
      "  \"of iterations.\", ConvergenceWarning)\n"
     ]
    },
    {
     "name": "stdout",
     "output_type": "stream",
     "text": [
      "English 10 2022\n",
      "Training complete!\n",
      "Macro F1:  0.586336\n",
      "\n",
      "https://ui.neptune.ai/Hatespeech-CNERG/MH-Bert/e/SAN-9583\n",
      "German 0.01 2018\n",
      "Training complete!\n",
      "Macro F1:  0.363639\n",
      "\n",
      "https://ui.neptune.ai/Hatespeech-CNERG/MH-Bert/e/SAN-9584\n",
      "German 0.01 2019\n",
      "Training complete!\n",
      "Macro F1:  0.363639\n",
      "\n",
      "https://ui.neptune.ai/Hatespeech-CNERG/MH-Bert/e/SAN-9586\n",
      "German 0.01 2020\n",
      "Training complete!\n",
      "Macro F1:  0.363639\n",
      "\n",
      "https://ui.neptune.ai/Hatespeech-CNERG/MH-Bert/e/SAN-9587\n",
      "German 0.01 2021\n",
      "Training complete!\n",
      "Macro F1:  0.363639\n",
      "\n",
      "https://ui.neptune.ai/Hatespeech-CNERG/MH-Bert/e/SAN-9588\n",
      "German 0.01 2022\n",
      "Training complete!\n",
      "Macro F1:  0.363639\n",
      "\n",
      "https://ui.neptune.ai/Hatespeech-CNERG/MH-Bert/e/SAN-9589\n",
      "German 0.1 2018\n",
      "Training complete!\n",
      "Macro F1:  0.439122\n",
      "\n",
      "https://ui.neptune.ai/Hatespeech-CNERG/MH-Bert/e/SAN-9590\n",
      "German 0.1 2019\n",
      "Training complete!\n",
      "Macro F1:  0.439122\n",
      "\n",
      "https://ui.neptune.ai/Hatespeech-CNERG/MH-Bert/e/SAN-9592\n",
      "German 0.1 2020\n",
      "Training complete!\n",
      "Macro F1:  0.439122\n",
      "\n",
      "https://ui.neptune.ai/Hatespeech-CNERG/MH-Bert/e/SAN-9594\n",
      "German 0.1 2021\n",
      "Training complete!\n",
      "Macro F1:  0.439122\n",
      "\n",
      "https://ui.neptune.ai/Hatespeech-CNERG/MH-Bert/e/SAN-9595\n",
      "German 0.1 2022\n",
      "Training complete!\n",
      "Macro F1:  0.439122\n",
      "\n",
      "https://ui.neptune.ai/Hatespeech-CNERG/MH-Bert/e/SAN-9596\n"
     ]
    },
    {
     "name": "stderr",
     "output_type": "stream",
     "text": [
      "/home/saketh/anaconda3/lib/python3.7/site-packages/sklearn/linear_model/logistic.py:947: ConvergenceWarning: lbfgs failed to converge. Increase the number of iterations.\n",
      "  \"of iterations.\", ConvergenceWarning)\n"
     ]
    },
    {
     "name": "stdout",
     "output_type": "stream",
     "text": [
      "German 1 2018\n",
      "Training complete!\n",
      "Macro F1:  0.462759\n",
      "\n",
      "https://ui.neptune.ai/Hatespeech-CNERG/MH-Bert/e/SAN-9597\n"
     ]
    },
    {
     "name": "stderr",
     "output_type": "stream",
     "text": [
      "/home/saketh/anaconda3/lib/python3.7/site-packages/sklearn/linear_model/logistic.py:947: ConvergenceWarning: lbfgs failed to converge. Increase the number of iterations.\n",
      "  \"of iterations.\", ConvergenceWarning)\n"
     ]
    },
    {
     "name": "stdout",
     "output_type": "stream",
     "text": [
      "German 1 2019\n",
      "Training complete!\n",
      "Macro F1:  0.462171\n",
      "\n",
      "https://ui.neptune.ai/Hatespeech-CNERG/MH-Bert/e/SAN-9598\n"
     ]
    },
    {
     "name": "stderr",
     "output_type": "stream",
     "text": [
      "/home/saketh/anaconda3/lib/python3.7/site-packages/sklearn/linear_model/logistic.py:947: ConvergenceWarning: lbfgs failed to converge. Increase the number of iterations.\n",
      "  \"of iterations.\", ConvergenceWarning)\n"
     ]
    },
    {
     "name": "stdout",
     "output_type": "stream",
     "text": [
      "German 1 2020\n",
      "Training complete!\n",
      "Macro F1:  0.462171\n",
      "\n",
      "https://ui.neptune.ai/Hatespeech-CNERG/MH-Bert/e/SAN-9600\n"
     ]
    },
    {
     "name": "stderr",
     "output_type": "stream",
     "text": [
      "/home/saketh/anaconda3/lib/python3.7/site-packages/sklearn/linear_model/logistic.py:947: ConvergenceWarning: lbfgs failed to converge. Increase the number of iterations.\n",
      "  \"of iterations.\", ConvergenceWarning)\n"
     ]
    },
    {
     "name": "stdout",
     "output_type": "stream",
     "text": [
      "German 1 2021\n",
      "Training complete!\n",
      "Macro F1:  0.462759\n",
      "\n",
      "https://ui.neptune.ai/Hatespeech-CNERG/MH-Bert/e/SAN-9601\n"
     ]
    },
    {
     "name": "stderr",
     "output_type": "stream",
     "text": [
      "/home/saketh/anaconda3/lib/python3.7/site-packages/sklearn/linear_model/logistic.py:947: ConvergenceWarning: lbfgs failed to converge. Increase the number of iterations.\n",
      "  \"of iterations.\", ConvergenceWarning)\n"
     ]
    },
    {
     "name": "stdout",
     "output_type": "stream",
     "text": [
      "German 1 2022\n",
      "Training complete!\n",
      "Macro F1:  0.462171\n",
      "\n",
      "https://ui.neptune.ai/Hatespeech-CNERG/MH-Bert/e/SAN-9602\n"
     ]
    },
    {
     "name": "stderr",
     "output_type": "stream",
     "text": [
      "/home/saketh/anaconda3/lib/python3.7/site-packages/sklearn/linear_model/logistic.py:947: ConvergenceWarning: lbfgs failed to converge. Increase the number of iterations.\n",
      "  \"of iterations.\", ConvergenceWarning)\n"
     ]
    },
    {
     "name": "stdout",
     "output_type": "stream",
     "text": [
      "German 10 2018\n",
      "Training complete!\n",
      "Macro F1:  0.471310\n",
      "\n",
      "https://ui.neptune.ai/Hatespeech-CNERG/MH-Bert/e/SAN-9603\n"
     ]
    },
    {
     "name": "stderr",
     "output_type": "stream",
     "text": [
      "/home/saketh/anaconda3/lib/python3.7/site-packages/sklearn/linear_model/logistic.py:947: ConvergenceWarning: lbfgs failed to converge. Increase the number of iterations.\n",
      "  \"of iterations.\", ConvergenceWarning)\n"
     ]
    },
    {
     "name": "stdout",
     "output_type": "stream",
     "text": [
      "German 10 2019\n",
      "Training complete!\n",
      "Macro F1:  0.471310\n",
      "\n",
      "https://ui.neptune.ai/Hatespeech-CNERG/MH-Bert/e/SAN-9604\n"
     ]
    },
    {
     "name": "stderr",
     "output_type": "stream",
     "text": [
      "/home/saketh/anaconda3/lib/python3.7/site-packages/sklearn/linear_model/logistic.py:947: ConvergenceWarning: lbfgs failed to converge. Increase the number of iterations.\n",
      "  \"of iterations.\", ConvergenceWarning)\n"
     ]
    },
    {
     "name": "stdout",
     "output_type": "stream",
     "text": [
      "German 10 2020\n",
      "Training complete!\n",
      "Macro F1:  0.471310\n",
      "\n",
      "https://ui.neptune.ai/Hatespeech-CNERG/MH-Bert/e/SAN-9605\n"
     ]
    },
    {
     "name": "stderr",
     "output_type": "stream",
     "text": [
      "/home/saketh/anaconda3/lib/python3.7/site-packages/sklearn/linear_model/logistic.py:947: ConvergenceWarning: lbfgs failed to converge. Increase the number of iterations.\n",
      "  \"of iterations.\", ConvergenceWarning)\n"
     ]
    },
    {
     "name": "stdout",
     "output_type": "stream",
     "text": [
      "German 10 2021\n",
      "Training complete!\n",
      "Macro F1:  0.471310\n",
      "\n",
      "https://ui.neptune.ai/Hatespeech-CNERG/MH-Bert/e/SAN-9606\n"
     ]
    },
    {
     "name": "stderr",
     "output_type": "stream",
     "text": [
      "/home/saketh/anaconda3/lib/python3.7/site-packages/sklearn/linear_model/logistic.py:947: ConvergenceWarning: lbfgs failed to converge. Increase the number of iterations.\n",
      "  \"of iterations.\", ConvergenceWarning)\n"
     ]
    },
    {
     "name": "stdout",
     "output_type": "stream",
     "text": [
      "German 10 2022\n",
      "Training complete!\n",
      "Macro F1:  0.471310\n",
      "\n",
      "https://ui.neptune.ai/Hatespeech-CNERG/MH-Bert/e/SAN-9607\n",
      "Indonesian 0.01 2018\n",
      "Training complete!\n",
      "Macro F1:  0.558394\n",
      "\n",
      "https://ui.neptune.ai/Hatespeech-CNERG/MH-Bert/e/SAN-9608\n",
      "Indonesian 0.01 2019\n",
      "Training complete!\n",
      "Macro F1:  0.558394\n",
      "\n",
      "https://ui.neptune.ai/Hatespeech-CNERG/MH-Bert/e/SAN-9609\n",
      "Indonesian 0.01 2020\n",
      "Training complete!\n",
      "Macro F1:  0.558394\n",
      "\n",
      "https://ui.neptune.ai/Hatespeech-CNERG/MH-Bert/e/SAN-9610\n",
      "Indonesian 0.01 2021\n",
      "Training complete!\n",
      "Macro F1:  0.558394\n",
      "\n",
      "https://ui.neptune.ai/Hatespeech-CNERG/MH-Bert/e/SAN-9612\n",
      "Indonesian 0.01 2022\n",
      "Training complete!\n",
      "Macro F1:  0.558394\n",
      "\n",
      "https://ui.neptune.ai/Hatespeech-CNERG/MH-Bert/e/SAN-9613\n",
      "Indonesian 0.1 2018\n",
      "Training complete!\n",
      "Macro F1:  0.626317\n",
      "\n",
      "https://ui.neptune.ai/Hatespeech-CNERG/MH-Bert/e/SAN-9614\n",
      "Indonesian 0.1 2019\n",
      "Training complete!\n",
      "Macro F1:  0.626317\n",
      "\n",
      "https://ui.neptune.ai/Hatespeech-CNERG/MH-Bert/e/SAN-9615\n",
      "Indonesian 0.1 2020\n",
      "Training complete!\n",
      "Macro F1:  0.626317\n",
      "\n",
      "https://ui.neptune.ai/Hatespeech-CNERG/MH-Bert/e/SAN-9616\n",
      "Indonesian 0.1 2021\n",
      "Training complete!\n",
      "Macro F1:  0.626317\n",
      "\n",
      "https://ui.neptune.ai/Hatespeech-CNERG/MH-Bert/e/SAN-9617\n",
      "Indonesian 0.1 2022\n",
      "Training complete!\n",
      "Macro F1:  0.626317\n",
      "\n",
      "https://ui.neptune.ai/Hatespeech-CNERG/MH-Bert/e/SAN-9618\n"
     ]
    },
    {
     "name": "stderr",
     "output_type": "stream",
     "text": [
      "/home/saketh/anaconda3/lib/python3.7/site-packages/sklearn/linear_model/logistic.py:947: ConvergenceWarning: lbfgs failed to converge. Increase the number of iterations.\n",
      "  \"of iterations.\", ConvergenceWarning)\n"
     ]
    },
    {
     "name": "stdout",
     "output_type": "stream",
     "text": [
      "Indonesian 1 2018\n",
      "Training complete!\n",
      "Macro F1:  0.634717\n",
      "\n",
      "https://ui.neptune.ai/Hatespeech-CNERG/MH-Bert/e/SAN-9620\n"
     ]
    },
    {
     "name": "stderr",
     "output_type": "stream",
     "text": [
      "/home/saketh/anaconda3/lib/python3.7/site-packages/sklearn/linear_model/logistic.py:947: ConvergenceWarning: lbfgs failed to converge. Increase the number of iterations.\n",
      "  \"of iterations.\", ConvergenceWarning)\n"
     ]
    },
    {
     "name": "stdout",
     "output_type": "stream",
     "text": [
      "Indonesian 1 2019\n",
      "Training complete!\n",
      "Macro F1:  0.635584\n",
      "\n",
      "https://ui.neptune.ai/Hatespeech-CNERG/MH-Bert/e/SAN-9621\n"
     ]
    },
    {
     "name": "stderr",
     "output_type": "stream",
     "text": [
      "/home/saketh/anaconda3/lib/python3.7/site-packages/sklearn/linear_model/logistic.py:947: ConvergenceWarning: lbfgs failed to converge. Increase the number of iterations.\n",
      "  \"of iterations.\", ConvergenceWarning)\n"
     ]
    },
    {
     "name": "stdout",
     "output_type": "stream",
     "text": [
      "Indonesian 1 2020\n",
      "Training complete!\n",
      "Macro F1:  0.635584\n",
      "\n",
      "https://ui.neptune.ai/Hatespeech-CNERG/MH-Bert/e/SAN-9622\n"
     ]
    },
    {
     "name": "stderr",
     "output_type": "stream",
     "text": [
      "/home/saketh/anaconda3/lib/python3.7/site-packages/sklearn/linear_model/logistic.py:947: ConvergenceWarning: lbfgs failed to converge. Increase the number of iterations.\n",
      "  \"of iterations.\", ConvergenceWarning)\n"
     ]
    },
    {
     "name": "stdout",
     "output_type": "stream",
     "text": [
      "Indonesian 1 2021\n",
      "Training complete!\n",
      "Macro F1:  0.635449\n",
      "\n",
      "https://ui.neptune.ai/Hatespeech-CNERG/MH-Bert/e/SAN-9624\n"
     ]
    },
    {
     "name": "stderr",
     "output_type": "stream",
     "text": [
      "/home/saketh/anaconda3/lib/python3.7/site-packages/sklearn/linear_model/logistic.py:947: ConvergenceWarning: lbfgs failed to converge. Increase the number of iterations.\n",
      "  \"of iterations.\", ConvergenceWarning)\n"
     ]
    },
    {
     "name": "stdout",
     "output_type": "stream",
     "text": [
      "Indonesian 1 2022\n",
      "Training complete!\n",
      "Macro F1:  0.634785\n",
      "\n",
      "https://ui.neptune.ai/Hatespeech-CNERG/MH-Bert/e/SAN-9625\n"
     ]
    },
    {
     "name": "stderr",
     "output_type": "stream",
     "text": [
      "/home/saketh/anaconda3/lib/python3.7/site-packages/sklearn/linear_model/logistic.py:947: ConvergenceWarning: lbfgs failed to converge. Increase the number of iterations.\n",
      "  \"of iterations.\", ConvergenceWarning)\n"
     ]
    },
    {
     "name": "stdout",
     "output_type": "stream",
     "text": [
      "Indonesian 10 2018\n",
      "Training complete!\n",
      "Macro F1:  0.628366\n",
      "\n",
      "https://ui.neptune.ai/Hatespeech-CNERG/MH-Bert/e/SAN-9626\n"
     ]
    },
    {
     "name": "stderr",
     "output_type": "stream",
     "text": [
      "/home/saketh/anaconda3/lib/python3.7/site-packages/sklearn/linear_model/logistic.py:947: ConvergenceWarning: lbfgs failed to converge. Increase the number of iterations.\n",
      "  \"of iterations.\", ConvergenceWarning)\n"
     ]
    },
    {
     "name": "stdout",
     "output_type": "stream",
     "text": [
      "Indonesian 10 2019\n",
      "Training complete!\n",
      "Macro F1:  0.626511\n",
      "\n",
      "https://ui.neptune.ai/Hatespeech-CNERG/MH-Bert/e/SAN-9627\n"
     ]
    },
    {
     "name": "stderr",
     "output_type": "stream",
     "text": [
      "/home/saketh/anaconda3/lib/python3.7/site-packages/sklearn/linear_model/logistic.py:947: ConvergenceWarning: lbfgs failed to converge. Increase the number of iterations.\n",
      "  \"of iterations.\", ConvergenceWarning)\n"
     ]
    },
    {
     "name": "stdout",
     "output_type": "stream",
     "text": [
      "Indonesian 10 2020\n",
      "Training complete!\n",
      "Macro F1:  0.626324\n",
      "\n",
      "https://ui.neptune.ai/Hatespeech-CNERG/MH-Bert/e/SAN-9628\n"
     ]
    },
    {
     "name": "stderr",
     "output_type": "stream",
     "text": [
      "/home/saketh/anaconda3/lib/python3.7/site-packages/sklearn/linear_model/logistic.py:947: ConvergenceWarning: lbfgs failed to converge. Increase the number of iterations.\n",
      "  \"of iterations.\", ConvergenceWarning)\n"
     ]
    },
    {
     "name": "stdout",
     "output_type": "stream",
     "text": [
      "Indonesian 10 2021\n",
      "Training complete!\n",
      "Macro F1:  0.626324\n",
      "\n",
      "https://ui.neptune.ai/Hatespeech-CNERG/MH-Bert/e/SAN-9629\n"
     ]
    },
    {
     "name": "stderr",
     "output_type": "stream",
     "text": [
      "/home/saketh/anaconda3/lib/python3.7/site-packages/sklearn/linear_model/logistic.py:947: ConvergenceWarning: lbfgs failed to converge. Increase the number of iterations.\n",
      "  \"of iterations.\", ConvergenceWarning)\n"
     ]
    },
    {
     "name": "stdout",
     "output_type": "stream",
     "text": [
      "Indonesian 10 2022\n",
      "Training complete!\n",
      "Macro F1:  0.627389\n",
      "\n",
      "https://ui.neptune.ai/Hatespeech-CNERG/MH-Bert/e/SAN-9630\n",
      "Italian 0.01 2018\n",
      "Training complete!\n",
      "Macro F1:  0.686095\n",
      "\n",
      "https://ui.neptune.ai/Hatespeech-CNERG/MH-Bert/e/SAN-9631\n",
      "Italian 0.01 2019\n",
      "Training complete!\n",
      "Macro F1:  0.686095\n",
      "\n",
      "https://ui.neptune.ai/Hatespeech-CNERG/MH-Bert/e/SAN-9632\n",
      "Italian 0.01 2020\n",
      "Training complete!\n",
      "Macro F1:  0.686095\n",
      "\n",
      "https://ui.neptune.ai/Hatespeech-CNERG/MH-Bert/e/SAN-9633\n",
      "Italian 0.01 2021\n",
      "Training complete!\n",
      "Macro F1:  0.686095\n",
      "\n",
      "https://ui.neptune.ai/Hatespeech-CNERG/MH-Bert/e/SAN-9634\n",
      "Italian 0.01 2022\n",
      "Training complete!\n",
      "Macro F1:  0.686095\n",
      "\n",
      "https://ui.neptune.ai/Hatespeech-CNERG/MH-Bert/e/SAN-9636\n",
      "Italian 0.1 2018\n",
      "Training complete!\n",
      "Macro F1:  0.685609\n",
      "\n",
      "https://ui.neptune.ai/Hatespeech-CNERG/MH-Bert/e/SAN-9637\n",
      "Italian 0.1 2019\n",
      "Training complete!\n",
      "Macro F1:  0.685609\n",
      "\n",
      "https://ui.neptune.ai/Hatespeech-CNERG/MH-Bert/e/SAN-9638\n",
      "Italian 0.1 2020\n",
      "Training complete!\n",
      "Macro F1:  0.685609\n",
      "\n",
      "https://ui.neptune.ai/Hatespeech-CNERG/MH-Bert/e/SAN-9639\n",
      "Italian 0.1 2021\n",
      "Training complete!\n",
      "Macro F1:  0.685609\n",
      "\n",
      "https://ui.neptune.ai/Hatespeech-CNERG/MH-Bert/e/SAN-9641\n",
      "Italian 0.1 2022\n",
      "Training complete!\n",
      "Macro F1:  0.685609\n",
      "\n",
      "https://ui.neptune.ai/Hatespeech-CNERG/MH-Bert/e/SAN-9642\n"
     ]
    },
    {
     "name": "stderr",
     "output_type": "stream",
     "text": [
      "/home/saketh/anaconda3/lib/python3.7/site-packages/sklearn/linear_model/logistic.py:947: ConvergenceWarning: lbfgs failed to converge. Increase the number of iterations.\n",
      "  \"of iterations.\", ConvergenceWarning)\n"
     ]
    },
    {
     "name": "stdout",
     "output_type": "stream",
     "text": [
      "Italian 1 2018\n",
      "Training complete!\n",
      "Macro F1:  0.680681\n",
      "\n",
      "https://ui.neptune.ai/Hatespeech-CNERG/MH-Bert/e/SAN-9643\n"
     ]
    },
    {
     "name": "stderr",
     "output_type": "stream",
     "text": [
      "/home/saketh/anaconda3/lib/python3.7/site-packages/sklearn/linear_model/logistic.py:947: ConvergenceWarning: lbfgs failed to converge. Increase the number of iterations.\n",
      "  \"of iterations.\", ConvergenceWarning)\n"
     ]
    },
    {
     "name": "stdout",
     "output_type": "stream",
     "text": [
      "Italian 1 2019\n",
      "Training complete!\n",
      "Macro F1:  0.680681\n",
      "\n",
      "https://ui.neptune.ai/Hatespeech-CNERG/MH-Bert/e/SAN-9644\n"
     ]
    },
    {
     "name": "stderr",
     "output_type": "stream",
     "text": [
      "/home/saketh/anaconda3/lib/python3.7/site-packages/sklearn/linear_model/logistic.py:947: ConvergenceWarning: lbfgs failed to converge. Increase the number of iterations.\n",
      "  \"of iterations.\", ConvergenceWarning)\n"
     ]
    },
    {
     "name": "stdout",
     "output_type": "stream",
     "text": [
      "Italian 1 2020\n",
      "Training complete!\n",
      "Macro F1:  0.680681\n",
      "\n",
      "https://ui.neptune.ai/Hatespeech-CNERG/MH-Bert/e/SAN-9645\n"
     ]
    },
    {
     "name": "stderr",
     "output_type": "stream",
     "text": [
      "/home/saketh/anaconda3/lib/python3.7/site-packages/sklearn/linear_model/logistic.py:947: ConvergenceWarning: lbfgs failed to converge. Increase the number of iterations.\n",
      "  \"of iterations.\", ConvergenceWarning)\n"
     ]
    },
    {
     "name": "stdout",
     "output_type": "stream",
     "text": [
      "Italian 1 2021\n",
      "Training complete!\n",
      "Macro F1:  0.680681\n",
      "\n",
      "https://ui.neptune.ai/Hatespeech-CNERG/MH-Bert/e/SAN-9646\n"
     ]
    },
    {
     "name": "stderr",
     "output_type": "stream",
     "text": [
      "/home/saketh/anaconda3/lib/python3.7/site-packages/sklearn/linear_model/logistic.py:947: ConvergenceWarning: lbfgs failed to converge. Increase the number of iterations.\n",
      "  \"of iterations.\", ConvergenceWarning)\n"
     ]
    },
    {
     "name": "stdout",
     "output_type": "stream",
     "text": [
      "Italian 1 2022\n",
      "Training complete!\n",
      "Macro F1:  0.680681\n",
      "\n",
      "https://ui.neptune.ai/Hatespeech-CNERG/MH-Bert/e/SAN-9647\n"
     ]
    },
    {
     "name": "stderr",
     "output_type": "stream",
     "text": [
      "/home/saketh/anaconda3/lib/python3.7/site-packages/sklearn/linear_model/logistic.py:947: ConvergenceWarning: lbfgs failed to converge. Increase the number of iterations.\n",
      "  \"of iterations.\", ConvergenceWarning)\n"
     ]
    },
    {
     "name": "stdout",
     "output_type": "stream",
     "text": [
      "Italian 10 2018\n",
      "Training complete!\n",
      "Macro F1:  0.670345\n",
      "\n",
      "https://ui.neptune.ai/Hatespeech-CNERG/MH-Bert/e/SAN-9650\n"
     ]
    },
    {
     "name": "stderr",
     "output_type": "stream",
     "text": [
      "/home/saketh/anaconda3/lib/python3.7/site-packages/sklearn/linear_model/logistic.py:947: ConvergenceWarning: lbfgs failed to converge. Increase the number of iterations.\n",
      "  \"of iterations.\", ConvergenceWarning)\n"
     ]
    },
    {
     "name": "stdout",
     "output_type": "stream",
     "text": [
      "Italian 10 2019\n",
      "Training complete!\n",
      "Macro F1:  0.671466\n",
      "\n",
      "https://ui.neptune.ai/Hatespeech-CNERG/MH-Bert/e/SAN-9651\n"
     ]
    },
    {
     "name": "stderr",
     "output_type": "stream",
     "text": [
      "/home/saketh/anaconda3/lib/python3.7/site-packages/sklearn/linear_model/logistic.py:947: ConvergenceWarning: lbfgs failed to converge. Increase the number of iterations.\n",
      "  \"of iterations.\", ConvergenceWarning)\n"
     ]
    },
    {
     "name": "stdout",
     "output_type": "stream",
     "text": [
      "Italian 10 2020\n",
      "Training complete!\n",
      "Macro F1:  0.670765\n",
      "\n",
      "https://ui.neptune.ai/Hatespeech-CNERG/MH-Bert/e/SAN-9652\n"
     ]
    },
    {
     "name": "stderr",
     "output_type": "stream",
     "text": [
      "/home/saketh/anaconda3/lib/python3.7/site-packages/sklearn/linear_model/logistic.py:947: ConvergenceWarning: lbfgs failed to converge. Increase the number of iterations.\n",
      "  \"of iterations.\", ConvergenceWarning)\n"
     ]
    },
    {
     "name": "stdout",
     "output_type": "stream",
     "text": [
      "Italian 10 2021\n",
      "Training complete!\n",
      "Macro F1:  0.670504\n",
      "\n",
      "https://ui.neptune.ai/Hatespeech-CNERG/MH-Bert/e/SAN-9653\n"
     ]
    },
    {
     "name": "stderr",
     "output_type": "stream",
     "text": [
      "/home/saketh/anaconda3/lib/python3.7/site-packages/sklearn/linear_model/logistic.py:947: ConvergenceWarning: lbfgs failed to converge. Increase the number of iterations.\n",
      "  \"of iterations.\", ConvergenceWarning)\n"
     ]
    },
    {
     "name": "stdout",
     "output_type": "stream",
     "text": [
      "Italian 10 2022\n",
      "Training complete!\n",
      "Macro F1:  0.669913\n",
      "\n",
      "https://ui.neptune.ai/Hatespeech-CNERG/MH-Bert/e/SAN-9654\n",
      "Polish 0.01 2018\n",
      "Training complete!\n",
      "Macro F1:  0.544431\n",
      "\n",
      "https://ui.neptune.ai/Hatespeech-CNERG/MH-Bert/e/SAN-9655\n",
      "Polish 0.01 2019\n",
      "Training complete!\n",
      "Macro F1:  0.544431\n",
      "\n",
      "https://ui.neptune.ai/Hatespeech-CNERG/MH-Bert/e/SAN-9657\n",
      "Polish 0.01 2020\n",
      "Training complete!\n",
      "Macro F1:  0.544431\n",
      "\n",
      "https://ui.neptune.ai/Hatespeech-CNERG/MH-Bert/e/SAN-9658\n",
      "Polish 0.01 2021\n",
      "Training complete!\n",
      "Macro F1:  0.544431\n",
      "\n",
      "https://ui.neptune.ai/Hatespeech-CNERG/MH-Bert/e/SAN-9659\n",
      "Polish 0.01 2022\n",
      "Training complete!\n",
      "Macro F1:  0.544431\n",
      "\n",
      "https://ui.neptune.ai/Hatespeech-CNERG/MH-Bert/e/SAN-9660\n",
      "Polish 0.1 2018\n",
      "Training complete!\n",
      "Macro F1:  0.591154\n",
      "\n",
      "https://ui.neptune.ai/Hatespeech-CNERG/MH-Bert/e/SAN-9661\n",
      "Polish 0.1 2019\n",
      "Training complete!\n",
      "Macro F1:  0.591154\n",
      "\n",
      "https://ui.neptune.ai/Hatespeech-CNERG/MH-Bert/e/SAN-9662\n",
      "Polish 0.1 2020\n",
      "Training complete!\n",
      "Macro F1:  0.591154\n",
      "\n",
      "https://ui.neptune.ai/Hatespeech-CNERG/MH-Bert/e/SAN-9663\n",
      "Polish 0.1 2021\n",
      "Training complete!\n",
      "Macro F1:  0.591154\n",
      "\n",
      "https://ui.neptune.ai/Hatespeech-CNERG/MH-Bert/e/SAN-9664\n",
      "Polish 0.1 2022\n",
      "Training complete!\n",
      "Macro F1:  0.591154\n",
      "\n",
      "https://ui.neptune.ai/Hatespeech-CNERG/MH-Bert/e/SAN-9665\n"
     ]
    },
    {
     "name": "stderr",
     "output_type": "stream",
     "text": [
      "/home/saketh/anaconda3/lib/python3.7/site-packages/sklearn/linear_model/logistic.py:947: ConvergenceWarning: lbfgs failed to converge. Increase the number of iterations.\n",
      "  \"of iterations.\", ConvergenceWarning)\n"
     ]
    },
    {
     "name": "stdout",
     "output_type": "stream",
     "text": [
      "Polish 1 2018\n",
      "Training complete!\n",
      "Macro F1:  0.588000\n",
      "\n",
      "https://ui.neptune.ai/Hatespeech-CNERG/MH-Bert/e/SAN-9666\n"
     ]
    },
    {
     "name": "stderr",
     "output_type": "stream",
     "text": [
      "/home/saketh/anaconda3/lib/python3.7/site-packages/sklearn/linear_model/logistic.py:947: ConvergenceWarning: lbfgs failed to converge. Increase the number of iterations.\n",
      "  \"of iterations.\", ConvergenceWarning)\n"
     ]
    },
    {
     "name": "stdout",
     "output_type": "stream",
     "text": [
      "Polish 1 2019\n",
      "Training complete!\n",
      "Macro F1:  0.588437\n",
      "\n",
      "https://ui.neptune.ai/Hatespeech-CNERG/MH-Bert/e/SAN-9667\n"
     ]
    },
    {
     "name": "stderr",
     "output_type": "stream",
     "text": [
      "/home/saketh/anaconda3/lib/python3.7/site-packages/sklearn/linear_model/logistic.py:947: ConvergenceWarning: lbfgs failed to converge. Increase the number of iterations.\n",
      "  \"of iterations.\", ConvergenceWarning)\n"
     ]
    },
    {
     "name": "stdout",
     "output_type": "stream",
     "text": [
      "Polish 1 2020\n",
      "Training complete!\n",
      "Macro F1:  0.588000\n",
      "\n",
      "https://ui.neptune.ai/Hatespeech-CNERG/MH-Bert/e/SAN-9668\n"
     ]
    },
    {
     "name": "stderr",
     "output_type": "stream",
     "text": [
      "/home/saketh/anaconda3/lib/python3.7/site-packages/sklearn/linear_model/logistic.py:947: ConvergenceWarning: lbfgs failed to converge. Increase the number of iterations.\n",
      "  \"of iterations.\", ConvergenceWarning)\n"
     ]
    },
    {
     "name": "stdout",
     "output_type": "stream",
     "text": [
      "Polish 1 2021\n",
      "Training complete!\n",
      "Macro F1:  0.590644\n",
      "\n",
      "https://ui.neptune.ai/Hatespeech-CNERG/MH-Bert/e/SAN-9670\n"
     ]
    },
    {
     "name": "stderr",
     "output_type": "stream",
     "text": [
      "/home/saketh/anaconda3/lib/python3.7/site-packages/sklearn/linear_model/logistic.py:947: ConvergenceWarning: lbfgs failed to converge. Increase the number of iterations.\n",
      "  \"of iterations.\", ConvergenceWarning)\n"
     ]
    },
    {
     "name": "stdout",
     "output_type": "stream",
     "text": [
      "Polish 1 2022\n",
      "Training complete!\n",
      "Macro F1:  0.588437\n",
      "\n",
      "https://ui.neptune.ai/Hatespeech-CNERG/MH-Bert/e/SAN-9671\n"
     ]
    },
    {
     "name": "stderr",
     "output_type": "stream",
     "text": [
      "/home/saketh/anaconda3/lib/python3.7/site-packages/sklearn/linear_model/logistic.py:947: ConvergenceWarning: lbfgs failed to converge. Increase the number of iterations.\n",
      "  \"of iterations.\", ConvergenceWarning)\n"
     ]
    },
    {
     "name": "stdout",
     "output_type": "stream",
     "text": [
      "Polish 10 2018\n",
      "Training complete!\n",
      "Macro F1:  0.577826\n",
      "\n",
      "https://ui.neptune.ai/Hatespeech-CNERG/MH-Bert/e/SAN-9673\n"
     ]
    },
    {
     "name": "stderr",
     "output_type": "stream",
     "text": [
      "/home/saketh/anaconda3/lib/python3.7/site-packages/sklearn/linear_model/logistic.py:947: ConvergenceWarning: lbfgs failed to converge. Increase the number of iterations.\n",
      "  \"of iterations.\", ConvergenceWarning)\n"
     ]
    },
    {
     "name": "stdout",
     "output_type": "stream",
     "text": [
      "Polish 10 2019\n",
      "Training complete!\n",
      "Macro F1:  0.577005\n",
      "\n",
      "https://ui.neptune.ai/Hatespeech-CNERG/MH-Bert/e/SAN-9674\n"
     ]
    },
    {
     "name": "stderr",
     "output_type": "stream",
     "text": [
      "/home/saketh/anaconda3/lib/python3.7/site-packages/sklearn/linear_model/logistic.py:947: ConvergenceWarning: lbfgs failed to converge. Increase the number of iterations.\n",
      "  \"of iterations.\", ConvergenceWarning)\n"
     ]
    },
    {
     "name": "stdout",
     "output_type": "stream",
     "text": [
      "Polish 10 2020\n",
      "Training complete!\n",
      "Macro F1:  0.577826\n",
      "\n",
      "https://ui.neptune.ai/Hatespeech-CNERG/MH-Bert/e/SAN-9675\n"
     ]
    },
    {
     "name": "stderr",
     "output_type": "stream",
     "text": [
      "/home/saketh/anaconda3/lib/python3.7/site-packages/sklearn/linear_model/logistic.py:947: ConvergenceWarning: lbfgs failed to converge. Increase the number of iterations.\n",
      "  \"of iterations.\", ConvergenceWarning)\n"
     ]
    },
    {
     "name": "stdout",
     "output_type": "stream",
     "text": [
      "Polish 10 2021\n",
      "Training complete!\n",
      "Macro F1:  0.577826\n",
      "\n",
      "https://ui.neptune.ai/Hatespeech-CNERG/MH-Bert/e/SAN-9676\n"
     ]
    },
    {
     "name": "stderr",
     "output_type": "stream",
     "text": [
      "/home/saketh/anaconda3/lib/python3.7/site-packages/sklearn/linear_model/logistic.py:947: ConvergenceWarning: lbfgs failed to converge. Increase the number of iterations.\n",
      "  \"of iterations.\", ConvergenceWarning)\n"
     ]
    },
    {
     "name": "stdout",
     "output_type": "stream",
     "text": [
      "Polish 10 2022\n",
      "Training complete!\n",
      "Macro F1:  0.577826\n",
      "\n",
      "https://ui.neptune.ai/Hatespeech-CNERG/MH-Bert/e/SAN-9677\n",
      "Portugese 0.01 2018\n",
      "Training complete!\n",
      "Macro F1:  0.654656\n",
      "\n",
      "https://ui.neptune.ai/Hatespeech-CNERG/MH-Bert/e/SAN-9678\n",
      "Portugese 0.01 2019\n",
      "Training complete!\n",
      "Macro F1:  0.654656\n",
      "\n",
      "https://ui.neptune.ai/Hatespeech-CNERG/MH-Bert/e/SAN-9679\n",
      "Portugese 0.01 2020\n",
      "Training complete!\n",
      "Macro F1:  0.654656\n",
      "\n",
      "https://ui.neptune.ai/Hatespeech-CNERG/MH-Bert/e/SAN-9681\n",
      "Portugese 0.01 2021\n",
      "Training complete!\n",
      "Macro F1:  0.654656\n",
      "\n",
      "https://ui.neptune.ai/Hatespeech-CNERG/MH-Bert/e/SAN-9682\n",
      "Portugese 0.01 2022\n",
      "Training complete!\n",
      "Macro F1:  0.654656\n",
      "\n",
      "https://ui.neptune.ai/Hatespeech-CNERG/MH-Bert/e/SAN-9683\n",
      "Portugese 0.1 2018\n",
      "Training complete!\n",
      "Macro F1:  0.656720\n",
      "\n",
      "https://ui.neptune.ai/Hatespeech-CNERG/MH-Bert/e/SAN-9684\n",
      "Portugese 0.1 2019\n",
      "Training complete!\n",
      "Macro F1:  0.656720\n",
      "\n",
      "https://ui.neptune.ai/Hatespeech-CNERG/MH-Bert/e/SAN-9685\n",
      "Portugese 0.1 2020\n",
      "Training complete!\n",
      "Macro F1:  0.656720\n",
      "\n",
      "https://ui.neptune.ai/Hatespeech-CNERG/MH-Bert/e/SAN-9686\n",
      "Portugese 0.1 2021\n",
      "Training complete!\n",
      "Macro F1:  0.656720\n",
      "\n",
      "https://ui.neptune.ai/Hatespeech-CNERG/MH-Bert/e/SAN-9687\n",
      "Portugese 0.1 2022\n",
      "Training complete!\n",
      "Macro F1:  0.656720\n",
      "\n",
      "https://ui.neptune.ai/Hatespeech-CNERG/MH-Bert/e/SAN-9688\n"
     ]
    },
    {
     "name": "stderr",
     "output_type": "stream",
     "text": [
      "/home/saketh/anaconda3/lib/python3.7/site-packages/sklearn/linear_model/logistic.py:947: ConvergenceWarning: lbfgs failed to converge. Increase the number of iterations.\n",
      "  \"of iterations.\", ConvergenceWarning)\n"
     ]
    },
    {
     "name": "stdout",
     "output_type": "stream",
     "text": [
      "Portugese 1 2018\n",
      "Training complete!\n",
      "Macro F1:  0.651672\n",
      "\n",
      "https://ui.neptune.ai/Hatespeech-CNERG/MH-Bert/e/SAN-9689\n"
     ]
    },
    {
     "name": "stderr",
     "output_type": "stream",
     "text": [
      "/home/saketh/anaconda3/lib/python3.7/site-packages/sklearn/linear_model/logistic.py:947: ConvergenceWarning: lbfgs failed to converge. Increase the number of iterations.\n",
      "  \"of iterations.\", ConvergenceWarning)\n"
     ]
    },
    {
     "name": "stdout",
     "output_type": "stream",
     "text": [
      "Portugese 1 2019\n",
      "Training complete!\n",
      "Macro F1:  0.651672\n",
      "\n",
      "https://ui.neptune.ai/Hatespeech-CNERG/MH-Bert/e/SAN-9690\n"
     ]
    },
    {
     "name": "stderr",
     "output_type": "stream",
     "text": [
      "/home/saketh/anaconda3/lib/python3.7/site-packages/sklearn/linear_model/logistic.py:947: ConvergenceWarning: lbfgs failed to converge. Increase the number of iterations.\n",
      "  \"of iterations.\", ConvergenceWarning)\n"
     ]
    },
    {
     "name": "stdout",
     "output_type": "stream",
     "text": [
      "Portugese 1 2020\n",
      "Training complete!\n",
      "Macro F1:  0.651672\n",
      "\n",
      "https://ui.neptune.ai/Hatespeech-CNERG/MH-Bert/e/SAN-9692\n"
     ]
    },
    {
     "name": "stderr",
     "output_type": "stream",
     "text": [
      "/home/saketh/anaconda3/lib/python3.7/site-packages/sklearn/linear_model/logistic.py:947: ConvergenceWarning: lbfgs failed to converge. Increase the number of iterations.\n",
      "  \"of iterations.\", ConvergenceWarning)\n"
     ]
    },
    {
     "name": "stdout",
     "output_type": "stream",
     "text": [
      "Portugese 1 2021\n",
      "Training complete!\n",
      "Macro F1:  0.651672\n",
      "\n",
      "https://ui.neptune.ai/Hatespeech-CNERG/MH-Bert/e/SAN-9693\n"
     ]
    },
    {
     "name": "stderr",
     "output_type": "stream",
     "text": [
      "/home/saketh/anaconda3/lib/python3.7/site-packages/sklearn/linear_model/logistic.py:947: ConvergenceWarning: lbfgs failed to converge. Increase the number of iterations.\n",
      "  \"of iterations.\", ConvergenceWarning)\n"
     ]
    },
    {
     "name": "stdout",
     "output_type": "stream",
     "text": [
      "Portugese 1 2022\n",
      "Training complete!\n",
      "Macro F1:  0.651672\n",
      "\n",
      "https://ui.neptune.ai/Hatespeech-CNERG/MH-Bert/e/SAN-9694\n"
     ]
    },
    {
     "name": "stderr",
     "output_type": "stream",
     "text": [
      "/home/saketh/anaconda3/lib/python3.7/site-packages/sklearn/linear_model/logistic.py:947: ConvergenceWarning: lbfgs failed to converge. Increase the number of iterations.\n",
      "  \"of iterations.\", ConvergenceWarning)\n"
     ]
    },
    {
     "name": "stdout",
     "output_type": "stream",
     "text": [
      "Portugese 10 2018\n",
      "Training complete!\n",
      "Macro F1:  0.649570\n",
      "\n",
      "https://ui.neptune.ai/Hatespeech-CNERG/MH-Bert/e/SAN-9695\n"
     ]
    },
    {
     "name": "stderr",
     "output_type": "stream",
     "text": [
      "/home/saketh/anaconda3/lib/python3.7/site-packages/sklearn/linear_model/logistic.py:947: ConvergenceWarning: lbfgs failed to converge. Increase the number of iterations.\n",
      "  \"of iterations.\", ConvergenceWarning)\n"
     ]
    },
    {
     "name": "stdout",
     "output_type": "stream",
     "text": [
      "Portugese 10 2019\n",
      "Training complete!\n",
      "Macro F1:  0.647115\n",
      "\n",
      "https://ui.neptune.ai/Hatespeech-CNERG/MH-Bert/e/SAN-9696\n"
     ]
    },
    {
     "name": "stderr",
     "output_type": "stream",
     "text": [
      "/home/saketh/anaconda3/lib/python3.7/site-packages/sklearn/linear_model/logistic.py:947: ConvergenceWarning: lbfgs failed to converge. Increase the number of iterations.\n",
      "  \"of iterations.\", ConvergenceWarning)\n"
     ]
    },
    {
     "name": "stdout",
     "output_type": "stream",
     "text": [
      "Portugese 10 2020\n",
      "Training complete!\n",
      "Macro F1:  0.648343\n",
      "\n",
      "https://ui.neptune.ai/Hatespeech-CNERG/MH-Bert/e/SAN-9698\n"
     ]
    },
    {
     "name": "stderr",
     "output_type": "stream",
     "text": [
      "/home/saketh/anaconda3/lib/python3.7/site-packages/sklearn/linear_model/logistic.py:947: ConvergenceWarning: lbfgs failed to converge. Increase the number of iterations.\n",
      "  \"of iterations.\", ConvergenceWarning)\n"
     ]
    },
    {
     "name": "stdout",
     "output_type": "stream",
     "text": [
      "Portugese 10 2021\n",
      "Training complete!\n",
      "Macro F1:  0.649862\n",
      "\n",
      "https://ui.neptune.ai/Hatespeech-CNERG/MH-Bert/e/SAN-9699\n"
     ]
    },
    {
     "name": "stderr",
     "output_type": "stream",
     "text": [
      "/home/saketh/anaconda3/lib/python3.7/site-packages/sklearn/linear_model/logistic.py:947: ConvergenceWarning: lbfgs failed to converge. Increase the number of iterations.\n",
      "  \"of iterations.\", ConvergenceWarning)\n"
     ]
    },
    {
     "name": "stdout",
     "output_type": "stream",
     "text": [
      "Portugese 10 2022\n",
      "Training complete!\n",
      "Macro F1:  0.648343\n",
      "\n",
      "https://ui.neptune.ai/Hatespeech-CNERG/MH-Bert/e/SAN-9700\n",
      "Spanish 0.01 2018\n",
      "Training complete!\n",
      "Macro F1:  0.517784\n",
      "\n",
      "https://ui.neptune.ai/Hatespeech-CNERG/MH-Bert/e/SAN-9701\n",
      "Spanish 0.01 2019\n",
      "Training complete!\n",
      "Macro F1:  0.517784\n",
      "\n",
      "https://ui.neptune.ai/Hatespeech-CNERG/MH-Bert/e/SAN-9702\n",
      "Spanish 0.01 2020\n",
      "Training complete!\n",
      "Macro F1:  0.517784\n",
      "\n",
      "https://ui.neptune.ai/Hatespeech-CNERG/MH-Bert/e/SAN-9704\n",
      "Spanish 0.01 2021\n",
      "Training complete!\n",
      "Macro F1:  0.517784\n",
      "\n",
      "https://ui.neptune.ai/Hatespeech-CNERG/MH-Bert/e/SAN-9705\n",
      "Spanish 0.01 2022\n",
      "Training complete!\n",
      "Macro F1:  0.517784\n",
      "\n",
      "https://ui.neptune.ai/Hatespeech-CNERG/MH-Bert/e/SAN-9706\n",
      "Spanish 0.1 2018\n",
      "Training complete!\n",
      "Macro F1:  0.543762\n",
      "\n",
      "https://ui.neptune.ai/Hatespeech-CNERG/MH-Bert/e/SAN-9707\n",
      "Spanish 0.1 2019\n",
      "Training complete!\n",
      "Macro F1:  0.543762\n",
      "\n",
      "https://ui.neptune.ai/Hatespeech-CNERG/MH-Bert/e/SAN-9708\n",
      "Spanish 0.1 2020\n",
      "Training complete!\n",
      "Macro F1:  0.543762\n",
      "\n",
      "https://ui.neptune.ai/Hatespeech-CNERG/MH-Bert/e/SAN-9709\n",
      "Spanish 0.1 2021\n",
      "Training complete!\n",
      "Macro F1:  0.543762\n",
      "\n",
      "https://ui.neptune.ai/Hatespeech-CNERG/MH-Bert/e/SAN-9711\n",
      "Spanish 0.1 2022\n",
      "Training complete!\n",
      "Macro F1:  0.543762\n",
      "\n",
      "https://ui.neptune.ai/Hatespeech-CNERG/MH-Bert/e/SAN-9712\n"
     ]
    },
    {
     "name": "stderr",
     "output_type": "stream",
     "text": [
      "/home/saketh/anaconda3/lib/python3.7/site-packages/sklearn/linear_model/logistic.py:947: ConvergenceWarning: lbfgs failed to converge. Increase the number of iterations.\n",
      "  \"of iterations.\", ConvergenceWarning)\n"
     ]
    },
    {
     "name": "stdout",
     "output_type": "stream",
     "text": [
      "Spanish 1 2018\n",
      "Training complete!\n",
      "Macro F1:  0.537980\n",
      "\n",
      "https://ui.neptune.ai/Hatespeech-CNERG/MH-Bert/e/SAN-9713\n"
     ]
    },
    {
     "name": "stderr",
     "output_type": "stream",
     "text": [
      "/home/saketh/anaconda3/lib/python3.7/site-packages/sklearn/linear_model/logistic.py:947: ConvergenceWarning: lbfgs failed to converge. Increase the number of iterations.\n",
      "  \"of iterations.\", ConvergenceWarning)\n"
     ]
    },
    {
     "name": "stdout",
     "output_type": "stream",
     "text": [
      "Spanish 1 2019\n",
      "Training complete!\n",
      "Macro F1:  0.538860\n",
      "\n",
      "https://ui.neptune.ai/Hatespeech-CNERG/MH-Bert/e/SAN-9714\n"
     ]
    },
    {
     "name": "stderr",
     "output_type": "stream",
     "text": [
      "/home/saketh/anaconda3/lib/python3.7/site-packages/sklearn/linear_model/logistic.py:947: ConvergenceWarning: lbfgs failed to converge. Increase the number of iterations.\n",
      "  \"of iterations.\", ConvergenceWarning)\n"
     ]
    },
    {
     "name": "stdout",
     "output_type": "stream",
     "text": [
      "Spanish 1 2020\n",
      "Training complete!\n",
      "Macro F1:  0.537524\n",
      "\n",
      "https://ui.neptune.ai/Hatespeech-CNERG/MH-Bert/e/SAN-9715\n"
     ]
    },
    {
     "name": "stderr",
     "output_type": "stream",
     "text": [
      "/home/saketh/anaconda3/lib/python3.7/site-packages/sklearn/linear_model/logistic.py:947: ConvergenceWarning: lbfgs failed to converge. Increase the number of iterations.\n",
      "  \"of iterations.\", ConvergenceWarning)\n"
     ]
    },
    {
     "name": "stdout",
     "output_type": "stream",
     "text": [
      "Spanish 1 2021\n",
      "Training complete!\n",
      "Macro F1:  0.537980\n",
      "\n",
      "https://ui.neptune.ai/Hatespeech-CNERG/MH-Bert/e/SAN-9717\n"
     ]
    },
    {
     "name": "stderr",
     "output_type": "stream",
     "text": [
      "/home/saketh/anaconda3/lib/python3.7/site-packages/sklearn/linear_model/logistic.py:947: ConvergenceWarning: lbfgs failed to converge. Increase the number of iterations.\n",
      "  \"of iterations.\", ConvergenceWarning)\n"
     ]
    },
    {
     "name": "stdout",
     "output_type": "stream",
     "text": [
      "Spanish 1 2022\n",
      "Training complete!\n",
      "Macro F1:  0.537980\n",
      "\n",
      "https://ui.neptune.ai/Hatespeech-CNERG/MH-Bert/e/SAN-9718\n"
     ]
    },
    {
     "name": "stderr",
     "output_type": "stream",
     "text": [
      "/home/saketh/anaconda3/lib/python3.7/site-packages/sklearn/linear_model/logistic.py:947: ConvergenceWarning: lbfgs failed to converge. Increase the number of iterations.\n",
      "  \"of iterations.\", ConvergenceWarning)\n"
     ]
    },
    {
     "name": "stdout",
     "output_type": "stream",
     "text": [
      "Spanish 10 2018\n",
      "Training complete!\n",
      "Macro F1:  0.543330\n",
      "\n",
      "https://ui.neptune.ai/Hatespeech-CNERG/MH-Bert/e/SAN-9719\n"
     ]
    },
    {
     "name": "stderr",
     "output_type": "stream",
     "text": [
      "/home/saketh/anaconda3/lib/python3.7/site-packages/sklearn/linear_model/logistic.py:947: ConvergenceWarning: lbfgs failed to converge. Increase the number of iterations.\n",
      "  \"of iterations.\", ConvergenceWarning)\n"
     ]
    },
    {
     "name": "stdout",
     "output_type": "stream",
     "text": [
      "Spanish 10 2019\n",
      "Training complete!\n",
      "Macro F1:  0.538931\n",
      "\n",
      "https://ui.neptune.ai/Hatespeech-CNERG/MH-Bert/e/SAN-9720\n"
     ]
    },
    {
     "name": "stderr",
     "output_type": "stream",
     "text": [
      "/home/saketh/anaconda3/lib/python3.7/site-packages/sklearn/linear_model/logistic.py:947: ConvergenceWarning: lbfgs failed to converge. Increase the number of iterations.\n",
      "  \"of iterations.\", ConvergenceWarning)\n"
     ]
    },
    {
     "name": "stdout",
     "output_type": "stream",
     "text": [
      "Spanish 10 2020\n",
      "Training complete!\n",
      "Macro F1:  0.540254\n",
      "\n",
      "https://ui.neptune.ai/Hatespeech-CNERG/MH-Bert/e/SAN-9721\n"
     ]
    },
    {
     "name": "stderr",
     "output_type": "stream",
     "text": [
      "/home/saketh/anaconda3/lib/python3.7/site-packages/sklearn/linear_model/logistic.py:947: ConvergenceWarning: lbfgs failed to converge. Increase the number of iterations.\n",
      "  \"of iterations.\", ConvergenceWarning)\n"
     ]
    },
    {
     "name": "stdout",
     "output_type": "stream",
     "text": [
      "Spanish 10 2021\n",
      "Training complete!\n",
      "Macro F1:  0.541129\n",
      "\n",
      "https://ui.neptune.ai/Hatespeech-CNERG/MH-Bert/e/SAN-9722\n"
     ]
    },
    {
     "name": "stderr",
     "output_type": "stream",
     "text": [
      "/home/saketh/anaconda3/lib/python3.7/site-packages/sklearn/linear_model/logistic.py:947: ConvergenceWarning: lbfgs failed to converge. Increase the number of iterations.\n",
      "  \"of iterations.\", ConvergenceWarning)\n"
     ]
    },
    {
     "name": "stdout",
     "output_type": "stream",
     "text": [
      "Spanish 10 2022\n",
      "Training complete!\n",
      "Macro F1:  0.540252\n",
      "\n",
      "https://ui.neptune.ai/Hatespeech-CNERG/MH-Bert/e/SAN-9723\n",
      "French 0.01 2018\n",
      "Training complete!\n",
      "Macro F1:  0.419714\n",
      "\n",
      "https://ui.neptune.ai/Hatespeech-CNERG/MH-Bert/e/SAN-9724\n",
      "French 0.01 2019\n",
      "Training complete!\n",
      "Macro F1:  0.419714\n",
      "\n",
      "https://ui.neptune.ai/Hatespeech-CNERG/MH-Bert/e/SAN-9726\n",
      "French 0.01 2020\n",
      "Training complete!\n",
      "Macro F1:  0.419714\n",
      "\n",
      "https://ui.neptune.ai/Hatespeech-CNERG/MH-Bert/e/SAN-9727\n",
      "French 0.01 2021\n",
      "Training complete!\n",
      "Macro F1:  0.419714\n",
      "\n",
      "https://ui.neptune.ai/Hatespeech-CNERG/MH-Bert/e/SAN-9729\n",
      "French 0.01 2022\n",
      "Training complete!\n",
      "Macro F1:  0.419714\n",
      "\n",
      "https://ui.neptune.ai/Hatespeech-CNERG/MH-Bert/e/SAN-9730\n",
      "French 0.1 2018\n",
      "Training complete!\n",
      "Macro F1:  0.429313\n",
      "\n",
      "https://ui.neptune.ai/Hatespeech-CNERG/MH-Bert/e/SAN-9731\n",
      "French 0.1 2019\n",
      "Training complete!\n",
      "Macro F1:  0.429313\n",
      "\n",
      "https://ui.neptune.ai/Hatespeech-CNERG/MH-Bert/e/SAN-9732\n",
      "French 0.1 2020\n",
      "Training complete!\n",
      "Macro F1:  0.429313\n",
      "\n",
      "https://ui.neptune.ai/Hatespeech-CNERG/MH-Bert/e/SAN-9733\n",
      "French 0.1 2021\n",
      "Training complete!\n",
      "Macro F1:  0.429313\n",
      "\n",
      "https://ui.neptune.ai/Hatespeech-CNERG/MH-Bert/e/SAN-9734\n",
      "French 0.1 2022\n",
      "Training complete!\n",
      "Macro F1:  0.429313\n",
      "\n",
      "https://ui.neptune.ai/Hatespeech-CNERG/MH-Bert/e/SAN-9735\n"
     ]
    },
    {
     "name": "stderr",
     "output_type": "stream",
     "text": [
      "/home/saketh/anaconda3/lib/python3.7/site-packages/sklearn/linear_model/logistic.py:947: ConvergenceWarning: lbfgs failed to converge. Increase the number of iterations.\n",
      "  \"of iterations.\", ConvergenceWarning)\n"
     ]
    },
    {
     "name": "stdout",
     "output_type": "stream",
     "text": [
      "French 1 2018\n",
      "Training complete!\n",
      "Macro F1:  0.409991\n",
      "\n",
      "https://ui.neptune.ai/Hatespeech-CNERG/MH-Bert/e/SAN-9736\n"
     ]
    },
    {
     "name": "stderr",
     "output_type": "stream",
     "text": [
      "/home/saketh/anaconda3/lib/python3.7/site-packages/sklearn/linear_model/logistic.py:947: ConvergenceWarning: lbfgs failed to converge. Increase the number of iterations.\n",
      "  \"of iterations.\", ConvergenceWarning)\n"
     ]
    },
    {
     "name": "stdout",
     "output_type": "stream",
     "text": [
      "French 1 2019\n",
      "Training complete!\n",
      "Macro F1:  0.409991\n",
      "\n",
      "https://ui.neptune.ai/Hatespeech-CNERG/MH-Bert/e/SAN-9737\n"
     ]
    },
    {
     "name": "stderr",
     "output_type": "stream",
     "text": [
      "/home/saketh/anaconda3/lib/python3.7/site-packages/sklearn/linear_model/logistic.py:947: ConvergenceWarning: lbfgs failed to converge. Increase the number of iterations.\n",
      "  \"of iterations.\", ConvergenceWarning)\n"
     ]
    },
    {
     "name": "stdout",
     "output_type": "stream",
     "text": [
      "French 1 2020\n",
      "Training complete!\n",
      "Macro F1:  0.405082\n",
      "\n",
      "https://ui.neptune.ai/Hatespeech-CNERG/MH-Bert/e/SAN-9739\n"
     ]
    },
    {
     "name": "stderr",
     "output_type": "stream",
     "text": [
      "/home/saketh/anaconda3/lib/python3.7/site-packages/sklearn/linear_model/logistic.py:947: ConvergenceWarning: lbfgs failed to converge. Increase the number of iterations.\n",
      "  \"of iterations.\", ConvergenceWarning)\n"
     ]
    },
    {
     "name": "stdout",
     "output_type": "stream",
     "text": [
      "French 1 2021\n",
      "Training complete!\n",
      "Macro F1:  0.409991\n",
      "\n",
      "https://ui.neptune.ai/Hatespeech-CNERG/MH-Bert/e/SAN-9740\n"
     ]
    },
    {
     "name": "stderr",
     "output_type": "stream",
     "text": [
      "/home/saketh/anaconda3/lib/python3.7/site-packages/sklearn/linear_model/logistic.py:947: ConvergenceWarning: lbfgs failed to converge. Increase the number of iterations.\n",
      "  \"of iterations.\", ConvergenceWarning)\n"
     ]
    },
    {
     "name": "stdout",
     "output_type": "stream",
     "text": [
      "French 1 2022\n",
      "Training complete!\n",
      "Macro F1:  0.405082\n",
      "\n",
      "https://ui.neptune.ai/Hatespeech-CNERG/MH-Bert/e/SAN-9742\n"
     ]
    },
    {
     "name": "stderr",
     "output_type": "stream",
     "text": [
      "/home/saketh/anaconda3/lib/python3.7/site-packages/sklearn/linear_model/logistic.py:947: ConvergenceWarning: lbfgs failed to converge. Increase the number of iterations.\n",
      "  \"of iterations.\", ConvergenceWarning)\n"
     ]
    },
    {
     "name": "stdout",
     "output_type": "stream",
     "text": [
      "French 10 2018\n",
      "Training complete!\n",
      "Macro F1:  0.423227\n",
      "\n",
      "https://ui.neptune.ai/Hatespeech-CNERG/MH-Bert/e/SAN-9743\n"
     ]
    },
    {
     "name": "stderr",
     "output_type": "stream",
     "text": [
      "/home/saketh/anaconda3/lib/python3.7/site-packages/sklearn/linear_model/logistic.py:947: ConvergenceWarning: lbfgs failed to converge. Increase the number of iterations.\n",
      "  \"of iterations.\", ConvergenceWarning)\n"
     ]
    },
    {
     "name": "stdout",
     "output_type": "stream",
     "text": [
      "French 10 2019\n",
      "Training complete!\n",
      "Macro F1:  0.418360\n",
      "\n",
      "https://ui.neptune.ai/Hatespeech-CNERG/MH-Bert/e/SAN-9745\n"
     ]
    },
    {
     "name": "stderr",
     "output_type": "stream",
     "text": [
      "/home/saketh/anaconda3/lib/python3.7/site-packages/sklearn/linear_model/logistic.py:947: ConvergenceWarning: lbfgs failed to converge. Increase the number of iterations.\n",
      "  \"of iterations.\", ConvergenceWarning)\n"
     ]
    },
    {
     "name": "stdout",
     "output_type": "stream",
     "text": [
      "French 10 2020\n",
      "Training complete!\n",
      "Macro F1:  0.424528\n",
      "\n",
      "https://ui.neptune.ai/Hatespeech-CNERG/MH-Bert/e/SAN-9746\n"
     ]
    },
    {
     "name": "stderr",
     "output_type": "stream",
     "text": [
      "/home/saketh/anaconda3/lib/python3.7/site-packages/sklearn/linear_model/logistic.py:947: ConvergenceWarning: lbfgs failed to converge. Increase the number of iterations.\n",
      "  \"of iterations.\", ConvergenceWarning)\n"
     ]
    },
    {
     "name": "stdout",
     "output_type": "stream",
     "text": [
      "French 10 2021\n",
      "Training complete!\n",
      "Macro F1:  0.419714\n",
      "\n",
      "https://ui.neptune.ai/Hatespeech-CNERG/MH-Bert/e/SAN-9748\n"
     ]
    },
    {
     "name": "stderr",
     "output_type": "stream",
     "text": [
      "/home/saketh/anaconda3/lib/python3.7/site-packages/sklearn/linear_model/logistic.py:947: ConvergenceWarning: lbfgs failed to converge. Increase the number of iterations.\n",
      "  \"of iterations.\", ConvergenceWarning)\n"
     ]
    },
    {
     "name": "stdout",
     "output_type": "stream",
     "text": [
      "French 10 2022\n",
      "Training complete!\n",
      "Macro F1:  0.428063\n",
      "\n"
     ]
    }
   ],
   "source": [
    "for lang in langs:\n",
    "    for c in [0.01,0.1,1,10]:\n",
    "        for seeds in [2018,2019,2020,2021,2022]:\n",
    "            seed_val = seeds\n",
    "            np.random.seed(seed_val)\n",
    "            train_and_test_zeroshot(lang,c,0,seed_val)"
   ]
  }
 ],
 "metadata": {
  "kernelspec": {
   "display_name": "Python 3",
   "language": "python",
   "name": "python3"
  },
  "language_info": {
   "codemirror_mode": {
    "name": "ipython",
    "version": 3
   },
   "file_extension": ".py",
   "mimetype": "text/x-python",
   "name": "python",
   "nbconvert_exporter": "python",
   "pygments_lexer": "ipython3",
   "version": "3.7.3"
  }
 },
 "nbformat": 4,
 "nbformat_minor": 2
}
